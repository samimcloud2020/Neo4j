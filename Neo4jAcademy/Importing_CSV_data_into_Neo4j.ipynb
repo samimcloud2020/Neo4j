{
  "nbformat": 4,
  "nbformat_minor": 0,
  "metadata": {
    "colab": {
      "provenance": []
    },
    "kernelspec": {
      "name": "python3",
      "display_name": "Python 3"
    },
    "language_info": {
      "name": "python"
    }
  },
  "cells": [
    {
      "cell_type": "code",
      "execution_count": null,
      "metadata": {
        "id": "WofQ4xcbLuoE"
      },
      "outputs": [],
      "source": []
    },
    {
      "cell_type": "markdown",
      "source": [
        "##Source data\n",
        "When you import data into Neo4j, you typically start with a set of source files.\n",
        "\n",
        "You may have exported this source data from:\n",
        "\n",
        "1. Relational databases\n",
        "\n",
        "2. Web APIs\n",
        "\n",
        "3. Public data directories\n",
        "\n",
        "4. BI tools\n",
        "\n",
        "5. Speadsheets (e.g. Excel or Google Sheets)\n",
        "\n",
        "##Export to CSV\n",
        "\n",
        "Most data systems will have an option for exporting data to CSV files as it is a common format for data exchange.\n",
        "\n",
        "##Create a graph\n",
        "Before you start the import process, you should:\n",
        "\n",
        "1. Understand the data in the source CSV files.\n",
        "\n",
        "2. Inspect and clean (if necessary) the data in the source data files.\n",
        "\n",
        "3. Understand the graph data model you will be implementing during the import.\n",
        "\n",
        "Before you import data into Neo4j, there is no data structure, **only the database itself** - as you import data, **you create the graph data model.**\n",
        "\n",
        "Once you have the source data and a graph data model, you can create the graph by importing the data.\n",
        "\n",
        "###The import involves creating Cypher code to:\n",
        "\n",
        "1. Read the source data.\n",
        "\n",
        "2. Transform the data as needed.\n",
        "\n",
        "3. Create nodes, relationships, and properties to create the graph."
      ],
      "metadata": {
        "id": "lLfWHg9YL4qG"
      }
    },
    {
      "cell_type": "markdown",
      "source": [
        "##CSV files\n",
        "CSV files store data in a structure where a special character, usually a comma, separates each value in a row, and each record is a new row in the file."
      ],
      "metadata": {
        "id": "rzpeFRa-MncV"
      }
    },
    {
      "cell_type": "code",
      "source": [
        "personId,name,birthYear\n",
        "23945,Gerard Pires,1942\n",
        "553509,Helen Reddy,1941\n",
        "113934,Susan Flannery,1939"
      ],
      "metadata": {
        "id": "XQfQa1_3MzeR"
      },
      "execution_count": null,
      "outputs": []
    },
    {
      "cell_type": "markdown",
      "source": [
        "##Field Terminator\n",
        "In the example above, a comma (,) separates each field, but other characters can be used, such as a tab (\\t) or a pipe (|).\n",
        "\n",
        "This is the same data as above but separated by a pipe character:"
      ],
      "metadata": {
        "id": "1y8if3k2M6dn"
      }
    },
    {
      "cell_type": "code",
      "source": [
        "personId|name|birthYear\n",
        "23945|Gerard Pires|1942\n",
        "553509|Helen Reddy|1941\n",
        "113934|Susan Flannery|1939"
      ],
      "metadata": {
        "id": "7cWn6CQYM9F6"
      },
      "execution_count": null,
      "outputs": []
    },
    {
      "cell_type": "markdown",
      "source": [
        "##Headers\n",
        "Typically, the first row in a CSV file is a header row, which contains the names of the columns."
      ],
      "metadata": {
        "id": "Kt3vtzZINCBm"
      }
    },
    {
      "cell_type": "code",
      "source": [
        "personId|name|birthYear"
      ],
      "metadata": {
        "id": "BPyerOhrNEJ7"
      },
      "execution_count": null,
      "outputs": []
    },
    {
      "cell_type": "markdown",
      "source": [
        "Headers are not mandatory; when working with CSV files with no header row, you will need to know the order of the columns and refer to them by index."
      ],
      "metadata": {
        "id": "q8AzSB7fNI9H"
      }
    },
    {
      "cell_type": "markdown",
      "source": [
        "##Normalized data\n",
        "If the source data is normalized (e.g. when exported from a relational data model) there will typically be multiple CSV files.\n",
        "\n",
        "**Each CSV file will represent a table in the relational data model, and the files will be related to each other by unique IDs.**"
      ],
      "metadata": {
        "id": "7s9EA8sjNReU"
      }
    },
    {
      "cell_type": "markdown",
      "source": [
        "##De-normalized data\n",
        "If the source data is de-normalized, there will typically be a single CSV file. The single file will contain all the data, often duplicated where there are relationships between entities.\n",
        "\n",
        "###De-normalized data typically represents data from multiple tables."
      ],
      "metadata": {
        "id": "18BPhhmSNe13"
      }
    },
    {
      "cell_type": "markdown",
      "source": [
        "##**NOTE** The CSV file format is flexible. The field terminator can be a comma, tab, pipe, or any other character. Headers are optional. CSV files can represent normalized and de-normalized data."
      ],
      "metadata": {
        "id": "DghQOzyCN3sT"
      }
    },
    {
      "cell_type": "code",
      "source": [
        "#load csv and counts row\n",
        "\n",
        "LOAD CSV WITH HEADERS\n",
        "FROM 'https://data.neo4j.com/importing-cypher/people.csv'\n",
        "as row\n",
        "RETURN count(row)"
      ],
      "metadata": {
        "id": "OQPlffoSN7R2"
      },
      "execution_count": null,
      "outputs": []
    },
    {
      "cell_type": "code",
      "source": [
        "#correct syntax\n",
        "\n",
        "LOAD CSV WITH HEADERS FROM 'file:///data.csv' AS line\n",
        "RETURN line"
      ],
      "metadata": {
        "id": "OSMcwz6BOplk"
      },
      "execution_count": null,
      "outputs": []
    },
    {
      "cell_type": "markdown",
      "source": [
        "#Construct and run the LOAD CSV statement\n",
        "The structure of your LOAD CSV statement should take into account the following:\n",
        "\n",
        "1. The location of your CSV file.\n",
        "\n",
        "2. The field terminator.\n",
        "\n",
        "3. Whether the file contains headers."
      ],
      "metadata": {
        "id": "ScOazLoQxMII"
      }
    },
    {
      "cell_type": "code",
      "source": [
        "LOAD CSV [WITH HEADERS] FROM url [AS alias] [FIELDTERMINATOR char]\n",
        "RETURN alias"
      ],
      "metadata": {
        "id": "OMKSxiAlO4aE"
      },
      "execution_count": null,
      "outputs": []
    },
    {
      "cell_type": "markdown",
      "source": [
        "#**Create Person nodes**"
      ],
      "metadata": {
        "id": "zzqLcv1-yHPB"
      }
    },
    {
      "cell_type": "code",
      "source": [
        "LOAD CSV WITH HEADERS\n",
        "FROM 'https://data.neo4j.com/importing-cypher/persons.csv' AS row\n",
        "MERGE (p:Person {tmdbId: toInteger(row.person_tmdbId)})\n",
        "SET\n",
        "p.imdbId = toInteger(row.person_imdbId),\n",
        "p.bornIn = row.bornIn,\n",
        "p.name = row.name,\n",
        "p.bio = row.bio,\n",
        "p.poster = row.poster,\n",
        "p.url = row.url,\n",
        "p.born = row.born,\n",
        "p.died = row.died"
      ],
      "metadata": {
        "id": "a63643sWyI5i"
      },
      "execution_count": null,
      "outputs": []
    },
    {
      "cell_type": "code",
      "source": [
        "MATCH (p:Person) RETURN p LIMIT 25"
      ],
      "metadata": {
        "id": "L5EY2GroyRA0"
      },
      "execution_count": null,
      "outputs": []
    },
    {
      "cell_type": "code",
      "source": [
        "#Example\n",
        "\n",
        "LOAD CSV WITH HEADERS 'file:///games.csv' AS record\n",
        "MERGE (g:Game {title: record.title})"
      ],
      "metadata": {
        "id": "A37Gze5JykjW"
      },
      "execution_count": null,
      "outputs": []
    },
    {
      "cell_type": "markdown",
      "source": [
        "##**Unique IDs and Constraints**\n",
        "A Neo4j best practice is to use an **ID as a unique property value for each node.**\n",
        "\n",
        "Unique IDs help **ensure duplicate data is not created.** When you load data from CSV files, you rely heavily upon the IDs specified in the file. **If the IDs in your CSV file are not unique for the same entity (node), you could create duplicate data.** You may also have problems loading the data and creating relationships between nodes.\n",
        "\n",
        "You can **add constraints** to your database to stop the creation of nodes with duplicate IDs."
      ],
      "metadata": {
        "id": "nB0tyKutzAV7"
      }
    },
    {
      "cell_type": "code",
      "source": [
        "CREATE CONSTRAINT [constraint_name] [IF NOT EXISTS]\n",
        "FOR (n:LabelName)\n",
        "REQUIRE n.propertyName IS UNIQUE"
      ],
      "metadata": {
        "id": "x8x-m-jXzc4z"
      },
      "execution_count": null,
      "outputs": []
    },
    {
      "cell_type": "code",
      "source": [
        "CREATE CONSTRAINT Person_tmdbId IF NOT EXISTS\n",
        "FOR (x:Person)\n",
        "REQUIRE x.tmdbId IS UNIQUE"
      ],
      "metadata": {
        "id": "vnssu_eqzirY"
      },
      "execution_count": null,
      "outputs": []
    },
    {
      "cell_type": "code",
      "source": [
        "SHOW CONSTRAINTS"
      ],
      "metadata": {
        "id": "JCcl-tzizsYv"
      },
      "execution_count": null,
      "outputs": []
    },
    {
      "cell_type": "markdown",
      "source": [
        "If you try to create a Person node with a duplicate tmdbId property value, Neo4j will raise an error.\n",
        "\n"
      ],
      "metadata": {
        "id": "Hg3MTju0zxCl"
      }
    },
    {
      "cell_type": "code",
      "source": [
        "CREATE (p:Person {tmdbId: 3}) RETURN p\n",
        "\n",
        "#Node(0) already exists with label `Person` and property `tmdbId` = 3"
      ],
      "metadata": {
        "id": "32suFho0zzB9"
      },
      "execution_count": null,
      "outputs": []
    },
    {
      "cell_type": "code",
      "source": [
        "#Drop a constraint\n",
        "DROP CONSTRAINT [constraint_name]"
      ],
      "metadata": {
        "id": "Ww2FNswPz8F5"
      },
      "execution_count": null,
      "outputs": []
    },
    {
      "cell_type": "markdown",
      "source": [
        "##Adding Movie Nodes\n"
      ],
      "metadata": {
        "id": "zfwZ6kSy0USf"
      }
    },
    {
      "cell_type": "code",
      "source": [
        "CREATE CONSTRAINT Movie_movieId\n",
        "FOR (x:Movie)\n",
        "REQUIRE x.movieId IS UNIQUE"
      ],
      "metadata": {
        "id": "xss958Eo0V6t"
      },
      "execution_count": null,
      "outputs": []
    },
    {
      "cell_type": "code",
      "source": [
        "#Load the Movie nodes\n",
        "LOAD CSV WITH HEADERS FROM 'https://data.neo4j.com/importing-cypher/movies.csv' AS row\n",
        "MERGE (m:Movie {movieId: toInteger(row.movieId)})\n",
        "SET\n",
        "m.tmdbId = toInteger(row.tmdbId),\n",
        "m.imdbId = row.imdbId,\n",
        "m.released = row.released,\n",
        "m.title = row.title,\n",
        "m.year = row.year,\n",
        "m.plot = row.plot,\n",
        "m.budget = row.budget"
      ],
      "metadata": {
        "id": "oVqSzCN30ZVm"
      },
      "execution_count": null,
      "outputs": []
    },
    {
      "cell_type": "markdown",
      "source": [
        "You should construct a Cypher to:\n",
        "\n",
        "1. Load the movies.csv CSV file from **https://data.neo4j.com/importing-cypher/movies.csv**\n",
        "\n",
        "2. Create the **Movie nodes** using **MERGE** with the **movieId** field as the **unique identifier.**\n",
        "\n",
        "3. Set the following **properties on the Movie nodes:**\n",
        "\n",
        "tmdbId\n",
        "\n",
        "imdbId\n",
        "\n",
        "released\n",
        "\n",
        "title\n",
        "\n",
        "year\n",
        "\n",
        "plot\n",
        "\n",
        "budget"
      ],
      "metadata": {
        "id": "fdQrNa643306"
      }
    },
    {
      "cell_type": "code",
      "source": [
        "MATCH (m:Movie) RETURN m LIMIT 25"
      ],
      "metadata": {
        "id": "8r_H3jL-0inJ"
      },
      "execution_count": null,
      "outputs": []
    },
    {
      "cell_type": "markdown",
      "source": [
        "#**Relationships**\n",
        "\n",
        "Create **ACTED_IN relationships** between the **Person and Movie nodes.**\n",
        "\n",
        "##Creating relationships\n",
        "The acted_in.csv file contains the following data:\n",
        "\n",
        "1. movieId - the movieId property of the Movie node\n",
        "\n",
        "2. person_tmdbId - the tmbdId property of the Person node\n",
        "\n",
        "3. role - the role the person played in the movie\n",
        "\n",
        "###To create the ACTED_IN relationship, you will need to:\n",
        "\n",
        "1. LOAD CSV data from the acted_in.csv file.\n",
        "\n",
        "2. MATCH the relevant Person and Movie nodes.\n",
        "\n",
        "3. Use MERGE to create the ACTED_IN relationship between the matched Person and Movie nodes."
      ],
      "metadata": {
        "id": "bLRfFxso4hiV"
      }
    },
    {
      "cell_type": "code",
      "source": [
        "LOAD CSV WITH HEADERS\n",
        "FROM 'https://data.neo4j.com/importing-cypher/acted_in.csv' AS row\n",
        "MATCH (p:Person {tmdbId: toInteger(row.person_tmdbId)})\n",
        "MATCH (m:Movie {movieId: toInteger(row.movieId)})\n",
        "MERGE (p)-[r:ACTED_IN]->(m)\n",
        "SET r.role = row.role"
      ],
      "metadata": {
        "id": "0C2tNhCR_tq-"
      },
      "execution_count": null,
      "outputs": []
    },
    {
      "cell_type": "markdown",
      "source": [
        "Try to identify:\n",
        "\n",
        "1. The 2 MATCH clauses that find the appropriate Person and Movie nodes using the movieId and person_tmdbId properties.\n",
        "\n",
        "2. The MERGE clause that creates the ACTED_IN relationship between the matched p and m nodes\n",
        "\n",
        "3. The SET clause that sets the role property of the ACTED_IN relationship r."
      ],
      "metadata": {
        "id": "z0n5ouyu_8yi"
      }
    },
    {
      "cell_type": "code",
      "source": [
        "MATCH (p:Person)-[r:ACTED_IN]->(m:Movie) RETURN p, r, m LIMIT 25"
      ],
      "metadata": {
        "id": "Rxj1JV40AFhs"
      },
      "execution_count": null,
      "outputs": []
    },
    {
      "cell_type": "markdown",
      "source": [
        "#**DIRECTED relationship**\n",
        "you will need to create the **DIRECTED relationships between the Person and Movie nodes.**"
      ],
      "metadata": {
        "id": "UgfS0phgAc3u"
      }
    },
    {
      "cell_type": "code",
      "source": [
        "LOAD CSV WITH HEADERS\n",
        "FROM 'https://data.neo4j.com/importing-cypher/directed.csv' AS row\n",
        "MATCH (p:Person {tmdbId: toInteger(row.person_tmdbId)})\n",
        "MATCH (m:Movie {movieId: toInteger(row.movieId)})\n",
        "MERGE (p)-[r:DIRECTED]->(m)"
      ],
      "metadata": {
        "id": "SGF4UWVPEVhe"
      },
      "execution_count": null,
      "outputs": []
    },
    {
      "cell_type": "code",
      "source": [
        "#To verify that you created the DIRECTED relationship successfully\n",
        "\n",
        "MATCH (p:Person)-[r:DIRECTED]->(m:Movie) RETURN p, r, m LIMIT 25"
      ],
      "metadata": {
        "id": "_TfM9m2BEYdg"
      },
      "execution_count": null,
      "outputs": []
    },
    {
      "cell_type": "code",
      "source": [
        "#Once you have created the ACTED_IN and DIRECTED relationships, you can use the data to find people who directed and acted in the same movie.\n",
        "\n",
        "MATCH (p:Person)-[:ACTED_IN]->(m:Movie)<-[:DIRECTED]-(p:Person)\n",
        "RETURN p, m"
      ],
      "metadata": {
        "id": "ZbVzSSgqEZOL"
      },
      "execution_count": null,
      "outputs": []
    },
    {
      "cell_type": "markdown",
      "source": [
        "#**Example:**\n",
        "airports.csv\n",
        "\n"
      ],
      "metadata": {
        "id": "n29zeMtNE3SV"
      }
    },
    {
      "cell_type": "code",
      "source": [
        "airport_code|name|city|country\n",
        "SFO|San Francisco International Airport|San Francisco|United States\n",
        "NYC|John F. Kennedy International Airport|New York City|United States\n",
        "LHR|London Heathrow Airport|London|United Kingdom"
      ],
      "metadata": {
        "id": "GEZkc0yLE-VL"
      },
      "execution_count": null,
      "outputs": []
    },
    {
      "cell_type": "markdown",
      "source": [
        "flights.csv\n",
        "\n"
      ],
      "metadata": {
        "id": "Tjh0KUB5FA7c"
      }
    },
    {
      "cell_type": "code",
      "source": [
        "flight_number,airline,departure_airport,arrival_airport\n",
        "SF_4863,Swift Flights,SFO,NYC\n",
        "SF_4864,Swift Flights,NYC,SFO\n",
        "AA_9135,America Airways,SFO,LHR\n",
        "AA_9136,America Airways,LHR,SFO\n",
        "BA_2945,Britain Atlantic,LHR,NYC\n",
        "BA_2946,Britain Atlantic,NYC,LHR"
      ],
      "metadata": {
        "id": "h-ZfR1BEFBke"
      },
      "execution_count": null,
      "outputs": []
    },
    {
      "cell_type": "markdown",
      "source": [
        "1. Load the CSV file\n",
        "Select the correct Cypher statement to load the data from the airports.csv file.\n",
        "\n",
        "\n"
      ],
      "metadata": {
        "id": "mwgNfbg1Ih99"
      }
    },
    {
      "cell_type": "code",
      "source": [
        "LOAD CSV WITH HEADERS FROM 'file:///airports.csv' AS row FIELDTERMINATOR '|'\n",
        "MERGE (a:Airport {airport_code: row.airport_code))\n",
        "SET a.name = row.name, a.city = row.city, a.country = row.country"
      ],
      "metadata": {
        "id": "y5bOnnK3LBDD"
      },
      "execution_count": null,
      "outputs": []
    },
    {
      "cell_type": "markdown",
      "source": [
        "\n",
        "2. Creating relationship properties\n",
        "The flights.csv data file contains information about flights between airports. The following Cypher statement will create FLIGHT relationships between Airport nodes based on the data in the flights.csv file.\n",
        "\n",
        "Select the correct Cypher statement to add the airline property to the relationship.\n",
        "\n"
      ],
      "metadata": {
        "id": "30GWVWIdLObG"
      }
    },
    {
      "cell_type": "code",
      "source": [
        "LOAD CSV WITH HEADERS 'file:///flights.csv' AS row\n",
        "MATCH (d:Airport {airport_code: row.departure_airport})\n",
        "MATCH (a:Airport {airport_code: row.arrival_airport})\n",
        "MERGE (d)-[f:FLIGHT {flight_number: row.flight_number}]->(a)\n",
        "SET f.airline = row.airline"
      ],
      "metadata": {
        "id": "wE4geJYKLUZU"
      },
      "execution_count": null,
      "outputs": []
    },
    {
      "cell_type": "markdown",
      "source": [
        "3. Creating relationship properties\n",
        "The airport_code property is unique. Select the correct Cypher statement to create the constraint.\n",
        "\n"
      ],
      "metadata": {
        "id": "TZ_WWZEELea4"
      }
    },
    {
      "cell_type": "code",
      "source": [
        "CREATE CONSTRAINT Airport_code\n",
        "FOR (x:Airport)\n",
        "REQUIRE x.airport_code IS UNIQUE"
      ],
      "metadata": {
        "id": "8h5VSn_pLiSl"
      },
      "execution_count": null,
      "outputs": []
    },
    {
      "cell_type": "markdown",
      "source": [
        "\n",
        "4. Why have a Unique property?\n",
        "Select why having a unique property value for each node is a Neo4j best practice:\n",
        "\n",
        "  **Help ensure duplicate data is not created**\n",
        "  \n",
        "  **Avoid potential problems when creating relationships between nodes**\n"
      ],
      "metadata": {
        "id": "9KqMPUGELtBb"
      }
    },
    {
      "cell_type": "markdown",
      "source": [
        "#**Nodes**\n",
        "\n",
        "###Load the CSV file\n",
        "You will load a CSV file of \"person\" data into Person nodes in Neo4j. The CSV file contains the following fields:\n",
        "\n",
        "person_tmdbId\n",
        "\n",
        "bio\n",
        "\n",
        "born\n",
        "\n",
        "bornIn\n",
        "\n",
        "died\n",
        "\n",
        "person_imdb\n",
        "\n",
        "Id\n",
        "\n",
        "name\n",
        "\n",
        "person_poster\n",
        "\n",
        "person_url"
      ],
      "metadata": {
        "id": "R30GBrYR-9eQ"
      }
    },
    {
      "cell_type": "code",
      "source": [
        "LOAD CSV WITH HEADERS\n",
        "FROM 'https://data.neo4j.com/importing-cypher/persons.csv' AS row\n",
        "MERGE (p:Person {tmdbId: toInteger(row.person_tmdbId)})\n",
        "SET\n",
        "p.imdbId = toInteger(row.person_imdbId),\n",
        "p.bornIn = row.bornIn,\n",
        "p.name = row.name,\n",
        "p.bio = row.bio,\n",
        "p.poster = row.poster,\n",
        "p.url = row.url,\n",
        "p.born = row.born,\n",
        "p.died = row.died"
      ],
      "metadata": {
        "id": "cUiK5YeL_R7e"
      },
      "execution_count": null,
      "outputs": []
    },
    {
      "cell_type": "markdown",
      "source": [
        "###Try to answer the following questions:\n",
        "\n",
        "1. Where does the CSV data come from?\n",
        "\n",
        "2. What does the MERGE clause do?\n",
        "\n",
        "3. What variable holds the data from the CSV file?\n",
        "\n",
        "4. Where are the properties set?\n",
        "\n",
        "5. Why is the toInteger function used?\n",
        "\n",
        "###Review the answers\n",
        "1. The LOAD CSV clause loads the CSV file from the specified URL.\n",
        "\n",
        "2. The MERGE clause creates a new Person if one does not already exist with the same tmdbId value.\n",
        "\n",
        "3. The row variable holds the data from the CSV file.\n",
        "\n",
        "4. The SET clause sets the properties of the Person node to the values of the corresponding fields in the CSV file.\n",
        "\n",
        "5. The toInteger function converts the person_tmdbId and person_imdbId values from strings to integers."
      ],
      "metadata": {
        "id": "670KQkN__X9x"
      }
    },
    {
      "cell_type": "code",
      "source": [
        "MATCH (p:Person) RETURN p LIMIT 25"
      ],
      "metadata": {
        "id": "Sgo9cVRQL7kc"
      },
      "execution_count": null,
      "outputs": []
    },
    {
      "cell_type": "markdown",
      "source": [
        "##**Unique IDs and Constraints**\n",
        "A Neo4j best practice is to use an **ID as a unique property value for each node.**\n",
        "\n",
        "Unique IDs help ensure **duplicate data is not created.** When you load data from CSV files, you rely heavily upon the IDs specified in the file. If the IDs in your CSV file are not unique for the same entity (node), you could create duplicate data. You may also have problems loading the data and creating relationships between nodes.\n",
        "\n",
        "You can **add constraints to your database to stop the creation of nodes with duplicate IDs.**"
      ],
      "metadata": {
        "id": "OP4JeECvAHMJ"
      }
    },
    {
      "cell_type": "code",
      "source": [
        "#Create a unique constraint\n",
        "\n",
        "CREATE CONSTRAINT [constraint_name] [IF NOT EXISTS]\n",
        "FOR (n:LabelName)\n",
        "REQUIRE n.propertyName IS UNIQUE"
      ],
      "metadata": {
        "id": "FOAQs59oAn5F"
      },
      "execution_count": null,
      "outputs": []
    },
    {
      "cell_type": "markdown",
      "source": [
        "The constraint is for **a property on all nodes with a specified label.**\n",
        "\n",
        "The constraint_name is **optional,** but it is good practice to specify one. If you do not specify a constraint name, Neo4j will create one for you.\n",
        "\n",
        "The **IF NOT EXISTS** clause is also **optional -** if not used Neo4j will generate an error **if the constraint already exists.**"
      ],
      "metadata": {
        "id": "gtjnIeFxAvZN"
      }
    },
    {
      "cell_type": "code",
      "source": [
        "#Person node constraint\n",
        "CREATE CONSTRAINT Person_tmdbId IF NOT EXISTS\n",
        "FOR (x:Person)\n",
        "REQUIRE x.tmdbId IS UNIQUE"
      ],
      "metadata": {
        "id": "hD23HLT9BECq"
      },
      "execution_count": null,
      "outputs": []
    },
    {
      "cell_type": "code",
      "source": [
        "CREATE CONSTRAINT Person_tmdbId\n",
        "FOR (x:Person)\n",
        "REQUIRE x.tmdbId IS UNIQUE"
      ],
      "metadata": {
        "id": "fHGszbtvBPra"
      },
      "execution_count": null,
      "outputs": []
    },
    {
      "cell_type": "code",
      "source": [
        "SHOW CONSTRAINTS"
      ],
      "metadata": {
        "id": "MvesPjrBBWOB"
      },
      "execution_count": null,
      "outputs": []
    },
    {
      "cell_type": "code",
      "source": [
        "#If you try to create a Person node with a duplicate tmdbId property value, Neo4j will raise an error.\n",
        "\n",
        "CREATE (p:Person {tmdbId: 3}) RETURN p\n"
      ],
      "metadata": {
        "id": "Jqslrgr7Ba6L"
      },
      "execution_count": null,
      "outputs": []
    },
    {
      "cell_type": "markdown",
      "source": [
        "Node(0) already exists with label `Person` and property `tmdbId` = 3"
      ],
      "metadata": {
        "id": "0g_a0rhwBf34"
      }
    },
    {
      "cell_type": "code",
      "source": [
        "#Drop a constraint\n",
        "\n",
        "DROP CONSTRAINT [constraint_name]"
      ],
      "metadata": {
        "id": "_o4D2tcJBjVp"
      },
      "execution_count": null,
      "outputs": []
    },
    {
      "cell_type": "markdown",
      "source": [
        "#**Data Types**\n",
        "\n",
        "###**Casting**\n",
        "All data loaded using LOAD CSV will be **returned as strings -** you need to **cast the data to an appropriate data type** before being written to a property.\n",
        "\n",
        "###The types of data that you can store as properties in Neo4j include:\n",
        "\n",
        "  String\n",
        "\n",
        "  Integer\n",
        "\n",
        "  Float (decimal values)\n",
        "\n",
        "  Boolean\n",
        "\n",
        "  Date/Datetime\n",
        "\n",
        "  Point (spatial)\n",
        "\n",
        "  Lists of values\n",
        "\n",
        "There are Cypher functions to cast data to appropriate types. For example, when creating the Person nodes, you used the toInteger() function to cast IDs to integers.\n",
        "\n",
        "\n",
        "![image.png](data:image/png;base64,iVBORw0KGgoAAAANSUhEUgAABM0AAAFCCAIAAABtlr0FAAAgAElEQVR4AeydTY7sOK+mP+ArFOrEomI/sZzYTQAN9KR70JPeQEf3Fi5wJ3eaDUkW+ZKiZNnpyIyft3BQKduSSD76oWjZjn/9n//7//iPBEiABEiABEiABEiABEiABEiABI4i8K//83//39fXv/iPBEiABEiABEiABEiABEiABEiABL5J4H/+r//9P//X/2acyRibBEiABEiABEiABEiABEiABEjgGAKMM4/h+M1wn8VJgARIgARIgARIgARIgARI4G0IMM5knEkCJEACJEACJEACJEACJEACJHAkAcaZR9J8m9sPNIQESIAESIAESIAESIAESIAEdhNgnMk4kwRIgARIgARIgARIgARIgARI4EgCjDOPpLk73GdBEiABEiABEiABEiABEiABEngbAowzGWeSAAmQAAmQAAmQAAmQAAmQAAkcSWAcZ/51OZ3+/Jn6d77++x2C7/vf52ry6fT3jb8pSgIkQAIkQAJTBNY95vn8z+X69+1+pBd/Fs/7k97zJ2VNNf07NigNJwESIIFvE/jkOPPf99vf58tfxknTe327SxmerI0ESIAEPoXAepwp923Pl7/ub4blUd6TnppBLAmQAAm8KoHPjDP/fbsu+5YnxplvttahOSRAAiTwOwQ2xJl//pxO57/fKtQ8Ps6kp37VlSVvN5MACZBAIfCJceb9+o/cVPZx5u+sTuhLSIAESIAEXp3AtjgzhZruRicdEBCgp+Y6lQRIgARencBsnHk6/XN9l1dK6L1evddSfxIgARJ4PgImzrzcXNj87/v9r+tF73KW251NNlfqcw/pqZ+vh39ub2RbkAAJ7CPAONO+nwk3U/cBZSkSIAESIIGPJDCOM5c1+v32tzxQwy3NQT9hnDmAw0skQAIk8BIEHhFnqq8NdkG7r3BAqfLWSr71q19/Pf9zuf178DbL/fb35ay3ik+nf87nv6838xVc9Fvo6dXZd9XT23jlnrQqdvrnfPn7djeCatt/16haj0rnGRIgARIggackoBP+nz+nwUbl7aJfce982Dy/mnjWbOlDtQMPeC/51QP++XPK37b96z58EGnGb2bU/75WZYrC9/qNgywof0G36z0VS3kl9X7/C531+ewdKD31U3ZvrkNIgARIYDOBJ40z5Ts9PhoMP5yQnJb647aI/DzJd73XmqAmDDb+dZtR3FklARIgARJ4JQI64Y/jzC8IyYKc9ip6tODW7de/0ofT689xYeaSPp1SgBrELWvuTPxmG2de4RsH6S5t+Q0wUNsGz4rldP77ZsuKwvjTaPTUQXu90kDYvBKlvSRAAu9K4BnjTHE8YQK9UW4V9WFh/uQFa3T6Le8FTrQryP/k5rpuparGKE7TJEACJEACr0XATPiD/cyvL5PTzP9rjsaHmvYp3NA3+SIpYjEKxKWq38x+Vvcz28yL/qB5L85sy+IZ4UBP/a4rTtpFAiTwaQRm40x0Bi7d+DB1YM2lf+F93LEr0p8XA++FQWNpKvMAUnr8pqxL/u1umooD+/r6F/ow/7k/kGXVM1422VXvELt7yRLTZvUURYE2adSn9ULaSwIkQAKvT8BM+MM40zoU/eqsqUH9xde/b/ABIfQy6AHNg7V2u9J5OiyV9hjX/aZRuLxp4p/f6XpPY1Rx4ovE+1/yOG46bz83SE/9+iPite4TUVsSIIHjCTxpnOmc4hfcsjXhn3Fs/ou4t8vpfP77cv3LvTy5x3v1FCiPstyNH4XlhTk/axQfjyEBEiABEng9AmbCB0fQem4TtqlrQEejwedSHIPDWrnWYzxjQZf8Y/p8wNW92LnHb6qgHBD+bZ+qzRqaajGDwYJBco6jTM3fvSOMAP3jRf/6oqd+vTHVjh2eIQESeCUCTxpnVidaUXYc2Chi7M+no1IdQejg0RHK7cZOnca/TholdTJBAiRAAiTwOgSGE75xSSa4kjgTHY33F1//MvdblyjU1nP653Jd+fDPyhM9Rsnqf9NJK6iJgVMbdbyne0a3tct4T3hY15x3EjuyECA99esMHOxpTJMACbwVgWeMM93DMwMHtupUwnl2u/eaWD3Et1G14LxRoc48SQIkQAIk8NwEdMIPvu5jQrgwbDMn3fsp7lB2BdGdSZ70ufXuV9D/tctvGt3CEG4mzgz8YD9ARdMkFF86QBxnTvCnpzb98K2Ws889ORA1CXwogdk4M3YP8YSlc31QKnYP5rME86V2+csd72cOLSoQYruGBeMiH9oR6SFIgARI4MUJ6IS/FmeanDVsMyclaAwTEme6nUaXOQecfodzl980cWa7J5karuvR1K7g4d5+we/EmcEqgp46XrBxyUECJEACDyTAOPMvs7KJPSW6Sf8W6FJ8R8G4yAMb21hKl0MCJEACJHAkAfUUK3EmTP6Q0xR3EaM7dAFb+hzd4Me97E+bMM4sMIGhkg8CVGgsKEJPTQIkQAIksE7gfeJM/1xNf/XwnbuksCawcPk0Th8441sSIAES+AACGq50PUWeJ40P0o+savEg2pmaYP99v/19vfzT/pwmVohx5rTfPGo/M7pR2wnkDKWp9zMVYJc/PfVUR7LLGxYhARIggb0EfjzOjGf5nc/NGj8E3w8YL2hMqSnvtf5CS6dOdXvo5hf1Os51rDyvkgAJkAAJPCUBnfC7cY59TLT8QIjYghFg/GzqFk/vfnOrPp1r3xyZ9ZvHxJl//pxEDbHaeE/Qx5ynp97S9MKWCRIgARL4XQKPjTNbX4t+1D6Coh56Q0hmQjV/o/R+/ed0/udy+ftmv+q+w3uZD/2d5NfG6j2/ia+lbzCK7oQESIAESOD1CKgXa31f8vT3f9+uf7vNRownjW+CiGu0Ssh1Xs7/pJ/BbIihw9UAb4/fPCzOtH7ff8lWldz3S9fuRvbyu6D01JVA00NGXYuZSYAESODbBB4RZxqHlJyK/AY0/NJ08xtc6qE3hWToR1PB27/LvOlu5cJXE/zd3OKb70VJ44DRbTujpgTh99w3GcWpnwRIgARI4NUIqBdzr1P2DpvHVk0NKXSskdL9/vfl3PwiNIRVyaVC/q+v9AwtxrQY0G73m8YDYlXaRl3vaYwyet7/usJrpc5LuqibnlpRf3vlx6pIgARI4GcIPCLONIFcz78eFWdiLNeT5bwXbk5KkSUQ7XpK8zE9KeUSzR1l9a9eB/v0VHOLl3cfSYAESIAEXouATvjONYSHePdT/b0NHcOCuFmKEWMvc/K27rnTr3VVrc86Ms7s6YmbmQlIhIKeWrsKo00SIAESeHoCD4kzB19aP1/1/qUNrtTtWfeW1xmD8C8FbH9d4J6o82Gn9Kk9t1gxLrPkX/dea4LOl7/vvr2/YZSvypnAQxIgARIggacioBO+c0Pt4fnyV+MvFlvcPqQrmz3a8thODjn+fbMPCrn86ZXIUNY2v2mcZuNSs+ZdN61YknO3u6yirQ8ykwc0QktOemrGmSRAAiTwQgQeFGcmr5OcZQ3/6s9GG89xWJyZQ7L77e/L+R9xWkni+e+rfTMTGib5Znmm6HT+Z/HEXU+pq5n7/S/8oF81DR2/ZLb+tT4BtagxIQsUljqZIAESIAESeEICOuGLJ8JE9kr/XK7+By2jeT6/yTnv0cqbn5A/P576z/miT95GUpKbnvObJuT7VpyZ/KDxv2fzuK9rVpOTnjpsRJ4kARIggaclMI4z3YzPQxIgARIgARIgARKYJ6Dhd/CwEp/cIQESIAESeF8CjDPnnSVzkgAJkAAJkAAJbCLAOHMTLmYmARIggfchwDjzfdryaTfNqRgJkAAJkMCnEmCcyWUGCZAACXwoAcaZH9rwn7riYXOTAAmQAAn8JAHGmT9Jm7JIgARI4IkIMM58osZg7EcCJEACJEAC70WAcSaXGSRAAiTwoQQYZ35ow7/XOoaNSAIkQAIk8JwEGGc+Z7tQKxIgARJ4OAHGmQ9HzIiOBEiABEiABEiABEiABEiABD6KgMaZ/+2//w/+IwESIAESIAESIAESIAESIAESIIFDCPzr//zf/3dIRayEBEiABEiABEiABEiABEiABEiABP7bf/8fKc784n8kQAIkQAIkQAIkQAIkQAIkQAIk8G0C+tzst6tiBSRAAiRAAiRAAiRAAiRAAiRAAiTwxTiTnYAESIAESIAESIAESIAESIAESOBIAowzj6TJukiABEiABEiABEiABEiABEiABBhnsg+QAAmQAAmQAAmQAAmQAAmQAAkcSYBx5pE0WRcJkAAJkAAJkAAJkAAJkAAJkADjTPYBEiABEiABEiABEiABEiABEiCBIwkwzjySJusiARIgARIgARIgARIgARIgARJgnMk+QAIkQAIkQAIkQAIkQAIkQAIkcCQBxplH0mRdJEACJEACJFAI3O+36+V8Pp/+/Fn+nc7n8+V6u9+JiAQ2E7hfz6fakU6X2+byLNASuF0U6fn6hOOSjd422vgMiY35/PhVxpk/jpwCSYAESIAE3pvA/XqB8FLiTEmczpdnXNT+cqPc77fL+f0DqL1mvsYCeq91v9P3GGf+DvcHSn2NYfJAAM9W9XScmVvu9AEeYNxCt8tZFgqSeMqbYGM75q/eLufTqdfww4vzMpiTBEiABN6GwP12Ee8wSHTn1bcBscGQvPObd5beeqPue2Y++wL6e9Zt6C0HZmWceSDM56jq2YfJc1D6QS1m48zbZXla4yG3GqFbhF75dDqfL8/wqJFOSajnG8eZ0u6h7x9f/cFuTFEkQAIk8BwE5oLM4kFOpzf2Hhua437VG7ihr9lQ1xNnfW8zX9M6XdQ96WCE5fHpjcfGgcOWxA6EeURVTxFn4vSE8ZtLP8Pd38/az4QFU3x/YTXDEX2UdZAACZDAixDQZWvxX+4WadnxQdfGpePX1xeuAd4YyHub+ZrW6YBlnPkic+yamowz1wj98PWniDOTk6mvYqMDbtNPNRHIrPqmd6RTq5QmGDh+3dJ8Uwo/PCApjgRI4HUJiFMoM2dnUrzLtPnnT3orgS9qIreBu3ndjlE0f28zX9M6xpmvPqoa/SGg4A5wQ+cXTjxHnLkYvgz4oGekjwOsxzw/zE9m1fdcJtS9ypVlEAzpeM/zh1uF4kiABEjgdwjomjUFkAPHkKbN8/lyud6674Ms36qtd2DzyyO9D9Wq3EVo3jaVu7fteyfivJKe8cQNdQaWLALkXnD6jG5sCtyvzJLyB5IWb56+vRt98iC4v1k/3SsS//zZ/e3eWldlW6L98iHgbR2n1rSqFQLHzMB/BdTtnrd9q8622aCxSq9b6wBoZv5ujz63nL+HXPaY66Kr00WkkgnrJO/Xlo6tpaJUpV+Z7GpHQFf6ecFR61ztFfvM2VAKlli20QXJ/GAsRTZxAz7bu5aoOPfMAsjyc84WnbvEBvUPBpcYsZWzFPz0xFqcmT/04qZFdzh6nNVNdsndXdN0Gf+3dIJ4LNWu47ufVLVNVi22r1QuLXPrYDlRxaS/RZTQq04Ss9j0/Xa7Xi7us/hdhu4e+eXqTBuzt5LLmCuqdoEvRcA7ToLwsnhMAiRAAq9PoDqpMnPG4duMlXBfVfyFJKIJGdZP52v6KZW6SpZSaQmO8zOoGjvcep/RF1wCkCUCwfrLKr/ZmwUHcbpc4T3MnN+fwQolusk8YolF6KW/qmh46z1rlCXpFC43ZcITm7SS1YIIkkQ1cwVU+hWTbqtt7wDVpPBVoLyou+kDTVXFWsj/nbAuF9ncsb0gOD6qHQHdKQ2ecOzEvWKfOVtLdRu9II0V7gzGr6+vrdyAz+TcAo1kkmNDsmo6KHCy2qpzVxDYYmZDTzKYEqFOUbIk7MRqLOZBIbASZ+LjPQ4uHkazUBpMmAfT8aD9WjpB0MbQBdvukSK4zbJy3LenlPYcmVvNiNDrkBrOLPH37cHNIzpJN0J1CEmeNtH7cCzompMwqNZXS1VVjjePkcckQAIfQ0A8Qomgdv68Icy97QRezjQucmryTxuAGgUmMVJ/O8mj64dSJtSR4phovIARhDmLPgjNXV3WFdW/uKt42Ajt9bmRMlKhsbdX00at1s3MQaTo4BKLStA3bB/Y0QGSYQOtUAErKyAyqEcXh6A8Vo7pVUFV9nHtWJedqEaYVkOKEvvM2VEKing+cCnWGUf80uA66sMidpbIK+/oplVbdmLUJHWl4PScY0pJcZcw0gGLJabDJJgxuqV2THq1n/JvJrASZ+b7CNozXNOWw2g/c71n+P6ftFk6ge0ZOSCEG7SmP6VS+2TtK2V6jcytjUomG96DDAGmRUlQxcptp6aM2c/sCUqy2vFt9UX3M5W7NlwzQzX18gQJkAAJvCkB8QjfiDONY0qTfN1du9udFusydP1UZn69k5vqUw9uSkGk1DgFrdC6AD2fZnvd+jO3eo2UxkGftJT2A4POeiiMeM2jufbubWOCVq4pNBnYpjvVSMkqoMUhtU+rgZntSiYABa05aBfTNFDErzSaS0tfy10NlxBWFlCwyXnrpju2FSBHx7WjLDvFXu0XloNdcSV2WkTLpMfWuiPOjoVZCNBMtiFMp50ajHu4GSmzXUtayiVQAT/KVJAxE4sA59GYnSBmWzNrOVHKmG/3t+yk58z+9MO1OLPykVnV942aAf9K5qVV5DGU/OC7Dk5fl/YzyeMSpv9lkftk7SuFNmIwFgSJmtUYpauGr/SWgrx0Ohn+pVrBI0ZyVVz6HfC6RinlyvQXDDDVtqR0Dp0bPJDft6mvmsckQAIk8JYE0K3MzZwNBrOoaiZTmPz//MHASqf9wJV069RSzil0AwasqtEOzYeL6h0G4XdXIizNW++fL6YXQnrvrTZ8kwNNzxWfffsYBSLPaqtSozZpZaQAo1y51tkFlbIs4Y2Vq0053wGMMt7kCWUsEVwRzeuw1NHt2I0MOXFMO+r2Rllq+m4B3c8YhQMBB2JRr2fOvlK9RsfafF9K9/5l8Wwubua2p2tJKzUJrW12zsmL121jtkcMdkSc9KRnr9Q+zo3ln3ziAXEmtJafuzJpmd2altYuKCPEJfwssE/WvlJNNxFDQjNLdsljlwVSV1JlmeC8bZKnSdR+385vcnPOOqGlBpl6zLzTVC+VmIk1yKanpOZQruZjigRIgATelIBMg2nmHHiFvvlYQ1gBOhSY/43r9NM7+Ds3P3fEqVdybgvzeynwbot1HKY20NlQ6Ni1rP5kGZAentoQUxoRKwfVq861nTVqWqu+mY2lAd/+UhgW0K7JktVxBzAmBJ0NgfSazTIdWIc9J5CVddRWDm23srpHqHYoyZccjh2nWK1wnzn7SnWarx9JFgORwwxPzF/NzDUN+cRdyyPG4w4E0xtn9E119nTuaqW2BBN0pxQqHCiGOgSX0fTPTR8fZ8pcM5iapOVMf7ZzpUw6LoGecp+sfaXaPiL1WCswow6eLg3o3P16sE4dXVGdy0BCSlJYsK8NBx2NkyoJilCuKMAECZAACbwrAZlgU6wSzc5rhuvEG0QLpTAua1SEFpxfP6X6wPtoYByerLmdO+4dam1ZhmTrORTxIDZGXaRKcUkMv75bSM39/572d/IGp+7/gPLdSlDhea2wlLbeIkRXC+lBMH2TFnTApjHld3SAYRHXN4ws0Mcm+9aprI0d2woYHO1tR3NXPaQeMN9nzr5SdpBqQ5jeIj0wTIRmLSzXuana2+aWXmMhT+nl4cluDWtjFmtTYmbvetqWgzj3bPmM88fHmeJrR8FMdZamD9Q4M/DQnQdu98naV6rtDzKrymBp8ugQDce/O9nWI99yxpz65EyAeJEYMMwTaqknKGdUV7VblUzGeiAoQrk1F/+SAAmQwNsSkGlwIs5My5fmiU+deINlUMEWL6GGBeMiWl1xCiIRrbDzv0pBfxSmYWlrFmo914NC7arAb/Q5cTngjH9QpdvP6m9KuKrkEJTv1lGW/1LEJXpazZsZg+o2pTaNtKOqHpcaFkmFMUOsjorIqb51WJXtU1JFrKRcjhLHtCPqFpkZKIZF5s3ZV6oXZ2ptru+1h74/b+Omgqa7VtRYei4BLUpKhdhzYqCbdA6arIjfYYsWacG6M56zmvzpqReJM3MzSV+UYGZfxLivVNtTRJ94YKQCG/pocwtTR6PrzXLY+GOVKIhQ7SnDrdp907DidMu6aBXKNVl5QAIkQAJvSaDePy2TYbRorWbDSgh2eNRfyAqsFqh/oSBMtsOCcZGlQpm6qwNSv9PooFLEB/USoJtWCJZWc+pfVCPya/mbG3V52grNHyOU70DUSqO/g0/TS7Xz68X0jYUtWg3NnADVbUptmqbV1gOVoEhCh3WO+rJg7luHVXXWFF3TpHqTOK4d13QLFFsrEu8G7yu13nzSb3sJGIzpy569bHLe9v+h2gEc00zhAfaT3BtSLUV62BU369zVaoctWkT49BLIOTT8Y08eH2dKHwq9RQEtAY+dcpYW7bfW0h2lL+6Tta9U20WkHmsFZtTx08+D+SWtndu/j3K/36+XZUwGk/+IoWAPyonklFDpg0bEElJzv+0wO9MkQAIk8H4EdOYcv+YnE6bd+TTF41kaQlmYbLWgOEeF2111lSxQ9ny9Y2avAeS0S1GVFaTUCX4nzqwVp30N95jrYIVaSy1/xWVLkfMlfUQo7Yci2I3eOn/Ub0orVKDxrROgsHVM+WHTxKWGReJIyeH0h33rVFa3DyB/Y5qXUlTDtX7ePd7djqpbMHZiDlpkizn7Sq3HmbHaATbdD9jS/1XtQFDctSLZ5hzUuTLn7NK5qxXIbWewuNSwiDGKB10Cx8eZ+XWM5eZE9AHzdGNSerl9B2FpUXCfTu/UEbJjrn4AesYGWftKOV3y8C+GVG2aHJAnGKJB9uWUzNdhzXI1mo1HDGVx49cPjSaSsx2MTd5lJl7aNNQ4KsNzJEACJPBmBGTmHLmG6gGXOROmYyweTqUy+Sc/qAWHiyHwd1hGyIvQtCsI2x1afc0qObvL65oT/i5euxjb1llyduyCaqKk+w2JkBiUM5r4zNAoc14PKrbJgVZDM416MahuU+7oAEacp5HvNpcms7dCrKn2aGAd9pxAFqyUbMe2Apajoeab21HR1S19I9QYVVXfZ86+UriixvGLtcW9xdhh1mmBpV1uyidYxHY7pJftjkX5tTlnV1t3tRraggTs3CoDYY6zs5WHX7Nxpgw2OwXfl7uLpxN2QelDqTfjL151XrOs7bB0AhxL9VIaJLJ7jhn2ydpXCpRJSWFSJx93vRyanm2/lXev+NKTDCFA8wtazRPqMBZE9IihWL06WsQ0RC0ymoTaOETRlOMJEiABEngrAjoZltXJ2brAW33FoFzFaT9hcGsd9yho7/cS8AkU66FTnd1VV+UOQmVFFc784heSw5qd681Ksed6TM0uk2xhnt2FAmy5qR0snat99a82Tau9UWDGtF1aGSnemglQ3aYcmdbrAEYZb7JRJuwMlar+NRU666CPpdpmO7ZWDqmRsUYHbxTUoUmtLYqoDQetb585+0p1Gv07lm7p/8qnLdXrWkq3lwIUwzlnJL1LoEMMn9Rr75TJ8th1g66Unmk83xCYjTOxP0m3cAkdhOD2XB45NDMXdAvJMEiAIPOQZ6+IkbUg0O47XcrMOL1SgQOORlRYXOzCnh3mxJPV36c1CJ5Pmsh8nn6q01yFa02nsEsT5y+C3NXAYBoKcvMUCZAACbwvgTofutk4PJQ5v+IwXibNqHVJ7nbJ6rRfyqk7CyZhcK+RK1yme6deo5gXlD2dOJiv9DpH/rLRpTyGWu0pYa5U3vMm6PLSzelc/H43gXfxrZVHUjv/BLX6tV7lVRelZKvSW9hFT8u2lsa/tomhlVa06pqZKjdNH9vSbUo1bUMHgNoMkNzVpMnSpeiWNvIo6Xnrpjt2K8Qv+QD+9nZM1Su62vq1V1sOFqxprGlzdpWCZrINYTTPWzoLrs5gdPlhaoGnGEpPgPsAWsoSyLK6uoUNhycNikI+mnNUuumisO1UWw0ejuxqZYTCGrjpOabDOx1q90gTUG/SQ0uZnt7PLLMgTj0ufb5AMyewqQVcHjl0mXF6kjy9ROQDNsiCNt9YCvpuT7dyfjwae2XTT3CZwR3TS7NJfT9Tqso+yQyGqsnirdoQdO3urw7ICDhQBO+4lhNLMU0CJEAC70lA3g2RKTpM6H1AxDDhaCQSq+V08h97H7tOraVziIMaBpVIXhtiYSlMQ5ikrqTdQ5BacSNX6ikOJXRekkcSZmWo9ZrU5EqjRwnr2qlVRK/6zQlQ0Deskjs7wIFAEpyRdSWO1psC0nCYaDo2Itf0oWorOtSkTfsoCNqizVzOBObsKAVFbKPHwFtlZDDu4qZ8gmlhoJs2V5xyygSV53IuW2vdghrHf1+rPbV1OnariXCODf7gs9P7maXJb+kNfOF7Op/Ta/SDj4rfc4G6k1Z/86rhDd1CKm8T6SvwcDPT1zIpyxXbUCpp2WrVnqluw0sqojD/uQDsEHT51Xw7m1dxh+5nwtDqjf/FPGg7DjPX5DwkARL4UAL5VjfO9i6tO5UtoLxP5/LLob0hWQp/ey0I03izoeH1y9p1XWHz6VfjN/s+wmQrxoJr01WHcMBEejbZqxkeB1JKPfn+rRrV11Oq9XsgqI/U2WgVKCBm4gIjViCVXpS0Icf+DiCvI6H+yenferKEQJsYWJczb+7YrYhyJhAkzK/wYFeM0dQK6LLRyEHSPshctEjPiUkel4jGaS62FUK30VNt3xmMqHC//wOf2lOV31A3zRamoOxwztne1lCzHSb+qQFDIPf4cqYptZVzaPDnntwWZ34up0+0XIc33ipyJOS2bjsFuZw8JAESIIGPIrC8Uw+L0XRrsXNj0ZGp7+NLXDEoecBaUGby0a6jqljugmr4l24ix5apH1mrOa2ZNY5K9UH0WFHi0rDKVLUmUvlp29oi5t433MAduDwjYo9WPTMnQHUX0N/qAHhHOwPJWwddWQZAc9CzTjNu6fNlkJEAACAASURBVNhaqkkd1Y6ALkeTpV7pZrYXNlqUbw1jv80/izvYfClVbICw3hDzgzEFWqWFakCl+xe4HQ39H/i0i7x13QJicmp6ztmo85pWHQKpWMUS3qDYxFmsZGLLc7Ok9XEEwO+Gww4npjjDxyGjwSRAAiRAAiTw4gTWFusvbh7VJwES+CEC3M/8IdAvKkZuOMH9LTVlfFXzMUUCJEACJEACJPA0BFIgWd58Cnff4C5zu4/1NEZQERIggWcnwDjz2Vvot/XLX6oN3mfPeg0v/rbmlE8CJEACJEACJBARgEjSfRcwPadYXwR1l6KKeI4ESIAEugQYZ3bR8AIJkAAJkAAJkAAJvCMBE0zKG4ku0X4T5R1R0CYSIIFHEWCc+SiyrJcESIAESIAESIAEnpQAvITpwsv6QZT4S6tPag7VIgESeD4CjDOfr02oEQmQAAmQAAmQAAk8nED9Zi48KNv/evDDtaEAEiCBNyPAOPPNGpTmkAAJkAAJkAAJkAAJkAAJkMAvE2Cc+csNQPEkQAIkQAIkQAIkQAIkQAIk8GYENM78j//8L/4jARIgARIgARIgARIgARIgARIggW8SYJzJ6JoESIAESIAESIAESIAESIAESOBIAhpnvtlGLc0hARIgARIgARIgARIgARIgARL4FQKMM38FO4WSAAmQAAmQAAmQAAmQAAmQwNsSYJz5tk1Lw0iABEiABEiABEiABEiABEjgVwgwzvwV7BRKAiRAAiRAAiRAAiRAAiRAAm9LgHHm2zYtDSMBEiABEiABEiABEiABEiCBXyHAOPNXsFMoCZAACZAACZAACZAACZAACbwtAcaZb9u0NIwESIAESIAESIAESIAESIAEfoUA48xfwU6hJEACJEACJEACJEACJEACJPC2BBhnvm3T0jASIAESIAESIAESIAESIAES+BUCjDN/BTuFkgAJkAAJvDmB+/12vZzP59OfP8u/0/l8vlxv9/ubW07zHkHgfj2fakc6XW6PEPGpdZaRasfp7U7gg/5AOAM4vAQEGGcCDCZJgARIgARI4PsE7tcLhJeyfpXE6Xy5Mtj0nO/32+X8/gHUXjNfY2W/1zrfGX7u+H49y8CURArknwj481F9Ijg/11UoaQeB6Tgzd6nTU3qA2yWYI85P6MMPY3i7nE+nXmMML+7oIixCAiRAAiQwT+B+u8hqdZDozuHzkt4nZ95Pypt1b71R9z0zn31l/z3rfq0z3y51lxhHa1pDPgXwZ6X6FHB+rdNQ8DyB2Tjzdlme1njUrcYcHeEgH6chjOzPEfMYfiTnUQylntAfj6/+iKEUQgIkQAKfSmAuyCwO7nQCV/apwL6+0npePH7o196DzXub+arWmXhJx2N62sBcetTid9y3n5fqE8AZo+PVJyHwLHGmREfibMYJnQy+vl5lP1Ns/NZ0BYuYuJ7VDE/S9agGCZAACbwbAX/f83y+4NuYZW8Cvdsbh1Xzbfu8i+l5GyZyvreZr2odLJn8bZ8nCKWel+oTwJkYc8zy+wSeJc5MwWL06AL6Y0xjnIkUZUz2MmDmH04fEWemkV04DFYnIshPmj9sMMWRAAmQwCcREAdUZumOG7rLFP3nT3oD4glf8vjhRkNuA9f2w1odLu69zXxV6xhn7uvojDP3cfu8Uk8TZy7ol5vBp46rkYms55lXM/xiE8vaIt6HnNGsTogrSxMY//tlzejDPCRAAiRAAgsBs5k5ih/TFH0+Xy7XG252Go7Lt2rr7ddTyt/7UK3KXYTmbVO5dZuKWjniKFOgGzsJqDOwZBEgN3/TZ3StiGoM3BvNkvIHkpa7pcmk6PMKwb3U+ulekfjnz+5v99a6KtsS7Re+Ve25v7WmVa0QOGYG/iugbvfBY5zQWGVttNYB0Lz8hRl9bjl3s+WZ0aUhOl1EKpmwTvJ+benYWipKVfp723Gk9oJx/QO/282ZVXukXjxmEyQs1Wk36C1+aM/qtkiq5O0kMqh/0IelhefnFinCxFMTWIszJ7YZRx8zcJPd4ikHRJYOanut5pchdFicuVXD++12vVzcp+rHdn2TobG+bmb27F8yg8dayam1M0UCJEACJLCfQJp3lyn6z5/OGm+m9vTRVa3HhyXBlA4Lu/M1/ZQKqCHFzZISVI29bb2nmQIhJxHKSuU1IHFZfbhyhfcwc3R3cWewQiGYefSBpE/izX+6d8Q2xa7TdW3SSpYuaOACbYkZwGufPJaljYC8bbXtHaD2w/C1o7you+nDU9IStZT7O2FdLrG5Yzs5eHhAO47ULh25C3y3ORvUHqnXjzPX3yntDu0NuiX7u3CgN/q5Y1CqIDVTKA6WZhrCzsD0UxNYiTNlCw7bu01Hs1CaUdqc5Ux/Km/izPSEkT5ZJAOv9WYF82oGaI3tGsL4DE0LtfoGQ1DWjurBJLOUqapycFqIPCIBEiCBhxAQ71MiqJ0/bwirt9DLRJXrwq5XZPG8+oRuEiOZW4eCbsv4tTX1Go9jBIlE0QehuavLuqL6MncVDxuhvfYdKSMVGnt7NW3Uat3MvGwXHVxiUQng9+JMV9AdOtMGWmFBKysgMqhHF4egPFaO6VVBVfYx7ThSu5ACnb1ucAlNwLQvMmxiKShtNFKvHbEVTYnkpLY2Y2dob0cKBKylOh0FA7NbyoSgoj8mgtrUaqael8BKnDnz2mS0n7neZdvbHBmSjzNlpOE8O+htPn+X/D4NV+73xIqlQurRcdhIOmLoVRfT7JD22eqxDnWZtuol/iUBEiABEjiYgEzRUSg4Kcs4puRQ6k7dPW0vqR+xDlRn++JT9E4urOqSVugMIFLSYGBRUyu07kbP260/c9PWSGnW1qdow9Cgs0tjXBabR3Pt5lhjQgQcTQa2X/l2trpjq0BU0dc+rQZmuvAgNVYLClpz0C6maaCI7wDNpaWv5a4mNOY787x10x07ZJ++/SjqYVU72jEJwNpwgNib+xZ4YhfqMBqnKGi6+w2pTvDxnVmHsLFoh27Qf0xVaXAscOyMk7WdKGU6cGpU3bKyc0vHfJ5+MgJrcWZVV2ZV32lrBvwrmZfuIo+05PcAdHAGdWkHlWwl4YY/isO0jMlx/m9oiNJqGrzUQK4IDeyuNfX/6rw2N9Ig/y55fU14hQRIgARIwBOQGd4v6H3G/rFZ7TUTNzga+1yu8Zs+4urWqaXcclDcaIl2VF2sqtEOzYeL6okGEUtXIoSpdi2blUp1p9cqe++tquaSym++nM/eixoFBl58qUeN2qSVkQKMxBhZ9gTVjsIebUrfZC6Ogs5hlPEmq4GDVhOoJWEqdNZhzwEdKk6jvyvqpEiR9Hz4d9sxV4a6OQ4Jg4RMoBcW2WTO9u43ohqjyU2uahuTRrVt1a0HZ1+ciUiBdDGxM7d07eeFpyLwgDgTOp/p4NVu6ejOt+XrZrqROTfFq/rAT60o+iuVj/J/S8NIKkzl7ZwjBWSoNINIsgwSSmYgAsuLuNhjYVamSYAESIAEvkdApty0NB95oK4YrCGsQBycDSfUO9j4MwsCf+d8QUdcKiDOF70V5sfziz3xStHU1nNeHbuW0EqUSQ/+bIgpu5yDC6h8iN6UsUZNa9U3s7E04GseLLRNuaMDGBMCixFIr9kMk3RLQFvK6o89J5CVLeuVtULWjlDtUFJbwaBIghTEmceb09dhQLU1Rc50NDSNbptIijaJnm4dOGmDWKE1bdAphQoHiqEOweVGZ554JgLHx5kyKgZTk3Sppg9qB5VJpySanDFFkT7IL3l2aRjLlUcvZurcNUyUzMA0VE7NHOiEBZgmARIgARLYS0D82vwWkBWlk3wQLpasuN7SiV0LBgFuZ2GX6sNL4lfCkzW388u9QwizU3WSTYRYw0chijgyqSTjHXx919U9PLynTZy8MaZKgvLdsvu0wlLaeouQCVDYNKb8jg4wLOL6hpE1xcSWUFkbO3ZXlr+wtx1TPTimXAeNgR9nzoTawz7jMegxai5GhSe1jE2t6oa1mfZWPtPTUaoLB/ggPTM8rSU8+mUCx8eZ4mtH0VQd2KZzJhRLB5V7dTLGZKSMgc3k/56G9avcdlToTa++2VNyu+bp0N2KQmB26+YFEiABEiCB7xEQ7zMRZ6Z1VfPEp07ywfqs6Bav7YYF4yJaXVnSiUS0wvoalTJYBS61aUmzguy5RxTarApMDU50/rmX+AdVuo1Zf4nCVSWHcwvZPVrNmxmD6jalNo20o5oflxoWSYUxQ6yOisipvnVYlfYMUzxW0mTxB8e047fizIB20XJgzka1+1Q9D3ucNFgGY+3QWFXcDJt069o4bO64lBaRYdhLVGusuTx6YgLPHmeWF7u7g7khKwMpHkU5/1S8F0fCOnS7Y6A/IU/JbSyqJ3QcDkyrmdNfQcE4E7EwTQIkQAIPIVC9RvEOfVdgNhJhh0cn+a7LW1ulBQXjIgsAcRP15RT1cU1Vql7P/cl5cDpaIVjq8aMaTZyZMqePgdR1s0iRRP6QnnwHwleOx/hNESnuEvML2a1aDc2cANVtSm2aptVMZ4N2GRZJyDDDqC8L3r51WFVn/dI1Tao3iSPbEYatb/pYq/3m7FC7T9UAaQ+wYIauHSzoJKm99bFnNyLk0PCJ4bie0zR3XEqRiqxeAvpwazTPPCOB4+NM6dyhtygMJOJq+uDS23b3JJHe1Kz0Jc9GDXUk+HdE7vf7dfkA2kydU3O26ivM6t2pufICeTdMrwKPSYAESIAEugTUR6Qtzb4TksnZ7nya4vE0j2tidTZaMJAaL+zEBih7vt4xs9cAcg5sk4qXRKpRloy+yppZnHIC0suUMqcNF/eYa6k8MLxWLn9RSiZ/Pl/SR4TSfiiC7TecVGUTs1qhAo2ZE6CwdUz5YdPEpYZFnvu5WcR4QDsOmn4NXffWCdZZW2qf2liq1mR7X/cImnhlaOu2hIym9aERw/lunDkzkLsW88JTEjg+zsRXPtrvcpcbk9KVm4/7LANj7GoGJGVMjjwFDI95Dcc1y9XBRCBri5Eb7dsmxedcfDJy4Txi0ZfHKyRAAiRAAlsIyCxd5t546oU1qAursHhYVhyNLQgLytY9gL8LHasITbuCsKfR+inJ2V1eB6zUEw1KdewKqsNT7jckQmKQ32jiM0OjtAihkvXkQKuhmUa9Fn4S3G3KHR3AiPM0crBQ+nAO5GJ1HIuBddhzAlnw+JXt2E5CORxqvqMdB0U6wHeZs1PtAdWQDp4UPdeG9i7dOnDsTnjT2kgblsui6mCWQNOYfiECs3Gm9HU7Bd+X+3inE96EwB6TfshLnmeZ/l2T0B3OYBU9m95tSu/QUIqYX7VqHmeHgWMkFh8RBX4xQ18YJuI5OOp4xihaQTxDAiRAAiSwi4BOvEuoaV3gDb7JmVfwdnp2izBxnUWVid81QUe86N9dDlb7QOg4tBD3mjS3ite62r9mCduLV0zNLpNsFp7dhSRL/HJ97rdVQM5o07TaGwVmTNullZHirZkA1W3KkWm96NQo4002yswtOcyemF8IQR9Ltc12bGk7TIyMHRqFlUAadXMcesCxyKw5O9U2Fvk+A1aESdBzOLR36daDA09ct0EjDljsV8ZM1wqhaTz5OgRm40ycqqS/ugT0De21Lo8cYg9LuG4X+ZSO5JFEO5ArYTMbSv420TjFzRriMGjrd2cacVlfGJYuvxwCw2qi/IXi67NNnV9ahyr1MUECJEACJHAwgTr3yqw+SDQTvvFoafauS3K3S2ZdjLqzYMIHx+Hd7mK5EVq0bRQrWVVQDjU1YEivjuQvG13KY6jK1FTe81zoXk81nkx3qC1M4JHu3KbXI+svKLQrWlVhSTnlAS3s4k6F0Hu16pqZNJwA1W1KNW1DB4DaitVLX8tdDTttp9t4wPPWTXdsLyIfq7FG7fwOr1G704l9pdCadlgNNpBNY82Zs1PtIVVvSnNs9OwP7V26Qf+xPcQITZeW2wppvJoGMncjnA5S6qs/tzTm8sRTEpiOM2E/DTuKpM8X9wxscjty1SWazOaupMucphLTHQEkdPS2FJ4JJt+vbRqWWBjrlHTyi/X9TDkZOlScMiSnJFosYKrxQ342tPnQY63l9CV5TAIkQAIk8B0Cd1i5yvTeJnQBhsImnJpEYrWcLtECTwcV9jypc0xBJVWSC/xao8oZcH9m0QnnpcaciIgV54UbID1xaZHQrVoFOTN7tc3UtVOrvpnotbsxc7cpd3aAA4EkyiPrTMzWJV9vMWibRanHqe3XS13ge8zZqfaYasQHzzmhvaHtsnUbCIdZH86e2jr9p9VkYqAjAKZ/n8CGODMFOrf0Br40/OmcX6OHB2O9QaVAveOYP0EuNxFtXntjUkSUROyPUwXGh7lSeOinDxE+r2Eu4giU3/BKV+xc0BW3g6GoClJ6k8WSF8Y/xyTyY5oESIAEfoJA3t9DH+TSulPZapP36Vx+OYxuR+4MM1QyuIyyR+QebNSc5dOv1aeLVpJoPv1qfHTfH5lspbbqRv02iMiSRHo2GVXspgMppZJ8r3j9e0VQ8T6tAgXETPmkwo/FmXlNoSs64ZkWGLer7BXPBN6ZzMC6cj2t80SKS0QdG3ibZCBobzuaxVttiyosyanfucAQq1zfPE73qR2U8npWfYO/YMJwaAdSVpBCzU0P6deWO1apuSmVt6QrcNc98obT9EAPQPDUrxHYFmf+mpoUvBDQ0dtOegJJbrVumIykMBMkQAIkQAJHEFje34e1dbo3ex3cmlWp9d1/WeYOSn47zkyLbQ0A+tGgqFfuuGqIkm4ix5apz+qGT0utadmuy/pUH0SPFSWuPqtM0WomkZ+2rS1i7n3DzeKBezUy9mjVM3MCVMoi/QFb6VsdAO+e6++RdmUZAM1BzzrNuKVja6kmdVw7Yru7R20nIGw0Z5/a61QbPnpiemhv1G0NTlG6hpSyKZOK1ZPYh0Xh+blFijDx1AQYZz518wTKwZwYjlHcWY0zBJXyFAmQAAmQAAmQAAlkAmtRBDGRAAmQwAwBxpkzlJ4rj9ydCu+5jq8+lyXUhgRIgARIgARI4McJpECyvPkU7q/DHW0+GPXjjUOBJPA+BBhnvmJb5pdZm29BLJYML76itdSZBEiABEiABEjgSAIQSbpfhUkPUNYHdN2lIxVgXSRAAh9AgHHmBzQyTSQBEiABEiABEiABJWCCSXzxFdPtx1q0AqZIgARIYI0A48w1QrxOAiRAAiRAAiRAAm9GAF7CxNhS0itftn8zGjSHBEjgAQQYZz4AKqskARIgARIgARIggWcnUL+ZCw/K9r8e/OzGUD8SIIFnI8A489lahPqQAAmQAAmQAAmQAAmQAAmQwGsTYJz52u1H7UmABEiABEiABEiABEiABEjg2QhonPkf//lf/EcCJEACJEACJEACJEACJEACJEAC3yTAOJPRNQmQAAmQAAmQAAmQAAmQAAmQwJEENM58tp1W6kMCJEACJEACJEACJEACJEACJPCKBBhnvmKrUWcSIAESIAESIAESIAESIAESeF4CjDOft22oGQmQAAmQAAmQAAmQAAmQAAm8IgHGma/YatSZBEiABEiABEiABEiABEiABJ6XAOPM520bakYCJEACJEACJEACJEACJEACr0iAceYrthp1JgESIAESIAESIAESIAESIIHnJcA483nbhpqRAAmQAAmQAAmQAAmQAAmQwCsSYJz5iq1GnUmABEiABEiABEiABEiABEjgeQkwznzetqFmJEACJEACJEACJEACJEACJPCKBBhnvmKrUWcSIAESIIFnJ3C/366X8/l8+vNn+Xc6n8+X6+1+f3bVqd8TErhfz6fakU6X2xNq+CEqsSFepaHZUk/QUowzn6ARqAIJkAAJkMA7EbhfLxBeSpwpidP5cmWw6Vv8fr9dzu8fQO018zUWzXut853hiY8f1RAfgO6HW/VRLfXDZry2uOk4M7fW6f08wLvadVi3vF3Op1Ov4YcXD1OBFZEACZDA6xC43y4STw4S3Xn1dSw9TtO885s36956o+57Zj77ovl71h3XmR5e0/EN8THoHt42VsDxLWXr59EEgdk483ZZntZ44K3GHLQMvPKfP/2AZ8LUMMtP2BUKfpGTwif0/eOrL2Ii1SQBEiCB4wjMBZnF051OZ+5qfn193a9ncf2hrzmueX6zpvc2872te2i/IbpH4WWc+SiyG+p9ojhTghbxN2HiWCckQh8YP29ojifLCgummM9qhicziOqQAAmQwCMJ3C71Dbriv87nC76NWbYt0LUd69EeadoD6/6QdfZ7m/ne1j2w93/MfZaHMowrZ5wZc/nRs08UZ35xP/NHm35VWBqgZT00WAlJoM778qtAmYEESOC9CeBS+8+f3qR4l2mzPKTDLU3kNnA3r9553tvM97buoX2P6B6Fl3Hmo8huqPeZ4kyrtgy8hz5XJP4+3q+zKn3WUd2rXHmyC4YxGX5WD6G1JEAChoDZzOxFmalEmjbP58vlesPNTlPX8q3aujt6Svl7H6pVuYvQvG2q3yZ1m6pT+ydQZ2DJIkA2ZtNndGNT4H5ljiDzB5KWO5jJpIs+MSu1Bfc366d7Mc/eb/fWuirbEu0XvqYNVg9qTatayXoGc1ozV0Dd7qXb1Ju/JhyHxioLprUOgJblj89oK+RutvTRRUMjC4su6QnrtNSWjq2lolSlP9WO30LkpcOy52TgbJayBd38oFv03duy84ImOq1nl47RasNPMwNJP/9safeZlvL1Dwaa6DePSIp8bmItzvzmHqOb7BZPOYVbOmI/znR3hS9XJ27gN75nV5EjDqN+qn5sl+mXadGQp3MJdEttrbGbZLXfn5DYL33HL0/H+eMTqx86hOmj1ckYOp/TFOMBCZAACbwVAVjT/PnTWT7NGJwna/EvLtEuir6+YE12vqafUoGVtxQ3BUFVu1Cu+tX7jCkGcy4AykrlJdFk9eHKFd7DzNHdxZ3BCoWgOC+8Kuk5j1btys9NSdk2kcJlyTtMbNJK1jOtxGomeNKTx7K0EZC3rba9A1TTblGcn5He9IGmqmIt5P9OWJeLbO7YXhAcpwVNC1PONO24HxEIrcnjGmIanf6kjdhYEtGgS3rubFkwbULQRKetzMxfkGJ7cs3VnX82tntXEPQHP8GtxZlQ5wSiatEH/12JM10U5JjKYTQLpRlFMrhEMwUELSDDz/k4yKodxdWPh+GnUvfbNZwoe1+qHzskqy08QrVZlo55qTPHmcH5qMkALQwkiVThsk3WGaE339ncPCIBEiCBNyQgPqtEUDt/3hDmXpnGXaJZmU25Qvscr3EK7SSPLtK44DX1Gi9gBDlDztc7QnNXFydV/Yu7ioeN0F7vGikjFRp7ezVt1GrdzLzHLTq4xKISwLd9YEcHSIYNtEIFrKyAyKAeXWmA8lg5plcFVdk72nEnoirR/gVbrM6bpRyCru3/g2pHwMEuzCbpRtCoIYbjyBScnn9MKdHKJYxcsKjXUo1RwzgTKnRyy2FQm+07H3i0EmfufWdyvTe0dxAcfRknptOYTGY/M2zypeGjXhze8cVKgo/Or/Ww4NZvvq2E1Y7TauwuWdF+Znz7ZzwYBL4dmYY+HOjcqvrDZSZJgARI4O0JyLT5jTjTuM40S9fdtXvaXtINHOtAdQYu/kXv5Fo/YkpBpKTBwNJIWqF1AXo+Ra269WduKxspTfh00lLaIww6668x4jWP5tr7sI0JWrmm0GRg+5WWEsDWKqDFIbVPq4GZZW2Ly4MAFLTmoF1M00ARvz5pLi19LXc1o8kUXBO1NiWSMKlzumMDcUzuaUfTxLOIUCimAd0BDWED/gad0Xxq0IF6pdHnWna7oLnRjeQ0jY3oR5xqYvBikcnxCyhMVfgMiJ2wkoYTpUwXSjOI7qu19anVH5laizMrFJlVfX+oGfCvZF5aQh5DyU+L61wzrEtm5LXQBXpkfbGgKJPdUJraBjGVqDrUpdSngpJd4v+/vrJZMIdiXdhfUT3rI5uHrHbJgjYQu5T2Mj/l53BHSOyTTmv0s8xkZBHUTJGgE5MkQAIk8L4EcNbdudQwCyl0JJmaDYfgsvEXfhLu1qmlnIsU55u8J4j5wqrwfNYOzYeL6h2yL4Yr0BO6EmEha1UpQMprrtfee6sgoSbvt/Rc8dm3j1Fg3eupUZu0MlI8Ca2zCyplqa7WNUw975vM3ulGbY0y3uQJZSpR+WsqdNZhzzGa59Ldji11N4nN7ai9fR5RI7WeOLQh3Mayx4PoHNX8xLys8eSiaYj5lt0uyN0cwd5VSQ3+aovMzj+J1MbxO9FSTnrSuFdqD6IBgU+59IA4E1rI9/BMVcZA0LqAXbKFlUDGpbOGXVw8n4xAKJiSqxkkv+jTxIQlSzJ7ibXAhUmp6PFdsx+LGkqpTbJEVbSrqLTGEIuW0tUWVMvlgkPBGLYCZGSSBEiABN6TgEyDaSG7cc4tRLCGsAJ0DbAe1RVb4DLAI7v5uSNOfZmrDfMHniFehJnaQGfTBzp2mZueOfrKN2vlzrWp43sHqHyI3lRvjTrNatU3s7E04Ntf/sLmjGuypHXcAYwJgcUIpNdshkmSIzGPK4E9J5CVdeyVtULWjlBtI2nnGInlxUjN2mm6IZKESXRBp0B7l8s7WxbbaE7QXKeNCaazKBHayugfaBJWiBygrk7nNy0VTNad9kWFA8VQh+ByqPdHnDw+zpQB4yYaxCmthf0BM+DAG+TJRX4mztSu37ULumbVWUvFvQ6KQAYttUWW4SeEN34joVSiM3I1xFTeHmijdzVuC/EMCZAACbwPAZl1c0QEM/qsiTrxBovUUgkuZXSy1YLza6ZUHzggDYzDkzW3BAPjhNaWZUjmnkMRD9LuNeElqWf49d1Z3NmmtD+SNziXW6uT9wj2aYWltPUWfdXv5wemomAam8aU39EBhkVc3zCyunj71qmsjR27K8tfuK+2o+qwbYx4Sfn4yIZIFfbRmV4h/T9M6aq7QQAAIABJREFU1EE3tLTbsjsELXWJMr3RHSJczK778FX5zqTUq2K13Y9sqX2Ieqp/0Pnj40zxtSM3W53lYPqSgbfWd5dB5e7UljZcVWY1Q+0LOnRlUA0SVeeRbrlm7biAa5+sqmn+O22XKVUPVIFqSL3S+SuNFbZCpxBPkwAJkMD7EJBpcCLOTDN/+uS4eeJTJ95gKVw4xcumYcG4iFZXHJlIRCvs/K9SBr5vqU1Lqo/rxhijdbZfyzrROeCMf1Cl27HqD2u4quRQl7zdKnZqhWybxc8EqG5TatNIO6rucalhkVQYM8DyROv1qb51WJX2DFM+VtJk8Qfb2nGow1bp3fw7pcygk/7ZS9R+O9QhQcQM0rJ6sle/nK+C/CiQunxLdY8Tx1Kt9FtEEfeVTe1+ZEvtQ9Q1/nMuMM5cevnaCNnQw+Bm5FKqH33pMAMF9skynZZxpsHBAxIgARJ4NIF6/7SsnGBKbwTD6geiL535ZdXlS0JBcCvDgnGRpeJmVacuqdFBpciKs5cA3bRCsDQwS6pqArCUOX3QoC5JJack5h/bwc91SHGXgGW019Mdb9UKaTdmToDqNqU2TdNqdoNIpQ6LJDsxw6gvC5O+dVhVHDuYrXVVUur2ie3tONShC9bLXY67+XdKmUHneml7WAfdUIdkAGaQltWTbc3uTBX0/TjTbOTmnqGjIOjJSXV9NttpJYdm/B7ZUvsQdbrQJ50+Ps6UATOYKyQK6kw5qQWknkGe3FJL20PX1wYUQTKY9FotXHpnL0PNr71/TZ9aIv3VUnH9MAYgg5baIgvlpolkzi5Tqh7ocBo0Ys2c/oq4sBUwJ9MkQAIk8KYEdOYcP34pE6bd+TTFwSMALQhlYbLVgsHiDLwMFJE6oWz5mRF5ks1rADnNUk6qChPqzr4TZ9aq016Ge8y1eLrA8FpG/sqiQoqcL2lLOe2HItjNfndWK1Sg8a0ToLpNOWyauNSwyLJ4kb0m3xUEKSb61qmsbh9A/g0alIKLwy3tqDoEXSVG5MTCYTf/Tikz6AK1QSNIDnXotuxaKRAAyQSitEK3ZSF3lAS5K/OPBgUb2v3IlgJVN0yAkdEfdu74ODPHVhLkBO8YyG9vjIeNDLy1OX9p+8iDavzTmybF3/cySH8QfcZqS/6S0FKBGevfAdokC0XP24WlJC3F50aTzjVz+UUOEyRAAiTwPgRk5iwroWDWz7flZGWW4kzwPVg8LCsOxRYcLoC6K60FuwhNu4KwXQB6+Zxb1pTqHQalOnatdAz3Wy8hMajCaOIzY5zjr0EdE8mBVkMzjXot/CS525Q7OoARF1iMQLCP9gkMrJM+Bk97mYoGZU2+SkFGkNcc1TbXdiBqJMuJIxtiMUkscrARXdwrRKslsbNltwtaeqRoPqeeV1fkrs0/Q7t67b6vpbA2aA9RdTCVefN4/PU1G2fKLGADiftyH+9kfigDGyP9moYEm4/8XRPjrmvTiia9AbDFLjNPXcx7NfcKIu3pm+AQe/mu3zVJY29SVrUaNxh7hkPeIKlYYIwF+ZZTSsZM7P0CvEICJEAC70hAJ8Oy/DpbF3iDb3J6Z2FD0OTRxHUWUt2ff1ChxvsspXo/hlHxw6JKloyhPxW/kDSfnevN6rDnj0zNLpNsFp7dhaS/uPheAFONLHllg85rbxTwF6EOSe7Sykjx1kyAwuWEcc17OoBRxptslAk7g5CQhKnQWQd9bEvHlroxMTLW6GCMGpXqB/AoF9KHNoTboTUNC0/2zQ+6PgQfGWLLDkuB7SZp+olrc5NxcAB9Yzj/jFqwq/xES7VBI84q30Y0sPxTLs3GmTgOpSu4BAxq7RAujxxi4y2wbxf5bSjJ5hL5NQxpG7MfWHKqa25qC2Y3e4PQyZJDtSsaD5INE1rELh0wj0v7IbpDFowoVzkeNosX4QkJqMorBrmWZFV1funR1sEzJEACJPAOBOp8iLNuL208RTLerNvSjFpjTbdLZsM8dbjBJAyTeeB2G6FF1Uax0jIqKK961Znc79dL/rLRpTyGqg1pLOp5E7tMXHKlO9QWJvBIrOQnsovOvcqrLk55QAu7uFOr+b1adc1sWiG2pduUatqGDgC1FauXvpa7GvbYTrepXOvfeeumO3at2vxVY43a+R1eo7bpxFpqAyIjFw4AnYWzU8oQndY5O+hAPYNopWW3C7LzVdxpAVsnmdTFhuvcM3LqzY1fQGFbyghNl5abemlSQWVsKaeDlPrqT4Adoz/p9HScaW+rYDOU9Plytfdek9tps3UyJ+R4C6FXMI0Z7cumyUsRuRzWZqad2sw4wlu53i7otW3mRQdfJs9/9aWXXik1qyo2E9unzc7KfWyIyLULFBHmEjoI1/LP53QieEgCJEACb0hA3g2RWTdM6NoGGcy5mBsWSc6zu1OHfkT8oyndOPdgIS4FbIgV2mX3B9RB2PNSY05E1RbXE7ryVi4sDGzNcDTrIifq2qlV30x3iyFYD9jb4rYpd3aAA4EkzCPrin0+nHDtGP3MOLRfTe5SeyeiKtP+hUF6SEOsoIvAOnRucO1CFLfgUNDc6Lbw2iOnbW/+cdlaxcoZ0yLdlkrzYq8GPG9q63RyzF/S8fhtLf+MMxvizDTL3dIb+ML0dD6n1+jhwVgPrRQAF4iPjvrMzQ6kCJLE8fuZWYmNdqUnZpBDuvtSUEywKLbUn//S6LrTL7fIghElxNqE3oHxDWCP69TWG/NLbhDaMcFWyyMSIAESeHsCeX+vnX7ljO5UtijyPp3kdAm4tSglv72Ghmm8bIDUu5ciQhNuF9Gpl300lk5VS56+jzDZSv56i9PvMEhtkkjPJquCg1QgpVRyvtyu9eN5bsneqW6fVoECYuY6qFRabiggy/0dwO3eLOTTxnFPVodHOj2wLpfa3LF7sgJBa+24H1GgxPENEVhUO0YmO1weN4MuFdnXso8Z3QFCcwp4DuefgNJKu0PNPmKMuutSW+79dSzgQNvZFsbYzzvYFmd+Hp+HWyy3RX1ffrjkVQE6pAe3d0V/nBNXq2YGEiABEnh7AsttQgi00g3J0e1IRbKU1bhiUPKANbTM5LNRVrrXCjed813nyDL1I2s1pyWuxlGJFESPFWVZ/C1LwIWmQptI5adta4vIDd9UsN5atY9NDavco1XPzAlQ3UXztzoA3jfX3yPtyhoCWX6ApgbDrhFz0S0deyBrazt+C5HXowvnO1J6HUOEl4aaGXRLkb0tOy9ootOK+sPE9Pyzsd27LSWI9AeTYDZQu5rotBScRzQ0+zMuMs783XZeZqWVPcPf0hH8bhwGr2b4Lc0plwRIgARIgARIYB+BtQX6vlpZ6vcJsGV/vw0+SwPGmb/X3vBO9tNuBspNpnBLc3z198hSMgmQAAmQAAmQQJdACjfKm0/hq09wE/lp1ydd2z77Alv2s9v/6axnnPlDTTJ+5zjeLfwh1cZi8msBvdfzhxfH9fIqCZAACZAACZDA7xCASNJ94TM9m1gf2HaXfkdVSt1EgC27CRczP5gA48wHA16qN7M2vmHCSfxnGoBSSIAESIAESIAEKoHRskRWKZ3302od/PuMBNiyz9gqH6sT48wfavpwP3P09d0f0otiSIAESIAESIAEPo8AvKongSUmnvTLEZ/XUJstZstuRsYCjyLAOPNRZFkvCZAACZAACZAACTwxgfrNXHhQNn14c/a7yE9s2aerxpb99B7wJPYzznyShqAaJEACJEACJEACJEACJEACJPAmBBhnvklD0gwSIAESIAESIAESIAESIAESeBICGmf+x3/+F/+RAAmQAAmQAAmQAAmQAAmQAAmQwDcJMM5kdE0CJEACJEACJEACJEACJEACJHAkAY0zn2SDlWqQAAmQAAmQAAmQAAmQAAmQAAm8NAHGmS/dfFSeBEiABEiABEiABEiABEiABJ6OAOPMp2sSKkQCJEACJEACJEACJEACJEACL02AceZLNx+VJwESIAESIAESIAESIAESIIGnI8A48+mahAqRAAmQAAmQAAmQAAmQAAmQwEsTYJz50s1H5UmABEiABEiABEiABEiABEjg6Qgwzny6JqFCJEACJEACJEACJEACJEACJPDSBBhnvnTzUXkSIAESIAESIAESIAESIAESeDoCjDOfrkmoEAmQAAmQAAmQAAmQAAmQAAm8NAHGmS/dfFSeBEiABEjgSQnc77fr5Xw+n/78Wf6dzufz5Xq7359UY6r1VATu1/Op9pzT5fZUulGZSQJsxElQzPamBBhnvmnD0iwSIAESIIHfInC/XiC8lDhTEqfz5cpg07fO/X67nBlPCZYXCFE+p8n2WvoCjSgdjgkSOJ7AdJyZh8rpmT3AD2t4u5QVw+l0fpHlwu1yPp16TTi8eHy/Y40kQAIk8KYE7tU7SFQZJrqz8ZtiGZqVd37z3h337RTUU4con9Nk37P0qRtR+xpTJPAgArNx5u2yPLzxE7cay7NG+rjI8qBReoKkH9T9qIZfX191JTFQ6UFttq9a4RN68fHVfRJZigRIgAQ+jkB1DWFs6U6+ivt4dCPer2chE3qoRyvwpPU/cYjyOU32OZY+6SigWi9O4OnizPy0kb7NIr5HEr3dQ4mUfiISfrk4E5Y+MZ/VDC/e0ak+CZAACTyewO1S75AWn3U+X/BtzLIzIu7sz58Tw6qvry8u5eOeyTgz5vKjZ9k5fxQ3hb0dgSeLMyHaQU+M6WeJM1+pKyRnVRgO1jQSqPf3jF/JZupKAiRAAj9MAJekf/70ptK7TLYpzuzl+mHVf1Ucchs4qV/V8TeEM878DepOJjunA8JDEthE4KniTL0TnN4ilG8kpG/26UM1jDM3NXDKXKP3lQUNuLR4z3OzYBYgARIggc8hoC4sBZA9X1X2707n8+VyveFmpwG1fKu27o6eUv7eh2pV7iLUvXviNlWn9g+hzsCSRYDcAk6f0Y1NgbucOYLER5aSSRd17lJbcFe0froX8+z9dm+tq7It0X7ha9qgczAReAzobZEOTtlufA/qz61bTbOlxJ755pMimkDzsTnCzfkt3VhFRKkt3KLyeq7WhMqHfWnC0pXundaxM41Y5oq1YasmfH3lrxLp2MmTwzKzLMOHN2yQF9O/R2Atzsyfh8HR2KZHHzNww2bxlB1z62gMZ0YZ8N5379Kw/U6DRFbpe3d5js52SbC76HyLnKJXSe1z960vVwdk3bMZf5CWGnk6wdvh/bvmRQ+YB/uK5qzzOdVCpkiABEiABBKB6sKKlxSfshlOdkKtqy1ngqDvC6KO8zX9lEoNM7ASUxBUDR2u3J0MAmYoi/WXaK35Kh64ldPlCreMc35/BiuUdbI4Zbwq6dBT95knBy9l2wTe4u5WAgQ20tsovSsIWty0a1a5W8pfdeYPb40oDFmMueI+ztzcjVVEk9rIrSkvJzb1pQlLV7p3+imabnNAI04O22pGuBDNA+GmD6/J+Kml+JcEfoXASpzp4pl2Wilnov6chnMvfzyV19HYTpsJTb7azoO7NNSpQTTMa4LgvDVN5wUpOAzz4vxYNnvxeEEynhCxkphY6VCV6p8/1pSwu03ufIZleZIESIAEPpgArkrj8GMGDszYOMljuql8ytFYV2WcXeuB0LGa+5Nr6jU+2ghCK4o+CM1dXTxW9UruKh42QnugR8pIhcbeuCZTzzQ9U0rEuYSRnkrUd16MA9cWD2zvljIxj5NbDoPaGgLrTVYXbKEIOdl040bScmI7t15NG/vShKUj3Zam7DaHNqIwCROmS+Q2DLO5k9N4e7B4ngSOIbASZ37VzT3Xg/Ew2s8cjb1SNgqNdNTBU7Nrdu7SMNrPjG+YuWk3DJ7dLAAam/1MhObSxoOU8hMTolTSVyCF5wvwQAZouiS1CQZ1tsV4hgRIgAQ+nIBMtmWnLm1lbP7PuM7kfeoLJOntkRpy5LuTuHGo83aZ7fVOLqxxfSlwMY1z0ArtalXPpyhR/bS5rWydu7Eo6aCllI5BZ+M2jHjNo7n5Rqw4wcYErVxTaDKw/UqOWjc5N1dlFU5vqtTaDL0d0qH5TFVGROOrJ0pNN5/Cc6lBk5VwVpsGUA+7sZNQD3dwq0Xd3319ad7SuHvPNYdpESjih21zaZkhMllhnkpN9WNHiIckcDyBtTizSpTx6WfUmgH/SuZl5MjDp/mJchkJ7SjAgvl1lPL6ipRHIT4tZWc0lMJSSrVanGd+YHX4jQaZfZppXqovCfA69SH6ckF2LF00ax60wCLWs05sUaY5qZhmfb/TUA4h/yaOUgETJEACJPCRBNCbzM23DSazpG6mYBsOwWV1MWWla+rt1qmlnAMS1+Zrw6pAfBGH5sNF9SmDtW9XYvaFiwtrVwyp7vQqSe+9VcOhHNxv6bnis28fo8CaR881baeXdvk2Sk8GVg9uzO9KT7r1Su1pvgDhArLewvadBD4JEbd4txt3ZW3mFtekXTGIwfp9yfQN6NlZiNYZGztoDrhZMM/QKOM76oQyMRmeJYEHEnhAnJm6+jIz+lGQDZFx4nxbvai3FSX2S/EqhlsREHFyfh6IMss5KVVkhQpLZpcQQ9ZKLS4hmNrync8iGtWWmtMdYyc133oVMu1lmx280VrWUlCAhNraynlEAiRAAiSwEJDJM60a17xCSA1rCCsQ12AXpjrPBzcfwSO7Wb0jzqxW0W9gfjwv9otjgpjI1AbnDYCOXcsiXas95XXA1J1nU//6AcZgIfqmCqQBJYy9AaWmnnSiJ73bdtriQVfrlEKFA8VQh+Cy17vfZCl+kiYDMlrDoKxmmkmhzqEkU4lpmvQg3tz9iaG2ts6QW6c5cN97etgacYHFCKQ32AwTHpDAwwkcH2fKmBx0cpmGgnGSbvml240yT2EifOSmQJI6w5HeAymlNn5LINUnloZWgMStcaZOJbEtMG3FGVS2eqM1JZcyYpRbkWiVTJEACZAACTQExJt0dzaaIvaETtfBurNkjdeRWnA+6kj1gSvRwDg8WXOjOx6ktTbYkEz3i/FpXzBe/I6NnxepraDh13eh3tXkPe0w5g1OXXJ0tXS1haDCk66gHK5Kx9rMimpHi6e6WpLhmRkC/SZT3TZ2Y+Gylljl1qkAdRbDV/sSljKNkKQYqnH3PrIRlW0w0t2IbnTtUOFpEngsgePjTPG1oxCoOsvhQFjmksvZfE8oHsmdjcFVeFPadmqR2aenUi23TA1h5BYpMMqf69SpbQQ5ZdVZaU3JRVkxKtS2WsS/JEACJEAChoBMnhNxZprDmyc+dbqOF5HddeSwYHeZa1bJIhGtsF5DpcgavZeAQEW9VTfqgJu2bZzplvJOYg4S4h9UMW2DB/WnNlxVcgjKY7E2raZN0KvFN0nvtp22hYiuAuztA11jaRGxtJeYIYD9RIUkJVRQoFvRsmuXGuFTm7j5wnKsTdba3utLfUvNCOp2766xQ1BxqWGRZCVmWFseChUmSOCRBJ45zkS79Sc0e/FPFLBhDXF6X6lSl8w+1hm3gpaRH2oeKTDKn2vXuXJtItFJZ03JRW0xKtS2tY1nSIAESIAEEoF6/7QsYUeTMywiYXmq0/XGBfqwIMhqZ3WZ8OtmozqXRgeV0q7R3RkQpBWCpb6/oBo2aFlyDp5yylE9fJPI122Owy/5eeUnnaUNj3MhNbahl9TYLL3bdtoWgaC4lBZx9raH0HyGHh70m0wFBbqVKmINsXqT3szNlPYHW/tS31LGmZ4tj0mgJXB8nCljMvQWRQMJrnA+LwX7N9KWGbw3c0mdI+/eANhXqlQjlqIVjQS9wxTO3ZECi6Vdrwxz9JqxMOOvZXVNE2obWcdzJEACJEACOtWXhXvfl5kX2GCm1em6O/lDKBsWDPwj+AsoIu2lQpPCmNm7DMg5sE0qXhLqzrpG2YBtsHLIv07vH3NdaE+oJC5bipwv6SNCaT8Uwa55dDARmKzQ0xdtNkjH5jBcQG5reFxqWARMmkwiTKMabKl1Wxxp28KtdBRU7il8u9WKkLRD6h6ZlqbB57tRgUbZie4dN4eZLqaH7VojdmW1XHmGBH6IwPFxJr7yEX3APL1+GQ1mHa7euy0olgEWDMicIQrY1iHuK1XqldlnzSuJ5oFloQJSc+tB8uur+pZFUKM1WuqPqrJZ05G2wlz+tgaeIQESIIEPJSDzbfFxsWuoHnDxgzCJY/GwrLgG+3zpcPW5tvQUoekjBfCr16DX0pqSsxs/BM2uPmVQqmNXUB2ecj+SERKD/EYTnxkaZZPvEyZr9HZJ77bdsMXRFgiMRNVBQwCuleSgyVCQ55xrHZRtpO7i1tSyemLQl4baGvXaIZPk7mvEuJQRF7DtNP2q+cxAAo8jMBtnykizU/B9uSN0Mj8AYmYZ/MWr0e+a2PGDpb5ysfoKe3RHNvHZpKEAFVXjCULyRQmRGIx2k39znGkmJvzQ7ubfNQEs4G+MduZAvdeaUaYYD0iABEiABPD9qCXUTE90ygdS9QWQ6GarefI2eTopV8h2fxBC5+3gPmy8YIW2grVp0SrvGgUuUVxeyjDrIYxnDyrNipiaXSbZdgq+vm52htc0GlEyCqxVBOxMkw3p7ZLebTutrQ0aZVXj2nG/jcbg5cDU5poMetSWbhyJgd3Rts8ZHWZabVdfMlKcpXmtJu3uLxaDJhqxNc0sAmHxZpTxJpux1lsqh5R5kgQeR2A2zsROL4PKJaDPm0nQZSuHzRgwIyQsUk7GI9neNOoVXzSEYd/Lmedu7+QnP9cGDjitC5wIXTzcLvIDMCWPmZFhpnY14GGXhnQZMHY9cxUazHpSIRMkQAIkQAI9AnUWxYm6lwanWaozfjDNwzXWdPst4GX2PYCH2huhRdVGsZLfePb0s1vVSd7v10v+slH5zWuo3VTe80F29bzkSuG5hQk8ksvP913Vw/Yqr8o45QEt7OJuCaFLxcbAPr1d0lPdi4F2yWSEwsohIcHOZks5HWaar8Jr/nabLOV06k1240ZGOuF0/kar7e1L85bGPbDbiGpasOLqlYLzpa8uYzBPEP2mD9nyJAn8BIHpOBM2DLErS/p8wQfa80Rj5zvJmb434DP7iQkzSzr/3lF1axEcnA6klCRE6Dib5LeO3Dz8IHnCBEwZOo9ITpn32xC0folhsc05UakBE/G8ZuDojO8tMtlME6zl9CV5TAIkQAIkUAjIuyE4V7dpveeI4Ow6si2VF5du4ldHA96nVgoVivep15a/zicGlUgBu1gP1bM7bOqA7HmpMSeiaosbCh1lKxe2fGzNcOTMbCspZ3qUoCaTdNX26LlsU9L7bbenthy19eTiede9jLVy0G+ylAU0x5oxHf08uNSuiZ2WagWa2tmXRpZOdG9AYbvWzmF7IBBFwxQJPIzAhjgzTR239Na0zBSn8zm9kA1PBXk9SwG9IZc+5C53QF3mMnjSbdRSqj4om93qoJypZkpDGPZiS5vQe32LBDOhtPnlDARp39jPrEIzcrmjuQCU6XKTP+j5vypKb51OVWvA84AESIAESKASyPt74hTahG7x1BL6t3k/AovLDVPND3s+wSQP/s4uc6ECyLO6oTe+Adr8ErXxm33PYrIVe6sn9Xt0SKOkYWMVjAqSgRSp4QoPH/X1DCp1MVVVu825XXoqId7fKdWv7XqTZ6/aFt/YfK0VciZQwNi+uRtLzS4RCNrbavv6UqBAtdRcci20mJGyhI24M87Mtwt0HS7DIY391PKhLIeUhyTwcwS2xZk/pxclDQlsizPhIZbBTV+ps06gQw14kQRIgARIYEggvQ52OZ/hnmm6Nzu6NavVLWV11TgouX/BKvJk/h/tOkruejMY17gd/SYW4ku1KQbQVXIiBTelK0qRWG5Az96BBs2LmFJP/snEeu8btq0GjlJrgtQ0PfexieXGcaoplN4NURbZHVuUeRtn5pJLvxSYicNsxwSz01cd+01WJBVRU90Ya3bpjdxcaXe4py/1LFXU3YHTbcRvDVvcU9Ff/uzKcgh4SAI/R4Bx5s+xPk7SMj0Ft657MsCHxbfcVjP0auZ5EiABEiABEiABEiCB3yXAOPN3+VN6RIBxZkTlmc/B296bNh7lhmt4p3Z89Zl5UDcSIAESIAESIAESeHsCKZAs76uFL6zBhsGm9eHbc6OBv0iAceYvwl8XPX7hO96Z7Naav2/be/V+eLFbJS+QAAmQAAmQAAmQAAn8AAGIJP2XI+3vHnU+Gf0DKlIECRgCjDMNjic70Mf35T0KSXASebLGojokQAIkQAIkQAIk8DgCo2WhrA877+U+TivWTAJdAowzu2ie4UK4n7n9ywfPYAp1IAESIAESIAESIAES+AYBeAlTAktMbPhyxze0YFESmCTAOHMSFLORAAmQAAmQAAmQAAmQwO8SqN/MrR/yTZ9f3vnR4N81hNLfnwDjzPdvY1pIAiRAAiRAAiRAAiRAAiRAAj9JgHHmT9KmLBIgARIgARIgARIgARIgARJ4fwIaZ/7Hf/4X/5EACZAACZAACZAACZAACZAACZDANwkwzmR0TQIkQAIkQAIkQAIkQAIkQAIkcCQBjTPff++WFpIACZAACZAACZAACZAACZAACTyeAOPMxzOmBBIgARIgARIgARIgARIgARL4JAKMMz+ptWkrCZAACZAACZAACZAACZAACTyeAOPMxzOmBBIgARIgARIgARIgARIgARL4JAKMMz+ptWkrCZAACZAACZAACZAACZAACTyeAOPMxzOmBBIgARIgARIgARIgARIgARL4JAKMMz+ptWkrCZAACZAACZAACZAACZAACTyeAOPMxzOmBBIgARIgARIgARIgARIgARL4JAKMMz+ptWkrCZAACZAACZAACZAACZAACTyeAOPMxzOmBBIgARIggc8jcL/frpfz+Xz682f5dzqfz5fr7X7/PBi0+NsE7tfzqXak0+X27fpYwQoBAu8BIpkeGZ5vCDDObJDwBAmQAAmQAAl8h8D9eoHwUuIM6caYAAAgAElEQVRMSZzOlyuDTU/4fr9dzu8fQO018zUW93ut853hCY4fAvwt+DyEzBO0OFV4AIG9cebtIvfV/vw5nc6Heszcg0+/5m2ybT3xw4sPaCBWSQIkQAIk8EoE7reLxJODxKnnZV7J1qN0zTu/ebPurTfqvmfmsy/uv2fdUV3pwHoOBv5GfA4mc2CbsaqnI7Azzrxd9EGgw+NMqfxXbmuK9NDbja8+XfNSIRIgARIggZ8kMBdklvjz6Hu0P2nnkbLu17ME5KHnPVLY79X13ma+oXWHRlNvxedQMr83Iin5JwjsjDO/HrmfKbHcL8SZsESIpa9m+IlWowwSIAESIIEnJHC71DfoSuB0Pl/wbcyyoyExVbpLG3uaJzTtgSq91RK8z+m9zXxD6w6Npt6Kz6Fk+iOGV96BwN44s9heu9qxz83+XpyZ7FluM/d9v6h3rNXv0JtoAwmQAAl8MAFcSv7503MRd3EiKc7s5fokjMjtjQPv9zbzDa2rS9w8TvuLwrmh+lZ8DiUzx4+5XpUA40xoubpXueL4YYB9d+IB4UySAAmQAAm8MgGzmTmKH5MTOZ8vl+sNNzuN6cu3auvu6Cnl732oVuUuQvO2qXxDIRW1ciaWvFBnYMkiQDZm02d0rYhqTDJ1uXubI8j8gaTlTDLpok/MSm3B3d766V7Ms/fbvbWuyrZE+4VvVXvub61pVSsEjplhQ3sF1O3+9QVrD7sPDo1VPpax1gHQvPxdGm2F3M2+irClIdZC/wnrVOCWjq2lolSl//12/PoqwKq9tTd3gRd1ZhXYwmd+ZAVIUFCn0aCr+HE9a04S3CUzqH9QSmz5lvlSCxNPRWAyziwTEcxExafUrua7a+qFt9v1cnGfdF88ZYeAfRbXzcUy/nuhHU4Tae5eXFBHVnA6GbNIWfms0XzOQAxPkQAJkAAJvCGB6hCLH+m5qnXD00dXF2fU+sHA237B2u58TT+lAitvqcEUBFVtxFK1q3ddszO13/mDslJ5SUS3aMFdni5XeA8zR3f+DFYoC+XMow8kfU5p/tO9I7ZpC3q6rk1aYQCANvbizBZU+hUTIG9bbXsH0HbWdZ0olr9QddMVkbRELeX+TliXS2zu2E4OHh7Wjmm1Gt3sSJ05MajLQg9hgwLTfFSctEVJRCMLadR0t4fUDN1xvcGcVFdXEHRFM+NkBbql/NWd5lcr+fepCEzEmf3vs5/OywzluxN0ZdddymEYx+GjRGGpctIP9hzTDrzy7NfjYQCsrw+qgbOD/6nanMqQAAmQAAkcTQBXkzYM2CIJPFHPDzaV69quV6ScB8+bxEjm1uWhO4ZSZn0pxTHR+EQjCHOW54oRmru6+Prqbd1VPGyE9oCPlJEKjb29mjZqtW5mXrmLDi6xqAR9w/aBHR0gGTbQChWwsgIig3p0wQbKY+WYXhVUZR/Xjl/pJg3q0Etb3bYpcAifuU5uFJse16ZUj4AZF6lEGIFrVwwU7pbaMbHUvsC/T09gLc6EbtHrfMH9zvyZoFF+H5hmTul+ysqADz4EP6FhKM01jUwEdjZxueRQx5IZe3KdCRIgARIggU8iIE6k7NSlDajN/yV/Jq4zLdTqTt0dtlYan6v+qJTVTTnrH40rhEhJg4FFYa3QOkQ9b7f+zI6QkdKET6dow9Cgs6tjDAPMo7l2c6wxIUKPJgPbtKEFa4+ZqvZpNTCzLLSl6cs+p9+lhdYctItpGijiu01zaelruasZTWaI2Ki1KZGESZ3THTtqxK8UGoZV7WhH3JcrfKYg7FJg2PqmB+r4tXutdmRNwLFDKcfUUXC4wxzoPL2uuCXOPM78DhWe/kUC4zhT2z4HePc66+VnVHFengy2YDYflJAZ3I+RgJNqmG+OVp/89ZWf9IV5baUunQSnRjL4zmY+DbTkKRIgARIggfcmIJ7LL+jnzTYLvsZpgQP98wc9j/GDeCFJ7tappdyKsLsgxqoa7dB8uKi+NWHxyi1ouhLR1bZlU93ptcree6sB+PxGz/ns/bxRYLA6UX2j9Xq52tfKSAFGudwEqJQllKtNmSC7mrHV4JpRxps8oUwD11Q4p0PFafR3RRs5hVZ6M+vb7Wg2M32fgL4XdN3tHWmWT2N/Z2TFYGwwadp1pMBWcya6optVkrq9UthFv2t+DwvP/xqBUZwpnTLNWzXEVE2xx5jOrFmCVO1PMN35XDKomv7mc4qG1ulKNp0rgx4vuVJCp7mBYlhClGwmdczFNAmQAAmQwEcQEKewO87EGkKnii4PXJX6r8AVoqeGMsXtyb4QiFO/6WpD9QLvXJ27DXVMbVa+9oqOXcvKVJRM97s3xJRa/3oKlQcWnYLWqGmt+mY2lgZ8+8t0WMC4Jkv6xx3AmBBYjEB6zWbpDKzDnhPIWtkLtWLGR6h2KMkUNxAC5FjbHARzW8cqMMlnRY3gsjFpx7j25fEYCaA5caeya+kmcO90RRPtB/ahDsFlVJfpZyQwiDN1BPZaVoZN2526ttYeMxizMiX15NbKVcNubTAYcIzUGuSv+ulhNsmfxktxfowzFQpTJEACJPCpBMRzBbsfU0zUDQXRQqmhOlArQgsGd1TBCXpvhZfE84Unk/R0QUK+cQKWBKaUCHE8xJ/aGHWR2soafn3X1T08vKd9nLwxpqaB8t2yqLCot6oVlmoWLROgsGlM+R0dYFikG512gZQSisKs3lTWxo49Emeu7WxHVSwYOJsgTCjQb33T9MIwTMx0ThPOyZDDziMnDUQ4WDUHa/tuVzzafLCDyWcgMIgzlxHoPRNqXbta2PXlG8k4WvSpDzMNYaV6b6OfpeTXOQJF9NLDkaVVDbOpnjJljPhodqZIgARIgATemYA4BRsEhiYn39k88aluKF71dhe+w4LVTUda6QpPJKIV1huqlJ6TlfOwJFAR3RhjZTvL1CAiSiKHdvEPqoTc08llaaKBpa/Tmt2pZ49WyNYszrNaGMbHi58kc+W5WWlHVTsupa0ZFEmFMUOsjorIqb51WFUHbqykk2APD2jHNcXGWm1UYIaP64rtIYwsS8McJb1lgJSvRaP0uA02mdMlM0Qal9Iirb3uzJz5hgUPfp3Ag+JM7eWul8hhM8kqCrkrvDa3beid5dN2KsOntKp4BPr83M9siPAECZAACXwyAdhsHMRUiRCstyCnuqHO0t8UhFucw4IgC4os7dSsPtV3NzqoFPHjvQQI0grBUt9LUI1wbZA++lOXzq3Q8v0IX2l0HP6Chatwfi27VauhmROguk2pTdO02q4+k9BhnWtrsYy6bx1W1VlhdU2LWjEpF/wcy/Z2XFOsr9UOBWb4OBPaQxhZMZlyFmVl4tq7gh6yg2eXzBBpXEqLtPa6M5Pmj9Dw2o8TGMSZS78MO+WiZ3Wrdl7WTuPfpbjf79flQ2GhLynVTseZOnI6U9c8TtV5oBhWJ0qy3yMWpkmABEjgUwmoH0mbh323JO7D7jGa4vHSvvrcXsFAary2kyZSoUlhzOw1gJwD26TiJaFu+jtxZq017bm4x1zLSjQwvJaRv7j4zgDP50v6iFDaD0Ww/YaTqmxiVitUoFlpTIDC1jHlh00TlxoWsbdCJhc5fetUVrcPIH9jmiWdj1DQ99pRFYv7T4xOtxmk7810JFTbmrimRsBg9RTUuTKud5nTIWNvTzQDKS4Fqm6YWFYJMMOzEBjEmfr8avgZoHKXbBlm0J1kLME5tVau2mGmGfAlZu/mTK50oLV9u3eK45+rKQ2X1vZGQZ4gARIgARL4FALiR4p3CJ0ghjRplQx+DouHZcXl2YLDhVq8ttMWEaFpVxC2iUCvJbPk7EYLWquk1FcOSnXskkrihPutl5AYlDSa+MwY5/hrUMdEcqDV0EyjXgs/Se425Y4OYMQFFiMQ7KN9AgPrsOcEsmAtZzt2KGyoOaodSjJVDqvKi9EykHM0K20yLNVXYJKPiDGabj8Q5mvjepc5qVBdA5vuMeyKCAdKiaqDKWI7AJZ4FgKjONNMaukHffSbs+WHTXQEwniWHmOi0+bJb+hjnoWMRhvy3Zd7hqcT3Hkyfdp+ie5eC6TnK6CIF1eOVehAMy2qcsF0vcwUCZAACZDA5xFQ17CEmsZ1phhE/GbgmNw6TF1uBjnxuyaBp+uuCGvjgFDRzYS/NaN4yaT5rOczq9jeGtrU7DLJZuHZXUhqyXpj7dUY9yCo194o4C9W+/HvLq2MFG/NBKhuU2qvCxqmU8oo4002yoSdAWGUtKnQWQd9LNU227FbIQe3o9F5FsKI9qBCc8nyMZe8GiGEiZPAfDiud5nT6VS4n9kGjThasVM9xPwJQszyMwSGcaa9ySQ9tZco0wf2mF5OOR/7KujBktMldCRGY8llLodaJEQLQu0MEOWuQoM5PcrOcyRAAiRAAh9BoHqH0A25k41Xcuv787Uuyd0umXWdo5WiuV8c30U1QofuUgXlUFMDhvRKTP6y0aU8hqotbSrv+VZcNpxqPJnubFuYJ+WRdvfS65F1U6Vd1KoKS8opD2hhF3cqhN6rVdfMpOEEqJRl+yZSrxScL1YvfS13NeyoGBI0VPXEvHVp4TTVsbVySB3XjnaLeBrCTgWGfFydMyMLkMRJ06P649qJhpYZjAvoPLZ7GKElKMjapcHa71ROh0PMj6Hw7M8TWIkz8zA0U7l0lPxLVv5S8ZquP2mR8+VW38+Uk6HjwQEpOSVxvpQPaFVc0OMlj0ukH7hyt9Bq6fpXh4d14fW6/p3PqWWYIgESIAES+AQCdxuHOGckh+2+ToIz585uhqOu0oJbn1ChXRFqFc7hBpVI3jnTwK2ruxyFglG1xRHjHoigaxNxBC1q54Qzs62knOlRwsp2atU38xfizOmNhBkgCc7Iun0dG5Fr+sB2LAOu1xPwPELYqcCYT3QVFShpGFkKpJdyevbGtcvWCi1nkABOU+b87k71APN7WHj+hwmsx5lJIfvUq35JHBxYuhUEbjM/WKt3L9IH3MvtK9uZBhGdq+F0zq/s48O7BtWiIo6Qcyky/7POVbfeaFwEgtWbxrzRlwckQAIkQALvSiDv76E/cmnd0GkJ5H06l18Oo1um340zcdW4uqHndhFFsZJoPv06F2fa3bylqmW31++EOInpiVnd/2hp4hmjDNaT74EvW4WjeFgr26dVoEBdBZlL8dIiZTluPzPbEu4KpCXQrSdLETQpY4JtxJx3c8duJCwnAkFF3PZ2TDX2Aq1CYTHE3MnYp0BQqrZ+VsPuz2P/zAvs6W4u2JJA7dUoS7LkRKDYCk+o2cWZ5Y6CU36pLfeqkm5KfW2cWKwFPHpiAnNx5hMbcKhqOtjMlGJlyI3M/qC1BXhEAiRAAiTweQSW25/1o3EpIir3XFcerkmk6t1diSsGJb8dZ9oXHeMgxzRfuQ+st5LT3Wf/fflSQL3qWvyW1pmyLM711WcrFYdKzPGw3sE22o0O8tO2tUXyTfP6oGC90ZxqnkCQhNQGxlV1JdFTomfmBKju4v5bHQDv6Ye7CNM4EpFRI2YkWzp2j2FBrz918912rIpLO56X16q1URoI+zrSKp/5kTWAo5dkvbo6+opmNQiEkRWOi25XXER3ahvwLAUPNl9BMPV7BBhnWvYwomJHs5rB1scjEiABEiABEiABEnglAmuBxCvZQl1JgAR+jwDjTM9ebv+EdzTHV31dPCYBEiABEiABEiCBJyOQAsnyNlL4OhLcUuejW0/WdFSHBF6JAOPMtrXyM/LyzTt3fXjR5eUhCZAACZAACZAACTwdAYgk3a/CpEdC4b2+5qvIT2cKFSIBEnhaAowzn7ZpqBgJkAAJkAAJkAAJPIKACSbl1USXaN5LfIQmrJMESOBtCTDOfNumpWEkQAIkQAIkQAIkEBOAlzBdeCnfg1n7Qbi4Yp4lARIggUKAcSZ7AgmQAAmQAAmQAAl8IIH6zVx4ULb/9eAP5EOTSYAEvkWAcea38LEwCZAACZAACZAACZAACZAACZCAI8A40wHhIQmQAAmQAAmQAAmQAAmQAAmQwLcIaJz5H//5X/xHAiRAAiRAAiRAAiRAAiRAAiRAAt8kwDiT0TUJkAAJkAAJkAAJkAAJkAAJkMCRBDTO/Na2KAuTAAmQAAmQAAmQAAmQAAmQAAmQQCbAOJMdgQRIgARIgARIgARIgARIgARI4EgCjDOPpMm6SIAESIAESIAESIAESIAESIAEGGeyD5AACZAACZAACZAACZAACZAACRxJgHHmkTRZFwmQAAmQAAmQAAmQAAmQAAmQAONM9gESIAESIAESIAESIAESIAESIIEjCTDOPJIm6yIBEiABEiABEiABEiABEiABEmCcyT5AAiRAAiRAAiRAAiRAAiRAAiRwJAHGmUfSZF0kQAIkQAIkQAIkQAIkQAIkQAKMM9kHSIAESIAESIAESIAESIAESIAEjiTAOPNImqyLBEiABEiABEiABEiABEiABEiAcSb7AAmQAAmQAAmQAAmQAAmQAAmQwJEEGGceSZN1kQAJkAAJkAAJkAAJkAAJkAAJMM5kHyABEiABEiABEiABEiABEiABEjiSAOPMI2myLhIgARIgARIgARIgARIgARIgAcaZ7AMkQAIkQAIkQAIkQAIkQAIkQAJHEmCceSRN1kUCJEACJEACJEACJEACJEACJMA4k32ABEiABEiABEiABEiABEiABEjgSAKMM4+kybpIgARIgARIgARIgARIgARIgAQYZ7IPkAAJkAAJkAAJkAAJkAAJkAAJHEmAceaRNFkXCZAACZAACZAACZAACZAACZAA40z2ARIgARIgARIgARIgARIgARIggSMJMM48kibrIgESIAESIAESIAESIAESIAESYJzJPkACJEACJEACJEACJEACJEACJHAkAcaZR9JkXSRAAiRAAiRAAiRAAiRAAiRAAowz2QdIgARIgARIgARIgARIgARIgASOJMA480iarIsESIAESIAESIAESIAESIAESIBxJvsACZAACZAACRxP4H6/XS/n8/n058/y73Q+ny/X2/1+vDDW+PYE7tfzqXak0+X29vb+uoEEvrsJjkV3bG27jXq2gi+ChXHms3Uc6kMCJEACJPDiBO7XC4SXEmdK4nS+XBls+ka+32+X8/sHUHvNfI1l5V7rfGd4guOHAH8jPoMm2o8u4rO/toGKr3/pRbDsjTNvF7mv9ufP6XQ+1GNmdqef8Ta7Zd0uZcVwtPGP6/q5zXpYhxcfpxNrJgESIIE3I3Cv3kGiyjBx6s3Gb4Zjypy885s36956o+57Zj77svJ71k31k5/NdDDwt+MzaI096Pp89tQ2UO5dLr0Ilp1x5u2iDwIdHmdK5T9wW3O/rLqSeJU4UywNvfj46rsMStpBAiRAAg8mUF1DGFu6k6/iPh6M7Ot+PQuZ0EM9WoGfqf+9zXxD6w5dx78hn8Gw2Y7us/gM0M1f2g55vu4Dc+6MM78euZ8pMQ/jzMNaGpY+MdXVDIepwopIgARI4F0J3C71DboSOJ3PF3wbs9yxl5gq3aWNZ+R35RPb9SFLzPc28w2tO3Qd/4Z84tGcz25H91l8BujmL22HPF/3gTn3xplFhWrksc/NvkaceWAjPLyq1E5lZTNY0wj2Y1vz4cZRAAmQAAk8BwFcKv3505tK7zLZpjizl+s5LPoZLZDbwEn9jDKPk/LeZr6hdXWJm8fpd28IvSGfwVDZju6z+AzQzV/aDnm+7gNzMs5cArDvTiEHtsnhVdW9ypUFDXTZd6ZxOF5WSAIkQAKJgNnMHMWPabI9ny+X6w03Ow3E5Vu1dXf0lPL3PlSrchehedtUvqGQilo5E0s6qDOwZBEgG7PpM7pWRDUmmbrc5cwRZP5A0nImmXTRJ2altuCuaP10L+bZ++3eWldlW6L9wreqPfe31rSqFQLHzLChvQLqdv9KjxdXne0+ODRW+VjGWgdA8/J3V7QVcjf7KsKWhlgL/SesU4FbOraWilKVfmWyvx2/vgqwam/tzV3gRZ1ZBbbwmR9ZERI9N6tbLvG9/pM/qr0RnSpaupobFHK4dL1eQ9TFrdzUSx8S0wmn9uUsLZOVuSg3sdECD77VCtjcnaEDwP3suqXheljAEwXL/m4pIfAt86UWSUzGmWUigpmo+JSqrgeVOs7tdr1c3CfdF08p0m3CPosr/QwTgw8nFDCSuX4+3oqQo72ybpFTjL+CZEVcrrfreQFYlgtpbNb5cfDpwW12iYGaSI1UsATNpNmsX4lNMrl5QAIkQAIkoASqQyzz7f67dWmttEza4tEkEU3jsGo5X9GzSKm0BMdZHVS1EUu1BhZwpuDiKGL1rIxSFTig0+UK72HmqMCfMQpXgplHLLGEFpcUhE3+N2KbVqvTdW3SCpeeaGPSfzFzBVT6FZNuq23vAJVWuKTJC62brhyqirWQ/zthXS6yuWN7QXB8WDum1Wq0rkudOTGoyycPYYMC03xUnO8kfhACiSC5Qbdcenf/2YfOa7zOp9fzYZoqreW41Xmvo2f4tVGQ5WqL5jdvSzqGGmR4m3ygtm3YjQ3XFQQNagWsqwd17jTfmJoOJuLM/vfZTzVw8oYARKdoOUR/Jyrho0RhqXLSD/bUqKO2CUO4vbK08VDD75gj9QSfHtxul8DUBHSa6rX1ok/VhpsdTr48j0mABEjgQwngaileXsyAgRlbvINLNJXHjsmVklv+WYskRjK0rgFdpHFwa+o1vsMIEoklcb7eEZq7uvj66pXcVTxshPZAj5SRCo29vZo2arVuZl6cig4usagE8G0f2NEBkmEDrVABKysgMqhHF2ygPFaO6VVBVfZx7ZgfQkAdemmr2zYFDuHzyE6+s//gLNHjVm4njX/rdZ0PdB7TEBPDcKAY3OXBnqUTY1t2rhVM95ieXU2pVnQ5Y2anHpbd+5lQYajAnPkVZv27FmeuSS2q+DgzfyYo1HLJ3xRI+qRocdTAub829x8mNAyk7ZOVdWztMg1fyc6Y46oy9eyzS6TXhAxgMzjr1eavTjdGmSYfT5AACZAACSABmWxnllZYENJp3he/kJx63am7w9ZKqt9M0Dpvl7K6KWf9iCkFSzQNBhZVtELrOPS83foz2wVGShM+naINQ4POrstwLWsezbX3YRsTAKok0WRgm25Vw9pjpqp9Wg3MxOdUSyMGoKA1B+1imgaK+G7TXFr6Wu5q0gnnO/O8ddMdW1rOJo5rR9x6KnymIOxSYMjH9EAdv3av1Y4sy0SO9uhmpD9j/4G+ano+GJs7ap0wmz7854+Mp1SXdG9TG4RnBsI3W8FOaPh6hZEOtuAAGc1OPSxgiHMVqZtMlPqu+dIbc2IcZ2rny89R3OuzKflZTpyXjc+zEvAIZvNBCZnBfetgVUtaNUxcxCd/feUnfaEzderaIsuLl1ljxhbp5VIqjYricWv3Avf2XbuqrjqipmYoWBOAMrUy/iUBEiABEugQEG9SFqzVXXZyh6erL8hrpsZpgQPNDkWqMP7CT93dOrWUW4s4JyVivrCqRjs0Hy6qD4qNyrV3JaJL8oaVBVN6rbL33qpqLqn8Rs/57P2hUWDg0Zd61CizUixX08VYKyMFGOVyWmcXVMqyrGqsXG3KVNbVjK0G14wy3uQJZQRpTZgK53RYinY7dq26/XtMO6b1uIYcmyBsV2CWj0Nnd1ybiy2a5bW1LZ18T//Zjy5S2e2uQz/NuXs9H/q2nRITNWnZHB3AfAyXzGjB8w1otLe52JqkSGdn1/xsZn7XdXp26mHZF2ceab4BMoozZVSkloA2WipAC/34NDLMQbXEdyPIJM252paioe9hoGLpaq6lRdq8LCkiCZE+sF7q1zxCQE41Z6Tm3XZVJaGvr9LMZURhM/xqdfxLAiRAAiQQEpDJM631ZXoPs3ZOYg1hBegawIfqPB+4DPTUUKZ8tkiWYiAuFZDz6DdQPTy/WFMdmQ11TG1WvlLo2LXcexdl0v3uDTGl1r+eQuWBRaegNWpaq76ZjaUB39mNCF807gDGhMBiBNJrNktnYB32nEBWtkxb2RtgxYyPUO1QkiluIARisbY5CBjeuElgks+KGsFlY9LoAM0xcHZMIMejG/DpbsGhRa6BTLc31tra9BL20gAzygoue/BYm8qAG2fBXO3rqMcoGuqyhqBO2qCBKzJktBQqrGerCqZjB5clX5AYxJnajXp1SrdwwymQI6cqL9cl5Do6v57cmlk17NYGQLF1ag16N2tNlpTQhJgf1lzySctp/S0BObNUdIBdVUvtbQMla+b0V4xinIlYmCYBEiCBMQGZ7bv7UePycBO6uwSpzsKK0Hl+flWRdAH/qE48PFlzSzAwTmhtdl3Vc0Pid2yMukhtZQ2/vrtC2Vy+p22pa/pEpYbWoLzJiweosKi3qhWWahYt6vf99osIxqYx5Xd0gGER1zeMLNHGJ/rWqayNHduL6B7vbEdVLBg4myBMKNDnY5peulOYmOmcntK6bkMOca8bFtmErqrb52NnKuyNOB+6ySVWuwgLlT+6FVAB0S08WQn4v6sNh7UhFnAlQceOS6WzYZdrT27thIM4c2mJUbxR1Q2lytd5UUuZzQ0TS1e8tcZmNkM90r6CInppaehaPP2dloWFlrSMirDmkimovw4MJSBnlooOsKuqq1UNlKyZ018xatTuWIBpEiABEiABmDxtEBiiSb6zebZSp+tgcVCqqT7XihgWjItodcVjikRxAU20o1J6TlbOw5IgiZfzPZ+OQtUzLuRMDVJVSeTQLv5BlZB7OrksTVQrX+eUs9yj1byZMahuU2rTSDuq+XGpYZFUGDPE6qiInOpbh1V14MZKOgn28IB2XFNsrNVGBWb4uK7YHsLIsjTc0TbdhhxiCMMiLxlnqkUtdndmrhUSuFJQRiX2gXgkbGq4uGnc4G3kxKUON1975IPiTOXrmkcOG1+iOgWxmV7E1AYujctc6pmWhXKXtPSYphk1c1C/RJUydcuZpaID7GrzbvwAAAxKSURBVKoaaFUDJWvm9FeMYpyJWJgmARIggRUCdSYvbk4m+KAUeHrY4dHpWtYlviwUhCl6WDAuslQsE351keq7Gx1UivjxXgJ00wrB0sAsqSpcG6SP/tRFm+SURPl+hK80Og5/wULqKYm5RWSqfatWSLsxcwJUtym1aZpW6+0FDYsk4zDDqC8L5r51WFVnJdI1Tao3iYPacU2xvlY7FJjh47piewgjywDBg+26DTnEEIZF3j7ObEYv8pc0tnju9wnlMslEs8zmhoubxg3eZsTFpbRB217nzsx0QoEw/l2ThUgwbUkF1a1aYqquf5fifr9fl3dzB80UxGYi0SS0zRqQJt/gYFpWUIf0oYH0oH6BJlO3nFkqOsCuqq62xQB4zZz+isJbexJWwjQJkAAJfB4BnW/TfmPfMcg029uW7IZk1Vn0CgZS41WFNI7qnBTGzOKhlryQc2Db/2/v3LIjN4EAmu9ZlPfj5WQ3Xksm2UsOIOolii7JPcf26ftjIwnqcUFAgVoSwUdCh7PUKbO+2fyKeq3EttofHnPdzNtsSbuKKkXe3ttLhNp+qAWbV1wQOA+rVsmcYeVmAZStHYdpWzXrUtsiT44TVFfaBix/59pkbP5bjP1GeLtbj2rY4sbJIdwzwJbyLj4yw/j+MGm1lOFsDfj69pOtlbQJq4RAsU9amz34Lf1dnnzIe5/ByHzQu+oez4XeKfXR6I1cMpjbInsvH13d7GeakGP1GqBh7EHE9MvSys05tUKu+ttMM9hQZzfc9BIq7YzSiUwPZLx/qOssQrQvPR35F/LnjaEE5MwUJJLXfd/ZlPyMGFAj1JrtuU5z8VyBAAQgAIGDgPS3oxedPbrnMzv8o6c1Y48tviwrQ4MPVLZThHQuEm1uu4Lmg/XGrpgzjRa8o/1Ix5RNqcSvhTh7KnzrZUnM5HeWxMymUmpjpRHskxurtm46887wm5K0Km80AKcu0ujzsNE+e6yyNsf77SbKOr3pme427KBhHG4tv1aPW1EphG2p3IBN7Vs+JdZLMO3kPdu+e/tJW35OOy3SKK39fV4taPWIzEe9662Ka4XmjN3dcmsHD7MsNFNKTN101OrYldQuznT11D7oo++cHR820W7I9FJiq3tJ7emZY+NdtFfuRt/d/z7WDH/9MtGXo+nfRPd7Fngbizp/q/mq8YouLTVSUtZ4H/MIDe07Zh0rATmjgj7rl9ghRu5XiWd+1au2zGv8hwAEIACBLQHtQo9Q0w2dLQaRcXMxMM2x4JjchzEr/fyDKjWD4zQznYvMDEap2LYcL2Q0aeZVRwg3f9JxcCof/53kkEk2C08fz7ar0vO5Xy/XHe0oOQMqrt2yymkJbvoIIV4UTDemlUkDcMZEl12tLRuDQ9sPnMDggGljTVq1YZ+VpEGCENI2HJ1aSHM2x/wZhJsNyenyfNylaMbC7PzUPdt2pVwgoNPWdjpHnaHLDe8hsgr0fDIbnrqfufdoZ/nummn56p3BOMvuqiBFndzaNpA+B40SlRyjzLQg1TIz3P6/jTN9xQujLDG6D2trllPOr8cqw05yhoTeiataDJnHoRaxtC7ocnfOUsU4eTj18S4rDcf50b16g1uP688cdvqTG3Vrv8RH42C4cyWLJqbS+iRCy5KCAAQgAIHZi246bbl06r3dKNP64TklD7tkfujczVHSKZrWlFM6bDsZNnKroh5qasDQfhLT32z0Ph5DTYRnY5CdNvya8WRb2fYwDY+2ddN+HjnjrvN0Sk04UsF4g9bs4pZC6LtWpW42C10trEGZ0dzHfuraYuzOSpnzw+ujrfWmJk00TEZPVPVE3btyw1bhJqXOOrP7r2Wd2UkjNqIG9WNHyEnbQbhpwJZPkFm5s5wf8yDIKTZyLfVN249pq67lmzvRd4muZl2RRirzV8/3xnC7FmZttP/NdNsskxWxoLpWcRkWr3SEZt2m1mVaYzyZYMNT3G9qH8SZHZLrysXE/iWreGnc18ETLfL2/jF/nyknl/2pvSElpyTe3v3epGEteUKifeAqLKHNllDVVdAylI4b1a4ZiDGNj7kxRr/2+3xm2FbQuPHL+Dc31h90u03f4cKDnFM2/yEAAQhAwBMIXbr0/yFx3tdpYmrd/ofTqPODC9NEIyEMggshktmPVsEjOTTDug4ru1BwJXZMHJcjqSiSxGKHQGyeieCmlA0JP/eahf3/m1blbob5qAFoFJu24Y282QCeCKRZufPuXsM2vpvkc82+Ie1Gkcd8VvRCy9zdQZPPLdu+ffvJWr6B9ow4c92Gb9TCrI32P9RI1ruGbGel44y78TMsJ6UlacktfC677p2szz79OM7snPpzshKEtPex96dojZMtZDLD5igg9rUXuI+1MtMsjijLGyRHQcKvt/5Tb/vwrmQ1JorGtmYwihQ+61zT1by18rP00dz9Uqvy8QTaioE/40O844Fjq6vu10Foys/a95HN1ObVZuSqggMIQAACL06g7+/ZfjukdafyDKrv04X8crhaMr05TVTNpvPfj8tt2nQa2sS2Psy12YFK9ivr+ciyGF7nxDGuwVt1Ix1UGu0hudAiEv5+1/E9t1ME3rNqYYC4aScYawNMNbnpZro/061NS7Wry12BNlX4yH76JQTOiY13w5LWdM7VN6sg2wsoKZpCPi7WYxOeTfEHhSHZA194WjBgUWrWfjfj2p11xjLOLLQ8su1+B3IdXWb2scY2TJW/B5/m09wFsUtKc3K76LWyIk3/zt+L/dvGnXnJWLKwc+YaKzHiuE30HTq9cbRzMJJ9+1zDHDLzVt1Meb77lf1MhUDqpxJojXG0MHuHBm9kgdZ2fCEPhxCAAAQgUCRwLBPO7nesfvr3CKSSjrI6uxqrtTaEk7K7aZPdID3NRURCm3nJzEbnMXo9pMbarD6C1b5jGd8vP4ro6PNoN6bNcHQ22eSZgHWiFCP7jE1XsIN9+WF/2nbWSP/85nxEzc5ZCwiaijtWZW4WQKXTyk81ALvOrt8jTXXlaDuRXSX2olca9kbXU+vxmF9re7Z7KcfcKU6e7hmQ1b54Wr+zpMg5cdW2T7Wf8XkfuTEL6M4Gy5mET9Ya7T3rt2i2/d7W32bLU2pBnKr3rhcrLsMyNQ+aswFLb9mKzZPLnu7J7tf2M6fR/P+pBMzduGxWdk91neGneo7dEIAABCAAAQhcIfBoCntFFnkhAIHXJUCc+Sp1L8vVcVWuA9hffRVG+AkBCEAAAhB4AQItkBy/Rlr+HMmsTfOI0ws0B1yEwJ8iQJz5p8h+P7n92X95l1+wb3sx5OUQAhCAAAQgAIEfTMBEkuEdmO3pvfnAdrj0g/3FdAhA4CsIEGd+BXV0QgACEIAABCAAgS8j4IJJ+X1dSGx+0/tlhqMYAhD4OQSIM39OXWEpBCAAAQhAAAIQeAoB8yPMEF7O14SEl6s8RStCIACBFyJAnPlClY2rEIAABCAAAQhAYBKY78w1D8rmbw+ehfgPAQhAoEaAOLPGiVwQgAAEIAABCEAAAhCAAAQgUCNAnFnjRC4IQAACEIAABCAAAQhAAAIQqBEgzqxxIhcEIAABCEAAAhCAAAQgAAEI1AgQZ9Y4kQsCEIAABCAAAQhAAAIQgAAEagSIM2ucyAUBCEAAAhCAAAQgAAEIQAACNQLEmTVO5IIABCAAAQhAAAIQgAAEIACBGgHizBonckEAAhCAAAQgAAEIQAACEIBAjQBxZo0TuSAAAQhAAAIQgAAEIAABCECgRoA4s8aJXBCAAAQgAAEIQAACEIAABCBQI0CcWeNELghAAAIQgAAEIAABCEAAAhCoESDOrHEiFwQgAAEIQAACEIAABCAAAQjUCBBn1jiRCwIQgAAEIAABCEAAAhCAAARqBIgza5zIBQEIQAACEIAABCAAAQhAAAI1AsSZNU7kggAEIAABCEAAAhCAAAQgAIEaAeLMGidyQQACEIAABCAAAQhAAAIQgECNAHFmjRO5IAABCEAAAhCAAAQgAAEIQKBGgDizxolcEIAABCAAAQhAAAIQgAAEIFAjQJxZ40QuCEAAAhCAAAQgAAEIQAACEKgRIM6scSIXBCAAAQhAAAIQgAAEIAABCNQIEGfWOJELAhCAAAQgAAEIQAACEIAABGoENM4cKf5CAAIQgAAEIAABCEAAAhCAAAQ+T+Cvf/797/NSkAABCEAAAhCAAAQgAAEIQAACEBgE/gcmA6TvoKCoMgAAAABJRU5ErkJggg==)"
      ],
      "metadata": {
        "id": "JZW37DrcB2DN"
      }
    },
    {
      "cell_type": "markdown",
      "source": [
        "You can use the apoc.meta.nodeTypeProperties() function to show the data types used in the graph:"
      ],
      "metadata": {
        "id": "pUdrLM1LCeTP"
      }
    },
    {
      "cell_type": "code",
      "source": [
        "CALL apoc.meta.nodeTypeProperties()\n",
        "YIELD nodeType, propertyName, propertyTypes"
      ],
      "metadata": {
        "id": "hgGrYHLlCny6"
      },
      "execution_count": null,
      "outputs": []
    },
    {
      "cell_type": "markdown",
      "source": [
        "![image.png](data:image/png;base64,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)"
      ],
      "metadata": {
        "id": "sI8ESn_TC9Gr"
      }
    },
    {
      "cell_type": "markdown",
      "source": [
        "Neo4j will return the data type **Long** for integer values.\n",
        "\n",
        "##**Person node dates**\n",
        "The Person nodes born and died properties are both dates, **not strings.**\n",
        "\n",
        "You used this Cypher statement to create the Person nodes:"
      ],
      "metadata": {
        "id": "DSXnLdSPC9yH"
      }
    },
    {
      "cell_type": "code",
      "source": [
        "LOAD CSV WITH HEADERS FROM 'https://data.neo4j.com/importing-cypher/persons.csv' AS row\n",
        "MERGE (p:Person {tmdbId: toInteger(row.person_tmdbId)})\n",
        "SET\n",
        "p.imdbId = toInteger(row.person_imdbId),\n",
        "p.bornIn = row.bornIn,\n",
        "p.name = row.name,\n",
        "p.bio = row.bio,\n",
        "p.poster = row.poster,\n",
        "p.url = row.url,\n",
        "p.born = row.born,\n",
        "p.died = row.died"
      ],
      "metadata": {
        "id": "rGfoNCq5DPba"
      },
      "execution_count": null,
      "outputs": []
    },
    {
      "cell_type": "code",
      "source": [
        "#Corrected person nodes.\n",
        "\n",
        "LOAD CSV WITH HEADERS FROM 'https://data.neo4j.com/importing-cypher/persons.csv' AS row\n",
        "MERGE (p:Person {tmdbId: toInteger(row.person_tmdbId)})\n",
        "SET\n",
        "p.imdbId = toInteger(row.person_imdbId),\n",
        "p.bornIn = row.bornIn,\n",
        "p.name = row.name,\n",
        "p.bio = row.bio,\n",
        "p.poster = row.poster,\n",
        "p.url = row.url,\n",
        "p.born = date(row.born),\n",
        "p.died = date(row.died)"
      ],
      "metadata": {
        "id": "fF1V1ELuDaBV"
      },
      "execution_count": null,
      "outputs": []
    },
    {
      "cell_type": "markdown",
      "source": [
        "##**Using MERGE not CREATE?**\n",
        "\n",
        "As **MERGE** was used in this Cypher statement, you can **run it multiple times without creating duplicate nodes.** It will **update** the existing nodes with the new date values. If you used **CREATE** instead, you would **create new nodes each time** you ran the statement.\n",
        "\n",
        "Use the **apoc.meta.nodeTypeProperties function** again to check that the born and died properties are now Date values:"
      ],
      "metadata": {
        "id": "hFmU7ADaDiGs"
      }
    },
    {
      "cell_type": "code",
      "source": [
        "CALL apoc.meta.nodeTypeProperties()\n",
        "YIELD nodeType, propertyName, propertyTypes"
      ],
      "metadata": {
        "id": "tXldpq8uD6Mz"
      },
      "execution_count": null,
      "outputs": []
    },
    {
      "cell_type": "markdown",
      "source": [
        "###Advantages of using **Date**\n",
        "\n",
        "The **Date data type** allows you to extract the **year, month, and day** from the **date.** For example,"
      ],
      "metadata": {
        "id": "W9X5NJVVD_Ti"
      }
    },
    {
      "cell_type": "code",
      "source": [
        "MATCH (p:Person)\n",
        "RETURN p.born.year as YearOfBirth"
      ],
      "metadata": {
        "id": "dMCGuKJpGAFu"
      },
      "execution_count": null,
      "outputs": []
    },
    {
      "cell_type": "markdown",
      "source": [
        "##**Adding Properties**\n",
        "\n",
        "you will **update the import to add new properties to the Movie nodes** and cast them to the correct type."
      ],
      "metadata": {
        "id": "qDo23oNDGLT8"
      }
    },
    {
      "cell_type": "code",
      "source": [
        "LOAD CSV WITH HEADERS\n",
        "FROM 'https://data.neo4j.com/importing-cypher/movies.csv'\n",
        "AS row\n",
        "MERGE (m:Movie {movieId: toInteger(row.movieId)})\n",
        "SET\n",
        "m.tmdbId = toInteger(row.tmdbId),\n",
        "m.imdbId = toInteger(row.imdbId),\n",
        "m.released = row.released,\n",
        "m.title = row.title,\n",
        "m.year = row.year,\n",
        "m.plot = row.plot,\n",
        "m.budget = row.budget"
      ],
      "metadata": {
        "id": "cMbMep1DWJho"
      },
      "execution_count": null,
      "outputs": []
    },
    {
      "cell_type": "markdown",
      "source": [
        "The year and budget properties are **not cast** and therefore **stored as strings.**\n",
        "\n",
        "Update and run the existing import to cast the year and budget properties to integers using the **toInteger() function.**"
      ],
      "metadata": {
        "id": "HzegUr3VW6Uf"
      }
    },
    {
      "cell_type": "code",
      "source": [
        "LOAD CSV WITH HEADERS\n",
        "FROM 'https://data.neo4j.com/importing-cypher/movies.csv'\n",
        "AS row\n",
        "MERGE (m:Movie {movieId: toInteger(row.movieId)})\n",
        "SET\n",
        "m.tmdbId = toInteger(row.tmdbId),\n",
        "m.imdbId = toInteger(row.imdbId),\n",
        "m.released = row.released,\n",
        "m.title = row.title,\n",
        "m.year = toInteger(row.year),\n",
        "m.plot = row.plot,\n",
        "m.budget = toInteger(row.budget)"
      ],
      "metadata": {
        "id": "Ka1GRttSXKCs"
      },
      "execution_count": null,
      "outputs": []
    },
    {
      "cell_type": "markdown",
      "source": [
        "###The movies.csv file also contains the following additional properties:\n",
        "\n",
        "  imdbRating\n",
        "\n",
        "  poster\n",
        "\n",
        "  runtime\n",
        "\n",
        "  imdbVotes\n",
        "\n",
        "  revenue\n",
        "\n",
        "  url\n",
        "\n",
        "Review the data in the file and identify the data type and cast function for each property."
      ],
      "metadata": {
        "id": "tH45gvbwXdIZ"
      }
    },
    {
      "cell_type": "markdown",
      "source": [
        "![image.png](data:image/png;base64,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)"
      ],
      "metadata": {
        "id": "VHYDxhtEYMds"
      }
    },
    {
      "cell_type": "markdown",
      "source": [
        "Finally, update the import to add these properties to the Movie nodes and cast them to the correct type."
      ],
      "metadata": {
        "id": "HpAbOEJDYNaS"
      }
    },
    {
      "cell_type": "markdown",
      "source": [
        "##**Lists**\n",
        "\n",
        "1. Multi-value properties and lists\n",
        "\n",
        "2. How to transform a string value into a list\n",
        "\n",
        "3. The split function\n",
        "\n",
        "\n",
        "##What is a Multi-value property?\n",
        "A multi-value property is a property that can **hold one or more values.** Neo4j represents this type of **data as a list (or \"StringArray\").**\n",
        "\n",
        "All values in a list must have the same data type. For example:\n",
        "\n",
        "**[\"Apple\", \"Banana, \"Orange\"]**\n",
        "\n",
        "**[100, 55, 4]**\n",
        "\n",
        "The movies.csv data file contains multi-value properties, including:\n",
        "\n",
        "1. countries - the countries which produced the movie\n",
        "\n",
        "2. languages - the languages spoken in the movie"
      ],
      "metadata": {
        "id": "4Pbd5HiiY8GP"
      }
    },
    {
      "cell_type": "markdown",
      "source": [
        "Find the countries and languages data in the movies.csv file. You will see that each property contains a list of values separated by a | character. For example:"
      ],
      "metadata": {
        "id": "YlQOMFzSd-2p"
      }
    },
    {
      "cell_type": "code",
      "source": [
        "USA|France|Italy|Germany\n",
        "English|Mandarin|Russian"
      ],
      "metadata": {
        "id": "oVpPqiTilvcm"
      },
      "execution_count": null,
      "outputs": []
    },
    {
      "cell_type": "markdown",
      "source": [
        "##**Split the data into a list**\n",
        "The split function will **transform a string value into a list.** The split function takes two arguments:\n",
        "\n",
        "1. The string to split\n",
        "\n",
        "2. The character to split on\n",
        "\n",
        "This updated Movie import creates a list of countries by using the split function:"
      ],
      "metadata": {
        "id": "YO7cy4bCl04h"
      }
    },
    {
      "cell_type": "code",
      "source": [
        "LOAD CSV WITH HEADERS\n",
        "FROM 'https://data.neo4j.com/importing-cypher/movies.csv'\n",
        "AS row\n",
        "MERGE (m:Movie {movieId: toInteger(row.movieId)})\n",
        "SET\n",
        "m.tmdbId = toInteger(row.tmdbId),\n",
        "m.imdbId = toInteger(row.imdbId),\n",
        "m.released = date(row.released),\n",
        "m.title = row.title,\n",
        "m.year = toInteger(row.year),\n",
        "m.plot = row.plot,\n",
        "m.budget = toInteger(row.budget),\n",
        "m.imdbRating = toFloat(row.imdbRating),\n",
        "m.poster = row.poster,\n",
        "m.runtime = toInteger(row.runtime),\n",
        "m.imdbVotes = toInteger(row.imdbVotes),\n",
        "m.revenue = toInteger(row.revenue),\n",
        "m.url = row.url,\n",
        "m.countries = split(row.countries, '|')"
      ],
      "metadata": {
        "id": "SbG-k49wmBHe"
      },
      "execution_count": null,
      "outputs": []
    },
    {
      "cell_type": "markdown",
      "source": [
        "The statement sets the countries property as a list by **splitting the data from the CSV file by the | character.**\n",
        "\n",
        "Run the query and inspect the countries property data by writing a **MATCH query to return the data.**\n",
        "\n",
        "You can query data in a list using the **IN operator.** For example, finding all the movies where \"French\" is a listed language."
      ],
      "metadata": {
        "id": "QJ8lI2EFmJOu"
      }
    },
    {
      "cell_type": "code",
      "source": [
        "MATCH (m:Movie)\n",
        "WHERE \"France\" IN m.countries\n",
        "RETURN m"
      ],
      "metadata": {
        "id": "BqffKDLTmbiQ"
      },
      "execution_count": null,
      "outputs": []
    },
    {
      "cell_type": "markdown",
      "source": [
        "##Example\n",
        "\n",
        "###List types?\n",
        "True or False - values in **a list can be of different data types.**\n",
        "\n",
        "###False\n",
        "\n",
        "###Hint\n",
        "\n",
        "This list would **not be valid.**\n",
        "\n",
        "**[100, \"Banana\", 4.1]**"
      ],
      "metadata": {
        "id": "9xw6WiHUmzfb"
      }
    },
    {
      "cell_type": "markdown",
      "source": [
        "##**Add the languages property**\n",
        "\n",
        "Your challenge is to modify this Cypher query to **add the languages property.**\n",
        "\n"
      ],
      "metadata": {
        "id": "yMCsEI7MnIsf"
      }
    },
    {
      "cell_type": "code",
      "source": [
        "LOAD CSV WITH HEADERS\n",
        "FROM 'https://data.neo4j.com/importing-cypher/movies.csv' AS row\n",
        "MERGE (m:Movie {movieId: toInteger(row.movieId)})\n",
        "SET\n",
        "m.tmdbId = toInteger(row.tmdbId),\n",
        "m.imdbId = toInteger(row.imdbId),\n",
        "m.released = date(row.released),\n",
        "m.title = row.title,\n",
        "m.year = toInteger(row.year),\n",
        "m.plot = row.plot,\n",
        "m.budget = toInteger(row.budget),\n",
        "m.imdbRating = toFloat(row.imdbRating),\n",
        "m.poster = row.poster,\n",
        "m.runtime = toInteger(row.runtime),\n",
        "m.imdbVotes = toInteger(row.imdbVotes),\n",
        "m.revenue = toInteger(row.revenue),\n",
        "m.url = row.url,\n",
        "m.countries = split(row.countries, '|'),\n",
        "m.languages = split(row.languages, '|')"
      ],
      "metadata": {
        "id": "7M8kGZevnT6E"
      },
      "execution_count": null,
      "outputs": []
    },
    {
      "cell_type": "markdown",
      "source": [
        "The languages property should be the **list of languages** in the CSV file. As with **countries each language is separated by the (|) character.**"
      ],
      "metadata": {
        "id": "ihiwP8u2o39B"
      }
    },
    {
      "cell_type": "markdown",
      "source": [
        "##**LABELS**\n",
        "\n",
        "you will learn how to **add additional labels to existing nodes.**\n",
        "\n",
        "##Add Labels to Existing Nodes\n",
        "Adding labels to existing nodes can make your graph more useful and performant.\n",
        "\n",
        "The Person nodes in the graph represent both actors and directors. To determine if a person is an actor or director, you need to query the ACTED_IN or DIRECTED relationships. Alternatively, you could add labels to the existing nodes to distinguish between actors and directors.\n",
        "\n",
        "You can add labels to a node using SET, the syntax is:"
      ],
      "metadata": {
        "id": "WfFNbWTPpn3r"
      }
    },
    {
      "cell_type": "code",
      "source": [
        "MATCH (n)\n",
        "SET n:Label"
      ],
      "metadata": {
        "id": "Ci8mP9FSqH3D"
      },
      "execution_count": null,
      "outputs": []
    },
    {
      "cell_type": "markdown",
      "source": [
        "The following query would **add the Actor label to all Person nodes** that have acted in a movie:"
      ],
      "metadata": {
        "id": "X3baPeEHqPWq"
      }
    },
    {
      "cell_type": "code",
      "source": [
        "MATCH (p:Person)-[:ACTED_IN]->()\n",
        "SET p:Actor"
      ],
      "metadata": {
        "id": "CE2jelezqVi-"
      },
      "execution_count": null,
      "outputs": []
    },
    {
      "cell_type": "markdown",
      "source": [
        "The query:\n",
        "\n",
        "1. Finds **all the Person nodes with an ACTED_IN relationship to a node**\n",
        "\n",
        "2. Sets the **Actor label to those nodes**\n",
        "\n",
        "As there are people in the database who have acted in more than one movie, you can use **WITH DISTINCT** to ensure that each person is **only labeled once.** Although not essential, this will improve the performance of the statement."
      ],
      "metadata": {
        "id": "jRxVum7yqtci"
      }
    },
    {
      "cell_type": "code",
      "source": [
        "MATCH (p:Person)-[:ACTED_IN]->()\n",
        "WITH DISTINCT p SET p:Actor"
      ],
      "metadata": {
        "id": "Y8Gz47L0q-h1"
      },
      "execution_count": null,
      "outputs": []
    },
    {
      "cell_type": "code",
      "source": [
        "#Add Actor label\n",
        "\n",
        "MATCH (p:Person)-[:ACTED_IN]->()\n",
        "WITH DISTINCT p SET p:Actor"
      ],
      "metadata": {
        "id": "B-HNiitArJik"
      },
      "execution_count": null,
      "outputs": []
    },
    {
      "cell_type": "code",
      "source": [
        "#You can confirm it was successful by using the Actor label to find actors in the graph:\n",
        "\n",
        "MATCH (a:Actor) RETURN a LIMIT 25"
      ],
      "metadata": {
        "id": "sE86jUl5rPN1"
      },
      "execution_count": null,
      "outputs": []
    },
    {
      "cell_type": "markdown",
      "source": [
        "##Filtering by labels is faster\n",
        "\n",
        "By adding the **Actor label** to the graph, queries that use the **label rather than the relationship will be quicker to return.**\n",
        "\n",
        "##note:   A node can have one or more labels."
      ],
      "metadata": {
        "id": "37P4TTgwraiv"
      }
    },
    {
      "cell_type": "markdown",
      "source": [
        "##Add Director label\n",
        "Your challenge is to create a Cypher statement that **adds the Director label to all Person nodes with a DIRECTED relationship to a Movie node.**"
      ],
      "metadata": {
        "id": "EUcL684nsEN9"
      }
    },
    {
      "cell_type": "code",
      "source": [
        "MATCH (p:Person)-[:ACTED_IN]->()\n",
        "WITH DISTINCT p SET p:Actor"
      ],
      "metadata": {
        "id": "c0RHL2oasJLe"
      },
      "execution_count": null,
      "outputs": []
    },
    {
      "cell_type": "markdown",
      "source": [
        "#**TEST**"
      ],
      "metadata": {
        "id": "szVDmTuXsabN"
      }
    },
    {
      "cell_type": "code",
      "source": [
        "id,title,author,publication_year,genre,rating,still_in_print,last_purchased\n",
        "19515,The Heights,Anne Conrad,2012,Comedy,5,true,2023/4/12 8:17:00\n",
        "39913,Starship Ghost,Michael Tyler,1985,Science Fiction|Horror,4.2,false,2022/01/16 17:15:56\n",
        "60980,The Death Proxy,Tim Brown,2002,Horror,2.1,true,2023/11/26 8:34:26\n",
        "18793,Chocolate Timeline,Mary R. Robb,1924,Romance,3.5,false,2022/9/17 14:23:45\n",
        "67162,Stories of Three,Eleanor Link,2022,Romance|Comedy,2,true,2023/03/12 16:01:23\n",
        "25987,Route Down Below,Tim Brown,2006,Horror,4.1,true,2023/09/24 15:34:18"
      ],
      "metadata": {
        "id": "kFmu1McfsZbA"
      },
      "execution_count": null,
      "outputs": []
    },
    {
      "cell_type": "markdown",
      "source": [
        "1. What cast function?\n",
        "What function would you use to cast the id field?\n",
        "\n",
        "toInteger()\n",
        "\n",
        "2. What data type?\n",
        "What data type would you use for the last_purchased field?\n",
        "\n",
        "DateTime\n",
        "\n",
        "3. Setting additional labels\n",
        "Complete the following Cypher statement to set an InPrint label to all nodes that have a still_in_print property value of true.\n",
        "\n"
      ],
      "metadata": {
        "id": "7E5-OqoYAOOz"
      }
    },
    {
      "cell_type": "code",
      "source": [
        "MATCH (n)\n",
        "WHERE n.still_in_print = true\n",
        "SET n:InPrint"
      ],
      "metadata": {
        "id": "p8T8G7wxA5EE"
      },
      "execution_count": null,
      "outputs": []
    },
    {
      "cell_type": "markdown",
      "source": [
        "4. Multi-value property?\n",
        "Which field in the data should be split into a multi-value property?\n",
        "\n",
        "genre"
      ],
      "metadata": {
        "id": "U9vUx6DpBOAr"
      }
    },
    {
      "cell_type": "markdown",
      "source": [
        "#**Building an Import Process**\n",
        "\n",
        "you have created queries which complete the following tasks:\n",
        "\n",
        "1. Create Person and Movie constraints\n",
        "\n",
        "2. Import data from persons.csv and create Person nodes\n",
        "\n",
        "3. Import data from movies.csv and create Movie nodes\n",
        "\n",
        "4. Create ACTED_IN and DIRECTED relationships between Person and Movie nodes\n",
        "\n",
        "5. Create additional ACTOR and DIRECTOR labels on Person nodes"
      ],
      "metadata": {
        "id": "HU7iN6G2NqLG"
      }
    },
    {
      "cell_type": "code",
      "source": [
        "CREATE CONSTRAINT Person_tmdbId IF NOT EXISTS\n",
        "FOR (x:Person)\n",
        "REQUIRE x.tmdbId IS UNIQUE;\n",
        "\n",
        "CREATE CONSTRAINT Movie_movieId IF NOT EXISTS\n",
        "FOR (x:Movie)\n",
        "REQUIRE x.movieId IS UNIQUE;\n",
        "\n",
        "LOAD CSV WITH HEADERS\n",
        "FROM 'https://data.neo4j.com/importing-cypher/persons.csv' AS row\n",
        "MERGE (p:Person {tmdbId: toInteger(row.person_tmdbId)})\n",
        "SET\n",
        "p.imdbId = toInteger(row.person_imdbId),\n",
        "p.bornIn = row.bornIn,\n",
        "p.name = row.name,\n",
        "p.bio = row.bio,\n",
        "p.poster = row.poster,\n",
        "p.url = row.url,\n",
        "p.born = date(row.born),\n",
        "p.died = date(row.died);\n",
        "\n",
        "LOAD CSV WITH HEADERS\n",
        "FROM 'https://data.neo4j.com/importing-cypher/movies.csv' AS row\n",
        "MERGE (m:Movie {movieId: toInteger(row.movieId)})\n",
        "SET\n",
        "m.tmdbId = toInteger(row.tmdbId),\n",
        "m.imdbId = toInteger(row.imdbId),\n",
        "m.released = date(row.released),\n",
        "m.title = row.title,\n",
        "m.year = toInteger(row.year),\n",
        "m.plot = row.plot,\n",
        "m.budget = toInteger(row.budget),\n",
        "m.imdbRating = toFloat(row.imdbRating),\n",
        "m.poster = row.poster,\n",
        "m.runtime = toInteger(row.runtime),\n",
        "m.imdbVotes = toInteger(row.imdbVotes),\n",
        "m.revenue = toInteger(row.revenue),\n",
        "m.url = row.url,\n",
        "m.countries = split(row.countries, '|'),\n",
        "m.languages = split(row.languages, '|');\n",
        "\n",
        "LOAD CSV WITH HEADERS\n",
        "FROM 'https://data.neo4j.com/importing-cypher/acted_in.csv' AS row\n",
        "MATCH (p:Person {tmdbId: toInteger(row.person_tmdbId)})\n",
        "MATCH (m:Movie {movieId: toInteger(row.movieId)})\n",
        "MERGE (p)-[r:ACTED_IN]->(m)\n",
        "SET r.role = row.role;\n",
        "\n",
        "LOAD CSV WITH HEADERS\n",
        "FROM 'https://data.neo4j.com/importing-cypher/directed.csv' AS row\n",
        "MATCH (p:Person {tmdbId: toInteger(row.person_tmdbId)})\n",
        "MATCH (m:Movie {movieId: toInteger(row.movieId)})\n",
        "MERGE (p)-[r:DIRECTED]->(m);\n",
        "\n",
        "MATCH (p:Person)-[:ACTED_IN]->()\n",
        "WITH DISTINCT p SET p:Actor;\n",
        "\n",
        "MATCH (p:Person)-[:DIRECTED]->()\n",
        "WITH DISTINCT p SET p:Director;"
      ],
      "metadata": {
        "id": "eHCOrF62HQDy"
      },
      "execution_count": null,
      "outputs": []
    },
    {
      "cell_type": "markdown",
      "source": [
        "##**Multiple Queries**\n",
        "To run multiple queries together, you must put **a semi-colon (;) at the end of each query.**"
      ],
      "metadata": {
        "id": "K6DR-IlLO3iI"
      }
    },
    {
      "cell_type": "code",
      "source": [
        "MATCH (p:Person) RETURN p;\n",
        "MATCH (m:Movie) RETURN m;"
      ],
      "metadata": {
        "id": "1s3z8WuiO-FW"
      },
      "execution_count": null,
      "outputs": []
    },
    {
      "cell_type": "markdown",
      "source": [
        "##**Resetting the data**\n",
        "Before you can re-run the import process, you **must delete any existing data and drop any constraints.**\n",
        "\n",
        "The nodes and relationships within the graph hold all of the data. You will need to **delete the relationships before deleting the nodes.**\n",
        "\n",
        "The following Cypher will **delete the ACTED_IN and DIRECTED relationships:**"
      ],
      "metadata": {
        "id": "anb3d0qKPMqN"
      }
    },
    {
      "cell_type": "code",
      "source": [
        "MATCH (Person)-[r:ACTED_IN]->(Movie) DELETE r;\n",
        "MATCH (Person)-[r:DIRECTED]->(Movie) DELETE r;"
      ],
      "metadata": {
        "id": "F1OUCLbmPceA"
      },
      "execution_count": null,
      "outputs": []
    },
    {
      "cell_type": "markdown",
      "source": [
        "Once the relationships are deleted, you can delete the Person and Movie nodes:"
      ],
      "metadata": {
        "id": "alcJ3uuZPgEz"
      }
    },
    {
      "cell_type": "code",
      "source": [
        "MATCH (p:Person) DELETE p;\n",
        "MATCH (m:Movie) DELETE m;"
      ],
      "metadata": {
        "id": "dKBK8I15Pg4i"
      },
      "execution_count": null,
      "outputs": []
    },
    {
      "cell_type": "markdown",
      "source": [
        "Alternatively, you can use DETACH DELETE to delete the nodes and relationships at the same time:"
      ],
      "metadata": {
        "id": "EAkyr7hLPmPn"
      }
    },
    {
      "cell_type": "code",
      "source": [
        "MATCH (p:Person) DETACH DELETE p;\n",
        "MATCH (m:Movie) DETACH DELETE m;"
      ],
      "metadata": {
        "id": "ueGBM5HOPmyj"
      },
      "execution_count": null,
      "outputs": []
    },
    {
      "cell_type": "markdown",
      "source": [
        "You could also drop the constraints on the Person and Movie nodes if they exist:"
      ],
      "metadata": {
        "id": "10_zUKa7PpMg"
      }
    },
    {
      "cell_type": "code",
      "source": [
        "DROP CONSTRAINT Person_tmdbId IF EXISTS;\n",
        "DROP CONSTRAINT Movie_movieId IF EXISTS;"
      ],
      "metadata": {
        "id": "Q0KG-vNAPrpE"
      },
      "execution_count": null,
      "outputs": []
    },
    {
      "cell_type": "markdown",
      "source": [
        "These queries reset the database and allow you to re-run the import process."
      ],
      "metadata": {
        "id": "X20QolegPxPt"
      }
    },
    {
      "cell_type": "markdown",
      "source": [
        "#**Importing the data**"
      ],
      "metadata": {
        "id": "u9wFwzpLPx3P"
      }
    },
    {
      "cell_type": "code",
      "source": [
        "MATCH (p:Person) DETACH DELETE p;\n",
        "MATCH (m:Movie) DETACH DELETE m;\n",
        "\n",
        "DROP CONSTRAINT Person_tmdbId IF EXISTS;\n",
        "DROP CONSTRAINT Movie_movieId IF EXISTS;\n",
        "\n",
        "CREATE CONSTRAINT Person_tmdbId IF NOT EXISTS\n",
        "FOR (x:Person)\n",
        "REQUIRE x.tmdbId IS UNIQUE;\n",
        "\n",
        "CREATE CONSTRAINT Movie_movieId IF NOT EXISTS\n",
        "FOR (x:Movie)\n",
        "REQUIRE x.movieId IS UNIQUE;\n",
        "\n",
        "LOAD CSV WITH HEADERS\n",
        "FROM 'https://data.neo4j.com/importing-cypher/persons.csv' AS row\n",
        "MERGE (p:Person {tmdbId: toInteger(row.person_tmdbId)})\n",
        "SET\n",
        "p.imdbId = toInteger(row.person_imdbId),\n",
        "p.bornIn = row.bornIn,\n",
        "p.name = row.name,\n",
        "p.bio = row.bio,\n",
        "p.poster = row.poster,\n",
        "p.url = row.url,\n",
        "p.born = date(row.born),\n",
        "p.died = date(row.died);\n",
        "\n",
        "LOAD CSV WITH HEADERS\n",
        "FROM 'https://data.neo4j.com/importing-cypher/movies.csv' AS row\n",
        "MERGE (m:Movie {movieId: toInteger(row.movieId)})\n",
        "SET\n",
        "m.tmdbId = toInteger(row.tmdbId),\n",
        "m.imdbId = toInteger(row.imdbId),\n",
        "m.released = date(row.released),\n",
        "m.title = row.title,\n",
        "m.year = toInteger(row.year),\n",
        "m.plot = row.plot,\n",
        "m.budget = toInteger(row.budget),\n",
        "m.imdbRating = toFloat(row.imdbRating),\n",
        "m.poster = row.poster,\n",
        "m.runtime = toInteger(row.runtime),\n",
        "m.imdbVotes = toInteger(row.imdbVotes),\n",
        "m.revenue = toInteger(row.revenue),\n",
        "m.url = row.url,\n",
        "m.countries = split(row.countries, '|'),\n",
        "m.languages = split(row.languages, '|');\n",
        "\n",
        "LOAD CSV WITH HEADERS\n",
        "FROM 'https://data.neo4j.com/importing-cypher/acted_in.csv' AS row\n",
        "MATCH (p:Person {tmdbId: toInteger(row.person_tmdbId)})\n",
        "MATCH (m:Movie {movieId: toInteger(row.movieId)})\n",
        "MERGE (p)-[r:ACTED_IN]->(m)\n",
        "SET r.role = row.role;\n",
        "\n",
        "LOAD CSV WITH HEADERS\n",
        "FROM 'https://data.neo4j.com/importing-cypher/directed.csv' AS row\n",
        "MATCH (p:Person {tmdbId: toInteger(row.person_tmdbId)})\n",
        "MATCH (m:Movie {movieId: toInteger(row.movieId)})\n",
        "MERGE (p)-[r:DIRECTED]->(m);\n",
        "\n",
        "MATCH (p:Person)-[:ACTED_IN]->()\n",
        "WITH DISTINCT p SET p:Actor;\n",
        "\n",
        "MATCH (p:Person)-[:DIRECTED]->()\n",
        "WITH DISTINCT p SET p:Director;"
      ],
      "metadata": {
        "id": "ndnKU2_vP67Y"
      },
      "execution_count": null,
      "outputs": []
    },
    {
      "cell_type": "markdown",
      "source": [
        "#**Transactions**\n",
        "The Cypher queries you have written will **run within a single transaction.** As a result, the **data is rolled back if a failure occurs; and the graph is unchanged.**\n",
        "\n",
        "Importing significant volumes of data in a single transaction can result in **large write operations** - this can **cause performance issues and potential failure.**\n",
        "\n",
        "You can **split a query into multiple transactions** using the **CALL** clause with **IN TRANSACTIONS.**"
      ],
      "metadata": {
        "id": "vHn_klp1QzK6"
      }
    },
    {
      "cell_type": "code",
      "source": [
        "CALL {\n",
        "  // query\n",
        "} IN TRANSACTIONS [OF X ROWS]"
      ],
      "metadata": {
        "id": "bZl_dDxPSeBh"
      },
      "execution_count": null,
      "outputs": []
    },
    {
      "cell_type": "markdown",
      "source": [
        "The following query would create the Person nodes in individual transactions."
      ],
      "metadata": {
        "id": "CKZogYEITP3e"
      }
    },
    {
      "cell_type": "code",
      "source": [
        "CALL {\n",
        "    LOAD CSV WITH HEADERS\n",
        "    FROM 'https://data.neo4j.com/importing-cypher/persons.csv'\n",
        "    AS row\n",
        "    MERGE (p:Person {tmdbId: toInteger(row.person_tmdbId)})\n",
        "    SET\n",
        "    p.imdbId = toInteger(row.person_imdbId),\n",
        "    p.bornIn = row.bornIn,\n",
        "    p.name = row.name,\n",
        "    p.bio = row.bio,\n",
        "    p.poster = row.poster,\n",
        "    p.url = row.url,\n",
        "    p.born = date(row.born),\n",
        "    p.died = date(row.died);\n",
        "} IN TRANSACTIONS"
      ],
      "metadata": {
        "id": "bri9KqRuTVpu"
      },
      "execution_count": null,
      "outputs": []
    },
    {
      "cell_type": "markdown",
      "source": [
        "You can batch the transactions by **specifying the number of rows to process in each transaction.**\n",
        "\n",
        "For example, modifying the query above **to process 100 rows in each transaction:**"
      ],
      "metadata": {
        "id": "CU4O4wvyUmlD"
      }
    },
    {
      "cell_type": "code",
      "source": [
        "CALL {\n",
        "    LOAD CSV WITH HEADERS\n",
        "    FROM 'https://data.neo4j.com/importing-cypher/persons.csv'\n",
        "    AS row\n",
        "    MERGE (p:Person {tmdbId: toInteger(row.person_tmdbId)})\n",
        "    SET\n",
        "    p.imdbId = toInteger(row.person_imdbId),\n",
        "    p.bornIn = row.bornIn,\n",
        "    p.name = row.name,\n",
        "    p.bio = row.bio,\n",
        "    p.poster = row.poster,\n",
        "    p.url = row.url,\n",
        "    p.born = date(row.born),\n",
        "    p.died = date(row.died);\n",
        "} IN TRANSACTIONS OF 100 ROWS"
      ],
      "metadata": {
        "id": "iTDE2aGOUuHB"
      },
      "execution_count": null,
      "outputs": []
    },
    {
      "cell_type": "markdown",
      "source": [
        "#**Multiple passes**\n",
        "In the examples you have been exploring, a single file represents a single entity in the graph - persons.csv contained Person nodes and movies.csv contained Movie nodes.\n",
        "\n",
        "In this lesson, you will explore **a single file that stores multiple nodes and relationships and the challenges of importing it into the graph.**"
      ],
      "metadata": {
        "id": "y_Ey4jg8XRdW"
      }
    },
    {
      "cell_type": "code",
      "source": [
        "id,title,author,publication_year,genre,rating,still_in_print,last_purchased\n",
        "19515,The Heights,Anne Conrad,2012,Comedy,5,true,2023/4/12 8:17:00\n",
        "39913,Starship Ghost,Michael Tyler,1985,Science Fiction|Horror,4.2,false,2022/01/16 17:15:56\n",
        "60980,The Death Proxy,Tim Brown,2002,Horror,2.1,true,2023/11/26 8:34:26\n",
        "18793,Chocolate Timeline,Mary R. Robb,1924,Romance,3.5,false,2022/9/17 14:23:45\n",
        "67162,Stories of Three,Eleanor Link,2022,Romance|Comedy,2,true,2023/03/12 16:01:23\n",
        "25987,Route Down Below,Tim Brown,2006,Horror,4.1,true,2023/09/24 15:34:18"
      ],
      "metadata": {
        "id": "ET-qDz6ZYdna"
      },
      "execution_count": null,
      "outputs": []
    },
    {
      "cell_type": "markdown",
      "source": [
        "The data could be modeled in a graph as follows:\n",
        "\n",
        "![image.png](data:image/png;base64,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)"
      ],
      "metadata": {
        "id": "wP0KijaNcQHG"
      }
    },
    {
      "cell_type": "markdown",
      "source": [
        "The data is relatively simple, and a single Cypher query could import it into the graph:"
      ],
      "metadata": {
        "id": "oDZCERbocTLQ"
      }
    },
    {
      "cell_type": "code",
      "source": [
        "LOAD CSV WITH HEADERS\n",
        "FROM 'https://data.neo4j.com/importing-cypher/books.csv'\n",
        "AS row\n",
        "MERGE (b:Book {id: row.id})\n",
        "SET b.title = row.title\n",
        "MERGE (a:Author {name: row.author})\n",
        "MERGE (a)-[:WROTE]->(b)"
      ],
      "metadata": {
        "id": "0rmjn0arcXMq"
      },
      "execution_count": null,
      "outputs": []
    },
    {
      "cell_type": "markdown",
      "source": [
        "Review the query and identify where it creates the Book and Author nodes and WROTE relationship.\n",
        "\n",
        "However, if this was a more complicated data set with significantly more rows, you may experience issues with the import as it creates related data in a single pass.\n",
        "\n",
        "Queries with multiple operations chained together have the potential to write data and then read data that is out of sync - which can result in an **Eager operator.**\n",
        "\n",
        "The Eager operator will cause any operations to execute in their entirety before continuing, ensuring isolation between the different parts of the query. **When importing data the Eager operator can cause high memory usage and performance issues.**\n",
        "\n",
        "A mechanism for **avoiding the Eager operator** is to **break the import into smaller parts.** By taking multiple passes over the data file, the query also becomes simpler to understand and change to fit the data model.\n",
        "\n",
        "###In this example, the import could be broken into three parts:\n",
        "\n",
        "1. Create Book nodes\n",
        "\n",
        "2. Create Author nodes\n",
        "\n",
        "3. Create WROTE relationships\n",
        "\n",
        "\n"
      ],
      "metadata": {
        "id": "38-lDMV_cxhY"
      }
    },
    {
      "cell_type": "code",
      "source": [
        "// Create `Book` nodes\n",
        "LOAD CSV WITH HEADERS\n",
        "FROM 'https://data.neo4j.com/importing-cypher/books.csv'\n",
        "AS row\n",
        "MERGE (b:Book {id: row.id})\n",
        "SET b.title = row.title;\n",
        "\n",
        "// Create `Author` nodes\n",
        "LOAD CSV WITH HEADERS\n",
        "FROM 'https://data.neo4j.com/importing-cypher/books.csv'\n",
        "AS row\n",
        "MERGE (a:Author {name: row.author});\n",
        "\n",
        "// Create `WROTE` relationships\n",
        "LOAD CSV WITH HEADERS\n",
        "FROM 'https://data.neo4j.com/importing-cypher/books.csv'\n",
        "AS row\n",
        "MATCH (a:Author{name: row.author})\n",
        "MATCH (b:Book{id: row.id})\n",
        "MERGE (a)-[:WROTE]->(b);"
      ],
      "metadata": {
        "id": "D6-NyE68dOVx"
      },
      "execution_count": null,
      "outputs": []
    },
    {
      "cell_type": "markdown",
      "source": [
        "###The Eager operator\n",
        "Which of the following is a mechanism for avoiding the Eager operation when importing data?\n",
        "\n",
        "** Break the import into smaller parts**"
      ],
      "metadata": {
        "id": "DwvN9W4HdXGC"
      }
    },
    {
      "cell_type": "markdown",
      "source": [
        "##**Other Import Options**\n",
        "LOAD CSV is a convenient tool for importing data into Neo4j; there are however some considerations:\n",
        "\n",
        "1. You may need to write Cypher statements to transform the data into the desired format. Depending on the data complexity, this can be time-consuming.\n",
        "\n",
        "2. LOAD CSV may not be suitable for large data sets. The definition of large data sets depends on multiple factors, including the data structure, the use case, and the environment. A guideline of over 10 million rows is a good indicator for considering other import options.\n",
        "\n",
        "3. You may need to import data from multiple sources, and LOAD CSV may not be the best option for all of them.\n",
        "\n",
        "Complex business rules may require integration to other systems or data sources."
      ],
      "metadata": {
        "id": "vPA5DVOTdyap"
      }
    },
    {
      "cell_type": "markdown",
      "source": [
        "##**Neo4j Data Importer**\n",
        "The **Neo4j Data Importer is a UI-based data importing tool.** The data importer is ideal to get started quickly with **testing and prototyping.** However, there are limited options for data transformation, and it is **unsuitable for large data sets.**"
      ],
      "metadata": {
        "id": "LiLm2gIGd_HY"
      }
    },
    {
      "cell_type": "markdown",
      "source": [
        "##**neo4j-admin**\n",
        "The neo4j-admin import command line interface supports **importing large data sets.** neo4j-admin import **converts CSV files into the internal binary format** of Neo4j and can **import millions of rows within minutes.**\n",
        "\n",
        "You need to **structure the import files in a specific way, and the database needs to be offline when the import is run.**"
      ],
      "metadata": {
        "id": "vLgEIcMTeRkC"
      }
    },
    {
      "cell_type": "markdown",
      "source": [
        "##**ETL (Extract, Transform, Load) Tool**\n",
        "An ETL tool, for example Apache Hop, is a good choice for **importing data from multiple sources.** ETL tools generally support various data sources, can **transform data into the desired format, and have visualization tools.**"
      ],
      "metadata": {
        "id": "Zzrzfl6sejYw"
      }
    },
    {
      "cell_type": "code",
      "source": [],
      "metadata": {
        "id": "n47tLfhQe8ti"
      },
      "execution_count": null,
      "outputs": []
    }
  ]
}