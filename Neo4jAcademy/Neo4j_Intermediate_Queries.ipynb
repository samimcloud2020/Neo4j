{
  "nbformat": 4,
  "nbformat_minor": 0,
  "metadata": {
    "colab": {
      "provenance": []
    },
    "kernelspec": {
      "name": "python3",
      "display_name": "Python 3"
    },
    "language_info": {
      "name": "python"
    }
  },
  "cells": [
    {
      "cell_type": "code",
      "execution_count": null,
      "metadata": {
        "id": "PI_R5iGcqfT3"
      },
      "outputs": [],
      "source": [
        "CALL db.schema.visualization()\n",
        "\n",
        "CALL db.schema.nodeTypeProperties()\n",
        "\n",
        "CALL db.schema.relTypeProperties()\n",
        "\n",
        "SHOW CONSTRAINTS"
      ]
    },
    {
      "cell_type": "markdown",
      "source": [
        "##Find all :Person nodes with the name, Tom Hanks.\n",
        "\n",
        "We then traverse the :ACTED_IN relationships to all :Movie nodes and filter for movies with a year property equal to 2013.\n",
        "\n",
        "Return the movie titles."
      ],
      "metadata": {
        "id": "cITYSVMqn4IQ"
      }
    },
    {
      "cell_type": "code",
      "source": [
        "MATCH (p:Person)-[:ACTED_IN]->(m:Movie)\n",
        "WHERE p.name = 'Tom Hanks'\n",
        "AND m.year = 2013\n",
        "RETURN m.title"
      ],
      "metadata": {
        "id": "eGB1M-Dvn7lP"
      },
      "execution_count": null,
      "outputs": []
    },
    {
      "cell_type": "markdown",
      "source": [
        "##Testing Inequality\n",
        "This query returns the names of all actors that acted in the movie Captain Phillips where Tom Hanks is excluded."
      ],
      "metadata": {
        "id": "OKfeADdTn-S5"
      }
    },
    {
      "cell_type": "code",
      "source": [
        "MATCH (p:Person)-[:ACTED_IN]->(m:Movie)\n",
        "WHERE p.name <> 'Tom Hanks'\n",
        "AND m.title = 'Captain Phillips'\n",
        "RETURN p.name"
      ],
      "metadata": {
        "id": "2RneLTOYoIlZ"
      },
      "execution_count": null,
      "outputs": []
    },
    {
      "cell_type": "markdown",
      "source": [
        "##Testing less than or greater than\n",
        "You can test both numbers and strings for values less than (<) or greater than (>) a value. Adding the equals sign will include the specified number within the predicate."
      ],
      "metadata": {
        "id": "bqQHQPRAoJ2T"
      }
    },
    {
      "cell_type": "code",
      "source": [
        "MATCH (m:Movie) WHERE m.title = 'Toy Story'\n",
        "RETURN\n",
        "    m.year < 1995 AS lessThan, //  Less than (false)\n",
        "    m.year <= 1995 AS lessThanOrEqual, // Less than or equal(true)\n",
        "    m.year > 1995 AS moreThan, // More than (false)\n",
        "    m.year >= 1995 AS moreThanOrEqual // More than or equal (true)"
      ],
      "metadata": {
        "id": "19pAb1K0oqvy"
      },
      "execution_count": null,
      "outputs": []
    },
    {
      "cell_type": "markdown",
      "source": [
        "##Testing Ranges\n",
        "To test for property values within a range, you can use a combination of less than and greater than.\n",
        "\n",
        "This query returns the four movies that Tom Hanks acted in between 2005 and 2010, inclusive."
      ],
      "metadata": {
        "id": "fzlampQAo0F7"
      }
    },
    {
      "cell_type": "code",
      "source": [
        "MATCH (p:Person)-[:ACTED_IN]->(m:Movie)\n",
        "WHERE p.name = 'Tom Hanks'\n",
        "AND  2005 <= m.year <= 2010\n",
        "RETURN m.title, m.released"
      ],
      "metadata": {
        "id": "j64pHSK6o8So"
      },
      "execution_count": null,
      "outputs": []
    },
    {
      "cell_type": "markdown",
      "source": [
        "We can also use **OR** to expand the filtering to return more data as follows:"
      ],
      "metadata": {
        "id": "oUAOg8ERpAE-"
      }
    },
    {
      "cell_type": "code",
      "source": [
        "MATCH (p:Person)-[:ACTED_IN]->(m:Movie)\n",
        "WHERE p.name = 'Tom Hanks'\n",
        "OR m.title = 'Captain Phillips'\n",
        "RETURN p.name, m.title"
      ],
      "metadata": {
        "id": "AiBjUJkApu6J"
      },
      "execution_count": null,
      "outputs": []
    },
    {
      "cell_type": "markdown",
      "source": [
        "##Testing null property values\n",
        "A property for a node or relationship is null if it does not exist. You can test the existence of a property for a node using the IS NOT NULL predicate."
      ],
      "metadata": {
        "id": "yXuiML8xpx_4"
      }
    },
    {
      "cell_type": "code",
      "source": [
        "MATCH (p:Person)\n",
        "WHERE p.died IS NOT NULL\n",
        "AND p.born.year >= 1985\n",
        "RETURN p.name, p.born, p.died"
      ],
      "metadata": {
        "id": "-Ftcy406p_ld"
      },
      "execution_count": null,
      "outputs": []
    },
    {
      "cell_type": "markdown",
      "source": [
        "And we can test if a property exists using the **IS NULL** predicate:"
      ],
      "metadata": {
        "id": "z-sc7Gp_qB-Z"
      }
    },
    {
      "cell_type": "code",
      "source": [
        "MATCH (p:Person)\n",
        "WHERE p.died IS NULL\n",
        "AND p.born.year <= 1922\n",
        "RETURN p.name, p.born, p.died"
      ],
      "metadata": {
        "id": "xrDDLiFCqPzd"
      },
      "execution_count": null,
      "outputs": []
    },
    {
      "cell_type": "markdown",
      "source": [
        "##Testing labels or patterns?\n",
        "Depending on your data model, it may be useful to test that a node has a label. This is particularly **useful when a node may have multiple labels.**\n",
        "\n",
        "You can test for **a label’s existence** on a node using the **{alias}:{label}** syntax."
      ],
      "metadata": {
        "id": "_Xyr8xtAqSqo"
      }
    },
    {
      "cell_type": "code",
      "source": [
        "MATCH (p:Person)\n",
        "WHERE  p.born.year > 1960\n",
        "AND p:Actor\n",
        "AND p:Director\n",
        "RETURN p.name, p.born, labels(p)\n",
        "\n",
        "#This query will retrieve all Person nodes with the label Actor and Director that were born after 1960. The labels() function returns the list of labels for a node."
      ],
      "metadata": {
        "id": "SXiPYIFqqjye"
      },
      "execution_count": null,
      "outputs": []
    },
    {
      "cell_type": "markdown",
      "source": [
        "Here is a variation of the previous query. Rather than using the Actor or Director labels, it uses the relationship types :ACTED_IN and :DIRECTED to imply that the node at the other end of the relationship has the correct label:\n",
        "\n",
        "\n",
        "This query retrieves all people born after 1960 (assigned to the alias p), who also acted in a movie and directed the same movie. This query is more specific in that the same person both directed and acted in the movie. In the previous query, we were only looking at labels and not relationships to movies."
      ],
      "metadata": {
        "id": "VdQr-Ftsy6zN"
      }
    },
    {
      "cell_type": "code",
      "source": [
        "MATCH (p:Person)-[:ACTED_IN]->(m:Movie)<-[:DIRECTED]-(p)\n",
        "WHERE  p.born.year > 1960\n",
        "RETURN p.name, p.born, labels(p), m.title"
      ],
      "metadata": {
        "id": "NkbGsUkkzDce"
      },
      "execution_count": null,
      "outputs": []
    },
    {
      "cell_type": "markdown",
      "source": [
        "##Discovering relationship types\n",
        "A query with a pattern need not specify the relationship type in the query:\n",
        "\n",
        "This query retrieves all Movie nodes that are related to Tom Hanks. Each row returned is a movie title and the type of relationship that Tom Hanks has to that movie. We use the type() function to return the type of the relationship, r. Notice that for this query, Tom Hanks has both an ACTED_IN and DIRECTED relationship to the movie, Larry Crowne."
      ],
      "metadata": {
        "id": "9-CMNVLW0KRK"
      }
    },
    {
      "cell_type": "code",
      "source": [
        "MATCH (p:Person)-[r]->(m:Movie)\n",
        "WHERE  p.name = 'Tom Hanks'\n",
        "RETURN m.title AS movie, type(r) AS relationshipType"
      ],
      "metadata": {
        "id": "0g0TiAGt0Q6h"
      },
      "execution_count": null,
      "outputs": []
    },
    {
      "cell_type": "markdown",
      "source": [
        "##Testing list inclusion\n",
        "You can test if a value is in a list property:\n",
        "\n",
        "This query returns the titles, languages, countries of all movies that have Israel in their list of countries."
      ],
      "metadata": {
        "id": "FiENABEP0Xfx"
      }
    },
    {
      "cell_type": "code",
      "source": [
        "MATCH (m:Movie)\n",
        "WHERE \"Israel\" IN m.countries\n",
        "RETURN m.title, m.languages, m.countries"
      ],
      "metadata": {
        "id": "7PZYzwMv0d8F"
      },
      "execution_count": null,
      "outputs": []
    },
    {
      "cell_type": "markdown",
      "source": [
        "##**Horror Movie Directors**\n",
        "Write and execute a query to return the names of directors of horror\n",
        "movies released in the year 2000. Use the year property of the Movie\n",
        " node to do the comparison as well as the name of \"Horror\" for the Genre node."
      ],
      "metadata": {
        "id": "mVfAHJs-e6dF"
      }
    },
    {
      "cell_type": "code",
      "source": [
        "\n",
        "MATCH (p:Director)-[:DIRECTED]->(m:Movie)\n",
        "MATCH (m:Movie)-[:IN_GENRE]->(g:Genre)\n",
        "WHERE m.year = 2000 AND g.name=\"Horror\"\n",
        "RETURN COUNT(p.name)"
      ],
      "metadata": {
        "id": "ek6-uN8pe2dk"
      },
      "execution_count": null,
      "outputs": []
    },
    {
      "cell_type": "markdown",
      "source": [
        "##History of all commands"
      ],
      "metadata": {
        "id": "jDc0J7sw6N9X"
      }
    },
    {
      "cell_type": "code",
      "source": [
        ":history"
      ],
      "metadata": {
        "id": "r3RaOmSS6Ron"
      },
      "execution_count": null,
      "outputs": []
    },
    {
      "cell_type": "markdown",
      "source": [
        "###Write and execute a query to return all Movie nodes in the graph that do not have a tmdbId property.\n",
        "\n",
        "How many Movie nodes are returned?"
      ],
      "metadata": {
        "id": "HIrN7X4B6SoN"
      }
    },
    {
      "cell_type": "code",
      "source": [
        "MATCH (m:Movie)\n",
        "WHERE\n",
        "m.tmdbId IS NULL\n",
        "RETURN COUNT(m)"
      ],
      "metadata": {
        "id": "yN8dwNsH8chl"
      },
      "execution_count": null,
      "outputs": []
    },
    {
      "cell_type": "markdown",
      "source": [
        "##How many movies have no poster?\n",
        "Write and execute a query to return the titles of all movies that do not have a poster."
      ],
      "metadata": {
        "id": "PEDXZHRO9RNk"
      }
    },
    {
      "cell_type": "code",
      "source": [
        "MATCH (m:Movie)\n",
        "WHERE\n",
        "m.poster IS NULL\n",
        "RETURN COUNT(m.title)"
      ],
      "metadata": {
        "id": "vO7MfyzC9Sha"
      },
      "execution_count": null,
      "outputs": []
    },
    {
      "cell_type": "markdown",
      "source": [
        "##Find People Born in the Fifties\n",
        "Using the sandbox on the right, write and execute a query to return people born in the 1950’s (1950 - 1959) that are both Actors and Directors.\n",
        "\n",
        "How many Person nodes are returned?"
      ],
      "metadata": {
        "id": "DvKilUoO9YlQ"
      }
    },
    {
      "cell_type": "code",
      "source": [
        "MATCH (p:Person)\n",
        "WHERE 1950 <= p.born.year <= 1959\n",
        "AND p:Actor\n",
        "AND p:Director\n",
        "RETURN COUNT(p.name)"
      ],
      "metadata": {
        "id": "xwqhHvDAP2dL"
      },
      "execution_count": null,
      "outputs": []
    },
    {
      "cell_type": "markdown",
      "source": [
        "##Finding German Language Movies\n",
        "Write and execute a query to return movies released in the \"German\" language.\n",
        "\n",
        "Note: You only need to search for \"German\"; there are elements in the database that have \" German\" as a language. You do not need to count these.\n",
        "\n",
        "How many Movie node names are returned?\n",
        "\n",
        "In our data model, every :Movie node has a languages property which contains an array of strings. For example ['English', 'German', 'Italian']."
      ],
      "metadata": {
        "id": "ZgBxZyqZamHI"
      }
    },
    {
      "cell_type": "code",
      "source": [
        "MATCH (m:Movie)\n",
        "WHERE \"German\" IN m.languages\n",
        "RETURN COUNT(m.title)"
      ],
      "metadata": {
        "id": "CpvDs6aHaoPk"
      },
      "execution_count": null,
      "outputs": []
    },
    {
      "cell_type": "markdown",
      "source": [
        "###When the property is a string type, you can filter by the starting characters in the string:"
      ],
      "metadata": {
        "id": "R_mIwUqPbOZx"
      }
    },
    {
      "cell_type": "code",
      "source": [
        "MATCH (m:Movie)\n",
        "WHERE  m.title STARTS WITH 'Toy Story'\n",
        "RETURN m.title, m.released"
      ],
      "metadata": {
        "id": "uyv3DCjRchIU"
      },
      "execution_count": null,
      "outputs": []
    },
    {
      "cell_type": "markdown",
      "source": [
        "###And you can filter queries whose properties end with a set of characters:"
      ],
      "metadata": {
        "id": "daQ2oC7ccnAo"
      }
    },
    {
      "cell_type": "code",
      "source": [
        "MATCH (m:Movie)\n",
        "WHERE  m.title ENDS WITH ' I'\n",
        "RETURN m.title, m.released"
      ],
      "metadata": {
        "id": "kcV0ZJQ2coT6"
      },
      "execution_count": null,
      "outputs": []
    },
    {
      "cell_type": "markdown",
      "source": [
        "###Additionally, you can test if a substring is contained in a property:"
      ],
      "metadata": {
        "id": "9O6SXW7Kcwg5"
      }
    },
    {
      "cell_type": "code",
      "source": [
        "MATCH (m:Movie)\n",
        "WHERE  m.title CONTAINS 'River'\n",
        "RETURN m.title, m.released"
      ],
      "metadata": {
        "id": "A-X7XN35cxtI"
      },
      "execution_count": null,
      "outputs": []
    },
    {
      "cell_type": "markdown",
      "source": [
        "##Case-sensitive strings\n",
        "String matching in Cypher is case-sensitive. If string values could be mis-interpreted if the letters do not match in case, your queries may miss data in the graph."
      ],
      "metadata": {
        "id": "pvsb6nRfc-ck"
      }
    },
    {
      "cell_type": "code",
      "source": [
        "MATCH (p:Person)\n",
        "WHERE toLower(p.name) ENDS WITH 'demille'\n",
        "RETURN p.name"
      ],
      "metadata": {
        "id": "rIYankjjc_gt"
      },
      "execution_count": null,
      "outputs": []
    },
    {
      "cell_type": "markdown",
      "source": [
        "###Conversely, we can do the same test with upper-case:"
      ],
      "metadata": {
        "id": "lOOM7Kf7dDik"
      }
    },
    {
      "cell_type": "code",
      "source": [
        "MATCH (p:Person)\n",
        "WHERE toUpper(p.name) ENDS WITH 'DEMILLE'\n",
        "RETURN p.name"
      ],
      "metadata": {
        "id": "Ggh7T8dfdIJ5"
      },
      "execution_count": null,
      "outputs": []
    },
    {
      "cell_type": "markdown",
      "source": [
        "###Here is an example using CONTAINS:\n",
        "\n",
        "In this query, we find all people that have **\" de\", \" De\", or \" DE\"** in their names."
      ],
      "metadata": {
        "id": "JV98X2T3dM9l"
      }
    },
    {
      "cell_type": "code",
      "source": [
        "MATCH (p:Person)\n",
        "WHERE toUpper(p.name) CONTAINS ' DE '\n",
        "RETURN p.name"
      ],
      "metadata": {
        "id": "6BB2QADgdRZ4"
      },
      "execution_count": null,
      "outputs": []
    },
    {
      "cell_type": "markdown",
      "source": [
        "##About indexes for queries\n",
        "If you transform a string property during a query, such as toUpper() or toLower(), the query engine turns off the use of the index.\n",
        "\n",
        "With any query, you can always check if an index will be used by prefixing the query with **EXPLAIN.**\n",
        "\n",
        "This query produces the execution plan where the first step is NodeIndexSeekByRange. In this case an index will be used because it is defined in the graph."
      ],
      "metadata": {
        "id": "-3OoyLZMdulm"
      }
    },
    {
      "cell_type": "code",
      "source": [
        "EXPLAIN MATCH (m:Movie)\n",
        "WHERE  m.title STARTS WITH 'Toy Story'\n",
        "RETURN m.title, m.released"
      ],
      "metadata": {
        "id": "jd_eBagzdvxB"
      },
      "execution_count": null,
      "outputs": []
    },
    {
      "cell_type": "markdown",
      "source": [
        "###But with this query the index will not be used, even if present in the graph, **because toLower() is used:**"
      ],
      "metadata": {
        "id": "HECIXJHfd-dD"
      }
    },
    {
      "cell_type": "code",
      "source": [
        "EXPLAIN MATCH (p:Person)\n",
        "WHERE toLower(p.name) ENDS WITH 'demille'\n",
        "RETURN p.name"
      ],
      "metadata": {
        "id": "cf9EBk3peBWH"
      },
      "execution_count": null,
      "outputs": []
    },
    {
      "cell_type": "markdown",
      "source": [
        "###We want to find all actors whose name begins with Robert. What clause do you use?"
      ],
      "metadata": {
        "id": "Zo0K329teQU4"
      }
    },
    {
      "cell_type": "code",
      "source": [
        "MATCH (p:Person)\n",
        "WHERE p.name STARTS WITH 'Robert'\n",
        "RETURN p.name"
      ],
      "metadata": {
        "id": "Ui1eOrnDeRmM"
      },
      "execution_count": null,
      "outputs": []
    },
    {
      "cell_type": "markdown",
      "source": [
        "###What Cypher keyword can you use to determine if an index will be used for a query?"
      ],
      "metadata": {
        "id": "AjU1G0d4eUZO"
      }
    },
    {
      "cell_type": "code",
      "source": [
        " EXPLAIN"
      ],
      "metadata": {
        "id": "Ot41Z0EaeXc3"
      },
      "execution_count": null,
      "outputs": []
    },
    {
      "cell_type": "markdown",
      "source": [
        "###Write and execute a query to return all Movie titles in the graph that have a title that begins with \"Life is\". There may be titles that do not adhere to capitalization as such so you must ensure that all titles will match. That is, it will retrieve any case of the string, such as \"Life is\", \"LIFE IS\", \"life is\", \"Life Is\".\n",
        "\n",
        "How many Movie nodes are returned?"
      ],
      "metadata": {
        "id": "grQbECRZebjC"
      }
    },
    {
      "cell_type": "code",
      "source": [
        "MATCH (m:Movie)\n",
        "WHERE toLower(m.title) STARTS WITH 'life is'\n",
        "RETURN COUNT(m.title)\n",
        "\n",
        "#OR\n",
        "\n",
        "MATCH (m:Movie)\n",
        "WHERE toUpper(m.title) STARTS WITH 'LIFE IS'\n",
        "RETURN COUNT(m.title)"
      ],
      "metadata": {
        "id": "_EPDEL2OgSNw"
      },
      "execution_count": null,
      "outputs": []
    },
    {
      "cell_type": "markdown",
      "source": [
        "###Roles containing dog?\n",
        "Write and execute a query to return the name of the person, their role, and the movie title where the role played by the actors or director had a value that included 'dog' (case-insensitive)? That is, the role could contain \"Dog\", \"dog\", or even \"DOG\"."
      ],
      "metadata": {
        "id": "DfSOTaEpjlQp"
      }
    },
    {
      "cell_type": "code",
      "source": [
        "MATCH (p:Person)-[r:ACTED_IN]->(m:Movie)\n",
        "WHERE  toLower(r.role) CONTAINS \"dog\"\n",
        "RETURN p.name, r.role, m.title\n",
        "\n",
        "#OR\n",
        "\n",
        "MATCH (p:Person)-[r:ACTED_IN]->(m:Movie)\n",
        "WHERE  toUpper(r.role) CONTAINS \"DOG\"\n",
        "RETURN p.name, r.role, m.title\n",
        "\n",
        "#OR\n",
        "\n",
        "MATCH (p:Person)-[r:DIRECTED]->(m:Movie)\n",
        "WHERE  toUpper(r.role) CONTAINS \"DOG\"\n",
        "RETURN p.name, r.role, m.title\n",
        "\n",
        "#OR\n",
        "\n",
        "MATCH (p:Person)-[r:DIRECTED]->(m:Movie)\n",
        "WHERE  toLower(r.role) CONTAINS \"dog\"\n",
        "RETURN p.name, r.role, m.title\n",
        "\n",
        "#OR\n",
        "\n",
        "MATCH (p:Person)-[r:DIRECTED]->(m:Movie)\n",
        "WHERE  p.Actor OR p.Director OR toLower(r.role) CONTAINS \"dog\"\n",
        "RETURN COUNT(r.role)"
      ],
      "metadata": {
        "id": "TQffR1Erjl0a"
      },
      "execution_count": null,
      "outputs": []
    },
    {
      "cell_type": "markdown",
      "source": [
        "##Patterns in the graph\n",
        "The Neo4j graph engine is implemented to traverse relationships very quickly. As you become more experienced with Cypher queries, you will soon learn that there are multiple ways to write a query that returns the same results. The difference in queries is typically its traversal performance. In this lesson, you will begin learning about graph traversal and query performance.\n",
        "\n",
        "A pattern is a **combination of nodes and relationships that is used to traverse the graph at runtime.**\n",
        "\n",
        "\n",
        "This query:\n",
        "\n",
        "1. Retrieves the anchor of the query, the Tom Hanks :Person node.\n",
        "\n",
        "2. It then follows the :ACTED_IN relationship to a :Movie node.\n",
        "\n",
        "3. Then, for the Movie node and Person node, it tests whether these nodes are related by the DIRECTED relationship.\n",
        "\n",
        "If they are, then the row is returned.\n",
        "\n",
        "This **exists { }** test is done for every Movie node related to Tom Hanks as an actor. This query returns the single movie that Tom Hanks directed and acted in."
      ],
      "metadata": {
        "id": "puzy6b1mksF0"
      }
    },
    {
      "cell_type": "code",
      "source": [
        "MATCH (p:Person)-[:ACTED_IN]->(m:Movie)\n",
        "WHERE  p.name = 'Tom Hanks'\n",
        "AND exists {(p)-[:DIRECTED]->(m)}\n",
        "RETURN p.name, labels(p), m.title"
      ],
      "metadata": {
        "id": "Q_WUW2PG1O7h"
      },
      "execution_count": null,
      "outputs": []
    },
    {
      "cell_type": "markdown",
      "source": [
        "##Profiling queries\n",
        "You can use the PROFILE keyword to show the **total number of rows retrieved from the graph in the query.**\n",
        "\n",
        "\n",
        "In the profile, you can see that the initial row is retrieved, but then 38 rows are retrieved for each Movie that Tom Hanks acted in. Then the test is done for the :DIRECTED relationship."
      ],
      "metadata": {
        "id": "06Eg8Tub2Ffa"
      }
    },
    {
      "cell_type": "code",
      "source": [
        "PROFILE MATCH (p:Person)-[:ACTED_IN]->(m:Movie)\n",
        "WHERE  p.name = 'Tom Hanks'\n",
        "AND exists {(p)-[:DIRECTED]->(m)}\n",
        "RETURN m.title"
      ],
      "metadata": {
        "id": "MHRW-RiN2Lgr"
      },
      "execution_count": null,
      "outputs": []
    },
    {
      "cell_type": "markdown",
      "source": [
        "\n",
        "###This is a better way to do the same query. This is a query that you have seen before.\n",
        "\n",
        "The query:\n",
        "\n",
        "Retrieves the anchor (the Tom Hanks Person node).\n",
        "\n",
        "It then finds a Movie node where Tom Hanks is related to with the ACTED_IN relationship.\n",
        "\n",
        "It then traverses all DIRECTED relationships that point to the same Tom Hanks node.\n",
        "\n",
        "This traversal is very efficient because the graph engine can take the [internal] relationship cardinalities into account. If you execute this query, it returns the same result as the previous query\n",
        "\n",
        "Notice, however that this query is much more efficient. It retrieves one row then two rows; much less data than the first query. Note that the performance of queries that use patterns will depend upon the data model for your graph and also the number of nodes in the traversal.\n",
        "\n"
      ],
      "metadata": {
        "id": "tFjlkGGc2nD_"
      }
    },
    {
      "cell_type": "code",
      "source": [
        "PROFILE MATCH (p:Person)-[:ACTED_IN]->(m:Movie)<-[:DIRECTED]-(p)\n",
        "WHERE  p.name = 'Tom Hanks'\n",
        "RETURN  m.title"
      ],
      "metadata": {
        "id": "K21BU_QI23ep"
      },
      "execution_count": null,
      "outputs": []
    },
    {
      "cell_type": "markdown",
      "source": [
        "##EXPLAIN vs PROFILE\n",
        "\n",
        "The difference between using EXPLAIN and PROFILE is that **EXPLAIN provides estimates of the query steps** where **PROFILE provides the exact steps and number of rows retrieved for the query.** Providing you are simply querying the graph and **not updating anything,** it is fine to execute the query multiple times using PROFILE. In fact, as part of query tuning, you should execute the query **at least twice as the first execution involves the generation of the execution plan which is then cached.** That is, the first PROFILE of a query will always be **more expensive than subsequent queries.**\n",
        "\n",
        "####Query tuning is beyond the scope of this course, but it is important to profile your queries so that you can optimize the queries of your application. The metric that is typically a **good measure of query performance is the number db hits.**"
      ],
      "metadata": {
        "id": "6Lk0qj4K3jMl"
      }
    },
    {
      "cell_type": "markdown",
      "source": [
        "##Finding non-patterns\n",
        "You’ve just seen that using a pattern and testing the existence of a pattern in our graph for this course is not optimal. This may or may not be the case, depending on your data model. There is a scenario where using **exists { }** for a pattern is useful. You use **NOT exists { }** to exclude patterns in the graph.\n",
        "\n",
        "We want to find all the movies that Tom Hanks **acted in, but did not direct.**\n",
        "\n",
        "Here we want to exclude the :DIRECTED relationships to movies for Tom Hanks. If you profile this query, you will find that it is not performant, but it is the only way to perform this query."
      ],
      "metadata": {
        "id": "GYWzNyfS4P8M"
      }
    },
    {
      "cell_type": "code",
      "source": [
        "MATCH (p:Person)-[:ACTED_IN]->(m:Movie)\n",
        "WHERE  p.name = 'Tom Hanks'\n",
        "AND NOT exists {(p)-[:DIRECTED]->(m)}\n",
        "RETURN  m.title"
      ],
      "metadata": {
        "id": "83C85NZJ4ruz"
      },
      "execution_count": null,
      "outputs": []
    },
    {
      "cell_type": "markdown",
      "source": [
        "##We want to return the movies that Clint Eastwood acted in and directed.\n",
        "\n",
        "How would you complete this query?"
      ],
      "metadata": {
        "id": "f0nI0Une5JFW"
      }
    },
    {
      "cell_type": "code",
      "source": [
        "MATCH (p:Person)-[:ACTED_IN]->(m:Movie)\n",
        "WHERE  p.name = \"Clint Eastwood\"\n",
        "AND exists { (p)-[:DIRECTED]→(m) }\n",
        "RETURN  m.title"
      ],
      "metadata": {
        "id": "DQIq2Wbs5Kec"
      },
      "execution_count": null,
      "outputs": []
    },
    {
      "cell_type": "markdown",
      "source": [
        "##Query performance\n",
        "What Cypher keyword helps you to understand the performance of a query when it runs?"
      ],
      "metadata": {
        "id": "ZbTZcoMz5Ohp"
      }
    },
    {
      "cell_type": "code",
      "source": [
        "PROFILE"
      ],
      "metadata": {
        "id": "QU3gCduO5Ugg"
      },
      "execution_count": null,
      "outputs": []
    },
    {
      "cell_type": "markdown",
      "source": [
        "##Write and execute a query to return the titles of all movies that Rob Reiner directed, but did not act in.\n",
        "\n",
        "How many Movie titles are returned?"
      ],
      "metadata": {
        "id": "AhB78ZHb5WG6"
      }
    },
    {
      "cell_type": "code",
      "source": [
        "MATCH (p:Person)-[:DIRECTED]->(m:Movie)\n",
        "WHERE  p.name = 'Rob Reiner'\n",
        "AND NOT exists {(p)-[:ACTED_IN]->(m)}\n",
        "RETURN  COUNT(m.title)"
      ],
      "metadata": {
        "id": "t1CtzD9J5_J-"
      },
      "execution_count": null,
      "outputs": []
    },
    {
      "cell_type": "markdown",
      "source": [
        "##Profiling a query\n",
        "What is the **total number of db hits** when this query executes?"
      ],
      "metadata": {
        "id": "zgjkzpYR6BXM"
      }
    },
    {
      "cell_type": "code",
      "source": [
        "PROFILE MATCH (p:Person)-[:ACTED_IN]->(m:Movie)\n",
        "WHERE p.name = 'Clint Eastwood'\n",
        "AND NOT exists {(p)-[:DIRECTED]->(m)}\n",
        "RETURN m.title\n",
        "\n",
        "#Cypher version: 5, planner: COST, runtime: PIPELINED. 489 total db hits in 2 ms  <------seee db hits"
      ],
      "metadata": {
        "id": "LgmivPE76N80"
      },
      "execution_count": null,
      "outputs": []
    },
    {
      "cell_type": "markdown",
      "source": [
        "##Using multiple MATCH clauses\n",
        "Here is an example of a query that contains two explicit MATCH clauses:\n",
        "\n",
        "This query:\n",
        "\n",
        "Retrieves the anchor nodes (movies released after the year 2000) and the set of actors for each movie.\n",
        "\n",
        "It then follows the :DIRECTED relationships to each Movie node to retrieve the director of each movie.\n",
        "\n",
        "It returns the triple of actor name, movie title, director name.\n",
        "\n",
        "**Notice that actors, movie titles, directors are repeated in the rows returned.**"
      ],
      "metadata": {
        "id": "92LU-7No6_UB"
      }
    },
    {
      "cell_type": "code",
      "source": [
        "MATCH (a:Person)-[:ACTED_IN]->(m:Movie)\n",
        "WHERE m.year > 2000\n",
        "MATCH (m)<-[:DIRECTED]-(d:Person)\n",
        "RETURN a.name, m.title, d.name"
      ],
      "metadata": {
        "id": "0Pd_3Rp-teWZ"
      },
      "execution_count": null,
      "outputs": []
    },
    {
      "cell_type": "markdown",
      "source": [
        "##Using multiple patterns in the MATCH clause\n",
        "An alternative to using multiple MATCH clauses is to specify multiple patterns:\n",
        "\n",
        "In this query, multiple patterns are specified. In the second pattern, the variable m is used from the first pattern.\n",
        "\n",
        "In general, using **a single MATCH clause will perform better than multiple MATCH clauses.** This is because **relationship uniqueness is enforced so there are fewer relationships traversed.**"
      ],
      "metadata": {
        "id": "ueesuiSNtmDH"
      }
    },
    {
      "cell_type": "code",
      "source": [
        "MATCH (a:Person)-[:ACTED_IN]->(m:Movie),\n",
        "      (m)<-[:DIRECTED]-(d:Person)\n",
        "WHERE m.year > 2000\n",
        "RETURN a.name, m.title, d.name"
      ],
      "metadata": {
        "id": "jZEMED3guBM1"
      },
      "execution_count": null,
      "outputs": []
    },
    {
      "cell_type": "markdown",
      "source": [
        "##Using a single pattern\n",
        "And finally, the **same query can be written** as follows:\n",
        "\n",
        "In most cases, specifying a **single pattern** will yield the best performance.\n",
        "\n",
        "The **performance of your queries** will depend greatly upon your **data model and the size of the graph.**"
      ],
      "metadata": {
        "id": "Jgah_FYiuOJe"
      }
    },
    {
      "cell_type": "code",
      "source": [
        "MATCH (a:Person)-[:ACTED_IN]->(m:Movie)<-[:DIRECTED]-(d:Person)\n",
        "WHERE m.year > 2000\n",
        "RETURN a.name, m.title, d.name"
      ],
      "metadata": {
        "id": "OuYF9jpKudZ0"
      },
      "execution_count": null,
      "outputs": []
    },
    {
      "cell_type": "markdown",
      "source": [
        "##Optionally matching rows\n",
        "In this query:\n",
        "\n",
        "1. We find the movie node for Kiss Me Deadly.\n",
        "\n",
        "2. Then we find all movies, rec that are in the same genre as Kiss Me Deadly.\n",
        "\n",
        "3. Then we find the actors that acted in both rec and Kiss Me Deadly."
      ],
      "metadata": {
        "id": "GdDFl0I2ujTs"
      }
    },
    {
      "cell_type": "code",
      "source": [
        "MATCH (m:Movie) WHERE m.title = \"Kiss Me Deadly\"\n",
        "MATCH (m)-[:IN_GENRE]->(g:Genre)<-[:IN_GENRE]-(rec:Movie)\n",
        "MATCH (m)<-[:ACTED_IN]-(a:Actor)-[:ACTED_IN]->(rec)\n",
        "RETURN rec.title, a.name"
      ],
      "metadata": {
        "id": "NeWhsaBQvZLA"
      },
      "execution_count": null,
      "outputs": []
    },
    {
      "cell_type": "markdown",
      "source": [
        "##OPTIONAL MATCH\n",
        "OPTIONAL MATCH matches patterns with your graph, just like MATCH does. The difference is that **if no matches are found, OPTIONAL MATCH will use nulls for missing parts of the pattern.** OPTIONAL MATCH could be considered the Cypher equivalent of the **outer join in SQL.**\n",
        "\n",
        "\n",
        "This query returns rows where the pattern where an actor acted in both movies is optional and a null value is returned for any row that has no value. In general, and depending on your graph, an optional match will return more rows."
      ],
      "metadata": {
        "id": "2MaJS7NDvb1r"
      }
    },
    {
      "cell_type": "code",
      "source": [
        "MATCH (m:Movie) WHERE m.title = \"Kiss Me Deadly\"\n",
        "MATCH (m)-[:IN_GENRE]->(g:Genre)<-[:IN_GENRE]-(rec:Movie)\n",
        "OPTIONAL MATCH (m)<-[:ACTED_IN]-(a:Actor)-[:ACTED_IN]->(rec)\n",
        "RETURN rec.title, a.name"
      ],
      "metadata": {
        "id": "27uhaRX2wAZ-"
      },
      "execution_count": null,
      "outputs": []
    },
    {
      "cell_type": "markdown",
      "source": [
        "##1. Optionally matching a pattern\n",
        "We want to return the names of all actors whose name begins with Tom and also the title of the movies they directed. If they did not direct the movie, then return a null value.\n",
        "\n",
        "How would you complete this query?"
      ],
      "metadata": {
        "id": "CKEKczxVwMjS"
      }
    },
    {
      "cell_type": "code",
      "source": [
        "MATCH (p:Person)\n",
        "WHERE p.name STARTS WITH 'Tom'\n",
        "OPTIONAL MATCH (p)-[:DIRECTED]→(m:Movie)\n",
        "RETURN p.name, m.title"
      ],
      "metadata": {
        "id": "9yiPz863wQlT"
      },
      "execution_count": null,
      "outputs": []
    },
    {
      "cell_type": "markdown",
      "source": [
        "##2. Optional matches\n",
        "What value does OPTIONAL MATCH return if there is no value for a string property being returned in a row?"
      ],
      "metadata": {
        "id": "n4pVHz6AwX5r"
      }
    },
    {
      "cell_type": "code",
      "source": [
        "NULL"
      ],
      "metadata": {
        "id": "n4SCUZPLwY-T"
      },
      "execution_count": null,
      "outputs": []
    },
    {
      "cell_type": "markdown",
      "source": [
        "###Retrieving movies in a genre with their reviewers\n",
        "Here is a query that returns the titles of all Film Noir movies and the users who rated them."
      ],
      "metadata": {
        "id": "d1WpPU2owbKN"
      }
    },
    {
      "cell_type": "code",
      "source": [
        "MATCH (m:Movie)-[:IN_GENRE]->(g:Genre)\n",
        "WHERE g.name = 'Film-Noir'\n",
        "MATCH (m)<-[:RATED]-(u:User)\n",
        "RETURN m.title, u.name"
      ],
      "metadata": {
        "id": "vCbyMoWZxRQF"
      },
      "execution_count": null,
      "outputs": []
    },
    {
      "cell_type": "markdown",
      "source": [
        "##Ordering results\n",
        "Whether you return results as **nodes or as properties of nodes,** you can specify a property value for the ordering.\n",
        "\n",
        "**Strings** are ordered by their **text values.**\n",
        "\n",
        "**Boolean true comes before false** when ordered.\n",
        "\n",
        "**Numeric data (including date and datetime properties)** are ordered by their **numeric value.**\n",
        "\n",
        "You specify **ORDER BY** in the RETURN clause where you specify the property for the ordering.\n",
        "\n",
        "\n",
        "In this query, we find all Person nodes with a born year of 1980. The born property of Person nodes is a Cypher Date type, so we can use the year method to test the year value. Notice that is this code we are specifying aliases for the column headers for each row. The rows will be ordered by the value of the born property."
      ],
      "metadata": {
        "id": "Eswjpi_nxSQL"
      }
    },
    {
      "cell_type": "code",
      "source": [
        "MATCH (p:Person)\n",
        "WHERE p.born.year = 1980\n",
        "RETURN p.name AS name,\n",
        "p.born AS birthDate\n",
        "ORDER BY p.born"
      ],
      "metadata": {
        "id": "RL9kJ5k4F9FL"
      },
      "execution_count": null,
      "outputs": []
    },
    {
      "cell_type": "markdown",
      "source": [
        "####The **default ordering is ascending,** but you can specify descending as follows:"
      ],
      "metadata": {
        "id": "ZnS2ldtVGz9e"
      }
    },
    {
      "cell_type": "code",
      "source": [
        "MATCH (p:Person)\n",
        "WHERE p.born.year = 1980\n",
        "RETURN p.name AS name, p.born AS birthDate\n",
        "ORDER BY p.born DESC"
      ],
      "metadata": {
        "id": "qiZQQc49G5Q_"
      },
      "execution_count": null,
      "outputs": []
    },
    {
      "cell_type": "markdown",
      "source": [
        "##Eliminating null values returned\n",
        "For some queries, you may want to **not return null values,** especially if you are ordering the data."
      ],
      "metadata": {
        "id": "8PBUQK0fHAUY"
      }
    },
    {
      "cell_type": "code",
      "source": [
        "MATCH (p:Person)\n",
        "RETURN p.name AS name, p.born AS birthDate\n",
        "ORDER BY p.born DESC"
      ],
      "metadata": {
        "id": "1NPWcuS_HEaP"
      },
      "execution_count": null,
      "outputs": []
    },
    {
      "cell_type": "markdown",
      "source": [
        "####This query returns many rows at the beginning of result set that have a null value for the born property.\n",
        "\n",
        "In this case, we don’t want those nodes to be retrieved. We adjust the query as follows:"
      ],
      "metadata": {
        "id": "M03WheAFHTg3"
      }
    },
    {
      "cell_type": "code",
      "source": [
        "MATCH (p:Person)\n",
        "WHERE p.born IS NOT NULL\n",
        "RETURN p.name AS name, p.born AS birthDate\n",
        "ORDER BY p.born DESC"
      ],
      "metadata": {
        "id": "DItNqivgHcQt"
      },
      "execution_count": null,
      "outputs": []
    },
    {
      "cell_type": "markdown",
      "source": [
        "##Ordering multiple results\n",
        "You can provide multiple sort expressions and the result will be sorted in that order.\n",
        "\n",
        "In this query we **return the movies in descending year order** and **then the movie titles in ascending order.**\n",
        "\n",
        "There is **no limit to the number of properties** you can order by."
      ],
      "metadata": {
        "id": "oBEX63eBHhoL"
      }
    },
    {
      "cell_type": "code",
      "source": [
        "MATCH (p:Person)-[:DIRECTED | ACTED_IN]->(m:Movie)\n",
        "WHERE p.name = 'Tom Hanks'\n",
        "OR p.name = 'Keanu Reeves'\n",
        "RETURN  m.year, m.title\n",
        "ORDER BY m.year DESC , m.title"
      ],
      "metadata": {
        "id": "Ovq3HHmRHipF"
      },
      "execution_count": null,
      "outputs": []
    },
    {
      "cell_type": "markdown",
      "source": [
        "###1. Ordering result rows\n",
        "We want to return the ratings that Sandy Jones gave movies and return the rating from highest to lowest. What code do you use?"
      ],
      "metadata": {
        "id": "glvTxsawILxQ"
      }
    },
    {
      "cell_type": "code",
      "source": [
        "MATCH (u:User)-[r:RATED]->(m:Movie)\n",
        "WHERE u.name = 'Sandy Jones'\n",
        "RETURN m.title AS movie, r.rating AS rating ORDER BY r.rating DESC\n"
      ],
      "metadata": {
        "id": "YtqLr5kXINhX"
      },
      "execution_count": null,
      "outputs": []
    },
    {
      "cell_type": "markdown",
      "source": [
        "###2. Ordering results\n",
        "What is the maximum number of properties can you order in your results?"
      ],
      "metadata": {
        "id": "y0u1IrBrIZyx"
      }
    },
    {
      "cell_type": "code",
      "source": [
        "Unlimited"
      ],
      "metadata": {
        "id": "6BrgjmPzIa_b"
      },
      "execution_count": null,
      "outputs": []
    },
    {
      "cell_type": "markdown",
      "source": [
        "###Movies with ratings\n",
        "Write and execute a query to return the movie titles where they are ordered from the highest to the lowest imdbRating value. In your query, only return movies that have a value for the imdbRating property.\n",
        "\n",
        "How many Movie titles are returned?"
      ],
      "metadata": {
        "id": "ypnySbvSIeBf"
      }
    },
    {
      "cell_type": "code",
      "source": [
        "MATCH (m:Movie)\n",
        "WHERE m.imdbRating IS NOT NULL\n",
        "RETURN m.title, m.imdbRating\n",
        "ORDER BY m.imdbRating DESC"
      ],
      "metadata": {
        "id": "_-XbNA4zJjwK"
      },
      "execution_count": null,
      "outputs": []
    },
    {
      "cell_type": "markdown",
      "source": [
        "##Highest rating\n",
        "When you execute the previous query:"
      ],
      "metadata": {
        "id": "ZUJPdifSNe5O"
      }
    },
    {
      "cell_type": "code",
      "source": [
        "MATCH (m:Movie)\n",
        "WHERE m.imdbRating IS NOT NULL\n",
        "RETURN m.title, m.imdbRating\n",
        "ORDER BY m.imdbRating DESC"
      ],
      "metadata": {
        "id": "n9pv2ikPNgNO"
      },
      "execution_count": null,
      "outputs": []
    },
    {
      "cell_type": "markdown",
      "source": [
        "###Youngest actor in highest rated movie\n",
        "Modify the query you just executed to:\n",
        "\n",
        "1. Match the people that acted in the movies.\n",
        "\n",
        "2. Return the names of people sorted by the born property\n",
        "\n",
        "The question you want to answer is:\n",
        "\n",
        "What is the youngest actor that acted in the most highly-rated movie?\n",
        "\n",
        "Enter the name (case-sensitive!):"
      ],
      "metadata": {
        "id": "5oD77jUYNrJg"
      }
    },
    {
      "cell_type": "code",
      "source": [
        "MATCH (m:Movie)<-[ACTED_IN]-(p:Person)\n",
        "WHERE m.imdbRating IS NOT NULL\n",
        "RETURN m.title, m.imdbRating, p.name, p.born\n",
        "ORDER BY m.imdbRating DESC, p.born DESC"
      ],
      "metadata": {
        "id": "ZBaBK8V4PNQY"
      },
      "execution_count": null,
      "outputs": []
    },
    {
      "cell_type": "markdown",
      "source": [
        "##Limiting results\n",
        "Although you can filter queries to reduce the number of results returned, you may also want to limit the number of results returned. This is useful if you have very large result sets and you only need to see the beginning or end of a set of ordered results. You can use the LIMIT keyword to specify the number of results returned."
      ],
      "metadata": {
        "id": "do8MMDFhQsJ6"
      }
    },
    {
      "cell_type": "code",
      "source": [
        "MATCH (m:Movie)\n",
        "WHERE m.released IS NOT NULL\n",
        "RETURN m.title AS title,\n",
        "m.released AS releaseDate\n",
        "ORDER BY m.released DESC LIMIT 100"
      ],
      "metadata": {
        "id": "P74dFOO1Qtrz"
      },
      "execution_count": null,
      "outputs": []
    },
    {
      "cell_type": "markdown",
      "source": [
        "###Or, we may want to determine the youngest person in the graph:"
      ],
      "metadata": {
        "id": "PmHI9QKiQ4gq"
      }
    },
    {
      "cell_type": "code",
      "source": [
        "MATCH (p:Person) WHERE\n",
        "p.born IS NOT NULL\n",
        "RETURN p.name as name,\n",
        "p.born AS birthDate\n",
        "ORDER BY p.born DESC LIMIT 1"
      ],
      "metadata": {
        "id": "b1tSxBeiQ5qH"
      },
      "execution_count": null,
      "outputs": []
    },
    {
      "cell_type": "markdown",
      "source": [
        "###Skipping some results\n",
        "In an ordered result set, you may want to control what results are returned. This is useful in an application where pagination is required.\n",
        "\n",
        "In this query we are returning the names of people born in 1980 ordered by their birth date."
      ],
      "metadata": {
        "id": "3w0pFnQCRDLZ"
      }
    },
    {
      "cell_type": "code",
      "source": [
        "MATCH (p:Person)\n",
        "WHERE p.born.year = 1980\n",
        "RETURN  p.name as name,\n",
        "p.born AS birthDate\n",
        "ORDER BY p.born"
      ],
      "metadata": {
        "id": "lMl4lZdtREnn"
      },
      "execution_count": null,
      "outputs": []
    },
    {
      "cell_type": "markdown",
      "source": [
        "####You can add a SKIP and LIMIT keyword to control what page of results are returned.\n",
        "\n",
        "In this query, we return 10 rows representing page 5, where each page contains 10 rows."
      ],
      "metadata": {
        "id": "CqB2czkURL7D"
      }
    },
    {
      "cell_type": "code",
      "source": [
        "MATCH (p:Person)\n",
        "WHERE p.born.year = 1980\n",
        "RETURN  p.name as name,\n",
        "p.born AS birthDate\n",
        "ORDER BY p.born SKIP 40 LIMIT 10"
      ],
      "metadata": {
        "id": "0HEeZStbRNBJ"
      },
      "execution_count": null,
      "outputs": []
    },
    {
      "cell_type": "markdown",
      "source": [
        "##Eliminating duplicate records\n",
        "You have seen a number of query results where there is duplication in the results returned. In some cases, you may want to eliminate duplicated results. You do so by using the **DISTINCT** keyword.\n",
        "\n",
        "Tom Hanks both acted in and directed the movie, Larry Crowne, so the movie is returned twice in the result stream.\n",
        "\n",
        "We can eliminate the duplication by specifying the DISTINCT keyword as follows:"
      ],
      "metadata": {
        "id": "FpxqA7tuRd0Z"
      }
    },
    {
      "cell_type": "code",
      "source": [
        "MATCH (p:Person)-[:DIRECTED | ACTED_IN]->(m:Movie)\n",
        "WHERE p.name = 'Tom Hanks'\n",
        "RETURN m.title, m.released\n",
        "ORDER BY m.title"
      ],
      "metadata": {
        "id": "tkEKc5EKRhsK"
      },
      "execution_count": null,
      "outputs": []
    },
    {
      "cell_type": "markdown",
      "source": [
        "####We can eliminate the duplication by specifying the DISTINCT keyword as follows:"
      ],
      "metadata": {
        "id": "hddql_zERonS"
      }
    },
    {
      "cell_type": "code",
      "source": [
        "MATCH (p:Person)-[:DIRECTED | ACTED_IN]->(m:Movie)\n",
        "WHERE p.name = 'Tom Hanks'\n",
        "RETURN DISTINCT m.title, m.released\n",
        "ORDER BY m.title"
      ],
      "metadata": {
        "id": "8CAINuvVRs0B"
      },
      "execution_count": null,
      "outputs": []
    },
    {
      "cell_type": "markdown",
      "source": [
        "##Uses of DISTINCT\n",
        "You can use DISTINCT to eliminate duplication of:\n",
        "\n",
        "1. rows returned (you have just learned this)\n",
        "\n",
        "2. property values\n",
        "\n",
        "3. nodes\n",
        "\n",
        "Here is an example where we **eliminate duplicate property values:**\n",
        "\n",
        "In the above query, only a single value will be returned for each Movie year. If you were to not use DISTINCT, all Movie year values would be returned."
      ],
      "metadata": {
        "id": "sUA3oXgCR6ej"
      }
    },
    {
      "cell_type": "code",
      "source": [
        "MATCH (m:Movie)\n",
        "RETURN DISTINCT m.year\n",
        "ORDER BY m.year"
      ],
      "metadata": {
        "id": "YQXnw3-GSAnB"
      },
      "execution_count": null,
      "outputs": []
    },
    {
      "cell_type": "markdown",
      "source": [
        "####And here is an example where we eliminate duplicate nodes:\n",
        "\n",
        "\n",
        "\n",
        "If we do not specify DISTINCT in the above query, the query returns a duplicate movie node.\n",
        "\n"
      ],
      "metadata": {
        "id": "CtHwB06VSJzp"
      }
    },
    {
      "cell_type": "code",
      "source": [
        "MATCH (p:Person)-[:DIRECTED | ACTED_IN]->(m:Movie)\n",
        "WHERE p.name = 'Tom Hanks'\n",
        "RETURN  DISTINCT m"
      ],
      "metadata": {
        "id": "XuK5KcK7SNFR"
      },
      "execution_count": null,
      "outputs": []
    },
    {
      "cell_type": "markdown",
      "source": [
        "##1. What movies have reviews?\n",
        "We want to return the movies that have been reviewed.\n",
        "\n",
        "How would you complete this query so that duplicate movie titles are not returned?\n",
        "\n"
      ],
      "metadata": {
        "id": "Vh2wfm_1SkuD"
      }
    },
    {
      "cell_type": "code",
      "source": [
        "MATCH (m:Movie)<-[:RATED]-()\n",
        "RETURN DISTINCT m.title"
      ],
      "metadata": {
        "id": "nXStSo7-SowZ"
      },
      "execution_count": null,
      "outputs": []
    },
    {
      "cell_type": "markdown",
      "source": [
        "##2. Reducing data returned\n",
        "Why would you want to use LIMIT in a RETURN clause?"
      ],
      "metadata": {
        "id": "RDAS78b-SrXc"
      }
    },
    {
      "cell_type": "code",
      "source": [
        "To reduce the amount of data returned to the client."
      ],
      "metadata": {
        "id": "wIdrINgoSubF"
      },
      "execution_count": null,
      "outputs": []
    },
    {
      "cell_type": "markdown",
      "source": [
        "##Lowest rated movie\n",
        "A movie has a property, imdbRating. Not all movies have a value for this property. Write and execute a query to determine the lowest imdbRating that a movie has in our graph.\n",
        "\n",
        "What is the lowest imdbRating?"
      ],
      "metadata": {
        "id": "i47Jl6KjSwfj"
      }
    },
    {
      "cell_type": "code",
      "source": [
        "MATCH(m:Movie)\n",
        "WHERE m.imdbRating IS NOT NULL\n",
        "RETURN m.imdbRating\n",
        "ORDER BY m.imdbRating ASC LIMIT 1"
      ],
      "metadata": {
        "id": "rXE0uSYuuRJF"
      },
      "execution_count": null,
      "outputs": []
    },
    {
      "cell_type": "markdown",
      "source": [
        "####Here is a query that returns the names people who acted or directed the movie Toy Story and then retrieves all people who acted in the same movie.\n",
        "\n",
        "Execute this query. It will return 183 rows, some of which are duplicates."
      ],
      "metadata": {
        "id": "cX2YWCtbuWXx"
      }
    },
    {
      "cell_type": "code",
      "source": [
        "MATCH (p:Person)-[:ACTED_IN| DIRECTED]->(m:Movie)\n",
        "WHERE m.title = 'Toy Story'\n",
        "MATCH (p)-[:ACTED_IN]->()<-[:ACTED_IN]-(p2:Person)\n",
        "RETURN  DISTINCT p.name, p2.name"
      ],
      "metadata": {
        "id": "-BHAF0zyvjS5"
      },
      "execution_count": null,
      "outputs": []
    },
    {
      "cell_type": "markdown",
      "source": [
        "##Map projections\n",
        "Many applications that access Neo4j via their drivers use Cypher to retrieve data from the graph as objects that will be used by the application. In Neo4j Browser, when nodes are returned, you can either view them as a graph, or you can view them in table view where all properties for a node are a single row. The data is returned as rows of data where each row represents a JSON-style object for a node.\n",
        "\n",
        "\n",
        "This query returns all Person nodes that contain the string \"Thomas\". If you view the data returned as a table, it returns internal node information such as labels and identity, along with the property values."
      ],
      "metadata": {
        "id": "0PBDhYTNwxhi"
      }
    },
    {
      "cell_type": "code",
      "source": [
        "MATCH (p:Person)\n",
        "WHERE p.name CONTAINS \"Thomas\"\n",
        "RETURN p AS person\n",
        "ORDER BY p.name ASC"
      ],
      "metadata": {
        "id": "3V0MWY9ywzHo"
      },
      "execution_count": null,
      "outputs": []
    },
    {
      "cell_type": "markdown",
      "source": [
        "####Another way that you can return data is without the internal node information, that is, only property values.\n",
        "\n",
        "{\n",
        "  \"tmdbId\": \"1198886\",\n",
        "\n",
        "  \"name\": \" Thomas Haneke\",\n",
        "\n",
        "  \"imdbId\": \"0359735\",\n",
        "\n",
        "  \"url\": \"https://themoviedb.org/person/1198886\"\n",
        "\n",
        "}\n",
        "\n",
        "\n",
        "This query returns an object named person that contains all of the property values for the node. It does **not contain any of the internal information for the node such as its labels or id.**"
      ],
      "metadata": {
        "id": "eDXPyeLRw5OE"
      }
    },
    {
      "cell_type": "code",
      "source": [
        "MATCH (p:Person)\n",
        "WHERE p.name CONTAINS \"Thomas\"\n",
        "RETURN p { .* } AS person\n",
        "ORDER BY p.name ASC"
      ],
      "metadata": {
        "id": "plDqQ6RCw8QJ"
      },
      "execution_count": null,
      "outputs": []
    },
    {
      "cell_type": "markdown",
      "source": [
        "####Additionally, you can customize what properties you return in the objects.\n",
        "\n",
        "{\n",
        "\n",
        "  \"born\": null,\n",
        "\n",
        "  \"name\": \" Thomas Haneke\"\n",
        "\n",
        "}\n",
        "\n",
        "\n",
        "Here the person objects returned will include the name and born properties.\n",
        "\n",
        "Being able to customize how data is returned is useful, especially if you are using a programming language that can work with JSON-style objects."
      ],
      "metadata": {
        "id": "OmwsoYidxTIj"
      }
    },
    {
      "cell_type": "code",
      "source": [
        "MATCH (p:Person)\n",
        "WHERE p.name CONTAINS \"Thomas\"\n",
        "RETURN p { .name, .born } AS person\n",
        "ORDER BY p.name"
      ],
      "metadata": {
        "id": "QR4aHYuExYMw"
      },
      "execution_count": null,
      "outputs": []
    },
    {
      "cell_type": "markdown",
      "source": [
        "####Here is an example, where we are **adding information to the objects returned that are not part of the data in the graph.**\n",
        "\n",
        "{\n",
        "\n",
        "  \"budget\": 6400000,\n",
        "\n",
        "  \"movieId\": \"6993\",\n",
        "\n",
        "  \"tmdbId\": \"5143\",\n",
        "\n",
        "  \"imdbVotes\": 51032,\n",
        "\n",
        "  \"runtime\": 103,\n",
        "\n",
        "  **\"favorite\": true,**\n",
        "\n",
        "  \"countries\": [\n",
        "\n",
        "    \"USA\"\n",
        "\n",
        "  ],\n",
        "\n",
        "  \"imdbId\": \"0091167\",\n",
        "\n",
        "  \"url\": \"https://themoviedb.org/movie/5143\",\n",
        "\n",
        "  \"plot\": \"Between two Thanksgivings two years apart, Hannah's husband falls in love with her sister Lee, while her hypochondriac ex-husband rekindles his relationship with her sister Holly.\",\n",
        "\n",
        "  \"released\": \"1986-03-14\",\n",
        "\n",
        "  \"languages\": [\n",
        "\n",
        "    \"English\"\n",
        "\n",
        "  ],\n",
        "  \"imdbRating\": 8.0,\n",
        "\n",
        "  \"title\": \"Hannah and Her Sisters\",\n",
        "\n",
        "  \"poster\": \"https://image.tmdb.org/t/p/w440_and_h660_face/gARgIRb2QFRFVrsziwWE389u1pK.jpg\",\n",
        "\n",
        "  \"year\": 1986,\n",
        "\n",
        "  \"revenue\": 40084041\n",
        "\n",
        "}\n",
        "\n",
        "\n",
        "In addition to returning all property values for each Woody Allen movie, we are returning a property of favorite with a value of true for each Movie object returned."
      ],
      "metadata": {
        "id": "Ej2l9mBwx0bJ"
      }
    },
    {
      "cell_type": "code",
      "source": [
        "MATCH (m:Movie)<-[:DIRECTED]-(d:Director)\n",
        "WHERE d.name = 'Woody Allen'\n",
        "RETURN m {.*, favorite: true} AS movie"
      ],
      "metadata": {
        "id": "JvGYnNN5x4Gr"
      },
      "execution_count": null,
      "outputs": []
    },
    {
      "cell_type": "markdown",
      "source": [
        "##1. Returning selected properties\n",
        "We want to return the title and release date as Movie objects for all Woody Allen movies. Select the correct RETURN clause to do this."
      ],
      "metadata": {
        "id": "APolhDZNy_dT"
      }
    },
    {
      "cell_type": "code",
      "source": [
        "MATCH (m:Movie)<-[:DIRECTED]-(d:Director)\n",
        "WHERE d.name = 'Woody Allen'\n",
        "RETURN m {.title, .released} AS movie\n",
        "ORDER BY m.released"
      ],
      "metadata": {
        "id": "epmm5Ot-zBRR"
      },
      "execution_count": null,
      "outputs": []
    },
    {
      "cell_type": "markdown",
      "source": [
        "###2. Returning data\n",
        "\n",
        "MATCH (p:Person)\n",
        "\n",
        "WHERE p.name CONTAINS \"Thomas\"\n",
        "\n",
        "RETURN p AS person ORDER BY p.name\n",
        "\n",
        "What is returned in every row?"
      ],
      "metadata": {
        "id": "EVZlUXw9zHf5"
      }
    },
    {
      "cell_type": "code",
      "source": [
        "labels, identity, elementId, type and properties."
      ],
      "metadata": {
        "id": "feFAEZHLzR4h"
      },
      "execution_count": null,
      "outputs": []
    },
    {
      "cell_type": "markdown",
      "source": [
        "##Changing data returned\n",
        "You can always change the data that is returned by performing string or numeric operations on the data.\n",
        "\n",
        "This query returns the actors in each Toy Story movie and their age if they are still living according to our graph. We **add data to each line by calculating the actor’s age.**"
      ],
      "metadata": {
        "id": "q_ztQ_AezXHJ"
      }
    },
    {
      "cell_type": "code",
      "source": [
        "MATCH (m:Movie)<-[:ACTED_IN]-(p:Person)\n",
        "WHERE m.title CONTAINS 'Toy Story' AND\n",
        "p.died IS NULL\n",
        "RETURN m.title AS movie,\n",
        "p.name AS actor,\n",
        "p.born AS dob,\n",
        "date().year - p.born.year AS ageThisYear"
      ],
      "metadata": {
        "id": "kwa0OtXT3baB"
      },
      "execution_count": null,
      "outputs": []
    },
    {
      "cell_type": "markdown",
      "source": [
        "###Here is an example where we concatenate string data returned:"
      ],
      "metadata": {
        "id": "nFInYzFZ3yhq"
      }
    },
    {
      "cell_type": "code",
      "source": [
        "MATCH (m:Movie)<-[:ACTED_IN]-(p:Person)\n",
        "WHERE m.title CONTAINS 'Toy Story' AND\n",
        "p.died IS NULL\n",
        "RETURN 'Movie: ' + m.title AS movie,\n",
        "p.name AS actor,\n",
        "p.born AS dob,\n",
        "date().year - p.born.year AS ageThisYear"
      ],
      "metadata": {
        "id": "_uodRhFL30Xc"
      },
      "execution_count": null,
      "outputs": []
    },
    {
      "cell_type": "markdown",
      "source": [
        "###Conditionally changing data returned\n",
        "Cypher has a **CASE** clause that you can specify to compute the data returned which may be different from what is in the graph."
      ],
      "metadata": {
        "id": "8AgUSx-l3-jP"
      }
    },
    {
      "cell_type": "code",
      "source": [
        "MATCH (m:Movie)<-[:ACTED_IN]-(p:Person)\n",
        "WHERE p.name = 'Henry Fonda'\n",
        "RETURN m.title AS movie,\n",
        "CASE\n",
        "WHEN m.year < 1940 THEN 'oldies'\n",
        "WHEN 1940 <= m.year < 1950 THEN 'forties'\n",
        "WHEN 1950 <= m.year < 1960 THEN 'fifties'\n",
        "WHEN 1960 <= m.year < 1970 THEN 'sixties'\n",
        "WHEN 1970 <= m.year < 1980 THEN 'seventies'\n",
        "WHEN 1980 <= m.year < 1990 THEN 'eighties'\n",
        "WHEN 1990 <= m.year < 2000 THEN 'nineties'\n",
        "ELSE  'two-thousands'\n",
        "END\n",
        "AS timeFrame"
      ],
      "metadata": {
        "id": "mkabit_j3_pr"
      },
      "execution_count": null,
      "outputs": []
    },
    {
      "cell_type": "markdown",
      "source": [
        "##1. What age?\n",
        "We want to return information about actors who acted in the Toy Story movies. We want to return the age that an actor will turn this year or that the actor died.\n",
        "\n",
        "How would you complete this query?"
      ],
      "metadata": {
        "id": "tGIlK8B_5SXT"
      }
    },
    {
      "cell_type": "code",
      "source": [
        "MATCH (m:Movie)<-[:ACTED_IN]-(p:Person)\n",
        "WHERE m.title CONTAINS 'Toy Story'\n",
        "RETURN m.title AS movie,\n",
        "p.name AS actor,\n",
        "p.born AS dob,\n",
        "CASE\n",
        "WHEN p.died IS NULL THEN date().year - p.born.year\n",
        "WHEN p.died IS NOT NULL THEN \"Died\"\n",
        "END\n",
        "AS ageThisYear"
      ],
      "metadata": {
        "id": "MGd6hDa75UEy"
      },
      "execution_count": null,
      "outputs": []
    },
    {
      "cell_type": "markdown",
      "source": [
        "###2. Keywords used for conditionally returning values\n",
        "What keywords can you use in a RETURN clause to conditionally return a value?"
      ],
      "metadata": {
        "id": "AcN0KOrG54Lq"
      }
    },
    {
      "cell_type": "code",
      "source": [
        "CASE, WHEN, ELSE ,END"
      ],
      "metadata": {
        "id": "r7n_iCSZ55bv"
      },
      "execution_count": null,
      "outputs": []
    },
    {
      "cell_type": "markdown",
      "source": [
        "###Conditionally returning values for rows\n",
        "Here is a query that returns the movies that Charlie Chaplin has acted in and the runtime for the movie.\n",
        "\n",
        "Modify this query to return \"Short\" for runTime if the movie’s runtime is < 120 (minutes) and \"Long\" for runTime if the movie’s runtime is >= 120."
      ],
      "metadata": {
        "id": "LeRAMfWH7Urq"
      }
    },
    {
      "cell_type": "code",
      "source": [
        "MATCH (m:Movie)<-[:ACTED_IN]-(p:Person)\n",
        "WHERE p.name = 'Charlie Chaplin'\n",
        "RETURN m.title AS Movie,\n",
        "CASE\n",
        "WHEN m.runtime < 120 THEN \"Short\"\n",
        "WHEN m.runtime >= 120 THEN \"Long\"\n",
        "ELSE \"Unknown\"\n",
        "END AS Runtime"
      ],
      "metadata": {
        "id": "GLDYFhZ47VEg"
      },
      "execution_count": null,
      "outputs": []
    },
    {
      "cell_type": "markdown",
      "source": [
        "##Using count() to aggregate data\n",
        "Cypher has a **count() function that you can use to perform a count of nodes, relationships, paths, rows during query processing.** When you aggregate in a Cypher statement, this means that the query must process all patterns in the MATCH clause to complete the aggregation to either return results or perform the next part of the query.\n",
        "\n",
        "This query returns the number of movies Tom Hanks acted in.\n",
        "\n"
      ],
      "metadata": {
        "id": "crK8j7vlXu2C"
      }
    },
    {
      "cell_type": "code",
      "source": [
        "MATCH (a:Person)-[:ACTED_IN]->(m:Movie)\n",
        "WHERE a.name = 'Tom Hanks'\n",
        "RETURN a.name AS actorName,\n",
        "count(*) AS numMovies"
      ],
      "metadata": {
        "id": "_Xukqo9VY4bT"
      },
      "execution_count": null,
      "outputs": []
    },
    {
      "cell_type": "markdown",
      "source": [
        "####In this query we can see that actors and directors worked together in the same movie and how many collaborations there were."
      ],
      "metadata": {
        "id": "2OzmhJgGZJNs"
      }
    },
    {
      "cell_type": "code",
      "source": [
        "MATCH (a:Person)-[:ACTED_IN]->(m:Movie)<-[:DIRECTED]-(d:Person)\n",
        "RETURN a.name AS actorName,\n",
        "d.name AS directorName,\n",
        "count(*) AS numMovies\n",
        "ORDER BY numMovies DESC"
      ],
      "metadata": {
        "id": "daX9iDBZZPZ8"
      },
      "execution_count": null,
      "outputs": []
    },
    {
      "cell_type": "markdown",
      "source": [
        "##Eager aggregation\n",
        "When you aggregate in a Cypher statement, the query must process all patterns in the **MATCH** clause to complete the aggregation to return results. This is called eager aggregation.\n",
        "\n",
        "The query engine processes all nodes and relationships in the pattern so that it can perform a count of all movies for a particular actor/director pair in the graph. Then, it returns the results grouped by the name of the director and actor pair.\n",
        "\n",
        "For this query:\n",
        "\n",
        "Clint Eastwood acted in and directed 20 movies.\n",
        "\n",
        "Woody Allen acted in and directed 19 movies.\n",
        "\n",
        "Adam Sandler acted in the same 8 movies that Dennis Dugan directed.\n",
        "\n",
        "a.name\n",
        "\n",
        "d.name\n",
        "\n",
        "numMovies\n",
        "\n",
        "--------------------------------\n",
        "\"Clint Eastwood\"\n",
        "\n",
        "\"Clint Eastwood\"\n",
        "\n",
        "20\n",
        "\n",
        "----------------------------------\n",
        "\n",
        "\"Woody Allen\"\n",
        "\n",
        "\"Woody Allen\"\n",
        "\n",
        "19\n",
        "\n",
        "--------------------------------------------------------\n"
      ],
      "metadata": {
        "id": "MnDK2FcSZYyj"
      }
    },
    {
      "cell_type": "code",
      "source": [
        "MATCH (a:Person)-[:ACTED_IN]->(m:Movie)<-[:DIRECTED]-(d:Person)\n",
        "RETURN a.name, d.name,\n",
        "count(*) AS numMovies\n",
        "ORDER BY numMovies DESC"
      ],
      "metadata": {
        "id": "6E8K0hY0aIhW"
      },
      "execution_count": null,
      "outputs": []
    },
    {
      "cell_type": "markdown",
      "source": [
        "Aggregation in Cypher is different from aggregation in SQL. In Cypher, you need not specify a grouping key. As soon as an aggregation function like count() is used, all non-aggregated result columns become grouping keys.\n",
        "\n",
        "The grouping is implicitly done, based upon the fields in the RETURN clause.\n",
        "\n",
        "If you specify count(n), the graph engine calculates the number of non-null occurrences of n. If you specify count(*), the graph engine calculates the number of rows retrieved, including those with null values."
      ],
      "metadata": {
        "id": "NmvfVgFjaLZc"
      }
    },
    {
      "cell_type": "markdown",
      "source": [
        "##Lists in the graph\n",
        "You have already seen data in the graph that is stored as lists:\n",
        "\n",
        "For this query, notice that these lists are shown in square brackets and each element of the list is separated by a comma. These lists contain a set of strings.\n",
        "\n",
        "------------------------------\n",
        "languages\n",
        "\n",
        "countries\n",
        "\n",
        "----------------------------------\n",
        "\n",
        "[\"English\"]\n",
        "\n",
        "[\"USA\"]\n",
        "\n",
        "-----------------------------------\n",
        "\n",
        "[\"English\", \" French\"]\n",
        "\n",
        "[\"USA\"]\n",
        "\n",
        "-------------------------------------------------"
      ],
      "metadata": {
        "id": "uTtZLI7eagab"
      }
    },
    {
      "cell_type": "code",
      "source": [
        "MATCH (m:Movie)\n",
        "RETURN m.languages AS languages,\n",
        "m.countries AS countries\n",
        "LIMIT 10"
      ],
      "metadata": {
        "id": "uQKSQM85ayQE"
      },
      "execution_count": null,
      "outputs": []
    },
    {
      "cell_type": "markdown",
      "source": [
        "##Returning a list\n",
        "You can return a list by specifying the square brackets:\n",
        "\n",
        "This query returns the name, and the lifeTime list that includes the born and died values for each person.\n",
        "\n",
        "p.name\n",
        "\n",
        "lifeTime\n",
        "\n",
        "-------------------------\n",
        "\n",
        "\"François Lallement\"\n",
        "\n",
        "[\n",
        "\"1877-02-04\"\n",
        ",\n",
        "\"1954-01-01\"\n",
        "]\n",
        "\n",
        "----------------------------------"
      ],
      "metadata": {
        "id": "B5hzUEhha0bU"
      }
    },
    {
      "cell_type": "code",
      "source": [
        "MATCH (p:Person)\n",
        "RETURN p.name, [p.born, p.died] AS lifeTime\n",
        "LIMIT 10"
      ],
      "metadata": {
        "id": "COy2kdcia9Xl"
      },
      "execution_count": null,
      "outputs": []
    },
    {
      "cell_type": "markdown",
      "source": [
        "##Using collect() to create a list\n",
        "Cypher has a built-in aggregation function, collect() that enables you to aggregate values into a list. The value can be any expression, for instance a property value, a node, or result of a function or operation.\n",
        "\n",
        "\n",
        "This query returns a list of movie titles associated with each actor. The rows are presented such that actors with the greatest number of titles are returned first."
      ],
      "metadata": {
        "id": "Rz0eBp4k47Dg"
      }
    },
    {
      "cell_type": "code",
      "source": [
        "MATCH (a:Person)-[:ACTED_IN]->(m:Movie)\n",
        "RETURN a.name AS actor,\n",
        "count(*) AS total,\n",
        "collect(m.title) AS movies\n",
        "ORDER BY total DESC LIMIT 10"
      ],
      "metadata": {
        "id": "dGdkiO-P49Pw"
      },
      "execution_count": null,
      "outputs": []
    },
    {
      "cell_type": "markdown",
      "source": [
        "##Eliminating duplication in lists\n",
        "Just as you have learned to eliminate duplication in data returned using DISTINCT, you can also eliminate duplication in a list.\n",
        "\n",
        "Here is a query that has duplication in its result:\n",
        "\n",
        "When this query executes, it returns duplicate titles in the Movies list."
      ],
      "metadata": {
        "id": "u-IF13vO5Lcy"
      }
    },
    {
      "cell_type": "code",
      "source": [
        "MATCH (a:Person)-[:ACTED_IN]->(m:Movie)\n",
        "WHERE m.year = 1920\n",
        "RETURN  collect(m.title) AS movies,\n",
        "collect( a.name) AS actors"
      ],
      "metadata": {
        "id": "fQUnBdo25QvS"
      },
      "execution_count": null,
      "outputs": []
    },
    {
      "cell_type": "markdown",
      "source": [
        "You can eliminate duplication in the list as follows:"
      ],
      "metadata": {
        "id": "nfIIWWgM5VRS"
      }
    },
    {
      "cell_type": "code",
      "source": [
        "MATCH (a:Person)-[:ACTED_IN]->(m:Movie)\n",
        "WHERE m.year = 1920\n",
        "RETURN  collect( DISTINCT m.title) AS movies,\n",
        "collect( a.name) AS actors"
      ],
      "metadata": {
        "id": "mUn12mDb5Vyb"
      },
      "execution_count": null,
      "outputs": []
    },
    {
      "cell_type": "markdown",
      "source": [
        "##Collecting nodes\n",
        "Rather than collecting the values of the title properties for movies, you can collect the nodes. For this simple query, it is the same visual result as returning m, but for more complex queries, you will learn later in this course that collecting nodes and using them for a later step of the query is useful."
      ],
      "metadata": {
        "id": "KHqnW4Y36pe6"
      }
    },
    {
      "cell_type": "code",
      "source": [
        "MATCH (p:Person)-[:ACTED_IN]->(m:Movie)\n",
        "WHERE p.name ='Tom Cruise'\n",
        "RETURN collect(m) AS tomCruiseMovies"
      ],
      "metadata": {
        "id": "iXA52RYr6rPU"
      },
      "execution_count": null,
      "outputs": []
    },
    {
      "cell_type": "markdown",
      "source": [
        "##Accessing elements of a list\n",
        "You can access particular elements of the list using the [index-value] notation where a list begins with index 0.\n",
        "\n",
        "In this example we return the first cast member for each movie.\n",
        "\n",
        "--------------------------\n",
        "\n",
        "movie\n",
        "\n",
        "castMember\n",
        "\n",
        "castSize\n",
        "\n",
        "----------------------------\n",
        "\n",
        "\"Toy Story\"\n",
        "\n",
        "\"Jim Varney\"\n",
        "\n",
        "4\n",
        "\n",
        "------------------------------"
      ],
      "metadata": {
        "id": "W5tmTjQDmg_l"
      }
    },
    {
      "cell_type": "code",
      "source": [
        "MATCH (a:Person)-[:ACTED_IN]->(m:Movie)\n",
        "RETURN m.title AS movie,\n",
        "collect(a.name)[0] AS castMember,\n",
        "size(collect(a.name)) as castSize"
      ],
      "metadata": {
        "id": "tvIG41fMm7LH"
      },
      "execution_count": null,
      "outputs": []
    },
    {
      "cell_type": "markdown",
      "source": [
        "You can also return a slice of a collection.\n",
        "\n",
        "This query returns the second to the end of the list names of actors."
      ],
      "metadata": {
        "id": "WJSZYvehnJA6"
      }
    },
    {
      "cell_type": "code",
      "source": [
        "MATCH (a:Person)-[:ACTED_IN]->(m:Movie)\n",
        "RETURN m.title AS movie,\n",
        "collect(a.name)[2..] AS castMember,\n",
        "size(collect(a.name)) as castSize"
      ],
      "metadata": {
        "id": "oPpCsEifnKTz"
      },
      "execution_count": null,
      "outputs": []
    },
    {
      "cell_type": "markdown",
      "source": [
        "##Other aggregating functions\n",
        "There are more aggregating functions that may be useful for your application such as:\n",
        "\n",
        "min()\n",
        "\n",
        "max()\n",
        "\n",
        "avg()\n",
        "\n",
        "stddev()\n",
        "\n",
        "sum()\n",
        "\n",
        "##count() versus size()\n",
        "You can either use count() to count the number of rows, or alternatively, you can return the size of the collected results. The size() function returns the number of elements in a list.\n",
        "\n",
        "Here we use size() to return the number of elements in the list:\n",
        "\n",
        "-------------------------\n",
        "\n",
        "actor.name\n",
        "\n",
        "director.name\n",
        "\n",
        "collaborations\n",
        "\n",
        "movies\n",
        "-------------------------------------\n",
        "\n",
        "\"Jim Varney\"\n",
        "\n",
        "\"John Lasseter\"\n",
        "\n",
        "1\n",
        "\n",
        "[\"Toy Story\"]\n",
        "\n",
        "----------------------------------------\n",
        "\n",
        "As you gain more experience with query tuning, you will learn that **count() may be more efficient** because it gets its values for node counts or relationships from a node from the internal count store of the graph."
      ],
      "metadata": {
        "id": "E8I-sPlvnlpQ"
      }
    },
    {
      "cell_type": "code",
      "source": [
        "MATCH (actor:Person)-[:ACTED_IN]->(m:Movie)<-[:DIRECTED]-(director:Person)\n",
        "RETURN actor.name, director.name,\n",
        "size(collect(m)) AS collaborations,\n",
        "collect(m.title) AS movies"
      ],
      "metadata": {
        "id": "6xhR4Auvn8QS"
      },
      "execution_count": null,
      "outputs": []
    },
    {
      "cell_type": "markdown",
      "source": [
        "If we profile this query (run it at least twice):\n",
        "\n"
      ],
      "metadata": {
        "id": "6DfjM-IIoo8G"
      }
    },
    {
      "cell_type": "code",
      "source": [
        "//Query 1\n",
        "PROFILE MATCH (g:Genre)<-[:IN_GENRE]-(m)\n",
        "RETURN g.name AS genre,\n",
        "size(collect(m)) AS numMovies\n",
        "ORDER BY size(collect(m)) DESC\n",
        "\n",
        "#Cypher version: 5, planner: COST, runtime: PIPELINED. 20478 total db hits in 227 ms"
      ],
      "metadata": {
        "id": "b7Fv99kfopcW"
      },
      "execution_count": null,
      "outputs": []
    },
    {
      "cell_type": "markdown",
      "source": [
        "This query uses count():\n",
        "\n",
        "The Query 1 has different performance characteristics. You should always test the performance of your queries before you deploy your application."
      ],
      "metadata": {
        "id": "tMYz-UONovuh"
      }
    },
    {
      "cell_type": "code",
      "source": [
        "//Query 2\n",
        "PROFILE MATCH (g:Genre)<-[:IN_GENRE]-(m:Movie)\n",
        "RETURN g.name AS genre,\n",
        "count(m) AS numMovies\n",
        "ORDER BY count(m) DESC\n",
        "\n",
        "#Cypher version: 5, planner: COST, runtime: PIPELINED. 61158 total db hits in 80 ms"
      ],
      "metadata": {
        "id": "a_BzRPayowUq"
      },
      "execution_count": null,
      "outputs": []
    },
    {
      "cell_type": "markdown",
      "source": [
        "####What genre of movies is the highest and how many movies are in that genre?"
      ],
      "metadata": {
        "id": "NuahyQswpQL0"
      }
    },
    {
      "cell_type": "code",
      "source": [
        "MATCH (g:Genre)<-[:IN_GENRE]-(m:Movie)\n",
        "RETURN g.name AS genre,\n",
        "count(m) AS numMovies\n",
        "ORDER BY count(m) DESC LIMIT 1"
      ],
      "metadata": {
        "id": "G4TRhGUbpbx7"
      },
      "execution_count": null,
      "outputs": []
    },
    {
      "cell_type": "markdown",
      "source": [
        "##List comprehension\n",
        "You can create a **list by evaluating an expression** that tests for list inclusion."
      ],
      "metadata": {
        "id": "5PsnsF_lqAca"
      }
    },
    {
      "cell_type": "code",
      "source": [
        "MATCH (m:Movie)\n",
        "RETURN m.title as movie,\n",
        "[x IN m.countries WHERE x CONTAINS 'USA' OR x CONTAINS 'Germany']\n",
        "AS country LIMIT 500"
      ],
      "metadata": {
        "id": "Z_SvEwe_qRLN"
      },
      "execution_count": null,
      "outputs": []
    },
    {
      "cell_type": "markdown",
      "source": [
        "##Pattern comprehension\n",
        "Pattern comprehension is a very powerful way to create lists without changing the cardinality of the query. It behaves like an **OPTIONAL MATCH combined with collect().**\n",
        "\n",
        "Notice that for pattern comprehension we specify the list with the square braces to include the pattern followed by the pipe character to then specify what value will be placed in the list from the pattern.\n",
        "\n",
        "[\n",
        "\n",
        "pattern\n",
        "\n",
        "|\n",
        "\n",
        "value\n",
        "\n",
        "]\n",
        "\n",
        "-----------------------------------\n",
        "\n",
        "m.title\n",
        "\n",
        "directors\n",
        "\n",
        "actors\n",
        "\n",
        "-----------------------\n",
        "\n",
        "\"Mission: Impossible - Rogue Nation\"\n",
        "\n",
        "[\"Christopher McQuarrie\"]\n",
        "\n",
        "[\"Simon Pegg\", \"Tom Cruise\", \"Jeremy Renner\", \"Rebecca Ferguson\"]\n",
        "\n",
        "--------------------------------\n",
        "\n",
        "###This query returns the movies released in 2015. Each row contains the title of the movie, the list of director names, and the list of actor names."
      ],
      "metadata": {
        "id": "AnWKJwPXq-jE"
      }
    },
    {
      "cell_type": "code",
      "source": [
        "MATCH (m:Movie)\n",
        "WHERE m.year = 2015\n",
        "RETURN m.title,\n",
        "[(dir:Person)-[:DIRECTED]->(m) | dir.name] AS directors,\n",
        "[(actor:Person)-[:ACTED_IN]->(m) | actor.name] AS actors"
      ],
      "metadata": {
        "id": "JqmUubtXraiu"
      },
      "execution_count": null,
      "outputs": []
    },
    {
      "cell_type": "markdown",
      "source": [
        "###Using pattern comprehension to **create a list where we specify a filter for the pattern.**\n",
        "\n",
        "-------------------------------\n",
        "\n",
        "movies\n",
        "\n",
        "------------------------------------\n",
        "\n",
        "[\"Toy Story of Terror: 2013\", \"Toy Story 3: 2010\", \"Toy Story 2: 1999\", \"Toy Story: 1995\"]\n",
        "\n",
        "-----------------------------------------\n",
        "\n",
        "For this pattern comprehension, the title of the movie is concatenated with the year of the movie as a value to add as an element of the list returned."
      ],
      "metadata": {
        "id": "hCl2VawAslLe"
      }
    },
    {
      "cell_type": "code",
      "source": [
        "MATCH (a:Person {name: 'Tom Hanks'})\n",
        "RETURN [(a)-->(b:Movie)\n",
        "WHERE b.title CONTAINS \"Toy\" | b.title + \": \" + b.year]\n",
        "AS movies"
      ],
      "metadata": {
        "id": "CBVXU3hHtAfr"
      },
      "execution_count": null,
      "outputs": []
    },
    {
      "cell_type": "markdown",
      "source": [
        "##Working with maps\n",
        "A Cypher map is **list of key/value pairs** where each element of the list is of the format **'key': value.** A node or relationship can have a property that is a map.\n",
        "\n",
        "For example, a map of months and the number of days per month could be:\n",
        "\n",
        "**{Jan: 31, Feb: 28, Mar: 31, Apr: 30 , May: 31, Jun: 30 , Jul: 31, Aug: 31, Sep: 30, Oct: 31, Nov: 30, Dec: 31}**\n",
        "\n",
        "Using this map, we can return the value for one of its elements:\n",
        "\n",
        "Here we use the key, 'Feb' to access its value."
      ],
      "metadata": {
        "id": "OioGecOltmIC"
      }
    },
    {
      "cell_type": "code",
      "source": [
        "RETURN {Jan: 31, Feb: 28, Mar: 31, Apr: 30 ,\n",
        "May: 31, Jun: 30 , Jul: 31, Aug: 31, Sep: 30,\n",
        "Oct: 31, Nov: 30, Dec: 31}['Feb'] AS daysInFeb"
      ],
      "metadata": {
        "id": "rBCFpfiAt68t"
      },
      "execution_count": null,
      "outputs": []
    },
    {
      "cell_type": "markdown",
      "source": [
        "####Alternatively, you can access a value with the **'.' notation:**"
      ],
      "metadata": {
        "id": "Ha_UJOYAIM7F"
      }
    },
    {
      "cell_type": "code",
      "source": [
        "RETURN {Jan: 31, Feb: 28, Mar: 31, Apr: 30 ,\n",
        "May: 31, Jun: 30 , Jul: 31, Aug: 31, Sep: 30,\n",
        "Oct: 31, Nov: 30, Dec: 31}.Feb AS daysInFeb"
      ],
      "metadata": {
        "id": "qq_2VlvtIVZT"
      },
      "execution_count": null,
      "outputs": []
    },
    {
      "cell_type": "markdown",
      "source": [
        "####And you can return **a list of keys** of a map as follows:"
      ],
      "metadata": {
        "id": "weursHKaIgCZ"
      }
    },
    {
      "cell_type": "code",
      "source": [
        "RETURN keys({Jan: 31, Feb: 28, Mar: 31, Apr: 30 ,\n",
        "May: 31, Jun: 30 ,Jul: 31, Aug: 31, Sep: 30,\n",
        "Oct: 31, Nov: 30, Dec: 31}) AS months"
      ],
      "metadata": {
        "id": "RFtQptElIjnE"
      },
      "execution_count": null,
      "outputs": []
    },
    {
      "cell_type": "markdown",
      "source": [
        "####A node in the graph, when returned in Neo4j Browser is **a map,** when displayed as table rows. For example, a Movie node:"
      ],
      "metadata": {
        "id": "SZNE4KZbIqCY"
      }
    },
    {
      "cell_type": "code",
      "source": [
        "MATCH (m:Movie)\n",
        "RETURN m LIMIT 1"
      ],
      "metadata": {
        "id": "8z09Sq4hI2dA"
      },
      "execution_count": null,
      "outputs": []
    },
    {
      "cell_type": "markdown",
      "source": [
        "##Map projections\n",
        "Map projections are **when you can use retrieved nodes to create or return some of the information in the nodes.** A Movie node can have the properties title, released, and tagline. Suppose we want to return the Movie node information, but without the tagline property? You can do so using map projections:"
      ],
      "metadata": {
        "id": "_a6RmzEwJZ9B"
      }
    },
    {
      "cell_type": "code",
      "source": [
        "MATCH (m:Movie)\n",
        "WHERE m.title CONTAINS 'Matrix'\n",
        "RETURN m { .title, .released } AS movie"
      ],
      "metadata": {
        "id": "SHzhWgeJJviP"
      },
      "execution_count": null,
      "outputs": []
    },
    {
      "cell_type": "markdown",
      "source": [
        "##1. List of actors in the movie Toy Story\n",
        "We want to return the list of names of actors in the movie Toy Story as a single row. What code do you use?"
      ],
      "metadata": {
        "id": "5sLd0VIbKaVR"
      }
    },
    {
      "cell_type": "code",
      "source": [
        "MATCH (movie:Movie {title:'Toy Story'})<-[:ACTED_IN]-(actor:Person)\n",
        "RETURN collect(actor.name) AS actors"
      ],
      "metadata": {
        "id": "kNQNZVkJKbtA"
      },
      "execution_count": null,
      "outputs": []
    },
    {
      "cell_type": "markdown",
      "source": [
        "##2. Aggregating data\n",
        "What Cypher function can you use to return the number of elements in a list of Movie nodes, movies?"
      ],
      "metadata": {
        "id": "lx-RLQfJKjxh"
      }
    },
    {
      "cell_type": "code",
      "source": [
        "size(movies) is the correct answer.\n",
        "\n",
        "size(collect(movies)) is incorrect because movies is already a list so you do not need to create another list.\n",
        "\n",
        "count() is used to count the number of rows or variables returned, but is not used to return the number of elements in a list."
      ],
      "metadata": {
        "id": "PTgXfX9nKnZ2"
      },
      "execution_count": null,
      "outputs": []
    },
    {
      "cell_type": "markdown",
      "source": [
        "##Most active director?\n",
        "Using count() write a query to return the number of movies a person directed.\n",
        "\n",
        "What is the highest number of movies a director directed in our graph?"
      ],
      "metadata": {
        "id": "Gz-f8_rLNGdW"
      }
    },
    {
      "cell_type": "code",
      "source": [
        "MATCH (d:Director)-[:DIRECTED]-(m)\n",
        "RETURN d.name AS Director,\n",
        "count(*) AS numMovies\n",
        "ORDER BY numMovies DESC\n",
        "LIMIT 5"
      ],
      "metadata": {
        "id": "9ctK_9PxNGqo"
      },
      "execution_count": null,
      "outputs": []
    },
    {
      "cell_type": "markdown",
      "source": [
        "###Largest Number of Actors\n",
        "Write and execute a query to return the list of actors for a movie with a given title. Order and limit the results so that the movie title with the largest number of actors is returned.\n",
        "\n",
        "Hint: There are multiple movies with the same title so you are aggregating by the movie title and not the movieID.\n",
        "\n",
        "What movie title had the largest number of actors? (Enter a case-sensitive string for the movie title.)"
      ],
      "metadata": {
        "id": "th_qG1l8NdlE"
      }
    },
    {
      "cell_type": "code",
      "source": [
        "MATCH (a:Actor)-[:ACTED_IN]->(m:Movie)\n",
        "RETURN m.title AS movie,\n",
        "collect(a.name) AS actors,\n",
        "size(collect(a.name)) AS num\n",
        "ORDER BY num DESC LIMIT 1"
      ],
      "metadata": {
        "id": "XgZW9YvbPMBy"
      },
      "execution_count": null,
      "outputs": []
    },
    {
      "cell_type": "markdown",
      "source": [
        "##How Many Actors?\n",
        "Use the query you just wrote. For the largest cast, how many actors were in the movies with the title \"Hamlet\"?"
      ],
      "metadata": {
        "id": "v_LmZV1_bg-o"
      }
    },
    {
      "cell_type": "code",
      "source": [
        "MATCH (a:Actor)-[:ACTED_IN]->(m:Movie)\n",
        "WHERE m.title =\"Hamlet\"\n",
        "RETURN count(a.name) AS numActors"
      ],
      "metadata": {
        "id": "Gwri_VRtbiJF"
      },
      "execution_count": null,
      "outputs": []
    },
    {
      "cell_type": "markdown",
      "source": [
        "##Date and Time data in Cypher\n",
        "Cypher has these basic formats for storing date and time data."
      ],
      "metadata": {
        "id": "iN9yj-x9dMMB"
      }
    },
    {
      "cell_type": "code",
      "source": [
        "RETURN date(), datetime(), time()"
      ],
      "metadata": {
        "id": "gQbfhYIUdN-g"
      },
      "execution_count": null,
      "outputs": []
    },
    {
      "cell_type": "markdown",
      "source": [
        "##Create a node test with date properties."
      ],
      "metadata": {
        "id": "dNzj0blYel9n"
      }
    },
    {
      "cell_type": "code",
      "source": [
        "MERGE (x:Test {id: 1})\n",
        "SET x.date = date(),\n",
        "    x.datetime = datetime(),\n",
        "    x.time = time()\n",
        "RETURN x"
      ],
      "metadata": {
        "id": "NDP7nmbyet1O"
      },
      "execution_count": null,
      "outputs": []
    },
    {
      "cell_type": "code",
      "source": [
        "{\n",
        "  \"identity\": 33880,\n",
        "  \"labels\": [\n",
        "    \"Test\"\n",
        "  ],\n",
        "  \"properties\": {\n",
        "    \"date\": \"2024-08-23\",\n",
        "    \"datetime\": \"2024-08-23T18:22:26.511000000Z\",\n",
        "    \"time\": \"18:22:26.511000000Z\",\n",
        "    \"id\": 1\n",
        "  },\n",
        "  \"elementId\": \"33880\"\n",
        "}"
      ],
      "metadata": {
        "id": "w8RQM_VUeyY6"
      },
      "execution_count": null,
      "outputs": []
    },
    {
      "cell_type": "markdown",
      "source": [
        "Next, execute this code that will show the types of the properties in the graph:"
      ],
      "metadata": {
        "id": "ct5OU8bmfCGK"
      }
    },
    {
      "cell_type": "code",
      "source": [
        "CALL apoc.meta.nodeTypeProperties()"
      ],
      "metadata": {
        "id": "ycJmrNd0fHYW"
      },
      "execution_count": null,
      "outputs": []
    },
    {
      "cell_type": "markdown",
      "source": [
        "###Extracting components of a date or datetime\n",
        "You can access the components of a date or datetime property:"
      ],
      "metadata": {
        "id": "WQ6Jgq4cXGf7"
      }
    },
    {
      "cell_type": "code",
      "source": [
        "MATCH (x:Test {id: 1})\n",
        "RETURN x.date.day, x.date.year,\n",
        "x.datetime.year, x.datetime.hour,\n",
        "x.datetime.minute"
      ],
      "metadata": {
        "id": "AL5tFj5rXIbI"
      },
      "execution_count": null,
      "outputs": []
    },
    {
      "cell_type": "markdown",
      "source": [
        "##Setting date values\n",
        "You can use a string to set a value for a date:"
      ],
      "metadata": {
        "id": "DPUnaXppXatv"
      }
    },
    {
      "cell_type": "code",
      "source": [
        "MATCH (x:Test {id: 1})\n",
        "SET x.date1 = date('2022-01-01'),\n",
        "    x.date2 = date('2022-01-15')\n",
        "RETURN x"
      ],
      "metadata": {
        "id": "773p7jU8Xb-0"
      },
      "execution_count": null,
      "outputs": []
    },
    {
      "cell_type": "markdown",
      "source": [
        "###Setting datetime values\n",
        "You can use a string to set a value for a datetime:"
      ],
      "metadata": {
        "id": "FPszHJXIXknI"
      }
    },
    {
      "cell_type": "code",
      "source": [
        "MATCH (x:Test {id: 1})\n",
        "SET x.datetime1 = datetime('2022-01-04T10:05:20'),\n",
        "    x.datetime2 = datetime('2022-04-09T18:33:05')\n",
        "RETURN x"
      ],
      "metadata": {
        "id": "vud3GI6dXpch"
      },
      "execution_count": null,
      "outputs": []
    },
    {
      "cell_type": "markdown",
      "source": [
        "##Working with durations\n",
        "A duration is used to determine the difference between two date/datetime values or to add or subtract a duration to a value.\n",
        "\n",
        "This code returns the duration between date1 and date2 in the graph:"
      ],
      "metadata": {
        "id": "Tg6yasnhXvD6"
      }
    },
    {
      "cell_type": "code",
      "source": [
        "MATCH (x:Test {id: 1})\n",
        "RETURN duration.between(x.date1,x.date2)"
      ],
      "metadata": {
        "id": "mP4n7D1cXwPK"
      },
      "execution_count": null,
      "outputs": []
    },
    {
      "cell_type": "markdown",
      "source": [
        "We can return the duration in days between two datetime values:"
      ],
      "metadata": {
        "id": "DLRBf0JqX8D4"
      }
    },
    {
      "cell_type": "code",
      "source": [
        "MATCH (x:Test {id: 1})\n",
        "RETURN duration.inDays(x.datetime1,x.datetime2).days"
      ],
      "metadata": {
        "id": "IPV-c_OMX8q3"
      },
      "execution_count": null,
      "outputs": []
    },
    {
      "cell_type": "markdown",
      "source": [
        "We can add a duration of 6 months:"
      ],
      "metadata": {
        "id": "4SQ7-N3oYB9M"
      }
    },
    {
      "cell_type": "code",
      "source": [
        "MATCH (x:Test {id: 1})\n",
        "RETURN x.date1 + duration({months: 6})"
      ],
      "metadata": {
        "id": "PvLsyk26YCgm"
      },
      "execution_count": null,
      "outputs": []
    },
    {
      "cell_type": "markdown",
      "source": [
        "###Using APOC to format dates and times\n",
        "The APOC library has many useful functions for working with all types of data.\n",
        "\n",
        "Here is one way you can use APOC to format a datetime:"
      ],
      "metadata": {
        "id": "3gx4FiLnYJiz"
      }
    },
    {
      "cell_type": "code",
      "source": [
        "MATCH (x:Test {id: 1})\n",
        "RETURN x.datetime as Datetime,\n",
        "apoc.temporal.format( x.datetime, 'HH:mm:ss.SSSS')\n",
        "AS formattedDateTime"
      ],
      "metadata": {
        "id": "jbhF7cFeYKvB"
      },
      "execution_count": null,
      "outputs": []
    },
    {
      "cell_type": "markdown",
      "source": [
        "Here is another example:\n",
        "\n"
      ],
      "metadata": {
        "id": "B8coc4zFYQR-"
      }
    },
    {
      "cell_type": "code",
      "source": [
        "MATCH (x:Test {id: 1})\n",
        "RETURN apoc.date.toISO8601(x.datetime.epochMillis, \"ms\")\n",
        "AS iso8601"
      ],
      "metadata": {
        "id": "j2fKIy1PYRAn"
      },
      "execution_count": null,
      "outputs": []
    },
    {
      "cell_type": "markdown",
      "source": [
        "##1. How long did Charlie Chaplin live?\n",
        "We need to calculate how old Charlie Chaplin was when he died. What code do you use?"
      ],
      "metadata": {
        "id": "4-vWzZB6YblK"
      }
    },
    {
      "cell_type": "code",
      "source": [
        "MATCH (p:Person)\n",
        "WHERE p.name = 'Charlie Chaplin'\n",
        "RETURN duration.between(p.born,p.died).years"
      ],
      "metadata": {
        "id": "1SJMFiEpYdAP"
      },
      "execution_count": null,
      "outputs": []
    },
    {
      "cell_type": "markdown",
      "source": [
        "##2. Temporal data stored in graph\n",
        "How is the born and died properties for a Person node stored in the graph?"
      ],
      "metadata": {
        "id": "YrVEIOyLZT_d"
      }
    },
    {
      "cell_type": "code",
      "source": [
        " Date"
      ],
      "metadata": {
        "id": "wW7PgsGOZVNS"
      },
      "execution_count": null,
      "outputs": []
    },
    {
      "cell_type": "markdown",
      "source": [
        "###Working with dates and times\n",
        "In the previous lesson, you executed code to create a Test node.\n",
        "\n",
        "Execute this code to create or update the Test node with these date and datetime values:"
      ],
      "metadata": {
        "id": "XZxyknzcZf77"
      }
    },
    {
      "cell_type": "code",
      "source": [
        "MERGE (x:Test {id: 1})\n",
        "SET\n",
        "x.date = date(),\n",
        "x.datetime = datetime(),\n",
        "x.timestamp = timestamp(),\n",
        "x.date1 = date('2022-04-08'),\n",
        "x.date2 = date('2022-09-20'),\n",
        "x.datetime1 = datetime('2022-02-02T15:25:33'),\n",
        "x.datetime2 = datetime('2022-02-02T22:06:12')\n",
        "RETURN x"
      ],
      "metadata": {
        "id": "TGankCHqZhA0"
      },
      "execution_count": null,
      "outputs": []
    },
    {
      "cell_type": "markdown",
      "source": [
        "###Calculate days between two dates\n",
        "Write a query to retrieve this Test node and calculate the number of days between date1 and date2."
      ],
      "metadata": {
        "id": "ePFUhz47Zye4"
      }
    },
    {
      "cell_type": "code",
      "source": [
        "// calculate the duration\n",
        "MATCH (x:Test)\n",
        "RETURN duration.inDays(x.date1,x.date2).days"
      ],
      "metadata": {
        "id": "On8bk7apZytE"
      },
      "execution_count": null,
      "outputs": []
    },
    {
      "cell_type": "markdown",
      "source": [
        "##Calculate minutes between two datetime values\n",
        "Write a query to retrieve this Test node and calculate the number of minutes between datetime1 and datetime2."
      ],
      "metadata": {
        "id": "cokA2Z_GZ-0W"
      }
    },
    {
      "cell_type": "code",
      "source": [
        "// calculate the duration in minutes\n",
        "MATCH (x:Test)\n",
        "RETURN duration.between(x.datetime1,x.datetime2).minutes"
      ],
      "metadata": {
        "id": "IJ0MzoTzaACa"
      },
      "execution_count": null,
      "outputs": []
    },
    {
      "cell_type": "markdown",
      "source": [
        "#Graph Traversal\n",
        "As a developer, you must understand what an execution plan is, how to interpret it, and most importantly, how to make it performant. To understand the execution plan, you must understand how a query starts and then how it is processed as the nodes are traversed in the graph."
      ],
      "metadata": {
        "id": "SZy6UoyncUA1"
      }
    },
    {
      "cell_type": "markdown",
      "source": [
        "##Anchor of a query\n",
        "When the execution plan is created, it determines the set of nodes that will be the starting points for the query. The anchor for a query is often based upon a MATCH clause. The anchor is typically determined by meta-data that is stored in the graph or a filter that is provided inline or in a WHERE clause. The anchor for a query will be based upon the fewest number of nodes that need to be retrieved into memory.\n",
        "\n",
        "Next, we will look at some examples of how queries are anchored based upon the heuristics used by the graph engine.\n",
        "\n",
        "In the above query, the Person nodes are the anchor for the query. This is because there are a total of 28,863 nodes in the graph which is what m represents. There are only 19,047 Person nodes so the execution will retrieve fewer nodes if it anchors with the Person nodes."
      ],
      "metadata": {
        "id": "gsjHFk6IdNk2"
      }
    },
    {
      "cell_type": "code",
      "source": [
        "PROFILE MATCH (p:Person)-[:ACTED_IN]->(m)\n",
        "RETURN p.name, m.title LIMIT 100"
      ],
      "metadata": {
        "id": "pIPLJsOIcWj9"
      },
      "execution_count": null,
      "outputs": []
    },
    {
      "cell_type": "markdown",
      "source": [
        "In the above query the Movie nodes will be the anchor for the query because there are fewer Movie nodes (9,125) than Person nodes (19,047)."
      ],
      "metadata": {
        "id": "hzDNqEcsdulo"
      }
    },
    {
      "cell_type": "code",
      "source": [
        "PROFILE MATCH (p:Person)-[:ACTED_IN]->(m:Movie)\n",
        "RETURN p.name, m.title LIMIT 100"
      ],
      "metadata": {
        "id": "0tmGPTaSdbVh"
      },
      "execution_count": null,
      "outputs": []
    },
    {
      "cell_type": "markdown",
      "source": [
        "In the above query, a filter is specified **which reduces the number of nodes that will be retrieved for the Person node.** Satisfying the filter is the anchor for the query. **If the Person nodes has an index on name, it only retrieves one record. If there is no index, it needs to scan/filter all Person nodes** for the name property."
      ],
      "metadata": {
        "id": "ydvBOXqkkc-l"
      }
    },
    {
      "cell_type": "code",
      "source": [
        "PROFILE MATCH (p:Person)-[:ACTED_IN]->(m:Movie)\n",
        "WHERE p.name = 'Eminem'\n",
        "RETURN p.name, m.title"
      ],
      "metadata": {
        "id": "GKkxqn8zk9-B"
      },
      "execution_count": null,
      "outputs": []
    },
    {
      "cell_type": "markdown",
      "source": [
        "##Multiple anchors\n",
        "By default, an anchor set of nodes is determined by the metadata related to the query path and WHERE clauses to filter the query. In some cases you may have more than one set of anchor nodes.\n",
        "\n",
        "In this query, all p1 nodes are retrieved as well as all p2 nodes. This query has two sets of anchor nodes. It retrieves the anchor nodes before the equality filter is applied. The query planner tries to apply filters as early as possible to reduce cardinality (number of rows)."
      ],
      "metadata": {
        "id": "SsPf272imKwy"
      }
    },
    {
      "cell_type": "code",
      "source": [
        "PROFILE\n",
        "MATCH (p1:Person)-[:ACTED_IN]->(m1)\n",
        "MATCH (m2)<-[:ACTED_IN]-(p2:Person)\n",
        "WHERE p1.name = 'Tom Hanks'\n",
        "AND p2.name = 'Meg Ryan'\n",
        "AND m1 = m2\n",
        "RETURN m1.title"
      ],
      "metadata": {
        "id": "JWpzYaV6mObP"
      },
      "execution_count": null,
      "outputs": []
    },
    {
      "cell_type": "markdown",
      "source": [
        "##Expand to follow paths\n",
        "After the anchor nodes have been retrieved, the next step if the query specifies a path is to follow the path. The loaded, initial nodes that are part of the anchor set have pointers to relationships that point to nodes on the other end of the relationships.\n",
        "\n",
        "The goal here is to eliminate paths from the nodes in memory to nodes that will need to be retrieved. This is where specificity in the relationship types is important in your data model.\n",
        "\n",
        "This query expands to 70 rows because Clint Eastwood has 70 relationships to movies."
      ],
      "metadata": {
        "id": "lIqMAWtynpi9"
      }
    },
    {
      "cell_type": "code",
      "source": [
        "PROFILE MATCH (m:Movie)<--(p:Person)\n",
        "WHERE p.name = 'Clint Eastwood'\n",
        "RETURN  m.title"
      ],
      "metadata": {
        "id": "W5qs0XINnt1R"
      },
      "execution_count": null,
      "outputs": []
    },
    {
      "cell_type": "markdown",
      "source": [
        "This query expands to fewer rows because Clint Eastwood has fewer DIRECTED relationships to movies."
      ],
      "metadata": {
        "id": "AAprSZH_n0yP"
      }
    },
    {
      "cell_type": "code",
      "source": [
        "PROFILE MATCH (m:Movie)<-[:DIRECTED]-(p:Person)\n",
        "WHERE p.name = 'Clint Eastwood'\n",
        "RETURN  m.title"
      ],
      "metadata": {
        "id": "V6kuCOVgn1dI"
      },
      "execution_count": null,
      "outputs": []
    },
    {
      "cell_type": "markdown",
      "source": [
        "####**In addition, the expansion may lead to the need to inspect properties of the relationship and/or the properties of the Movie node. This inspection means that the nodes are brought into memory and possibly eliminated from the nodes in memory after they have been retrieved.**"
      ],
      "metadata": {
        "id": "_XmjL3vkn_ue"
      }
    },
    {
      "cell_type": "markdown",
      "source": [
        "####**Cypher queries with multiple MATCH statements may execute differently than what you may expect. You should always profile your queries to understand how the graph is traversed.**"
      ],
      "metadata": {
        "id": "OZf0ZUBLoCja"
      }
    },
    {
      "cell_type": "markdown",
      "source": [
        "##Basic query traversal\n",
        "Now let’s learn a little more about how traversal works in Neo4j.\n",
        "\n",
        "The Eminem Person node is retrieved.\n",
        "\n",
        "Then the first ACTED_IN relationship is traversed to retrieve the Movie node for 8 Mile.\n",
        "\n",
        "Then the second ACTED_IN relationship is traversed to retrieve the Movie node for Hip Hop Witch, Da.\n",
        "\n",
        "The title property is retrieved so that the results can be returned."
      ],
      "metadata": {
        "id": "R_i_pN_2oPLz"
      }
    },
    {
      "cell_type": "code",
      "source": [
        "MATCH (p:Person)-[:ACTED_IN]->(m:Movie)\n",
        "WHERE p.name = 'Eminem'\n",
        "RETURN  m.title AS movies"
      ],
      "metadata": {
        "id": "BAB5W2m8rL6-"
      },
      "execution_count": null,
      "outputs": []
    },
    {
      "cell_type": "markdown",
      "source": [
        "##Query traversal using multiple patterns\n",
        "Here is another query that contains two patterns:\n",
        "\n",
        "For the first pattern in the query, the Eminem Person node is retrieved.\n",
        "\n",
        "Then the first ACTED_IN relationship is traversed to retrieve the Movie node for 8 Mile.\n",
        "\n",
        "The second pattern in the query is then used.\n",
        "\n",
        "Each ACTED_IN relationship to the same 8 Mile movie is traversed to retrieve three co-actors.\n",
        "\n",
        "If the ACTED_IN relationship has been traversed already, it is not traversed again.\n",
        "\n",
        "Then the second ACTED_IN relationship is traversed to retrieve the Movie node for Hip Hop Witch, Da.\n",
        "\n",
        "Each ACTED_IN relationship to the same Hip Hop Witch, Da movie is traversed to retrieve three co-actors.\n",
        "\n",
        "The title property for the Movie node is retrieved so that the results can be returned."
      ],
      "metadata": {
        "id": "VW7ksKSirSH8"
      }
    },
    {
      "cell_type": "code",
      "source": [
        "MATCH (p:Person)-[:ACTED_IN]->(m:Movie),\n",
        "(coActors:Person)-[:ACTED_IN]->(m)\n",
        "WHERE p.name = 'Eminem'\n",
        "RETURN m.title AS movie ,collect(coActors.name) AS coActors"
      ],
      "metadata": {
        "id": "-Oh6jZsDrTOB"
      },
      "execution_count": null,
      "outputs": []
    },
    {
      "cell_type": "markdown",
      "source": [
        "##Query traversal using multiple MATCH clauses\n",
        "Here is another query that contains two MATCH clauses:\n",
        "\n",
        "For the first MATCH clause in the query, the Eminem Person node is retrieved.\n",
        "\n",
        "Then the first ACTED_IN relationship is traversed to retrieve the Movie node for 8 Mile.\n",
        "\n",
        "The second MATCH clause in the query is then executed.\n",
        "\n",
        "Each ACTED_IN relationship to the same 8 Mile movie is traversed to retrieve all actors, including the relationship to the Eminem node.\n",
        "\n",
        "Then the query returns back to the first MATCH clause to traverse the ACTED_IN relationship to the Hip Hop Witch, Da movie.\n",
        "\n",
        "The second MATCH clause in the query is then executed.\n",
        "\n",
        "Each ACTED_IN relationship to the same Hip Hop Witch, Da movie is traversed to retrieve all actors."
      ],
      "metadata": {
        "id": "4D_HhdYptkxw"
      }
    },
    {
      "cell_type": "code",
      "source": [
        "MATCH (p:Person)-[:ACTED_IN]->(m:Movie)\n",
        "WHERE p.name = 'Eminem'\n",
        "MATCH (allActors:Person)-[:ACTED_IN]->(m)\n",
        "RETURN m.title AS movie, collect(allActors.name) AS allActors"
      ],
      "metadata": {
        "id": "8xXKUStOt_BY"
      },
      "execution_count": null,
      "outputs": []
    },
    {
      "cell_type": "markdown",
      "source": [
        "##Avoiding labels for better performance\n",
        "Another graph optimization that you can take advantage of is to **reduce labels used in your query patterns.** Having a label for the anchor nodes in a pattern is good:\n",
        "\n",
        "\n",
        "**The Person label for the anchor node retrieval is good here, but the label for the other side of the pattern is unnecessary. Having the label on the non-anchor node forces a label check, which is really not necessary.**"
      ],
      "metadata": {
        "id": "HWwpUdaLuTVu"
      }
    },
    {
      "cell_type": "code",
      "source": [
        "PROFILE MATCH (p:Person)-[:ACTED_IN]->(m:Movie)\n",
        "WHERE p.name = 'Tom Hanks'\n",
        "RETURN m.title AS movie\n",
        "\n",
        "#Cypher version: 5, planner: COST, runtime: PIPELINED. 195 total db hits in 24 ms."
      ],
      "metadata": {
        "id": "Ix4l2nnPumLW"
      },
      "execution_count": null,
      "outputs": []
    },
    {
      "cell_type": "markdown",
      "source": [
        "Here is a more performant way to do this query:"
      ],
      "metadata": {
        "id": "cZzlgPYwuqTG"
      }
    },
    {
      "cell_type": "code",
      "source": [
        "PROFILE MATCH (p:Person)-[:ACTED_IN]->(m)\n",
        "WHERE p.name = 'Tom Hanks'\n",
        "RETURN m.title AS movie\n",
        "\n",
        "#Cypher version: 5, planner: COST, runtime: PIPELINED. 119 total db hits in 2 ms."
      ],
      "metadata": {
        "id": "S-Ln6o7AurMc"
      },
      "execution_count": null,
      "outputs": []
    },
    {
      "cell_type": "markdown",
      "source": [
        "##Returning paths\n",
        "In Neo4j Browser, when you return nodes, **by default the relationships are visualized.** For example, this query is visualized with its associated paths that were traversed for the query:\n",
        "\n",
        "The visualization includes one Person node that is connected to four Movie nodes using five relationships. The objects that are returned (table view), are five rows where the Person node values are in each row and the one Movie node is repeated. There is no relationship information returned.\n",
        "\n"
      ],
      "metadata": {
        "id": "Ct2gcYTPvJrW"
      }
    },
    {
      "cell_type": "code",
      "source": [
        "MATCH (person:Person)-[]->(movie)\n",
        "WHERE person.name = 'Walt Disney'\n",
        "RETURN person, movie"
      ],
      "metadata": {
        "id": "gMh0rGTbvdyy"
      },
      "execution_count": null,
      "outputs": []
    },
    {
      "cell_type": "markdown",
      "source": [
        "You can return paths in your query as follows:\n",
        "\n",
        "This query returns 5 paths. If you view the objects (table view in Neo4j Browser), you will see that each row returned represents the Person node, the Movie node, and the relationship."
      ],
      "metadata": {
        "id": "BPPFZsoTvhMg"
      }
    },
    {
      "cell_type": "code",
      "source": [
        "MATCH p = ((person:Person)-[]->(movie))\n",
        "WHERE person.name = 'Walt Disney'\n",
        "RETURN p"
      ],
      "metadata": {
        "id": "C76YA97vvzgq"
      },
      "execution_count": null,
      "outputs": []
    },
    {
      "cell_type": "markdown",
      "source": [
        "###In some applications, it may be useful to work with path objects. Cypher has some useful functions that can be used to analyze paths:\n",
        "\n",
        "1. length(p) returns the length of a path.\n",
        "\n",
        "2. nodes(p) returns a list containing the nodes for a path.\n",
        "\n",
        "3. relationships(p) returns a list containing the relationships for a path."
      ],
      "metadata": {
        "id": "gDB9EgomwAel"
      }
    },
    {
      "cell_type": "markdown",
      "source": [
        "#1. Best query performance\n",
        "We want to return a list of names of reviewers who rated the movie, Toy Story. What query will perform best?\n",
        "\n",
        "###Solution\n",
        "\n",
        "The correct answer is: MATCH (movie:Movie)←[:RATED]-(reviewer) will perform the best because it uses a label for the anchor node, Movie and specifies the relationship type.\n",
        "\n",
        "You need not specify a label for non-anchor nodes in the pattern.\n",
        "\n",
        "Specifying the relationship type in a pattern will always yield better performance."
      ],
      "metadata": {
        "id": "qJj_TBFEwjxM"
      }
    },
    {
      "cell_type": "code",
      "source": [
        "MATCH (movie:Movie)←[:RATED]-(reviewer)\n",
        "WHERE movie.title = 'Toy Story'\n",
        "RETURN reviewer.name"
      ],
      "metadata": {
        "id": "msINqJsUwrmO"
      },
      "execution_count": null,
      "outputs": []
    },
    {
      "cell_type": "markdown",
      "source": [
        "##2. Traversing the graph\n",
        "What term best describes the traversal behavior during a query?"
      ],
      "metadata": {
        "id": "Csug8A9awx9F"
      }
    },
    {
      "cell_type": "code",
      "source": [
        " depth-first"
      ],
      "metadata": {
        "id": "H7BRlQ81wFYY"
      },
      "execution_count": null,
      "outputs": []
    },
    {
      "cell_type": "markdown",
      "source": [
        "##Traversing the Graph\n",
        "\n",
        "How many relationships are traversed to return the result? Ans:16\n",
        "\n",
        "m.title\n",
        "\n",
        "collect(coActors.name)\n",
        "\n",
        "------------\n",
        "\"Money Train\"\n",
        "\n",
        "[\"Wesley Snipes\", \"Woody Harrelson\", \"Jennifer Lopez\"]\n",
        "\n",
        "---------------\n",
        "\n",
        "\"Paul Williams Still Alive\"\n",
        "\n",
        "[\"Paul Williams\", \"Warren Beatty\", \"Karen Carpenter\"]\n",
        "\n",
        "------------------------\n",
        "\n",
        "\"In Cold Blood\"\n",
        "\n",
        "[\"John Forsythe\", \"Paul Stewart\", \"Scott Wilson\"]\n",
        "\n",
        "-----------------------------\n",
        "\n",
        "\"Electra Glide in Blue\"\n",
        "\n",
        "[\"Billy Green Bush\", \"Jeannine Riley\", \"Mitchell Ryan\"]\n"
      ],
      "metadata": {
        "id": "spHU_ZzHw3yf"
      }
    },
    {
      "cell_type": "markdown",
      "source": [
        "###Hint\n",
        "\n",
        "The query finds each movie that Robert Blake acted in. How many ACTED_IN traversals is that?\n",
        "\n",
        "For each movie, it uses a second MATCH to find all actors to acted in that movie. Because there are two MATCH clauses, it traverses the ACTED_IN relationship from Robert Blake twice.\n",
        "\n",
        "How many ACTED_IN relationships are traversed?"
      ],
      "metadata": {
        "id": "Tr1w1IjzN_sb"
      }
    },
    {
      "cell_type": "code",
      "source": [
        "MATCH (p:Person {name: 'Robert Blake'})-[:ACTED_IN]->(m:Movie),\n",
        " (coActors:Person)-[:ACTED_IN]->(m)\n",
        "RETURN m.title, collect(coActors.name)"
      ],
      "metadata": {
        "id": "VHiYB4yeNSDO"
      },
      "execution_count": null,
      "outputs": []
    },
    {
      "cell_type": "markdown",
      "source": [
        "##Relationships Traversed\n",
        "\n",
        "How many relationships are traversed to return the result?\n",
        "Answer: 20\n",
        "\n",
        "m.title\n",
        "\n",
        "collect(allActors.name)\n",
        "\n",
        "-----------------------\n",
        "\n",
        "\"Money Train\"\n",
        "\n",
        "[\"Wesley Snipes\", \"Robert Blake\", \"Woody Harrelson\", \"Jennifer Lopez\"]\n",
        "\n",
        "--------------------\n",
        "\n",
        "\"Paul Williams Still Alive\"\n",
        "\n",
        "[\"Paul Williams\", \"Robert Blake\", \"Warren Beatty\", \"Karen Carpenter\"]\n",
        "\n",
        "-------------------------\n",
        "\n",
        "\"In Cold Blood\"\n",
        "\n",
        "[\"John Forsythe\", \"Paul Stewart\", \"Robert Blake\", \"Scott Wilson\"]\n",
        "\n",
        "--------------\n",
        "\n",
        "\"Electra Glide in Blue\"\n",
        "\n",
        "[\"Billy Green Bush\", \"Robert Blake\", \"Jeannine Riley\", \"Mitchell Ryan\"]\n"
      ],
      "metadata": {
        "id": "EJJkOd3IOnDD"
      }
    },
    {
      "cell_type": "code",
      "source": [
        "MATCH (p:Person {name: 'Robert Blake'})-[:ACTED_IN]->(m:Movie)\n",
        "MATCH (allActors:Person)-[:ACTED_IN]->(m)\n",
        "RETURN m.title, collect(allActors.name)"
      ],
      "metadata": {
        "id": "HcnBG_f2P4OW"
      },
      "execution_count": null,
      "outputs": []
    },
    {
      "cell_type": "markdown",
      "source": [
        "#Varying Length Traversal\n",
        "\n",
        "Any graph that represents social networking, hierarchies, transport, flow, or dependency networks will most likely have multiple paths of varying lengths. Think of the connected relationship in LinkedIn and how connections are made by people connected to more people.\n",
        "\n",
        "Here are two use cases for this type of traversal:\n",
        "\n",
        "1. Finding the shortest path between two nodes.\n",
        "\n",
        "2. Finding out how \"close\" nodes are to each other in the graph.\n",
        "\n",
        "**In Neo4j uniqueness of relationships is always adhered to. That is, there will never be two relationships of the same type and direction between two nodes. This enables Neo4j to avoid cycles or infinite loops in graph traversal.**\n",
        "\n",
        "##Shortest path\n",
        "Cypher has a built-in function that returns the **shortest path between any two nodes, if one exists.**\n",
        "\n",
        "This query calculates and returns the shortest path between the Eminem node and the Charlton Heston node in the graph. Because nothing is specified for the relationship type, it finds the shortest path regardless of the relationship type. That is, Eminem is four hops away from Charlton Heston using the ACTED_IN and RATED relationships."
      ],
      "metadata": {
        "id": "EqK7v5FkP7rR"
      }
    },
    {
      "cell_type": "code",
      "source": [
        "MATCH p = shortestPath((p1:Person)-[*]-(p2:Person))\n",
        "WHERE p1.name = \"Eminem\"\n",
        "AND p2.name = \"Charlton Heston\"\n",
        "RETURN  p"
      ],
      "metadata": {
        "id": "Upex20uxVPN4"
      },
      "execution_count": null,
      "outputs": []
    },
    {
      "cell_type": "markdown",
      "source": [
        "You can also limit the relationship types to a specific relationship:\n",
        "\n",
        "This query **returns a longer path because the relationship must be ACTED_IN.**"
      ],
      "metadata": {
        "id": "UfwJ6ChaWMCW"
      }
    },
    {
      "cell_type": "code",
      "source": [
        "MATCH p = shortestPath((p1:Person)-[:ACTED_IN*]-(p2:Person))\n",
        "WHERE p1.name = \"Eminem\"\n",
        "AND p2.name = \"Charlton Heston\"\n",
        "RETURN  p"
      ],
      "metadata": {
        "id": "RWOs6he8WVcD"
      },
      "execution_count": null,
      "outputs": []
    },
    {
      "cell_type": "markdown",
      "source": [
        "##**For shortestPath() and allShortestPaths() you can provide an upper bound on the length of the path(s), but not a lower bound.**"
      ],
      "metadata": {
        "id": "BRiqgelzWdFn"
      }
    },
    {
      "cell_type": "markdown",
      "source": [
        "##Varying length traversal\n",
        "Suppose you want to retrieve all Person nodes that are exactly two hops away from Eminem using the ACTED_IN relationship."
      ],
      "metadata": {
        "id": "DIfsvtloWfck"
      }
    },
    {
      "cell_type": "markdown",
      "source": [
        "The Eminem Person node is retrieved.\n",
        "\n",
        "Then the two ACTED_IN relationship are traversed through the Movie node for 8 Mile to return the three Person nodes.\n",
        "\n",
        "Then the two ACTED_IN relationships are traversed through the Movie node for Hip Hop Witch, Da to return the three Person nodes."
      ],
      "metadata": {
        "id": "XPI9FNVyYQz7"
      }
    },
    {
      "cell_type": "code",
      "source": [
        "MATCH (p:Person {name: 'Eminem'})-[:ACTED_IN*2]-(others:Person)\n",
        "RETURN  others.name"
      ],
      "metadata": {
        "id": "FbJy3eVwYKpF"
      },
      "execution_count": null,
      "outputs": []
    },
    {
      "cell_type": "markdown",
      "source": [
        "##Four hops away\n",
        "Suppose you want to retrieve all Person nodes that are exactly four hops away from Eminem using the ACTED_IN relationship.\n",
        "\n",
        "The Eminem Person node is retrieved.\n",
        "\n",
        "Then the ACTED_IN relationships are traversed through the Movie node where Brittany Murphy for 8 Mile is retrieved and Little Black Book to return the two Person nodes.\n",
        "\n",
        "Then the four ACTED_IN relationships are traversed through the Movie node for 8 Mile and The Prophecy II to return the two Person nodes.\n",
        "\n",
        "Only Person nodes that are exactly 4 hops from Eminem are returned."
      ],
      "metadata": {
        "id": "nQrPf9UBYoJ4"
      }
    },
    {
      "cell_type": "code",
      "source": [
        "MATCH (p:Person {name: 'Eminem'})-[:ACTED_IN*4]-(others:Person)\n",
        "RETURN  others.name"
      ],
      "metadata": {
        "id": "42B9MHkHYxK_"
      },
      "execution_count": null,
      "outputs": []
    },
    {
      "cell_type": "markdown",
      "source": [
        "##1. What actors are up to 6 hops away?\n",
        "We want to return a list of actors that are up to 6 hops away from Tom Hanks.\n",
        "\n",
        "How do you specify this?\n",
        "\n",
        "\n",
        "###Solution\n",
        "\n",
        "The correct answer is: MATCH (p:Person)-[:ACTED_IN*1..6]-(others:Person) which returns Person nodes that are up to 6 hops away.\n",
        "\n",
        "MATCH (p:Person)-[:ACTED_IN*6]-(others:Person) returns all Person nodes that are exactly 6 hops away.\n",
        "\n",
        "The other choices are not valid Cypher."
      ],
      "metadata": {
        "id": "iC8qszY6ZQzn"
      }
    },
    {
      "cell_type": "code",
      "source": [
        "MATCH (p:Person)-[:ACTED_IN*1..6]-(others:Person)\n",
        "WHERE p.name = 'Tom Hanks'\n",
        "RETURN  others.name"
      ],
      "metadata": {
        "id": "zF1THvkmZVlZ"
      },
      "execution_count": null,
      "outputs": []
    },
    {
      "cell_type": "markdown",
      "source": [
        "##2. Finding the shortest path between 2 nodes\n",
        "What Cypher function returns the shortest path between 2 nodes?"
      ],
      "metadata": {
        "id": "-wWF7Sd9ZbXl"
      }
    },
    {
      "cell_type": "code",
      "source": [
        "shortestPath()"
      ],
      "metadata": {
        "id": "Ny7EWOY7ZetP"
      },
      "execution_count": null,
      "outputs": []
    },
    {
      "cell_type": "markdown",
      "source": [
        "####Write and execute the query to return the names of actors that are 2 hops away from Robert Blake using the ACTED_IN relationship.\n",
        "\n",
        "How many actors are returned in the result?"
      ],
      "metadata": {
        "id": "5_H0oGJLZhH7"
      }
    },
    {
      "cell_type": "code",
      "source": [
        "MATCH (p:Person {name: 'Robert Blake'})-[:ACTED_IN*2]-(others:Person)\n",
        "RETURN  others.name"
      ],
      "metadata": {
        "id": "xBCDjLMDxEI3"
      },
      "execution_count": null,
      "outputs": []
    },
    {
      "cell_type": "markdown",
      "source": [
        "####Write and execute the query to return the distinct names of actors that are 4 hops away from Robert Blake using the ACTED_IN relationship.\n",
        "\n",
        "How many actor names are returned in the result?"
      ],
      "metadata": {
        "id": "5jXqjFj7x3A-"
      }
    },
    {
      "cell_type": "code",
      "source": [
        "MATCH (p:Person {name: 'Robert Blake'})-[:ACTED_IN*4]-(others:Person)\n",
        "RETURN  DISTINCT others.name"
      ],
      "metadata": {
        "id": "le1lNavBx5iK"
      },
      "execution_count": null,
      "outputs": []
    },
    {
      "cell_type": "markdown",
      "source": [
        "####Write and execute the query to return the unique names of actors that up to 4 hops away from Robert Blake using the ACTED_IN relationship.\n",
        "\n",
        "How many unique actors are returned in the result?"
      ],
      "metadata": {
        "id": "wNMzct85yUF1"
      }
    },
    {
      "cell_type": "code",
      "source": [
        "MATCH (p:Person {name: 'Robert Blake'})-[:ACTED_IN*1..4]-(others:Person)\n",
        "RETURN  DISTINCT others.name"
      ],
      "metadata": {
        "id": "aGv2a79EycFy"
      },
      "execution_count": null,
      "outputs": []
    },
    {
      "cell_type": "markdown",
      "source": [
        "##Scoping variables for a query\n",
        "You have already learned **how you can specify a variable for a node or relationship in a query:**\n",
        "\n",
        "In this query the variable p is used to test each Person node against the value Tom Hanks. The variable m is used to return the movie titles."
      ],
      "metadata": {
        "id": "Y6eG-KekzEYw"
      }
    },
    {
      "cell_type": "code",
      "source": [
        "MATCH (p:Person)-[:ACTED_IN]->(m:Movie)\n",
        "WHERE p.name = 'Tom Hanks'\n",
        "RETURN m.title AS movies"
      ],
      "metadata": {
        "id": "-gYT9EfjzcU8"
      },
      "execution_count": null,
      "outputs": []
    },
    {
      "cell_type": "markdown",
      "source": [
        "###You can define and initialize variables to be used in the query with a WITH clause.\n",
        "\n",
        "Before the MATCH clause, we define a variable, actorName to have a value of Tom Hanks. The variable, actorName is in the scope of the query, so it can be used like a parameter. The query itself can be reused with a different value for actorName."
      ],
      "metadata": {
        "id": "NkPdj3WC0ZSC"
      }
    },
    {
      "cell_type": "code",
      "source": [
        "WITH 'Tom Hanks' AS actorName\n",
        "MATCH (p:Person)-[:ACTED_IN]->(m:Movie)\n",
        "WHERE p.name = actorName\n",
        "RETURN m.title AS movies"
      ],
      "metadata": {
        "id": "Cbk8vCBA0buV"
      },
      "execution_count": null,
      "outputs": []
    },
    {
      "cell_type": "markdown",
      "source": [
        "####Using WITH to redefine scope\n",
        "\n",
        "For this query, mt and actorName are within scope of the MATCH clause that also uses the WHERE clause. It retrieves the Person node, then all the movies that Tom Hanks acted in, then it filters and returns the movies that contain mt."
      ],
      "metadata": {
        "id": "2QDL7Ky11GZF"
      }
    },
    {
      "cell_type": "code",
      "source": [
        "WITH  'toy story' AS mt, 'Tom Hanks' AS actorName\n",
        "MATCH (p:Person)-[:ACTED_IN]->(m:Movie)\n",
        "WHERE p.name = actorName\n",
        "AND toLower(m.title) CONTAINS mt\n",
        "RETURN m.title AS movies"
      ],
      "metadata": {
        "id": "cobVGks01WpT"
      },
      "execution_count": null,
      "outputs": []
    },
    {
      "cell_type": "markdown",
      "source": [
        "###Now, let’s look at this query:\n",
        "\n",
        "The variables mt, and actorName are available to the MATCH clause and the WHERE clause just like the previous query. What is different here, however, is that we must add the m to the second WITH clause so that the node can be used to return the title of the node. A WITH clause is used to define or redefine the scope of variables. Because we want to redefine what is used for the WHERE clause, we add a new WITH clause. This creates a new scope for the remainder of the query so that m and movieTitle can be used to return values. If you were to remove the m in the second WITH clause, the query would not compile.\n",
        "\n",
        "Notice also that you can define expressions using WITH. When you define an expression (for example, toLower(m.title), you must specify an alias defined with the AS keyword."
      ],
      "metadata": {
        "id": "caEyucBi1b1v"
      }
    },
    {
      "cell_type": "code",
      "source": [
        "WITH  'toy story' AS mt, 'Tom Hanks' AS actorName\n",
        "MATCH (p:Person)-[:ACTED_IN]->(m:Movie)\n",
        "WITH m, toLower(m.title) AS movieTitle\n",
        "WHERE p.name = actorName\n",
        "AND movieTitle CONTAINS mt\n",
        "RETURN m.title AS movies, movieTitle"
      ],
      "metadata": {
        "id": "vqDHcWte1ofM"
      },
      "execution_count": null,
      "outputs": []
    },
    {
      "cell_type": "markdown",
      "source": [
        "###Limiting results\n",
        "Suppose we have this query where we want to return only two rows:"
      ],
      "metadata": {
        "id": "bMipi4su4XZG"
      }
    },
    {
      "cell_type": "code",
      "source": [
        "WITH  'Tom Hanks' AS theActor\n",
        "MATCH (p:Person)-[:ACTED_IN]->(m:Movie)\n",
        "WHERE p.name = theActor\n",
        "RETURN m.title AS movies LIMIT 2"
      ],
      "metadata": {
        "id": "u4Ytl1S14Yg1"
      },
      "execution_count": null,
      "outputs": []
    },
    {
      "cell_type": "markdown",
      "source": [
        "Another way to write this query is:\n",
        "\n",
        "\n",
        "\n",
        "With this query, two Movie nodes are retrieved. What is different here is that you can use WITH to limit how many m nodes are used later in the query. Passing nodes on to the next MATCH clause is called pipelining that you will learn about in the next lesson.\n"
      ],
      "metadata": {
        "id": "633t_db24cZu"
      }
    },
    {
      "cell_type": "code",
      "source": [
        "WITH  'Tom Hanks' AS theActor\n",
        "MATCH (p:Person)-[:ACTED_IN]->(m:Movie)\n",
        "WHERE p.name = theActor\n",
        "WITH m  LIMIT 2\n",
        "// possibly do more with the two m nodes\n",
        "RETURN m.title AS movies"
      ],
      "metadata": {
        "id": "BeUP5D_v4dU4"
      },
      "execution_count": null,
      "outputs": []
    },
    {
      "cell_type": "markdown",
      "source": [
        "##Ordering results\n",
        "If you are limiting the nodes to process further on in the query or for the RETURN clause, you can also order them:"
      ],
      "metadata": {
        "id": "SpVOienm4yJ-"
      }
    },
    {
      "cell_type": "code",
      "source": [
        "WITH  'Tom Hanks' AS theActor\n",
        "MATCH (p:Person)-[:ACTED_IN]->(m:Movie)\n",
        "WHERE p.name = theActor\n",
        "WITH m ORDER BY m.year LIMIT 5\n",
        "// possibly do more with the five m nodes in a particular order\n",
        "RETURN m.title AS movies, m.year AS yearReleased"
      ],
      "metadata": {
        "id": "JKjsKccC43TA"
      },
      "execution_count": null,
      "outputs": []
    },
    {
      "cell_type": "markdown",
      "source": [
        "##Using map projections in a WITH clause\n",
        "Here is another example where we want to customize the properties of nodes that are returned. Using a map projection, you can specify which properties are returned. This type of customization of nodes returned is very useful when you are integrating with an application.\n",
        "\n",
        "\n",
        "This query returns a subset of the data in a Movie node. It returns the top four rated movies. Because we have specified a limit of four, only 4 objects with the specified properties are added to the list. This type of data returned is commonly used by GraphQL and JavaScript applications."
      ],
      "metadata": {
        "id": "lHiINuMa47Xo"
      }
    },
    {
      "cell_type": "code",
      "source": [
        "MATCH (n:Movie)\n",
        "WHERE n.imdbRating IS NOT NULL\n",
        "AND n.poster IS NOT NULL\n",
        "WITH n {\n",
        "  .title,\n",
        "  .year,\n",
        "  .languages,\n",
        "  .plot,\n",
        "  .poster,\n",
        "  .imdbRating,\n",
        "  directors: [ (n)<-[:DIRECTED]-(d) | d { tmdbId:d.imdbId, .name } ]\n",
        "}\n",
        "ORDER BY n.imdbRating DESC LIMIT 4\n",
        "RETURN collect(n)"
      ],
      "metadata": {
        "id": "hPFocZJR48m3"
      },
      "execution_count": null,
      "outputs": []
    },
    {
      "cell_type": "markdown",
      "source": [
        "##1. Scoping variables\n",
        "Here is a query to return the name of the actor (Clint Eastwood) and all the movies that he acted in that contain the string 'high'. How do you complete this query so it can return the desired results?\n",
        "\n",
        "###Solution\n",
        "\n",
        "The correct answer is: WITH p, m, toLower(m.title) AS movieTitle. movieTitle is created during the query and is passed down for use in the WHERE clause. In order to use the variables p and m, they must also be included.\n",
        "\n",
        "If you do not include both p and m in the WITH clause (which re-scopes variables) these variables cannot be used later in the query and in the RETURN clause."
      ],
      "metadata": {
        "id": "kIrsa0e_9XRJ"
      }
    },
    {
      "cell_type": "code",
      "source": [
        "WITH  'Clint Eastwood' AS a, 'high' AS t\n",
        "MATCH (p:Person)-[:ACTED_IN]->(m:Movie)\n",
        "WITH p, m, toLower(m.title) AS movieTitle\n",
        "WHERE p.name = a\n",
        "AND movieTitle CONTAINS t\n",
        "RETURN p.name AS actor, m.title AS movie"
      ],
      "metadata": {
        "id": "n0Lu1wfE-GaY"
      },
      "execution_count": null,
      "outputs": []
    },
    {
      "cell_type": "markdown",
      "source": [
        "##2. Cypher scoping\n",
        "What Cypher keyword is used to redefine the scope of variables in a query?"
      ],
      "metadata": {
        "id": "VtAB2-xg-LHy"
      }
    },
    {
      "cell_type": "code",
      "source": [
        "WITH"
      ],
      "metadata": {
        "id": "qLIfkMdr-MYO"
      },
      "execution_count": null,
      "outputs": []
    },
    {
      "cell_type": "markdown",
      "source": [
        "###What is the highest revenue movie for Tom Hanks?\n",
        "What movie had the highest revenue? (Note, the answer is case-sensitive)?"
      ],
      "metadata": {
        "id": "VmOX30FM9ZAf"
      }
    },
    {
      "cell_type": "code",
      "source": [
        "WITH  'Tom Hanks' AS theActor\n",
        "MATCH (p:Person)-[:ACTED_IN]->(m:Movie)\n",
        "WHERE p.name = theActor\n",
        "AND m.revenue IS NOT NULL\n",
        "WITH m ORDER BY m.revenue DESC LIMIT 1\n",
        "RETURN m.revenue AS revenue, m.title AS title"
      ],
      "metadata": {
        "id": "59WFxGCN9bYG"
      },
      "execution_count": null,
      "outputs": []
    },
    {
      "cell_type": "markdown",
      "source": [
        "###Using WITH for map projection to limit results\n",
        "Here is a query, a version of which you saw in the previous lesson:\n",
        "\n",
        "Modify this query by adding a WITH clause that customizes the data returned for each Movie node to include:\n",
        "\n",
        "title\n",
        "\n",
        "imdbRating\n",
        "\n",
        "List of actor names\n",
        "\n",
        "List of Genre names\n",
        "\n",
        "Then answer this question:\n",
        "\n",
        "Which actor?\n",
        "What actor acted in more than one of these top four movies? (Name is case-sensitive)"
      ],
      "metadata": {
        "id": "jDFsckqx9xJD"
      }
    },
    {
      "cell_type": "code",
      "source": [
        "MATCH (n:Movie)\n",
        "WHERE n.imdbRating IS NOT NULL AND n.poster IS NOT NULL\n",
        "WITH n {\n",
        "  .title,\n",
        "  .imdbRating,\n",
        "  actors: [ (n)<-[:ACTED_IN]-(p) | p { tmdbId:p.imdbId, .name } ],\n",
        "  genres: [ (n)-[:IN_GENRE]->(g) | g {.name}]\n",
        "}\n",
        "ORDER BY n.imdbRating DESC\n",
        "LIMIT 4\n",
        "RETURN collect(n)"
      ],
      "metadata": {
        "id": "sCO-kauA968E"
      },
      "execution_count": null,
      "outputs": []
    },
    {
      "cell_type": "markdown",
      "source": [
        "How many unique genres are represented in these top four movies?"
      ],
      "metadata": {
        "id": "AO6icW6IAYQs"
      }
    },
    {
      "cell_type": "code",
      "source": [
        "MATCH (n:Movie)\n",
        "WHERE n.imdbRating IS NOT NULL AND n.poster IS NOT NULL\n",
        "WITH n {\n",
        "  .title,\n",
        "  .imdbRating,\n",
        "  actors: [ (n)<-[:ACTED_IN]-(p) | p { tmdbId:p.imdbId, .name } ],\n",
        "  genres: [ (n)-[:IN_GENRE]->(g) | g {.name}]\n",
        "}\n",
        "ORDER BY n.imdbRating DESC\n",
        "LIMIT 4\n",
        "RETURN collect(n)"
      ],
      "metadata": {
        "id": "bGRaqcZ8AYyT"
      },
      "execution_count": null,
      "outputs": []
    },
    {
      "cell_type": "markdown",
      "source": [
        "##What does pipelining mean?\n",
        "You have learned that you can use the WITH clause to redefine the scope for the query:"
      ],
      "metadata": {
        "id": "CGri26FmAzWG"
      }
    },
    {
      "cell_type": "code",
      "source": [
        "WITH  'Tom Hanks' AS theActor\n",
        "MATCH (p:Person)-[:ACTED_IN]->(m:Movie)\n",
        "WHERE p.name = theActor\n",
        "WITH m  LIMIT 5\n",
        "// possibly do more with the five m nodes\n",
        "RETURN m.title AS movies"
      ],
      "metadata": {
        "id": "dP3xZD2SA0tr"
      },
      "execution_count": null,
      "outputs": []
    },
    {
      "cell_type": "markdown",
      "source": [
        "This query limits the query to retrieve five nodes.\n",
        "\n",
        "You can do something with the five nodes by adding another MATCH clause:\n",
        "\n",
        "The **five Movie nodes are used for the second MATCH clause and five rows are returned.** The **WITH clause** enables us to **pipeline the results of the first query into the second query.** With this simple query, m need not be redefined or scoped.\n",
        "\n",
        "Next you will learn how pipelining is really useful."
      ],
      "metadata": {
        "id": "L8xhDDosBV-w"
      }
    },
    {
      "cell_type": "code",
      "source": [
        "WITH  'Tom Hanks' AS theActor\n",
        "MATCH (p:Person)-[:ACTED_IN]->(m:Movie)\n",
        "WHERE p.name = theActor\n",
        "WITH m  LIMIT 5\n",
        "MATCH (d:Person)-[:DIRECTED]->(m)\n",
        "RETURN d.name AS director,\n",
        "m.title AS movies"
      ],
      "metadata": {
        "id": "obnK8iEZBYKz"
      },
      "execution_count": null,
      "outputs": []
    },
    {
      "cell_type": "markdown",
      "source": [
        "##Using WITH for aggregation\n",
        "A very common use of WITH is to aggregate data so that intermediate results can be used to create the final returned data or to pass the intermediate results to the next part of the query.\n",
        "\n",
        "In this query we are counting the number of movies that share the same Genre node. We use count() to count the number of rows and sum() to total the imdbRating for each movie for the Genre. These values are calculated as part of the aggregation and then used to return the data. In the WITH clause we pass on only the values we need to return a row for the Genre."
      ],
      "metadata": {
        "id": "EtahsEpeB3Zs"
      }
    },
    {
      "cell_type": "code",
      "source": [
        "MATCH (:Movie {title: 'Toy Story'})-[:IN_GENRE]->(g:Genre)<-[:IN_GENRE]-(m)\n",
        "WHERE m.imdbRating IS NOT NULL\n",
        "WITH g.name AS genre,\n",
        "count(m) AS moviesInCommon,\n",
        "sum(m.imdbRating) AS total\n",
        "RETURN genre, moviesInCommon,\n",
        "total/moviesInCommon AS score\n",
        "ORDER By score DESC"
      ],
      "metadata": {
        "id": "LQnVOJFyCVwD"
      },
      "execution_count": null,
      "outputs": []
    },
    {
      "cell_type": "markdown",
      "source": [
        "Here is another example that shows aggregation and pipelining:\n",
        "\n",
        "For this query, we first calculate the average rating for all movies that Misty Williams rated. Then we use this calculated value, average as a test for the second MATCH."
      ],
      "metadata": {
        "id": "dEPa8FMXCZxj"
      }
    },
    {
      "cell_type": "code",
      "source": [
        "MATCH (u:User {name: \"Misty Williams\"})-[r:RATED]->(:Movie)\n",
        "WITH u, avg(r.rating) AS average\n",
        "MATCH (u)-[r:RATED]->(m:Movie)\n",
        "WHERE r.rating > average\n",
        "RETURN average , m.title AS movie,\n",
        "r.rating as rating\n",
        "ORDER BY rating DESC"
      ],
      "metadata": {
        "id": "DbIw6dnlCaT5"
      },
      "execution_count": null,
      "outputs": []
    },
    {
      "cell_type": "markdown",
      "source": [
        "##Using WITH for collecting\n",
        "Another common use for the WITH clause is to collect results into a list that will be returned:\n",
        "\n",
        "This query collects the names of actors who acted in the movies containing the string 'New York'. This aggregation collects the names and totals the number of actors."
      ],
      "metadata": {
        "id": "9Q0vzXuzCpQE"
      }
    },
    {
      "cell_type": "code",
      "source": [
        "MATCH (m:Movie)--(a:Actor)\n",
        "WHERE m.title CONTAINS 'New York'\n",
        "WITH m, collect (a.name) AS actors,\n",
        "count(*) AS numActors\n",
        "RETURN m.title AS movieTitle, actors\n",
        "ORDER BY numActors DESC"
      ],
      "metadata": {
        "id": "VzW8gZUGResn"
      },
      "execution_count": null,
      "outputs": []
    },
    {
      "cell_type": "markdown",
      "source": [
        "Here is another example where we perform a 2-step aggregation for collecting a list of maps:"
      ],
      "metadata": {
        "id": "HRhNsi_ZRidU"
      }
    },
    {
      "cell_type": "code",
      "source": [
        "MATCH (m:Movie)<-[:ACTED_IN]-(a:Actor)\n",
        "WHERE m.title CONTAINS 'New York'\n",
        "WITH m, collect (a.name) AS actors,\n",
        "count(*) AS numActors\n",
        "ORDER BY numActors DESC\n",
        "RETURN collect(m { .title, actors, numActors }) AS movies"
      ],
      "metadata": {
        "id": "6ugXEkKLRqtT"
      },
      "execution_count": null,
      "outputs": []
    },
    {
      "cell_type": "markdown",
      "source": [
        "##Using LIMIT early\n",
        "A best practice is to execute queries that minimize the number of rows processed in the query. One way to do that is to limit early in the query. This also helps in reducing the number of properties loaded from the database too early.\n",
        "\n",
        "For example, this query limits during the aggregation:"
      ],
      "metadata": {
        "id": "w0uVAphmRyaa"
      }
    },
    {
      "cell_type": "code",
      "source": [
        "PROFILE MATCH (p:Person)-[:ACTED_IN]->(m:Movie)\n",
        "WHERE p.born.year = 1980\n",
        "WITH p,\n",
        "collect(m.title) AS movies LIMIT 3\n",
        "RETURN p.name AS actor, movies"
      ],
      "metadata": {
        "id": "oMOUyRH1R3VN"
      },
      "execution_count": null,
      "outputs": []
    },
    {
      "cell_type": "markdown",
      "source": [
        "A better way to do this query is to limit early. This query will perform slightly better because LIMIT is moved up in the query:"
      ],
      "metadata": {
        "id": "HPJiA30hR7ZN"
      }
    },
    {
      "cell_type": "code",
      "source": [
        "PROFILE MATCH (p:Actor)\n",
        "WHERE p.born.year = 1980\n",
        "WITH p  LIMIT 3\n",
        "MATCH (p)-[:ACTED_IN]->(m:Movie)\n",
        "WITH p, collect(m.title) AS movies\n",
        "RETURN p.name AS actor,  movies"
      ],
      "metadata": {
        "id": "lNVlzzTxR7-K"
      },
      "execution_count": null,
      "outputs": []
    },
    {
      "cell_type": "markdown",
      "source": [
        "Use DISTINCT when necessary\n",
        "Here is an example of a query that retrieves three actors, then collects the names of the genres for the movies that actor acted in."
      ],
      "metadata": {
        "id": "M5lEAYvvSFEF"
      }
    },
    {
      "cell_type": "code",
      "source": [
        "MATCH (p:Actor)\n",
        "WHERE p.born.year = 1980\n",
        "WITH p  LIMIT 3\n",
        "MATCH (p)-[:ACTED_IN]->(m:Movie)-[:IN_GENRE]->(g:Genre)\n",
        "WITH p, collect(g.name) AS genres\n",
        "RETURN p.name AS actor, genres"
      ],
      "metadata": {
        "id": "toqs-N3vSFkb"
      },
      "execution_count": null,
      "outputs": []
    },
    {
      "cell_type": "markdown",
      "source": [
        "Notice that for this query, the collected genre names are repeated. You would want to ensure that they are not duplicated as follows:"
      ],
      "metadata": {
        "id": "aKn5HGY0SSU8"
      }
    },
    {
      "cell_type": "code",
      "source": [
        "MATCH (p:Actor)\n",
        "WHERE p.born.year = 1980\n",
        "WITH p  LIMIT 3\n",
        "MATCH (p)-[:ACTED_IN]->(m:Movie)-[:IN_GENRE]->(g:Genre)\n",
        "WITH p, collect(DISTINCT g.name) AS genres\n",
        "RETURN p.name AS actor, genres"
      ],
      "metadata": {
        "id": "a9nxtdKWSUJE"
      },
      "execution_count": null,
      "outputs": []
    },
    {
      "cell_type": "markdown",
      "source": [
        "###Limiting results\n",
        "Here is a query to return the names of Directors who directed movies that Keanu Reeves acted in. How do you specify that you want to limit the number of rows returned to 3?"
      ],
      "metadata": {
        "id": "93MMwjn0So5_"
      }
    },
    {
      "cell_type": "code",
      "source": [
        "MATCH (p:Person)-[:ACTED_IN]->(m:Movie)\n",
        "WHERE p.name = 'Keanu Reeves'\n",
        "WITH m LIMIT 3\n",
        "MATCH (d:Person)-[:DIRECTED]->(m)\n",
        "RETURN collect(d.name) AS directors,\n",
        "m.title AS movies"
      ],
      "metadata": {
        "id": "U9EZgdODSrLM"
      },
      "execution_count": null,
      "outputs": []
    },
    {
      "cell_type": "markdown",
      "source": [
        "##2. Cypher for aggregating\n",
        "What Cypher functions/keywords are used to aggregate intermediate results?"
      ],
      "metadata": {
        "id": "0VPZQPd-SwMl"
      }
    },
    {
      "cell_type": "code",
      "source": [
        "count(), collect()"
      ],
      "metadata": {
        "id": "r3n7JnjRS1Sc"
      },
      "execution_count": null,
      "outputs": []
    },
    {
      "cell_type": "markdown",
      "source": [
        "##Using WITH to pass on intermediate results\n",
        "Write and execute a query to determine the highest average rating by a user for a Tom Hanks Movie. Use avg(r.rating) to aggregate the rating values for all movies that Tom Hanks acted in, where you use the pattern (m:Movie)←[r:RATED]-(:User).\n",
        "\n",
        "Then answer this question:\n",
        "\n",
        "What Tom Hanks movie had the highest average rating greater than 4?"
      ],
      "metadata": {
        "id": "UVcjhV_NS4al"
      }
    },
    {
      "cell_type": "code",
      "source": [
        "MATCH (p:Person)-[:ACTED_IN]->(m:Movie)<-[r:RATED]-(:User)\n",
        "WHERE p.name = 'Tom Hanks'\n",
        "WITH m, avg(r.rating) AS avgRating\n",
        "WHERE avgRating > 4\n",
        "RETURN m.title AS Movie, avgRating AS `AverageRating`\n",
        "ORDER BY avgRating DESC"
      ],
      "metadata": {
        "id": "U7RADVcOSvg2"
      },
      "execution_count": null,
      "outputs": []
    },
    {
      "cell_type": "markdown",
      "source": [
        "What is the highest average rating for a movie acted in by Tom Hanks?\n",
        "Based upon the query you just executed, enter the highest average rating."
      ],
      "metadata": {
        "id": "oMBWmvX-TYLM"
      }
    },
    {
      "cell_type": "code",
      "source": [
        "MATCH (p:Person)-[:ACTED_IN]->(m:Movie)<-[r:RATED]-(:User)\n",
        "WHERE p.name = 'Tom Hanks'\n",
        "WITH m, avg(r.rating) AS avgRating\n",
        "WHERE avgRating > 0\n",
        "RETURN m.title AS Movie, avgRating AS `AverageRating`\n",
        "ORDER BY avgRating DESC"
      ],
      "metadata": {
        "id": "baB5cgRaTYmx"
      },
      "execution_count": null,
      "outputs": []
    },
    {
      "cell_type": "markdown",
      "source": [
        "##Using UNWIND\n",
        "You have learned that in a query, you can create lists of nodes, strings, or numbers using collect(). Sometimes it is useful to collect elements as intermediate results that are passed on to a later part of a query. For example, the graph you are working with contains languages and countries lists for each Movie node. If you wanted to refactor the graph to create a Language node and associate it with any Movie node that had that particular language in its languages list, you could unwind the list to access each element in the list.\n",
        "\n",
        "**UNWIND returns a row for each element of a list.**\n",
        "\n",
        "In this query:\n",
        "\n",
        "1. A Movie is retrieved that Tom Hanks acted in.\n",
        "\n",
        "2. The languages property, which is a list is unwound and each value is referenced as lang.\n",
        "\n",
        "3. The rows returned will be the movie title and the languages property repeated for multiple rows and the lang value.\n",
        "\n",
        "In this code, you could imagine that you could create a Language node with a name property which is lang."
      ],
      "metadata": {
        "id": "jXZ7Cmf6UAyf"
      }
    },
    {
      "cell_type": "code",
      "source": [
        "MATCH (m:Movie)-[:ACTED_IN]-(a:Actor)\n",
        "WHERE a.name = 'Tom Hanks'\n",
        "UNWIND m.languages AS lang\n",
        "RETURN m.title AS movie,\n",
        "m.languages AS languages,\n",
        "lang AS language"
      ],
      "metadata": {
        "id": "D-deLvUKUCYo"
      },
      "execution_count": null,
      "outputs": []
    },
    {
      "cell_type": "markdown",
      "source": [
        "Let’s now look at a more useful example.\n",
        "\n",
        "This query:\n",
        "\n",
        "1. Retrieves all Movie nodes.\n",
        "\n",
        "2. For each Movie node, it unwinds the languages list to create a list called lang. Notice that we use the trim() function to ensure there are no extraneous whitespace characters in the language name.\n",
        "\n",
        "3. Then we use the element of the list to find all Movies that use that language.\n",
        "\n",
        "4. Finally, we return a row that contains each language name and the list of up to 10 movie titles for that language."
      ],
      "metadata": {
        "id": "PtXYZVhuU1KH"
      }
    },
    {
      "cell_type": "code",
      "source": [
        "MATCH (m:Movie)\n",
        "UNWIND m.languages AS lang\n",
        "WITH m, trim(lang) AS language\n",
        "// this automatically, makes the language distinct because it's a grouping key\n",
        "WITH language, collect(m.title) AS movies\n",
        "RETURN language, movies[0..10]"
      ],
      "metadata": {
        "id": "wkuUNsmkU1l_"
      },
      "execution_count": null,
      "outputs": []
    },
    {
      "cell_type": "markdown",
      "source": [
        "#Hint\n",
        "\n",
        "**The UNWIND keyword in Cypher is used to transform a collection into a sequence of rows for further processing.**"
      ],
      "metadata": {
        "id": "2cqZpp5JVNYv"
      }
    },
    {
      "cell_type": "markdown",
      "source": [
        "##1. Using UNWIND\n",
        "Here is a query to return the title of a movie and language pair for any Tom Hanks movie that has exactly two languages associated with it. That is each movie will have two rows, the title is repeated and then each language for that title. How do you complete this query to create a lang value that is an element of the languages list?"
      ],
      "metadata": {
        "id": "3dPqhCp8Va1u"
      }
    },
    {
      "cell_type": "code",
      "source": [
        "MATCH (m:Movie)-[:ACTED_IN]-(a:Actor)\n",
        "WHERE a.name = 'Tom Hanks'\n",
        "AND size(m.languages) = 2\n",
        "UNWIND m.languages AS lang\n",
        "RETURN m.title AS movie,lang AS languages"
      ],
      "metadata": {
        "id": "06vnIp4OVccW"
      },
      "execution_count": null,
      "outputs": []
    },
    {
      "cell_type": "markdown",
      "source": [
        "##2. Using UNWIND\n",
        "What type of data can UNWIND be used for?"
      ],
      "metadata": {
        "id": "xWhTknUFVgcO"
      }
    },
    {
      "cell_type": "code",
      "source": [
        "The answers are List of strings and List of numerics."
      ],
      "metadata": {
        "id": "V2hbINxDVkdU"
      },
      "execution_count": null,
      "outputs": []
    },
    {
      "cell_type": "markdown",
      "source": [
        "##Using UNWIND pass on intermediate results\n",
        "You have already seen this query:\n",
        "\n",
        "Hint\n",
        "\n",
        "You will unwind by countries, rather than languages.\n",
        "\n",
        "After you have collected the movies for each language as a list, return the size of the list for each country.\n",
        "\n",
        "How many movies released in the UK are in the graph?"
      ],
      "metadata": {
        "id": "Yffy-yfiVvjP"
      }
    },
    {
      "cell_type": "code",
      "source": [
        "MATCH (m:Movie)\n",
        "UNWIND m.countries AS country\n",
        "WITH m, trim(country) AS trimmedCountry\n",
        "// this automatically, makes the trimmedCountry distinct because it's a grouping key\n",
        "WITH trimmedCountry, collect(m.title) AS movies\n",
        "RETURN trimmedCountry, size(movies)"
      ],
      "metadata": {
        "id": "tC57vBhnVzwi"
      },
      "execution_count": null,
      "outputs": []
    },
    {
      "cell_type": "markdown",
      "source": [
        "##Using UNWIND pass on intermediate results\n",
        "Using the query you just created, answer this question:\n",
        "\n",
        "Movies released in Taiwan?\n",
        "How many movies released in Taiwan are in the graph?"
      ],
      "metadata": {
        "id": "4NaM_iLcWAWe"
      }
    },
    {
      "cell_type": "code",
      "source": [
        "MATCH (m:Movie)\n",
        "UNWIND m.countries AS country\n",
        "WITH m, trim(country) AS trimmedCountry\n",
        "// this automatically, makes the trimmedCountry distinct because it's a grouping key\n",
        "WITH trimmedCountry, collect(m.title) AS movies\n",
        "RETURN trimmedCountry, size(movies)"
      ],
      "metadata": {
        "id": "UhPmgc6AWBVe"
      },
      "execution_count": null,
      "outputs": []
    },
    {
      "cell_type": "markdown",
      "source": [
        "##What is a subquery?\n",
        "When you execute a series of MATCH clauses, all nodes and relationships retrieved are in memory. If the memory requirements for a set of MATCH clauses exceed the VM configured, the query will fail.\n",
        "\n",
        "A subquery is a set of Cypher statements that execute within their own scope. A subquery is typically called from an outer enclosing query. Using a subquery, you can limit the number of rows that need to be processed.\n",
        "\n",
        "Here are some important things to know about a subquery:\n",
        "\n",
        "A subquery returns values referred to by the variables in the RETURN clause.\n",
        "\n",
        "A subquery cannot return variables with the same name used in the enclosing query.\n",
        "\n",
        "You must explicitly pass in variables from the enclosing query to a subquery.\n",
        "\n",
        "##Performing subqueries with CALL\n",
        "In a CALL clause, you specify a query that can return data from the graph or derived from the graph. A set of nodes returned in the CALL clause can be used by the enclosing query.\n",
        "\n",
        "The subquery is demarcated by the {}s here. The subquery returns 10 Movie nodes of movies released in 2000 with the highest imdbRating. Then with these 10 movies, it determines the average rating for each of these 10 movies."
      ],
      "metadata": {
        "id": "IhW5OIcUFw84"
      }
    },
    {
      "cell_type": "code",
      "source": [
        "CALL {\n",
        "   MATCH (m:Movie) WHERE m.year = 2000\n",
        "   RETURN m ORDER BY m.imdbRating DESC LIMIT 10\n",
        "}\n",
        "MATCH  (:User)-[r:RATED]->(m)\n",
        "RETURN m.title, avg(r.rating)"
      ],
      "metadata": {
        "id": "lhV2JVVRHyW5"
      },
      "execution_count": null,
      "outputs": []
    },
    {
      "cell_type": "markdown",
      "source": [
        "##Passing variables into a subquery\n",
        "Here is an example where the subquery is executed after the initial query and the enclosing query passes a variable, m into the subquery.\n",
        "\n",
        "In this query:\n",
        "\n",
        "The first MATCH returns a row for every movie, m in the graph.\n",
        "\n",
        "It passes the Movie node, m to the subquery.\n",
        "\n",
        "Then within the subquery, the query executes to find all users who gave that movie a rating of 5 and counts them.\n",
        "\n",
        "The subquery returns the count.\n",
        "\n",
        "Back in the enclosing query, the title is returned, and the count of the number of rows returned from the subquery.\n",
        "\n",
        "**Using subqueries enables you to reduce the number of rows processed in a query.**"
      ],
      "metadata": {
        "id": "16GAnCVpH2hf"
      }
    },
    {
      "cell_type": "code",
      "source": [
        "MATCH (m:Movie)\n",
        "CALL {\n",
        "    WITH m\n",
        "    MATCH (m)<-[r:RATED]-(u:User)\n",
        "     WHERE r.rating = 5\n",
        "    RETURN count(u) AS numReviews\n",
        "}\n",
        "RETURN m.title, numReviews\n",
        "ORDER BY numReviews DESC"
      ],
      "metadata": {
        "id": "UR2B-Z3QIjK2"
      },
      "execution_count": null,
      "outputs": []
    },
    {
      "cell_type": "markdown",
      "source": [
        "##Combining query results with UNION\n",
        "As your queries become more complex, you may need to combine the results of multiple queries. You can do so with UNION. With UNION, the queries you are combining must return the same number of properties or data\n",
        "\n",
        "The first query returns an object with a type property of \"movies\" and a theMovies property that is a list of movies. It returns this object as a variable named Data\n",
        "\n",
        "The second query returns an object with a type property of \"actors\" and a theActors property that is a list of actor names. It returns this object as a variable named Data\n",
        "\n",
        "Because both queries return a variable named Data, we can combine the results using UNION ALL.\n",
        "\n",
        "**UNION ALL returns all results which is more efficient on memory but can lead to duplicates. UNION returns distinct results.**"
      ],
      "metadata": {
        "id": "dRt2mtK-IoJl"
      }
    },
    {
      "cell_type": "code",
      "source": [
        "MATCH (m:Movie) WHERE m.year = 2000\n",
        "RETURN {type:\"movies\", theMovies: collect(m.title)} AS data\n",
        "UNION ALL\n",
        "MATCH (a:Actor) WHERE a.born.year > 2000\n",
        "RETURN { type:\"actors\", theActors: collect(DISTINCT a.name)} AS data"
      ],
      "metadata": {
        "id": "i1zeU8lXJEXN"
      },
      "execution_count": null,
      "outputs": []
    },
    {
      "cell_type": "markdown",
      "source": [
        "##Using UNION with subqueries\n",
        "Results of a UNION cannot be directly post-processed. But if you wrap a UNION in a subquery, you can then further process the results.\n",
        "\n",
        "Here is an example that uses UNION within a subquery:\n",
        "\n",
        "This query:\n",
        "\n",
        "100 Person nodes are retrieved and passed to the subquery.\n",
        "\n",
        "If that Person acted in the movie, its title with the Actor suffix is returned.\n",
        "\n",
        "The second part of the subquery does the same for the DIRECTED relationships.\n",
        "\n",
        "The work results are combined and collected.\n",
        "\n",
        "The result is the name of the person and their Actor or Director titles."
      ],
      "metadata": {
        "id": "-H1Nq4ZeLbRK"
      }
    },
    {
      "cell_type": "code",
      "source": [
        "MATCH (p:Person)\n",
        "WITH p LIMIT 100\n",
        "CALL {\n",
        "  WITH p\n",
        "  OPTIONAL MATCH (p)-[:ACTED_IN]->(m:Movie)\n",
        "  RETURN m.title + \": \" + \"Actor\" AS work\n",
        "UNION\n",
        "  WITH p\n",
        "  OPTIONAL MATCH (p)-[:DIRECTED]->(m:Movie)\n",
        "  RETURN m.title+ \": \" +  \"Director\" AS work\n",
        "}\n",
        "RETURN p.name, collect(work)"
      ],
      "metadata": {
        "id": "uAQMC4k7NMng"
      },
      "execution_count": null,
      "outputs": []
    },
    {
      "cell_type": "markdown",
      "source": [
        "##1. Using a subquery\n",
        "Here is a query that has a subquery. The enclosing query finds all User nodes. The subquery finds all movies that this user rated with 5 and return them. How do you complete this query so it can return the desired results?"
      ],
      "metadata": {
        "id": "Zx9SRIifNWh4"
      }
    },
    {
      "cell_type": "code",
      "source": [
        "cypher\n",
        "MATCH (u:User)\n",
        "CALL {\n",
        "WITH u\n",
        "\n",
        "    MATCH (m:Movie)<-[r:RATED]-(u)\n",
        "     WHERE r.rating = 5\n",
        "    RETURN m\n",
        "}\n",
        "RETURN m.title, count(m) AS numReviews\n",
        "ORDER BY numReviews DESC"
      ],
      "metadata": {
        "id": "GJRpRXX-NXwB"
      },
      "execution_count": null,
      "outputs": []
    },
    {
      "cell_type": "markdown",
      "source": [
        "##2. Combining query results\n",
        "What Cypher keyword is used to combine the results of multiple MATCH clauses into a single return stream?"
      ],
      "metadata": {
        "id": "vWqp6BjqNfF2"
      }
    },
    {
      "cell_type": "code",
      "source": [
        " UNION ALL"
      ],
      "metadata": {
        "id": "XLML-J57NgIv"
      },
      "execution_count": null,
      "outputs": []
    },
    {
      "cell_type": "markdown",
      "source": [
        "##Add a subquery\n",
        "Top French movie\n",
        "\n",
        "Write and execute the subquery to return the movie nodes that have a countries list element of 'France'.\n",
        "\n",
        "You must pass in the g variable to the subquery.\n",
        "\n",
        "You must test if the movie node for that genre was released in France.\n",
        "\n",
        "The subquery must return the count of the movie nodes, numMovies for each Genre passed in.\n",
        "\n",
        "How many movies were in the largest Genre category for movies released in France? (enter a number)"
      ],
      "metadata": {
        "id": "z_OC-gTsNnR7"
      }
    },
    {
      "cell_type": "code",
      "source": [
        "MATCH (g:Genre)\n",
        "CALL { WITH g\n",
        "MATCH (g)<-[:IN_GENRE]-(m) WHERE 'France' IN m.countries\n",
        "RETURN count(m) AS numMovies\n",
        "}\n",
        "RETURN g.name AS Genre, numMovies ORDER BY numMovies DESC"
      ],
      "metadata": {
        "id": "Eerx9xghN4j7"
      },
      "execution_count": null,
      "outputs": []
    },
    {
      "cell_type": "markdown",
      "source": [
        "##Combining actors and directors data\n",
        "Actors and Directors from 2015\n",
        "Here is a query that returns actor information for the year 2015:\n",
        "\n",
        "Now add another query to this code to return the directors for 2015. Use UNION ALL to combine results. The second query will return the string \"Director\" as Type.\n",
        "\n",
        "How many rows are returned?"
      ],
      "metadata": {
        "id": "8bfv4ECxOItn"
      }
    },
    {
      "cell_type": "code",
      "source": [
        "MATCH (m:Movie)<-[:ACTED_IN]-(p:Person)\n",
        "WHERE m.year = 2015\n",
        "RETURN \"Actor\" AS type,\n",
        "p.name AS workedAs,\n",
        "collect(m.title) AS movies\n",
        "UNION ALL\n",
        "MATCH (m:Movie)<-[:DIRECTED]-(p:Person)\n",
        "WHERE m.year = 2015\n",
        "RETURN \"Director\" AS type,\n",
        "p.name AS workedAs,\n",
        "collect(m.title) AS movies"
      ],
      "metadata": {
        "id": "pUmFTRggOaol"
      },
      "execution_count": null,
      "outputs": []
    },
    {
      "cell_type": "markdown",
      "source": [
        "##1. What parameters to use?\n",
        "Suppose we have set the following parameters:\n",
        "\n",
        "\n",
        ":params {actorName: 'Tom Cruise', movieName: 'Top Gun', l:2}\n",
        "\n",
        "Here is a query to return the names of the actors in a particular movie that is parameterized. The number of results returned is also parameterized. How would you complete this query in a Neo4j Browser session?"
      ],
      "metadata": {
        "id": "yQLosrSjXzhM"
      }
    },
    {
      "cell_type": "code",
      "source": [
        ":params {actorName: 'Tom Cruise', movieName: 'Top Gun', l:2}"
      ],
      "metadata": {
        "id": "VCTjPoBWX23a"
      },
      "execution_count": null,
      "outputs": []
    },
    {
      "cell_type": "code",
      "source": [
        "MATCH (p:Person)-[:ACTED_IN]->(m:Movie)\n",
        "WHERE m.title = $movieName RETURN p.name LIMIT $l"
      ],
      "metadata": {
        "id": "NeRqo5bsX9zX"
      },
      "execution_count": null,
      "outputs": []
    },
    {
      "cell_type": "markdown",
      "source": [
        "##2. Parameters for the session?\n",
        "What command in Neo4j Browser returns all parameters set for the session?"
      ],
      "metadata": {
        "id": "ZM-X_KBBYYC9"
      }
    },
    {
      "cell_type": "code",
      "source": [
        ":params"
      ],
      "metadata": {
        "id": "9nRNQNbtYZGV"
      },
      "execution_count": null,
      "outputs": []
    },
    {
      "cell_type": "markdown",
      "source": [
        "##3. Setting Integers\n",
        "Which command would you use to ensure that the value of the myNumber parameter is cast as an integer?"
      ],
      "metadata": {
        "id": "zaQkf6ToYevy"
      }
    },
    {
      "cell_type": "code",
      "source": [
        " :param myNumber ⇒ 10"
      ],
      "metadata": {
        "id": "Ot2diaLfYh8v"
      },
      "execution_count": null,
      "outputs": []
    },
    {
      "cell_type": "markdown",
      "source": [
        "##Setting Parameters\n",
        "You have been given the following query which finds all users with a name beginning with the string value supplied in the $name parameter."
      ],
      "metadata": {
        "id": "grEyCEYSYshd"
      }
    },
    {
      "cell_type": "markdown",
      "source": [
        "###Hint\n",
        "\n",
        "The :param command allows you to set a parameter which is persisted as long as the browser window is open. The format is as follows:\n",
        "\n",
        "\n",
        "##**:param key: \"value\"**\n",
        "\n",
        "What command would you run in Neo4j Browser to set the $name parameter to Tom? (use double-quotes for the value of the parameter)"
      ],
      "metadata": {
        "id": "-5b4gRrdY63v"
      }
    },
    {
      "cell_type": "code",
      "source": [
        ":param name: \"Tom\""
      ],
      "metadata": {
        "id": "4VK3hekYYt-6"
      },
      "execution_count": null,
      "outputs": []
    },
    {
      "cell_type": "code",
      "source": [
        "MATCH (p:Person)-[:ACTED_IN]->(m:Movie)\n",
        "WHERE p.name STARTS WITH $name\n",
        "RETURN p.name AS actor,\n",
        "m.title AS title"
      ],
      "metadata": {
        "id": "0qzWcND4ZSwY"
      },
      "execution_count": null,
      "outputs": []
    },
    {
      "cell_type": "markdown",
      "source": [
        "#####In this challenge, you will need to execute the following query to find all movies acted in by an Actor with a name starting with Tom, and that also have the value UK within the countries array on the movie."
      ],
      "metadata": {
        "id": "qUf_qFWX4wEy"
      }
    },
    {
      "cell_type": "code",
      "source": [
        "#1. Set the name Parameter\n",
        "#Using the same format as the previous lesson, set the name parameter to Tom.\n",
        ":param name: \"Tom\""
      ],
      "metadata": {
        "id": "dbiwNaOU4xrB"
      },
      "execution_count": null,
      "outputs": []
    },
    {
      "cell_type": "code",
      "source": [
        "#2. Set the country Parameter\n",
        "#Set the country parameter to UK.\n",
        ":param country: \"UK\""
      ],
      "metadata": {
        "id": "rK1k1HuR5Ue-"
      },
      "execution_count": null,
      "outputs": []
    },
    {
      "cell_type": "code",
      "source": [
        "#3. Execute the Query\n",
        "MATCH (p:Person)-[:ACTED_IN]->(m:Movie)\n",
        "WHERE p.name STARTS WITH $name\n",
        "AND $country IN m.countries\n",
        "RETURN p.name AS actor,\n",
        "m.title AS title"
      ],
      "metadata": {
        "id": "Lu08DUcj5gxj"
      },
      "execution_count": null,
      "outputs": []
    },
    {
      "cell_type": "markdown",
      "source": [
        "##Application Examples Using Parameters\n",
        "Although each language has its own distinct syntax, the process for each language is similar. Parameters are sent as an additional argument when a Cypher statement is run through the driver, and are referenced in the same way as covered in this module, by applying the **$ prefix.**\n",
        "\n",
        "Example: Java\n",
        "Here is a code snippet that illustrates the use of parameters in **Java:**"
      ],
      "metadata": {
        "id": "-fM5B2Nm5-Mr"
      }
    },
    {
      "cell_type": "markdown",
      "source": [
        "In this example, the parameters are passed to the second argument of the tx.run method using the static parameters function provided by the org.neo4j.driver.Values class."
      ],
      "metadata": {
        "id": "sBMmPzRn6eDO"
      }
    },
    {
      "cell_type": "code",
      "source": [
        "try (var session = driver.session()) {\n",
        "  Result res = session.readTransaction(tx -> tx.run(\"\"\"\n",
        "    MATCH (p:Person)-[:ACTED_IN]->(m:Movie)\n",
        "    WHERE m.title = $title\n",
        "    RETURN p\n",
        "    LIMIT 10\n",
        "  \"\"\", Values.parameters(\"title\", \"Toy Story\")));\n",
        "}"
      ],
      "metadata": {
        "id": "V4xSA3y66eo0"
      },
      "execution_count": null,
      "outputs": []
    },
    {
      "cell_type": "markdown",
      "source": [
        "##Example: JavaScript\n",
        "Here is a code snippet that illustrates the use of parameters in JavaScript:\n",
        "\n",
        "In this example, the parameters are passed to the second argument of the tx.run method as a JavaScript object."
      ],
      "metadata": {
        "id": "U8c1fE4c6isv"
      }
    },
    {
      "cell_type": "code",
      "source": [
        "const session = driver.session()\n",
        "const res = await session.readTransaction(tx =>\n",
        "  tx.run(`\n",
        "    MATCH (p:Person)-[:ACTED_IN]->(m:Movie)\n",
        "    WHERE m.title = $title\n",
        "    RETURN p\n",
        "    LIMIT 10\n",
        "  `,\n",
        "  { title: 'Toy Story'})\n",
        ")"
      ],
      "metadata": {
        "id": "U2vdkOMR6nOr"
      },
      "execution_count": null,
      "outputs": []
    },
    {
      "cell_type": "markdown",
      "source": [
        "##Example: Python\n",
        "Here is a code snippet that illustrates the use of parameters in Python:\n",
        "\n",
        "In Python, Cypher parameters are passed as named parameters to the tx.run method. In this example, title has been passed as a named parameter."
      ],
      "metadata": {
        "id": "hD8HIgtf6sBW"
      }
    },
    {
      "cell_type": "code",
      "source": [
        "def get_actors(tx, movieTitle): # (1)\n",
        "  result = tx.run(\"\"\"\n",
        "    MATCH (p:Person)-[:ACTED_IN]->(m:Movie)\n",
        "    WHERE m.title = $title\n",
        "    RETURN p\n",
        "  \"\"\", title=movieTitle)\n",
        "\n",
        "  # Access the `p` value from each record\n",
        "  return [ record[\"p\"] for record in result ]\n",
        "\n",
        "with driver.session() as session:\n",
        "    result = session.read_transaction(get_actors, movieTitle=\"Toy Story\")"
      ],
      "metadata": {
        "id": "1JrNdTOU6ytS"
      },
      "execution_count": null,
      "outputs": []
    },
    {
      "cell_type": "markdown",
      "source": [
        "####What character is used to prefix parameters in a Cypher statement?"
      ],
      "metadata": {
        "id": "7dn-4RIr65i4"
      }
    },
    {
      "cell_type": "code",
      "source": [
        "$"
      ],
      "metadata": {
        "id": "vKV-MYb466kY"
      },
      "execution_count": null,
      "outputs": []
    },
    {
      "cell_type": "markdown",
      "source": [
        "##Setting a parameter\n",
        "You can set values for Cypher parameters that will be in effect during your Neo4j Browser session.\n",
        "\n",
        "You can set the value of a single parameter in the query editor pane as shown in this example where the value Tom Hanks is set for the parameter actorName:"
      ],
      "metadata": {
        "id": "lylLlRX_80am"
      }
    },
    {
      "cell_type": "code",
      "source": [
        ":param actorName: 'Tom Hanks'"
      ],
      "metadata": {
        "id": "I-WydyLu82RO"
      },
      "execution_count": null,
      "outputs": []
    },
    {
      "cell_type": "code",
      "source": [
        "MATCH (p:Person)-[:ACTED_IN]->(m:Movie)\n",
        "WHERE p.name = $actorName\n",
        "RETURN m.released AS releaseDate,\n",
        "m.title AS title\n",
        "ORDER BY m.released DESC"
      ],
      "metadata": {
        "id": "F2futp699RmD"
      },
      "execution_count": null,
      "outputs": []
    },
    {
      "cell_type": "markdown",
      "source": [
        "##Setting a parameter\n",
        "You can set values for Cypher parameters that will be in effect during your Neo4j Browser session.\n",
        "\n",
        "You can set the value of a single parameter in the query editor pane as shown in this example where the value Tom Hanks is set for the parameter actorName:"
      ],
      "metadata": {
        "id": "B8n-DLpE9Vxh"
      }
    },
    {
      "cell_type": "code",
      "source": [
        ":param actorName: 'Tom Hanks'"
      ],
      "metadata": {
        "id": "4dxke5QI9W2U"
      },
      "execution_count": null,
      "outputs": []
    },
    {
      "cell_type": "code",
      "source": [
        "MATCH (p:Person)-[:ACTED_IN]->(m:Movie)\n",
        "WHERE p.name = $actorName\n",
        "RETURN m.released AS releaseDate,\n",
        "m.title AS title\n",
        "ORDER BY m.released DESC"
      ],
      "metadata": {
        "id": "TIHUeBLk9Z10"
      },
      "execution_count": null,
      "outputs": []
    },
    {
      "cell_type": "markdown",
      "source": [
        "##Setting Integers\n",
        "Special consideration should be made when setting integer values in a Neo4j Browser session. Due to a discrepancy between integers in JavaScript and the Neo4j type system, any integers are converted to floating point values when the parameter is set. This is designed to avoid any data loss on large numbers.\n",
        "\n",
        "For example, if you run the following code to set the number parameter using colon (:) operator, the number will be converted from 10 to 10.0."
      ],
      "metadata": {
        "id": "-Uk6W1g39cc0"
      }
    },
    {
      "cell_type": "code",
      "source": [
        ":param number: 10"
      ],
      "metadata": {
        "id": "L8RGiAhH9epv"
      },
      "execution_count": null,
      "outputs": []
    },
    {
      "cell_type": "code",
      "source": [
        ":param number=> 10"
      ],
      "metadata": {
        "id": "BFTNpsT89iAS"
      },
      "execution_count": null,
      "outputs": []
    },
    {
      "cell_type": "markdown",
      "source": [
        "##Setting multiple parameters\n",
        "You can also use the JSON-style syntax to set all of the parameters in your Neo4j Browser session. The values you can specify in this object are numbers, strings, and booleans. In this example we set two parameters for our session:"
      ],
      "metadata": {
        "id": "OtIzGALC9k4Y"
      }
    },
    {
      "cell_type": "code",
      "source": [
        ":params {actorName: 'Tom Cruise', movieName: 'Top Gun'}"
      ],
      "metadata": {
        "id": "SkBGc-G09nDE"
      },
      "execution_count": null,
      "outputs": []
    },
    {
      "cell_type": "markdown",
      "source": [
        "If you have set multiple parameters, you can use the ⇒ operator as seen before to add more parameters to a set of parameters."
      ],
      "metadata": {
        "id": "nBj98zcD9v9i"
      }
    },
    {
      "cell_type": "code",
      "source": [
        ":param number=> 10"
      ],
      "metadata": {
        "id": "Aw4FrJ4x9xgk"
      },
      "execution_count": null,
      "outputs": []
    },
    {
      "cell_type": "markdown",
      "source": [
        "##Using multiple parameters\n",
        "Here is a different query that uses both parameters:"
      ],
      "metadata": {
        "id": "K4eSWikO90HY"
      }
    },
    {
      "cell_type": "code",
      "source": [
        "MATCH (p:Person)-[:ACTED_IN]->(m:Movie)\n",
        "WHERE p.name = $actorName\n",
        "AND m.title = $movieName\n",
        "RETURN p, m"
      ],
      "metadata": {
        "id": "hnPWlN0891FD"
      },
      "execution_count": null,
      "outputs": []
    },
    {
      "cell_type": "markdown",
      "source": [
        "##Viewing parameters\n",
        "If you want to view the current parameters and their values, simply type:"
      ],
      "metadata": {
        "id": "FgIh63of95XB"
      }
    },
    {
      "cell_type": "code",
      "source": [
        ":params"
      ],
      "metadata": {
        "id": "XPHmIoQo97Xl"
      },
      "execution_count": null,
      "outputs": []
    },
    {
      "cell_type": "markdown",
      "source": [
        "##Removing parameters\n",
        "If you want to remove an existing parameter from your session, you do so by using the JSON-style syntax and exclude the parameter for your session.\n",
        "\n",
        "If you want to clear all parameters, you can simply type:"
      ],
      "metadata": {
        "id": "WtmxDape99po"
      }
    },
    {
      "cell_type": "code",
      "source": [
        ":params {}"
      ],
      "metadata": {
        "id": "BwTKWQxk9-p_"
      },
      "execution_count": null,
      "outputs": []
    },
    {
      "cell_type": "code",
      "source": [],
      "metadata": {
        "id": "iqPrIMVU-NA3"
      },
      "execution_count": null,
      "outputs": []
    }
  ]
}