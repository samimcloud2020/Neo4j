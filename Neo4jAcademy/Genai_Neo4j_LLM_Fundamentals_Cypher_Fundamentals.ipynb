{
  "nbformat": 4,
  "nbformat_minor": 0,
  "metadata": {
    "colab": {
      "provenance": []
    },
    "kernelspec": {
      "name": "python3",
      "display_name": "Python 3"
    },
    "language_info": {
      "name": "python"
    }
  },
  "cells": [
    {
      "cell_type": "code",
      "execution_count": null,
      "metadata": {
        "id": "Qm8ZRrDhcuJM"
      },
      "outputs": [],
      "source": []
    },
    {
      "cell_type": "markdown",
      "source": [
        "##Avoiding Hallucination\n",
        "As you learned in the previous lesson, LLMs can \"make things up\".\n",
        "\n",
        "LLMs are designed to generate human-like text based on the patterns they’ve identified in vast amounts of data.\n",
        "\n",
        "Due to their reliance on patterns and the sheer volume of training information, LLMs sometimes hallucinate or produce outputs that manifest as generating untrue facts, asserting details with unwarranted confidence, or crafting plausible yet nonsensical explanations.\n",
        "\n",
        "These manifestations arise from a mix of overfitting, biases in the training data, and the model’s attempt to generalize from vast amounts of information.\n",
        "\n",
        "Common Hallucination Problems\n",
        "Let’s take a closer look at some reasons why this may occur.\n",
        "\n",
        "##Temperature\n",
        "LLMs have a temperature, corresponding to the amount of randomness the underlying model should use when generating the text.\n",
        "\n",
        "The higher the temperature value, the more random the generated result will become, and the more likely the response will contain false statements.\n",
        "\n",
        "A higher temperature may be appropriate when configuring an LLM to respond with more diverse and creative outputs, but it comes at the expense of consistency and precision.\n",
        "\n",
        "For example, a higher temperature may be suitable for constructing a work of fiction or a novel joke.\n",
        "\n",
        "On the other hand, a lower temperature, even 0, is required when a response grounded in facts is essential.\n",
        "\n",
        "Consider the correct temperature\n",
        "\n",
        "In June 2023, A US judged sanctioned two US lawyers for submitting an LLM-generated legal brief that contained six fictitious case citations.\n",
        "\n",
        "A quick fix may be to reduce the temperature. But more likely, the LLM is hallucinating because it hasn’t got the information required.\n",
        "\n",
        "##Missing Information\n",
        "The training process for LLMs is intricate and time-intensive, often requiring vast datasets compiled over extended periods. As such, these models might lack the most recent information or might miss out on specific niche topics not well-represented in their training data.\n",
        "\n",
        "For instance, if an LLM’s last update were in September 2022, it would be unaware of world events or advancements in various fields that occurred post that date, leading to potential gaps in its knowledge or responses that seem out of touch with current realities.\n",
        "\n",
        "If the user asks a question on information that is hard to find or outside of the public domain, it will be virtually impossible for an LLM to respond accurately.\n",
        "\n",
        "Luckily, this is where factual information from data sources such as knowledge graphs can help.\n",
        "\n",
        "##Model Training and Complexity\n",
        "The complexity of Large Language Models, combined with potential training on erroneous or misleading data, means that their outputs can sometimes be unpredictable or inaccurate.\n",
        "\n",
        "For example, an LLM might produce a biased or incorrect answer when asked about a controversial historical event.\n",
        "\n",
        "Furthermore, it would be near impossible to trace back how the model arrived at that conclusion.\n",
        "\n",
        "##Improving LLM Accuracy\n",
        "The following methods can be employed to help guide LLMs to produce more consistent and accurate results.\n",
        "\n",
        "Prompt Engineering\n",
        "Prompt engineering is developing specific and deliberate instructions that guide the LLM toward the desired response.\n",
        "\n",
        "By refining how you pose instructions, developers can achieve better results from existing models without retraining.\n",
        "\n",
        "For example, if you require a blog post summary, rather than asking \"What is this blog post about?\", a more appropriate response would be \"Provide a concise, three-sentence summary and three tags for this blog post.\"\n",
        "\n",
        "You could also include \"Return the response as JSON\" and provide an example output to make it easier to parse in the programming language of your choice.\n",
        "\n",
        "Providing additional instructions and context in the question is known as **Zero-shot learning.**\n",
        "\n",
        "##Be Positive\n",
        "\n",
        "When writing a prompt, aim to provide positive instructions.\n",
        "\n",
        "For example, when asking an expert to provide a description, you could say, \"Do not use complex words.\" However, the expert’s interpretation of complex might be different from yours. Instead, say, \"Use simple words, such as …​.\". This approach provides a clear instruction and a concrete example.\n",
        "\n",
        "##In-Context Learning\n",
        "In-context learning provides the model with examples to inform its responses, helping it comprehend the task better.\n",
        "\n",
        "The model can deliver more accurate answers by presenting relevant examples, especially for niche or specialized tasks.\n",
        "\n",
        "Examples could include:\n",
        "\n",
        "Providing additional context - When asked about \"Bats\", assume the question is about the flying mammal and not a piece of sports equipment.\n",
        "\n",
        "Providing examples of the typical input - Questions about capital cities will be formatted as \"What is the capital of {country}?\"\n",
        "\n",
        "Providing examples of the desired output - When asked about the weather, return the response in the format \"The weather in {city} is {temperature} degrees Celsius.\"\n",
        "\n",
        "Providing relevant examples for specific tasks is a form of Few-shot learning.\n",
        "\n",
        "##Fine-Tuning\n",
        "Fine-tuning involves additional language model training on a smaller, task-specific dataset after its primary training phase. This approach allows developers to specialize the model for specific domains or tasks, enhancing its accuracy and relevance.\n",
        "\n",
        "For example, fine-tuning an existing model on your particular businesses would enhance its capability to respond to your customer’s queries.\n",
        "\n",
        "This method is the most complicated, involving technical knowledge, domain expertise, and high computational effort.\n",
        "\n",
        "A more straightforward approach would be to ground the model by providing information with the prompt.\n",
        "\n",
        "##Grounding\n",
        "Grounding allows a language model to reference external, up-to-date sources or databases to enrich the responses.\n",
        "\n",
        "By integrating real-time data or APIs, developers ensure the model remains current and provides factual information beyond its last training cut-off.\n",
        "\n",
        "For instance, if building a chatbot for a news agency, instead of solely relying on the model’s last training data, grounding could allow the model to pull real-time headlines or articles from a news API. When a user asks, \"What’s the latest news on the Olympics?\", the chatbot, through grounding, can provide a current headline or summary from the most recent articles, ensuring the response is timely and accurate.\n",
        "\n"
      ],
      "metadata": {
        "id": "N5En_0tQczfL"
      }
    },
    {
      "cell_type": "markdown",
      "source": [
        "![image.png](data:image/png;base64,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)"
      ],
      "metadata": {
        "id": "3Oiin8VMdm9F"
      }
    },
    {
      "cell_type": "markdown",
      "source": [
        "##How does a higher temperature setting impact the outputs of an LLM?\n",
        "\n",
        " It increases the randomness and creativity of the output.\n",
        "\n",
        "##Using External Data: What approach allows a language model to reference external, up-to-date sources such as APIs or databases to enhance its responses?\n",
        "\n",
        "Grounding"
      ],
      "metadata": {
        "id": "znqpl7CWdoJN"
      }
    },
    {
      "cell_type": "markdown",
      "source": [
        "##Lesson Summary\n",
        "In this lesson, you explored the intricacies of Large Language Models (LLMs), understanding their tendencies to hallucinate and the various strategies to improve their accuracy, such as **temperature settings, prompt engineering, in-context learning, fine-tuning, and grounding with external data sources like APIs.**"
      ],
      "metadata": {
        "id": "pFYDnGfteaUy"
      }
    },
    {
      "cell_type": "markdown",
      "source": [
        "##Grounding LLMs.\n",
        "previous lesson, you learned about the potential methods that you could use to avoid Hallucination, including Grounding.\n",
        "\n",
        "##Grounding LLMs with RAG\n",
        "Grounding is the process of providing context to an LLM to improve the accuracy of its responses and reduce the likelihood of hallucinations. For developers and data scientists, grounding usually offers the highest impact for the lowest effort.\n",
        "\n",
        "Training a Large Language Model has a high computational cost. According to Wikipedia, OpenAI’s GPT-3 model was trained on 175 billion parameters, and the resulting trained model takes 800GB to store.\n",
        "\n",
        "Retraining a model on new data would be expensive and time-consuming. A model may take weeks or months to train.\n",
        "\n",
        "For example, if you were building a chatbot for a news agency it would be impractical to train an entirely new LLM and providing real-time updates on breaking news would be near impossible.\n",
        "\n",
        "##Retrieval Augmented Generation\n",
        "A news agency could train a model on static data and supplement the pre-existing knowledge base with real-time data retrieved from up-to-date sources.\n",
        "\n",
        "This approach is known as Retrieval Augmented Generation, or RAG\n",
        "\n",
        "RAG combines the strengths of large-scale language models with external retrieval or search mechanisms, enabling relevant information from vast datasets to be dynamically fed into the model during the generation process, thereby enhancing its ability to provide detailed and contextually accurate responses.\n",
        "\n",
        "In summary, by adding content from additional data sources, you can improve the responses generated by an LLM.\n",
        "\n",
        "The main benefit of RAG is its enhanced accuracy. By dynamically pulling information from external, domain-specific sources, a response grounded by RAG can provide more detailed and contextually accurate answers than a standalone LLM.\n",
        "\n",
        "###RAG provides additional benefits of:\n",
        "\n",
        "**Increased transparency, as the sources of the information can be stored and examined.**\n",
        "\n",
        "**Security, as the data sources can be secured and access controlled.**\n",
        "\n",
        "**Accuracy and timeliness, as the data sources can be updated in real-time.**\n",
        "\n",
        "**Access to private or proprietary data.**\n",
        "\n",
        "###---------->Bad data in, bad data out<----------------------------\n",
        "\n",
        "When prompting the LLM to respond based on the context provided, the answer will always be as good as the provided context.\n",
        "\n",
        "If your prompt suggests pineapple as a pizza topping, don’t be surprised if it suggests that you order a Hawaiian Pizza.\n",
        "\n",
        "##Access to Real-Time Data\n",
        "RAG could support the news agency chatbot by:\n",
        "\n",
        "**Accessing real-time news feeds**\n",
        "\n",
        "**Pulling recent headlines or news articles from a database,**\n",
        "\n",
        "**Giving this additional context to the LLM.**\n",
        "\n",
        "News articles stored in a knowledge graph would be ideal for this use case. A knowledge graph could pass the LLM detail about the relationship between the entities involved and the article’s metadata.\n",
        "\n",
        "For example, when asking about the results of a recent election, the knowledge could provide additional context about the candidates, news stories relating to them, or interesting articles from the same author.\n",
        "\n"
      ],
      "metadata": {
        "id": "Iu1xOWNken1p"
      }
    },
    {
      "cell_type": "markdown",
      "source": [
        "![image.png](data:image/png;base64,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)"
      ],
      "metadata": {
        "id": "lCRaFP5yf07X"
      }
    },
    {
      "cell_type": "markdown",
      "source": [
        "During this course, you will explore methods for implementing RAG with Neo4j, including:\n",
        "\n",
        "**Semantic Search.**\n",
        "\n",
        "**Zero-shot and few-shot learning and prompts.**\n",
        "\n",
        "**Text embedding and vector indexes with unstructured data.**\n",
        "\n",
        "**Cypher generation to gather structured data from a knowledge graph.**"
      ],
      "metadata": {
        "id": "p61-76f2f1p0"
      }
    },
    {
      "cell_type": "markdown",
      "source": [
        "##Lesson Summary\n",
        "In this lesson, you learned about the importance of grounding to enhance LLM accuracy, the computational challenges of constantly training large models, and how Retrieval Augmented Generation (RAG) combines LLMs with external data for improved responses with increased transparency."
      ],
      "metadata": {
        "id": "FiT7zBxXgD6r"
      }
    },
    {
      "cell_type": "markdown",
      "source": [
        "##Vectors & Semantic Search\n",
        "In this module, you will learn:\n",
        "\n",
        "Basics of **Semantic Search** - how it differs from traditional keyword search.\n",
        "\n",
        "How to implement **vector search in Neo4j.**\n",
        "\n",
        "The benefits and potential **drawbacks** of Vector-based Semantic Search.\n",
        "\n",
        "\n",
        "In the last module, you learned about the importance of grounding to improve LLM accuracy and the concept of Retrieval Augmented Generation (RAG). RAG involves providing additional information to help the LLM form a response.\n",
        "\n",
        "One of the challenges of RAG is understanding what the user is asking for and surfacing the correct information to pass to the LLM.\n",
        "\n",
        "In this lesson, you will learn about semantic search and how vector indexes can help you implement it in Neo4j."
      ],
      "metadata": {
        "id": "wh7bGonZgPJF"
      }
    },
    {
      "cell_type": "markdown",
      "source": [
        "#Vectors and Semantic Search\n",
        "Semantic search aims to understand search phrases' intent and contextual meaning, rather than focusing on individual keywords.\n",
        "\n",
        "Traditional **keyword search** often depends on exact-match keywords or **proximity-based algorithms** that find similar words.\n",
        "\n",
        "For example, if you input \"apple\" in a traditional search, you might predominantly get results about the fruit.\n",
        "\n",
        "However, in a semantic search, the engine tries to gauge the context: Are you searching about the fruit, the tech company, or something else?\n",
        "\n",
        "The results are tailored based on the term and the perceived intent."
      ],
      "metadata": {
        "id": "NfV7hICAgp8k"
      }
    },
    {
      "cell_type": "markdown",
      "source": [
        "##Vectors and embeddings\n",
        "In natural language processing (NLP) and machine learning, numerical representations (known as vectors) represent words and phrases.\n",
        "\n",
        "Each dimension in a vector can represent a particular semantic aspect of the word or phrase. When multiple dimensions are combined, they can convey the overall meaning of the word or phrase.\n",
        "\n",
        "A vector will not directly encode tangible attributes like color, taste, or shape. Instead, the model will generate a list of numerical values that closely align the word with related words such as health, nutrition, and wellness.\n",
        "\n",
        "When applied in a search context, the vector for \"apple\" can be compared to the vectors for other words or phrases to determine the most relevant results.\n",
        "\n",
        "You can create vectors in various ways, but one of the most common methods is to use a large language model. These vectors are known as embeddings. With advanced models, these embeddings also contain contextual information.\n",
        "\n",
        "For example, the embeddings for the word \"apple\" are 0.0077788467, -0.02306925, -0.007360777, -0.027743412, -0.0045747845, 0.01289164, -0.021863015, -0.008587573, 0.01892967, -0.029854324, -0.0027962727, 0.020108491, -0.004530236, 0.009129008, …​ and so on.\n",
        "\n",
        "Reveal the completed embeddings for the word \"apple\"!\n",
        "The vector for a word can change based on its surrounding context. For instance, the word bank will have a different vector in river bank than in savings bank.\n",
        "\n",
        "Semantic search systems can use these **contextual embeddings** to understand user intent."
      ],
      "metadata": {
        "id": "_60WQX_Wj8Jb"
      }
    },
    {
      "cell_type": "markdown",
      "source": [
        "##Creating Vector Embeddings\n",
        "\n",
        "LLM providers typically expose API endpoints that convert a chunk of text into a vector embedding. Depending on the provider, the shape and size of the vector may differ.\n",
        "\n",
        "For example, OpenAI’s **text-embedding-ada-002** embedding model converts text into a vector of **1,536 dimensions.**\n",
        "\n",
        "You can use the distance or angle between vectors to gauge the semantic similarity between words or phrases.\n",
        "\n",
        "![image.png](data:image/png;base64,iVBORw0KGgoAAAANSUhEUgAAAIoAAACWCAYAAAABkxCEAAAXqElEQVR4Ae2dC7zkdHXHz4p774wV3QX6gGqrUKvQlhYpSlcECrjunblQil4r4O5k1vqitlKxai210Cr7gJ3MLrv3Tq7u7r2TWRdWS4ViFWsRFF+1iohgRarWWlttxT6gtS/T+d6bjLm5SSaZSTKZmf/5fOaTTPLP/3Fy8n+c8zvnL6JIcUBxQHFAcUBxQHFAcUBxIC4HjhOR74nIhrgPqvTjxYGrbEE5PF7NVq2Ny4Evi4glIv8T90GVfnw4cIqIfNcWlEdF5NLxabpqaRwObBKR/7N/9Chvj/OwSjt+HPi6iPzY+DVbtTguB/5WRI6P+5BKP34c+JqInDB+zVYtjsuBr4rIj8d9SKUfPw58RUSeMn7NVi2Oy4G/EZGnxn1IpR8/DihBGb933lOLHxaRn+jpSfXQWHEANf5PjlWLVWN74sBDIvK0np5UD40VB74kIk8fqxarxvbEgb8WkRN7elI9NFYc+KKInDRWLVaN7YkDSlB6Ytv4PfSgiPxUD81e08Mz6pEh5sADIvKMGPU/ysauLIjI0TGeU0mHnANfEJGfjtGGV9uoOCCUO0VE9SwxmDfMSe8XkWfGaMAvisi/ish/isivxHhuWJPSg6pVoYh8XkSeFfMtAksYB+Y9XkT+zO5Bfz8mj0Yu+X0icvLItSqZBjEkP2YLyl+JCH5QY0tKUMJf/T4R+ZyIMDcba4IJqkcJF4Enhd8ej7sICj4+ihQHQjlwr4j8TGiKbG8yUaY+KAHV0jtb3oeW9lkR+dnQFNndPFtEPioieC7iRvInIvLk7IpXJYVx4DMi8nNhCTK6d7qIfNOlzEOhx+8DEXqW9SLyChE5NqO6jmUxLPtOzUHLr/cREgTlO12AVWtF5C772TtE5Ik5aEtmVeh1bO7luTwICvV+R4CgEL8lzMTwIyICpgahYrj60cze0oALAm22q12Ha2KMz0AZr227XewXkStEpBijDZ9uzwV+Pkb6tJJqAYLyyQhDysa2YfOQiFyUVuXyli8g52+4GEaX2m0yx9fmxDlxxvXbYwjLX4rIL+SAEY9rA6hMV9tpyz+2VejPyUHdcleFkodRGN/CIACY+f/U84wjLPRIUehTInJalIQZpGEI2tJ2mjdE5G1KERjMcaIKEIbCedkfFpEfCk6+5GaBk7mT3n18b8Reha792SFleG8VvBeG6D9172Uel8smMke5oR3gBmtlN9XxD4sIthq3gDjnjNlR6BPtXomlaTdiaHhD22rcHELLMXy8sh21Yd7uqcZSE41AOcLhHP9NRH6525u370cVFCaMRGaiDIIDxpkwR6xKKskQkvd5eMSQfl4qpeU8U8ZzohL8h4igQJuKUd+PiwhgpG7EMpTlJ+G8iCY5LPQHHiFxPiY0wOuGpRFJ1hMbCUi1uGG2Ptb+4s6IWBG+zmECLNHrvSdAUFhdKg/JiC+eZPeM+BKUOZXTi7iPIPuY4ymKyAG64OdGTDuMyc5yodTcgvKmYWzMIOv8kbbh7cxBViCDsl9grw4BhBMP5i0ZlDm0RTB3QVXvja50t4j80tC2KnrFsTCjemBSnn+abhx8Rqlx6Ow4v+l9i2cFpd84b27g3gvnFp8jlhWkTGKii/KOZSFDjds9Y1wEJf/C4dRw2jBfWzbMu0uG+Z6yYX4o6q9kmLcFpm0055fuNVoHS3PNu069vunV5CI8AITd4/NiW/GEKwKEPUntrmEzY+CHkrH45pLRrKVZkYv27z+63DA/N3PkyISnnD0eQWElgKYVoqd5nn0+UodCRX9bsVK7vajp35zU9Ns4+v0Kmv55v+tB1wrV+oMFTb9j7ZZa8gbLqTnz1vP2LKQeXmKq0dxTnl0oe9444zNDzr+LCHoTt67lThFhZZAUASRiqPMKa1L5R8qnoNW2TWi1N8vL9OPl0huOky17j106cu79bbku+J43Lf9fXjtmYrN+ckGrvy9xYSkb5lem9rRSj+daNsyFktG6zIebk/ZE1js0/YWIPN8nfS+XEI45u5fCAjwQNf9abdeZRU0HapEqLQuL/sFEC8mBoAS150MiAqg5CdrhGeJSHWqDKjyh3XBxQdMPBt1P7Ppl29YXtDrxZZKjEEEBWhBV+XNhN7VzSI8S1Jg/b/cA5wTdjHGdOQ+TZPekGeOhM2mOkVV/SSc0/ZJitX5Tf7lEeHrL3mOLWv0fIqSMniREUN5oI7kAOMNstKSg1p5g+7ri3wJehNXLO22rMOfoRFbNAwYoKDCDej5iCwug6HiKvJnaMTLz230PV6MqKFh7LxeRbSICsAbtIdhXrl8sIgCTbrHvO4IC1oRungnqCupBUBhjz12RSX9/CG780liRJl964wmTFX22UNXvKlT0uye0+kw/VegiKLQViCWrPT2knBe3tbm/ag/L3sXB8mPp9Cith6bnFlkNuAmfX2cl8ne2oAAXgBAUGL7XXqUw6XQEBRQcDeW3IurRlNHcv2m+yXNRCReHqNiVqHlGTzdTO6ZQ0e9/QrVuOb9itf69wuZd+On0RBEExfk4EOrfsXlctQWHiAU3isiL7PgvpL3V1w0kHUHxXfWAIwF9DjGmnm/v84feg8oh0Vg5GetfY4fEYoL4uvbw9C47zQptbA89Cg5WAwPxFCq1qx0BWXnUH5TL93RWiZOVXRcVNP3cQrV2TkGrPb9Y0Z9XrO7eUNR2nckSda1WP2NtZffpa7fsOe3xmv764tb6EZuv3gM9CqhAMMWoBfj4CAjEEI+Wmo8ZFQI8xqMBPIu/0GYoKN5GMD6DqHcIqd7t/Ily7EFQ3m8LaJTsk06zplCtHVgpIMs9S1HTLbl0e8cnml6noOmPFjT9q8Wq/umCpn94aajS9I8UNf2eolb/WFGrf6Ko6Z+arOj3HlWtBUWDQlBA+zt0QERA72EDYu8iIJNALxxB+d02bhnntFXzQbls2/pJbXyWx0QUusDhmuvIrqUvc/1P5XRis/5GX0Gp1L4hm7ev2MxhsrLzpGKldtWSYFT1rxU1vU4vE7NioNrcYT6we6GQhNAnITS42NKbsTMaArTVV1DS6FFKDfOOjXPN1C2XJcPcWZozX2I3PMrBT1AIGgPkkaUuTEqFLJGXyJbrji1otXvcwlKs1q1ipQbAPJi27jhhUqtfUdDqHyxW698uaPX5SW0X7i7ZUUqCcqA8b6ZufJs2moc2NfbHgQ0APAav4SZ35MdYKxBL5IlWF2dxy8b0WiJoi0Uu1tcVNX1vsaLfW6zqn5ms1OJhcjV9XUHTtWJVf689PLXk8j3dPBjc7e3tPA1BudB413Elo3lXabZ5WamxcPbUXPO8yD9jge7Ql8qzB04kn+m9C+eXDfPG0txBZ3Lsm97nIqpuv/wZeoLGeZ9sli9ZItdZIu+wPOp7S+Rxlr3di+WPCVkj6FE2X+81MQSW5Xtj5pqJQqV+NUY73/sJXpzQbnxWoVpn4psslWcPrS8bZq3UaB0pN1ofiPqbbpjvnjZMQMKrqGyYnywbrTun5pqzmxqHXr4qQfcLeBq+sHuy8BSWyFZL5FJLZN4S2d7+dRzFbCE5xRI5JjyX5O5OVmq3TFRqcYbgeIVv3XF0oarfPFGps+DID5VnzYvKRuuPvTUqG61KyTCJBNAr3SYi7KreE1kir7ZEDreHkW3tXmSH5dnSxRJ5kSVCrNaMyVpTqNYPsDpiDlPUdt++dOTc85us1h7wXgv7X6jqDxWq9QcmK/V8OsVPNZoXThsmUYhWUNkwH77AWFyxQliRIPzPrTH9gJZys0SebYnstUR2WiIbLJHfdBdj2b1UZx7ivpnl+UytKJq+Tma2P3npyLn3N2ME3/Omdf7PHBmA8MdgXNkwy+X5Fn7FHeqzVyGvyKsFS+RUu/e40BK51hK5yrKd3Nv/17jOU1/hdRigTvw5sKnRLJUNk56gQ330Kl0FxRI53hJ5miVyviUybYnolkjJcqHZLZF1lsiTLLWRZeedDOLEgS12yp6aXZwCS+tc6NKr4DL6a+I/mWQo8zd6LStSTrB7jtdYIm+1RG6yRJ7bPnbColsiZ1g/UFo5VUrzmO9uP82WB+QNdPIPbXvEb9jQg07SUsPcVDbMDpIroFfB6PVftvKMjSa9QwKW6elOpp4TS+RV7eHmFkvkSkvklZZIZ2Xl0ocAf8yCsGsRUQHcC1pTRfZGBn6RlMCpdGjKaG0sN0yUZjLdMLeUGyZGLodwmST0lhtMhOC4iZUUgChfavcUuy2RN9irmyUXTMv2AwrQh/jmk9BFej5HY4ywrLa/JFTQsGRDOC56CvcLds7f6m1EqWG+YNowUcXLtGF+ubT3kLOPMRESGZ6cZzle4nke/UzgMq+tQJuwbACSM/+wetsxzFNsT39pF1iS/7Wt6T1lMkoPwRDwKe4X7JwzVCyrvl0tLs8vXlA2zPf79Cp4BrbaBi/wLN7ehBze3U0DawvLU6zkNqmkV6R3WtUOV5OCTsGLuB3YgtKNxXXmEeBQHOFwH90m8hXM2NRonY+219OrkAYtaVCwXnAbIOl8iWHGtt8kNYEE+8IEGtU3SD310n05H/0iQ4xbQDgnklKoawV2n7Jh3u+Zq4SV6isoruEmSbU7poLvetpFcJ7OCiqsoupeMAdAwOF9D46WMJ9+xrtVT0/PmeeWDfMx11xlVRrXhZttJN3SJcveQCGFeQjzLhD/XuHnPxjhVSoAVx2zPqUuRONcsXDIuhJxywOaByo/VtCXKcO8eKNxMMqXCgTzkrYSbSmeLar5uBWMmB4gkF+sewSF+VP6sICIFbWB69SL+WB/1uzoZeY+5eEXi1zhQABSrC2CMAw9Cmg34tohKER/SN0NOEWeR8960+z+Z5Yazb3lhtnaZDRnTjeMjnIMjepRIodPXHYXiZ5p7ykBSMF8XoLzw6MgLNZ976X1/iSek6wUX9V7FkP05NQ7D59WMg59cdpoWfzKjZZVmjdvfmRiYmk3DWt5HAbNjw9LVuSsevhqKTtvQuLwoYOncS6M5PGs2UPrp+ZYKi8Lifuob37Fda5Gs0SNBXd0PdvrKfoTluud3q3XjNRzfXJgylg4qWy0HnELiHNemjUX5UgHTzEIQemzderxxDiwcd+Bp5Ybre84wuE+TjVaOJg5xFicHmTQKSWbIzomHOSIMBVov8qmKsNSimWtKTda+9wCwnmpYX5r49xN7j0E0fQCQRh2wn8b91xnkkw4dizvirpxYObIkaNKDXNfac68r2y0vl+aa319arblDX9OmK44vsrdih3EfaI9En7CERLnCLwiqdgvg2hXtmUSEuyCfc2TN8zNebEoVARzPa4Zw0zgaRzh8B5xCVWUAAcWRMQvlFcCWWeWBbH8HZyKV1B+PbNajHhBoyAoqNnB43iFhF3ivaFGBvE6R0InQ6wzJoLDTjifY+D8lq39RXDyon4nYgRb8m0eRKiypF4sYR/SjFqAJRYsC8o1FG18XVhl6QUIAoQxkpcMnAFQEsZPtqQlxCm4WIyJgK8AczFpZRsYYplg3QXLQmQCfoTIYAhivgK+higH7GzGNeLBEiYM329i6rKMZpJLGjTFxKXBvIB1Hmc43FeAXbLExq2W/EAG4hWIFht1AitF5nZ8ZPCPvRAr7T2NCMgDrpgh75VtRB5+3A60glXZf7fLYHu+JOEbkWWBl0BQGPyO4252jZchK4Yv2bFZHrY3iSIkGFgRkHbsbYPlFxgiX+w/2RtXE6/tX+wvGCY8Zm8uxV7FMIQf58AkuEcaMDU8A/OI80Ze37bzpoy/t8vEBkQdiEAF1AL8MHVkj+MH29rkB9ov7n47KA5DzL12lCr2cQaSwRfM7mYApIh3wuYQROkmShXWaqJhEk2JQEJ88eCOgZ8CHcWFBXAVeGIQgGB2sLIT0AizA7on1AosBOiR+djAKsNLwqYSQnXWjuSEzsqxb8EP2k+b+CgyJb5Q9/j8qL0HcpRKsI0tTKWL5mvlq8Xj0IkNQsRKvm5WSzSMrwDrKr0AvQGYXHoHAgDRWyCwRIHME7YkCh/SToPA8jGALxrIZlK4LyDR3knc9+0usBsDkGyEYhyJj4ChK4v2+6klMuU5jcVXxyso/Ad0E/ZlE/KLuHDjSCgYP2sPkwxhrx91JrD0CxIU3DCCANGE4lpy7xh1Bvm0D9cUNul0f1z0wDiWjSwxH2Ai5W40592GHiZUaa3tEU4wJplHrI7wlqlT0GaUzNVGetdSJpTM2h1hYYWxPWTYSRtW4Gz2yAogb3gT4JiskBxeuY+swBjKR5oQFoYT4qGG7SHD2MyLTIsYClm68gJYznq3pUur3Dj51gMEhaVvWr1snPpFTsvSE4UOSp8kfWtRcKG7SJtQSKGnyKuhEf6iU3H3Juhjeg1ElDY/ffNHT4ESiEbgX8v8IylhyTJCdd79YRiCWOngT0Rk6qGLjABWxC3p9ACoqvul19rIr17z4WtDVU2g3kHQoMsfRJtDy8Rm4ah7EZgvJKDqRdvqDpseWgGfm9hQUKtTH+qWJWKf6gy6fB+W5OMShijHlsCePP0Su3T00xOwu4e7l8MmkqX33KDL75f/qT6flL2E8ff3+qwpY7lbUBjXV+zo0Wf+3R4fdPnd6jf09/EhxpzdL2EGYHcJrK7YlbL2ER50+f3yL/fPY6JPcjaPw1aQSSALZgy6/CzamHkZ7GA1Hn6z3VmL3iRvGuLutc4gBcFqiG+vaHkjT4IdMgFPSh81MnwFuKSYsqyOB2rhTMQDQ6SOzJuP0RBgevna7cG/8gCGsDuBi02TwLuCO8Fo2vc2uTaKD4Fjy+GhJXxzcL3oRkwKGbcHRQCVwc/ypWNjSdpiS9ucrd9oI+iyJCAPQD3B4VJv8CzxNp9KidugzMGwRiXwq5jJuxFqeL4uAMPxNq/ulnO0+1hnvfFzw7eEi5avk4qdzwBC08akjZL01M4wxhEQOlrvgRGaWVTl/2zvTB6lIoS8OqdLQvQqzpdMQ8FlJP01d6nC0vIanIqb4ewknwQBcXCHXMVOloRm26kbQgjWx6k7vUvaQ6dT9qojGk83XiLKxo+/1UbDR/kqWQ05jeSImwQ+MlkTKDKs4rhO0NYkhgXaQFvoVd1t7HtnMw9zUDnQW+G6MfB5CuMrGlDifISBo2kDwxO+LlGIbp8NoGEkfrrzUR5KKQ0TS3qzbu2LWzzmBcJd0EYwMcwrkibmPO45UNL5x8ovqi0Fp6fOJtIRSkBYABeHBjWOkE9ek8A3PADx8ktDSPLa7tB6XdveXkWFdAhlkbqJP23y26gqvo4cB/DLHdiMewDcxA0Tn2rUBooicoBAdqDtx4UIFeF49eHsxoopqZXSyPIQTO2KTSdHtqXLDUMFT+QD95KXc6IFKArhAKrjcfmawL4EefWx2ss8bETIe8nVrRXbpeSqZsuumOgXkgQ2oWvx7ofo9Cxj4dXXyzsmog9jc94IvQWaYbSVOFUBmErS4LjNZ9hBWHy3y8sbc7KuD4xH3Z5HusZ2VHO+dI53JujsjdIMDas7f1xPsrZR5ZH3q+oEo/KoScW2QhQh90t0zq9Y1YreLwDCYs9nTA5vsSNA9Z7biD55ZTv01c4+2ob/DeHM0zD+ESTPEQzvMY/DZBQ2IpSnJOSdGaW8RNKgXCIyQK+EkBC0joB8OIElDQVECRbUoxAJcdiIYQ7gFwENAVRFsdznoo3gRXAx7ZVe5/nimTuAbkuSrraD9rh7FMpJAnaYZD2j5IXOxt2O+xJ2d4lSh9hp/qgNknlT7KdWPsA8wd1w8B9pOG+B0QA4he2JUJl5j2Swkks/+IdV3c0vQFBExMwtAYj5aAK1Q6dBzFQ0m/ROaU6IGdsJ5jPsRKxYhlOCA+QepE7w36TCTaLnIDzmQKIkD6nUAKmMtXXwINrZGKZJ1CAYpMpcRmURVluR4kAoB4gZnzSGNLRAdXP4OICfDcszRYoDgRxg+w5m24oUB3w5QHRnViNoAhUpDvhyYIe9dw3QvkG4dvpWSl3MHwdw2kILiOvox/NXPVWjPHAANbrjw4ovMDtFKVIcWMUBwj4Q7AbXx6QtuqsKUxeGlwMY0bAlKFIcCOVAlsF8QyuibioOKA4oDigOKA4oDigOKA4oDoRx4P8BJeZl/Dlq4AQAAAAASUVORK5CYII=)"
      ],
      "metadata": {
        "id": "m9W2PWzjkoHO"
      }
    },
    {
      "cell_type": "markdown",
      "source": [
        "Words with similar meanings or contexts will have vectors that are **close together,** while unrelated words will be farther apart.\n",
        "\n",
        "This principle is employed in semantic search to find contextually relevant results for a user’s query.\n",
        "\n",
        "A semantic search involves the following steps:\n",
        "\n",
        "**The user submits a query.**\n",
        "\n",
        "**The system creates a vector representation (embedding) of the query.**\n",
        "\n",
        "**The system compares the query vector to the vectors of the indexed data.**\n",
        "\n",
        "**The results are scored based on their similarity.**\n",
        "\n",
        "**The system returns the most relevant results to the user.**"
      ],
      "metadata": {
        "id": "0fQdJMIfnEt-"
      }
    },
    {
      "cell_type": "markdown",
      "source": [
        "![image.png](data:image/png;base64,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)"
      ],
      "metadata": {
        "id": "22l9JehmnfLT"
      }
    },
    {
      "cell_type": "markdown",
      "source": [
        "Vectors can represent more than just words. They can also represent **entire documents, images, audio, or other data types.** They are instrumental in the operation of many other machine-learning tasks."
      ],
      "metadata": {
        "id": "lZTwvQxDy1Te"
      }
    },
    {
      "cell_type": "markdown",
      "source": [
        "##Vectors and Neo4j\n",
        "Vectors are the backbone of semantic search. They enable systems to understand and represent the complex, multi-dimensional nature of language, context, and meaning.\n",
        "\n",
        "**Neo4j** supports **vector indexes and querying,** allowing you to **search for nodes** based on their vector representations.\n",
        "\n",
        "\n",
        "1. Semantic vs. Traditional Search\n",
        "In contrast to traditional search that may focus on exact keyword matches, what does semantic search emphasize?\n",
        "\n",
        "Understanding intent and contextual meaning of search phrases.\n",
        "\n",
        "2. Role of Vectors in Semantic Search\n",
        "\n",
        " They represent words or phrases numerically, aiding in understanding user intent."
      ],
      "metadata": {
        "id": "mvtj75D8y9vz"
      }
    },
    {
      "cell_type": "markdown",
      "source": [
        "#Vector Indexes\n",
        "\n",
        "\n",
        "##Vectorizing Movie Plots\n",
        "GraphAcademy created a Movie Recommendation Sandbox when you enrolled in this course. The sandbox database contains over 9000 movies, 15000 actors, and over 100000 user ratings.\n",
        "\n",
        "Each movie has a .plot property.\n",
        "\n",
        "###MATCH (m:Movie {title: \"Toy Story\"})\n",
        "###RETURN m.title AS title, m.plot AS plot\n",
        "\n",
        "title\n",
        "\n",
        "plot\n",
        "\n",
        "\n",
        "\"Toy Story\"\n",
        "\n",
        "\"A cowboy doll is profoundly threatened and jealous when a new spaceman figure supplants him as top toy in a boy's room.\"\n"
      ],
      "metadata": {
        "id": "JLrFlp3qzxG_"
      }
    },
    {
      "cell_type": "markdown",
      "source": [
        "You can use the vector index to find the most similar movies by converting the plots into vector embeddings and comparing them.\n",
        "\n",
        "You will use a pre-created CSV file of 1000 movie plot vector embeddings in this lesson.\n",
        "\n",
        "The CSV file contains:\n",
        "\n",
        "movieId - The ID of the movie\n",
        "\n",
        "embedding - The vector embedding of the movie plot generated by OpenAI\n",
        "\n",
        "\n",
        "https://data.neo4j.com/llm-fundamentals/openai-embeddings.csv?_gl=1*6flnnc*_gcl_au*NDYwNjEyODIxLjE3MjEwMzYzNjQ.*_ga*MTE1NzIzNDY1OC4xNzIxMDM2MzY0*_ga_DL38Q8KGQC*MTcyMzAxMDg4OC44LjEuMTcyMzAxNjg4OS4wLjAuMA..*_ga_DZP8Z65KK4*MTcyMzAxMDg4OC44LjEuMTcyMzAxNjg4OS4wLjAuMA..\n",
        "\n",
        "movieId,                     embedding\n",
        "\n",
        "1,                 [-0.0271058, -0.0242211, 0.0060390322, -0.02437703, ...]\n",
        "\n",
        "2,                 [-0.001596838, -0.022397375, 0.0046575777, 0.0019427929, ...]\n",
        "\n",
        "\n"
      ],
      "metadata": {
        "id": "6SerLu0t41jI"
      }
    },
    {
      "cell_type": "markdown",
      "source": [
        "##Generating the Embeddings\n",
        "\n",
        "OpenAI’s **text-embedding-ada-002** model was used to create the embeddings. It is a **cost-effective model** that can generate embeddings for text.\n",
        "\n",
        "A simple Python script calls the embedding endpoint served by OpenAI. The code is available in the github.com/graphacademy/llm-fundamentals repository.\n",
        "\n"
      ],
      "metadata": {
        "id": "JWM_tSxM5UDm"
      }
    },
    {
      "cell_type": "markdown",
      "source": [
        "##Loading Embeddings\n",
        "The embeddings will be stored as a .plotEmbedding property on the (:Movie) node.\n",
        "\n",
        "You will use the LOAD CSV command to load the embeddings into the Neo4j Sandbox instance.\n",
        "\n",
        "The following Cypher loads the embeddings CSV file, performs a MATCH query to find the (:Movie) node with the corresponding movieId property, and then sets the .plotEmbedding property on that node.\n",
        "\n",
        "LOAD CSV WITH HEADERS\n",
        "\n",
        "FROM 'https://data.neo4j.com/llm-fundamentals/openai-embeddings.csv'\n",
        "\n",
        "AS row\n",
        "\n",
        "MATCH (m:Movie {movieId: row.movieId})\n",
        "\n",
        "CALL db.create.setNodeVectorProperty(m, 'plotEmbedding', apoc.convert.fromJsonList(row.embedding))\n",
        "\n",
        "RETURN count(*)"
      ],
      "metadata": {
        "id": "wfrSj9pp65Gi"
      }
    },
    {
      "cell_type": "markdown",
      "source": [
        "count(*)\n",
        "\n",
        "1000"
      ],
      "metadata": {
        "id": "mNseMC6D7Kde"
      }
    },
    {
      "cell_type": "markdown",
      "source": [
        "The statement:\n",
        "\n",
        "**Loads the CSV file**\n",
        "\n",
        "**Matches the (:Movie) node with the corresponding movieId property**\n",
        "\n",
        "**Calls db.create.setNodeVectorProperty() procedure to set the plotEmbedding property**\n",
        "\n",
        "**The procedure also validates that the property is a valid vector**\n",
        "\n",
        "Run the statement to create the Movie embeddings.\n",
        "\n",
        "Once complete, you can query the database to see the .plotEmbedding property on the (:Movie) nodes.\n",
        "\n",
        "\n",
        "####**MATCH (m:Movie {title: \"Toy Story\"})**\n",
        "\n",
        "####**RETURN m.title AS title, m.plot AS plot, m.plotEmbedding**\n",
        "\n",
        "title\n",
        "\n",
        "plot\n",
        "\n",
        "m.plotEmbedding\n",
        "\n",
        "\"Toy Story\"\n",
        "\n",
        "\"A cowboy doll is profoundly threatened and jealous when a new spaceman figure supplants him as top toy in a boy's room.\"\n",
        "\n",
        "[-0.027105800807476044, -\n",
        "\n",
        "##**LOAD CSV and Strings:--------**\n",
        "\n",
        "When data is loaded using LOAD CSV, it is treated as a string unless specifically cast using a specific function, for example, toInteger() or toFloat().\n",
        "\n",
        "In this case, the embedding is a string representing a JSON list, the statement coerces it into a Cypher List using the apoc.convert.fromJsonList() procedure.\n",
        "\n",
        "You can learn how to use the LOAD CSV command in the Importing CSV Data into Neo4j course."
      ],
      "metadata": {
        "id": "39FBHQwd7fP9"
      }
    },
    {
      "cell_type": "markdown",
      "source": [
        "##Creating the Vector Index\n",
        "You will need to create a vector index to search across these embeddings.\n",
        "\n",
        "**CREATE VECTOR INDEX moviePlots IF NOT EXISTS**\n",
        "\n",
        "**FOR (m:Movie)**\n",
        "\n",
        "**ON m.plotEmbedding**\n",
        "\n",
        "**OPTIONS {indexConfig: {**\n",
        "\n",
        "  `vector.dimensions`: 1536,**\n",
        "\n",
        "  `vector.similarity_function`: 'cosine'\n",
        "\n",
        "}}\n",
        "\n",
        "\n",
        "\n",
        "CREATE VECTOR INDEX expects the following parameters:\n",
        "\n",
        "**index_name** - The name of the index\n",
        "\n",
        "**LabelName** - The node label on which to index\n",
        "\n",
        "**propertyName** - The property on which to index\n",
        "\n",
        "**OPTIONS** - The options for the index, where you can specify:\n",
        "\n",
        "**vector.dimensions** - The dimension of the embedding e.g. OpenAI embeddings consist of **1536 dimensions.**\n",
        "\n",
        "**vector.similarity_function** - The similarity function to use when comparing values in this index - this can be **euclidean or cosine.**"
      ],
      "metadata": {
        "id": "sUWI28t68Yc2"
      }
    },
    {
      "cell_type": "markdown",
      "source": [
        "Note that the index is called **moviePlots,** it is against the Movie label, and it is on the **.plotEmbedding property.** The vector.dimensions is **1536** (as used by OpenAI) and the vector.similarity_function is **cosine.** The IF NOT EXISTS clause ensures that the statement only creates the index if it does not already exist.\n",
        "\n",
        "##Choosing a Similarity Function\n",
        "\n",
        "Generally, cosine will perform best for text embeddings, but you may want to experiment with other functions.\n",
        "\n",
        "You can read more about similarity functions in the documentation.\n",
        "https://neo4j.com/docs/cypher-manual/current/indexes/semantic-indexes/vector-indexes/#indexes-vector-similarity\n",
        "\n",
        "Typically, you will **choose a similarity function closest to the loss function used when training the embedding model.** You should refer to the model’s documentation for more information."
      ],
      "metadata": {
        "id": "gLpM6F709Nzw"
      }
    },
    {
      "cell_type": "markdown",
      "source": [
        "##Check the index creation status\n",
        "The index will be updated asynchronously. You can check the status of the index population using the SHOW INDEXES statement:\n",
        "\n",
        "**SHOW INDEXES  YIELD id, name, type, state, populationPercent WHERE type = \"VECTOR\"**"
      ],
      "metadata": {
        "id": "f6ftHBv3-HWe"
      }
    },
    {
      "cell_type": "markdown",
      "source": [
        "\"id\"│\"name\"      │\"type\"  │\"state\" │\"populationPercent\"│\n",
        "╞════╪════════════╪════════╪════════╪═══════════════════╡\n",
        "│1   │\"moviePlots\"│\"VECTOR\"│\"ONLINE\"│100.0              │\n",
        "└────┴────────────┴────────┴────────┴───────────────────┘"
      ],
      "metadata": {
        "id": "fdjFgHgV-RJd"
      }
    },
    {
      "cell_type": "markdown",
      "source": [
        "Once the state is listed as **online,** the index will be **ready to query.**\n",
        "\n",
        "The populationPercentage field indicates the proportion of node and property pairing.\n",
        "\n",
        "When the populationPercentage is 100.0, all the movie embeddings have been indexed."
      ],
      "metadata": {
        "id": "kBLKCxNd-Z6W"
      }
    },
    {
      "cell_type": "markdown",
      "source": [
        "##Querying Vector Indexes\n",
        "You can query the index using the db.index.vector.queryNodes() procedure.\n",
        "\n",
        "The procedure returns the **requested number of approximate nearest neighbor nodes and their similarity score, ordered by the score.**\n",
        "\n",
        "\n",
        "********************************************************************\n",
        "**MATCH (m:Movie {title: 'Toy Story'})**\n",
        "\n",
        "**CALL db.index.vector.queryNodes('moviePlots', 6, m.plotEmbedding)\n",
        "YIELD node, score**\n",
        "\n",
        "**RETURN node.title AS title, node.plot AS plot, score**\n",
        "\n",
        "****************************************************************\n",
        "The procedure accepts three parameters:\n",
        "\n",
        "**indexName** - The name of the vector index\n",
        "\n",
        "**numberOfNearestNeighbours** - The number of results to return\n",
        "\n",
        "**query** - A list of floats that represent an embedding\n",
        "*****************************************************************\n",
        "The procedure yields two arguments:\n",
        "\n",
        "**A node which matches the query**\n",
        "\n",
        "**A similarity score ranging from 0.0 to 1.0.**\n",
        "\n",
        "You can use this procedure to find the closest embedding value to a given embedding.\n",
        "\n",
        "*****************************************************************\n",
        "The query finds the Toy Story Movie node and uses the .plotEmbedding property to find the most similar plots. The db.index.vector.queryNodes() procedure uses the moviePlots vector index to find similar embeddings.\n",
        "\n",
        "Run the query. The procedure returns the requested number of approximate nearest neighbor nodes and their similarity score, ordered by the score.\n",
        "\n",
        "\n",
        "\"title\"                     │\"plot\"                                                                │\"score\"           │\n",
        "╞════════════════════════════╪══════════════════════════════════════════════════════════════════════╪══════════════════╡\n",
        "│\"Toy Story\"                 │\"A cowboy doll is profoundly threatened and jealous when a new spacema│1.0               │\n",
        "│                            │n figure supplants him as top toy in a boy's room.\"                   │                  │\n",
        "├────────────────────────────┼──────────────────────────────────────────────────────────────────────┼──────────────────┤\n",
        "│\"Little Rascals, The\"       │\"Alfalfa is wooing Darla and his He-Man-Woman-Hating friends attempt t│0.9214367866516113│\n",
        "│                            │o sabotage the relationship.\"                                         │                  │\n",
        "├────────────────────────────┼──────────────────────────────────────────────────────────────────────┼──────────────────┤\n",
        "│\"NeverEnding Story III, The\"│\"A young boy must restore order when a group of bullies steal the magi│0.9206200242042542│\n",
        "│                            │cal book that acts as a portal between Earth and the imaginary world o│                  │\n",
        "│                            │f Fantasia.\"                                                          │                  │\n",
        "├────────────────────────────┼──────────────────────────────────────────────────────────────────────┼──────────────────┤\n",
        "│\"Drop Dead Fred\"            │\"A young woman finds her already unstable life rocked by the presence │0.9199690222740173│\n",
        "│                            │of a rambunctious imaginary friend from childhood.\"                   │                  │\n",
        "├────────────────────────────┼──────────────────────────────────────────────────────────────────────┼──────────────────┤\n",
        "│\"E.T. the Extra-Terrestrial\"│\"A troubled child summons the courage to help a friendly alien escape │0.9191004037857056│\n",
        "│                            │Earth and return to his home-world.\"                                  │                  │\n",
        "├────────────────────────────┼──────────────────────────────────────────────────────────────────────┼──────────────────┤\n",
        "│\"Gumby: The Movie\"          │\"In this offshoot of the 1950s claymation cartoon series, the crazy Bl│0.9180968999862671│\n",
        "│                            │ockheads threaten to ruin Gumby's benefit concert by replacing the ent│                  │\n",
        "│                            │ire city of Clokeytown with robots.\"                                  │                  │\n",
        "└────────────────────────────┴──────────────────────────────────────────────────────────────────────┴─────────────────\n",
        "\n"
      ],
      "metadata": {
        "id": "IZnWaWkt-0fY"
      }
    },
    {
      "cell_type": "markdown",
      "source": [
        "1. Creating an Index\n",
        "\n",
        "**CREATE VECTOR INDEX person**\n",
        "\n",
        "**FOR (p:Person)\n",
        "ON p.bio\n",
        "OPTIONS {indexConfig: {\n",
        " `vector.dimensions`: 1536,\n",
        " `vector.similarity_function`: 'cosine'\n",
        "}}**\n",
        "\n",
        "2. Querying a Vector Index\n",
        "What parameters does the db.index.vector.queryNodes() procedure expect?\n",
        "\n",
        " The name of the index to query\n",
        "\n",
        " The number of nodes to return\n",
        "\n",
        " A list of floats that represent an embedding"
      ],
      "metadata": {
        "id": "gOiw5jzpAEg5"
      }
    },
    {
      "cell_type": "markdown",
      "source": [
        "##Improving Semantic Search\n",
        "In this module, you have learned about the benefits and drawbacks of Semantic Search using an underlying vector index.\n",
        "\n",
        "You received an answer when querying the vector index for a similar movie, but it is **difficult to tell** whether that is the best movie in the database.\n",
        "\n",
        "When using vector-backed semantic search, you are placing a lot of emphasis on the underlying model to provide a good similarity.\n",
        "\n",
        "The **context from which the similarity scores** are provided is an important factor here.\n",
        "\n",
        "The embeddings were trained on a generic dataset, and as such, may identify two movies with a main character called Jack who likes fruit as movies with a close similarity.\n",
        "\n",
        "This is correct in one sense; they are both movies and very similar when compared to a cricket bat or a vanilla yoghurt.\n",
        "\n",
        "On the other hand, if you are recommending a movie to pass away a rainy afternoon, a fairy tale for children is very different to a horror film.\n",
        "\n",
        "##Incorporating Graph Features\n",
        "Graph features can **enrich vector-backed semantic search** by providing **structural and relational context to data.**\n",
        "\n",
        "By leveraging the connections in graphs, semantic search can **draw upon relationships and hierarchies between entities, enhancing the depth and relevance of search results.**\n",
        "\n",
        "While vectors capture semantic nuances, adding graph structures allows for a more holistic understanding of data, considering its inherent meaning and position in a broader knowledge network.\n",
        "\n",
        "##Using Feedback\n",
        "A more straightforward approach may be to **use user feedback** to gradually **re-rank** and curate the content returned by a vector index search.\n",
        "\n",
        "GraphAcademy has a chatbot that uses this approach to improve the quality of its responses.\n",
        "\n",
        "**The GraphAcademy Chatbot**\n",
        "\n",
        "You can access the GraphAcademy chatbot by clicking on the chat icon chat icon in the bottom right corner of the GraphAcademy website.\n",
        "\n",
        "When a user asks a question, the server generates an embedding of the question and uses the vector index to identify relevant content.\n",
        "\n",
        "This approach works well in most cases, but now and again, the index fails to return relevant content, in which case the server instructs the LLM to respond to the user with an apology.\n",
        "\n",
        "GraphAcademy stores questions, responses, and the user’s feedback in the database. Over time, a better picture of which documents do or do not answer specific queries emerges.\n",
        "\n",
        "The chatbot can use this context to improve future responses. For example, when a user asks a question, the chatbot can compare it to previous questions and exclude any suggested documents where the answer was previously unhelpful.\n",
        "\n",
        "\n",
        "##Module Summary\n",
        "In this module, you have learned how to implement vector search in Neo4j.\n",
        "\n",
        "You have learned how to create a vector index using **CREATE VECTOR INDEX,** set vector properties using the **db.create.setVectorProperty()** procedure, and query the vector index using the **db.index.vector.queryNodes()** procedure.\n",
        "\n",
        "You also explored the **benefits and potential drawbacks** of **Vector-based Semantic Search.**"
      ],
      "metadata": {
        "id": "Xj_7BTVxBo_J"
      }
    },
    {
      "cell_type": "markdown",
      "source": [
        "##What is Langchain?\n",
        "LangChain is designed to accelerate the development of LLM applications.\n",
        "\n",
        "Langchain enables software developers to build LLM applications quickly, integrating with **external components and data sources.**\n",
        "\n",
        "Developers can build Langchain applications with **Python or JavaScript/TypeScript.**\n",
        "\n",
        "Langchain supports **multiple LLMs and allows you to swap one for another with a single parameter change.**\n",
        "\n",
        "Meaning you can quickly **test multiple LLMs** for suitability and utilize **different models for different use cases.**\n",
        "\n",
        "Langchain provides out-of-the-box integrations with **APIs and databases including Neo4j.**\n",
        "\n",
        "Langchain’s flexibility allows you to test different LLM providers and models with **minimal code changes.**\n",
        "\n",
        "##How does it work?\n",
        "LangChain applications bridge users and LLMs, communicating back and forth with the LLM through Chains.\n",
        "\n",
        "The key components of a Langchain application are:\n",
        "\n",
        "**Model Interaction (Model I/O):** Components that manage the interaction with the language model, overseeing tasks like feeding inputs and extracting outputs.\n",
        "\n",
        "**Data Connection and Retrieval:** Retrieval components can access, transform, and store data, allowing for efficient queries and retrieval.\n",
        "\n",
        "**Chains:** Chains are reusable components that determine the best way to fulfill an instruction based on a prompt.\n",
        "\n",
        "**Agents:** Agents orchestrate commands directed at LLMs and other tools, enabling them to perform specific tasks or solve designated problems.\n",
        "\n",
        "**Memory:** Allow applications to retain context, for example, remembering the previous messages in a conversation.\n",
        "\n",
        "************************************************************************\n",
        "This example program uses Langchain to build a **chatbot that answers questions about Neo4j Cypher queries.**\n",
        "\n",
        "The program interacts with an **OpenAI LLM, uses a prompt template to instruct the LLM on how to act, and uses a memory component to retain context and store the history in Neo4j.**"
      ],
      "metadata": {
        "id": "BTEAE585cnGY"
      }
    },
    {
      "cell_type": "code",
      "source": [
        "from langchain_openai import ChatOpenAI\n",
        "from langchain.agents import AgentExecutor, create_react_agent\n",
        "from langchain.tools import Tool\n",
        "from langchain import hub\n",
        "from langchain_core.prompts import ChatPromptTemplate\n",
        "from langchain_core.runnables.history import RunnableWithMessageHistory\n",
        "from langchain.schema import StrOutputParser\n",
        "from langchain_community.chat_message_histories import Neo4jChatMessageHistory\n",
        "from langchain_community.graphs import Neo4jGraph\n",
        "from uuid import uuid4\n",
        "\n",
        "SESSION_ID = str(uuid4())\n",
        "print(f\"Session ID: {SESSION_ID}\")\n",
        "\n",
        "llm = ChatOpenAI(openai_api_key=\"sk-...\")\n",
        "\n",
        "graph = Neo4jGraph(\n",
        "    url=\"bolt://localhost:7687\",\n",
        "    username=\"neo4j\",\n",
        "    password=\"pleaseletmein\"\n",
        ")\n",
        "\n",
        "prompt = ChatPromptTemplate.from_messages(\n",
        "    [\n",
        "        (\n",
        "            \"system\",\n",
        "            \"You are a Neo4j expert having a conversation about how to create Cypher queries\",\n",
        "        ),\n",
        "        (\"human\", \"{input}\"),\n",
        "    ]\n",
        ")\n",
        "\n",
        "cypher_chat = prompt | llm | StrOutputParser()\n",
        "\n",
        "def get_memory(session_id):\n",
        "    return Neo4jChatMessageHistory(session_id=session_id, graph=graph)\n",
        "\n",
        "tools = [\n",
        "    Tool.from_function(\n",
        "        name=\"Cypher Support\",\n",
        "        description=\"For when you need to talk about Cypher queries.\",\n",
        "        func=cypher_chat.invoke,\n",
        "    )\n",
        "]\n",
        "\n",
        "agent_prompt = hub.pull(\"hwchase17/react-chat\")\n",
        "agent = create_react_agent(llm, tools, agent_prompt)\n",
        "agent_executor = AgentExecutor(agent=agent, tools=tools)\n",
        "\n",
        "cypher_agent = RunnableWithMessageHistory(\n",
        "    agent_executor,\n",
        "    get_memory,\n",
        "    input_messages_key=\"input\",\n",
        "    history_messages_key=\"chat_history\",\n",
        ")\n",
        "\n",
        "while True:\n",
        "    q = input(\"> \")\n",
        "\n",
        "    response = cypher_agent.invoke(\n",
        "        {\n",
        "            \"input\": q\n",
        "        },\n",
        "        {\"configurable\": {\"session_id\": SESSION_ID}},\n",
        "    )\n",
        "\n",
        "    print(response[\"output\"])"
      ],
      "metadata": {
        "id": "r-NYkVxsDfq1"
      },
      "execution_count": null,
      "outputs": []
    },
    {
      "cell_type": "markdown",
      "source": [
        "##Installing Langchain\n",
        "\n",
        "pip install langchain\n",
        "\n",
        "####**Virtual Environment**\n",
        "\n",
        "You may find it helpful to create a Python virtual environment using a tool like virtualenv. Using a virtual environment allows you to install packages without affecting your system Python installation.\n",
        "\n",
        "pip install langchain-community langchainhub neo4j\n",
        "\n",
        "pip install openai langchain-openai\n",
        "\n",
        "from langchain_openai import OpenAI\n",
        "\n",
        "llm = OpenAI(openai_api_key=\"sk-...\")\n",
        "\n",
        "response = llm.invoke(\"What is Neo4j?\")\n",
        "\n",
        "print(response)\n",
        "\n",
        "##Creating PromptTemplates\n",
        "\n",
        "You can create a prompt from a string by calling the **PromptTemplate.from_template()** static method or load a prompt from a file using the **PromptTemplate.from_file()** static method."
      ],
      "metadata": {
        "id": "pkFFvEAzdbCS"
      }
    },
    {
      "cell_type": "code",
      "source": [
        "pip install langchain\n",
        "pip install langchain-community langchainhub neo4j\n",
        "pip install openai langchain-openai\n",
        "from langchain_openai import OpenAI\n",
        "\n",
        "llm = OpenAI(openai_api_key=\"sk-...\")\n",
        "\n",
        "response = llm.invoke(\"What is Neo4j?\")\n",
        "\n",
        "print(response)\n",
        "from langchain.prompts import PromptTemplate\n",
        "\n",
        "template = PromptTemplate(template=\"\"\"\n",
        "You are a cockney fruit and vegetable seller.\n",
        "Your role is to assist your customer with their fruit and vegetable needs.\n",
        "Respond using cockney rhyming slang.\n",
        "\n",
        "Tell me about the following fruit: {fruit}\n",
        "\"\"\", input_variables=[\"fruit\"])\n",
        "\n",
        "response = llm.invoke(template.format(fruit=\"apple\"))\n",
        "\n",
        "print(response)"
      ],
      "metadata": {
        "id": "3_JbAJSeezT4"
      },
      "execution_count": null,
      "outputs": []
    },
    {
      "cell_type": "code",
      "source": [
        "llm = OpenAI(\n",
        "    openai_api_key=\"sk-...\",\n",
        "    model=\"gpt-3.5-turbo-instruct\",\n",
        "    temperature=0\n",
        ")"
      ],
      "metadata": {
        "id": "2u4hWatGfWyx"
      },
      "execution_count": null,
      "outputs": []
    },
    {
      "cell_type": "markdown",
      "source": [
        "As you learned in the first module, all prompts have a temperature. The temperature, between 0.0 and 1.0, affects the randomness or creativeness of the response.\n",
        "\n",
        "Note how the code above uses the \"gpt-3.5-turbo-instruct\" model with a temperature of 0.0. Typically, this will produce a good response, as grounded in fact as possible.\n",
        "\n",
        "##prompt template\n",
        "\n",
        "Prompt templates allow you to create reusable instructions\n",
        "\n",
        "Prompt templates can accept multiple parameters"
      ],
      "metadata": {
        "id": "39bwiHB2feKW"
      }
    },
    {
      "cell_type": "markdown",
      "source": [
        "##Chains\n",
        "In this lesson, you will learn about chains and how to use them to create reusable components.\n",
        "\n",
        "Chains allows you to **combine language models with different data sources and third-party APIs.**\n",
        "\n",
        "##LCEL\n",
        "The simplest chain combines a prompt template with an LLM and returns a response.\n",
        "\n",
        "You can create a chain using LangChain Expression Language (LCEL). LCEL is a **declarative way to chain Langchain components together.**\n",
        "\n",
        "Components are chained together using the | operator.\n",
        "\n",
        "python\n",
        "\n",
        "**chain = prompt | llm**"
      ],
      "metadata": {
        "id": "q7hrSJs4f78v"
      }
    },
    {
      "cell_type": "code",
      "source": [
        "from langchain_openai import OpenAI\n",
        "from langchain.prompts import PromptTemplate\n",
        "\n",
        "llm = OpenAI(openai_api_key=\"sk-...\")\n",
        "\n",
        "template = PromptTemplate(template=\"\"\"\n",
        "You are a cockney fruit and vegetable seller.\n",
        "Your role is to assist your customer with their fruit and vegetable needs.\n",
        "Respond using cockney rhyming slang.\n",
        "\n",
        "Tell me about the following fruit: {fruit}\n",
        "\"\"\", input_variables=[\"fruit\"])\n",
        "\n",
        "response = llm.invoke(template.format(fruit=\"apple\"))\n",
        "\n",
        "print(response)"
      ],
      "metadata": {
        "id": "UDfNQ8m4Pkmd"
      },
      "execution_count": null,
      "outputs": []
    },
    {
      "cell_type": "markdown",
      "source": [
        "###You can combine this program into a **chain and create a reusable component.**\n",
        "\n",
        "\n",
        "\n"
      ],
      "metadata": {
        "id": "6VXEXl7NP1MR"
      }
    },
    {
      "cell_type": "code",
      "source": [
        "from langchain_openai import OpenAI\n",
        "from langchain.prompts import PromptTemplate\n",
        "\n",
        "llm = OpenAI(openai_api_key=\"sk-...\")\n",
        "\n",
        "template = PromptTemplate.from_template(\"\"\"\n",
        "You are a cockney fruit and vegetable seller.\n",
        "Your role is to assist your customer with their fruit and vegetable needs.\n",
        "Respond using cockney rhyming slang.\n",
        "\n",
        "Tell me about the following fruit: {fruit}\n",
        "\"\"\")\n",
        "\n",
        "llm_chain = template | llm\n",
        "\n",
        "response = llm_chain.invoke({\"fruit\": \"apple\"})\n",
        "\n",
        "print(response)"
      ],
      "metadata": {
        "id": "awbWDmJoP7qP"
      },
      "execution_count": null,
      "outputs": []
    },
    {
      "cell_type": "markdown",
      "source": [
        "Note how the llm_chain is created by chaining the template and the llm.\n",
        "\n",
        "\n",
        "**llm_chain = template | llm**\n",
        "\n",
        "You invoke the llm_chain passing the template parameters as a **dictionary.**\n",
        "\n",
        "**response = llm_chain.invoke({\"fruit\": \"apple\"})**"
      ],
      "metadata": {
        "id": "y3vdzBjhQFs3"
      }
    },
    {
      "cell_type": "markdown",
      "source": [
        "##Output Parsers\n",
        "The output from the chain is typically a string, and you can specify an output parser to parse the output.\n",
        "\n",
        "Adding a **StrOutputParser** to the chain would **ensure a string.**\n",
        "\n",
        "**from langchain.schema import StrOutputParser**\n",
        "\n",
        "**llm_chain = template | llm | StrOutputParser()**\n",
        "\n",
        "**************************************************************\n",
        "\n",
        "\n"
      ],
      "metadata": {
        "id": "Yt_PkxmgQi7t"
      }
    },
    {
      "cell_type": "code",
      "source": [
        "from langchain.schema import StrOutputParser\n",
        "\n",
        "llm_chain = template | llm | StrOutputParser()"
      ],
      "metadata": {
        "id": "GNfnH6i_RKAo"
      },
      "execution_count": null,
      "outputs": []
    },
    {
      "cell_type": "markdown",
      "source": [
        "####You can change the prompt to instruct the LLM to return a specific output type. For example, **return JSON by specifying Output JSON** and give a format in the prompt:"
      ],
      "metadata": {
        "id": "JkdGWzTVRT3W"
      }
    },
    {
      "cell_type": "code",
      "source": [
        "template = PromptTemplate.from_template(\"\"\"\n",
        "You are a cockney fruit and vegetable seller.\n",
        "Your role is to assist your customer with their fruit and vegetable needs.\n",
        "Respond using cockney rhyming slang.\n",
        "\n",
        "Output JSON as {{\"description\": \"your response here\"}}\n",
        "\n",
        "Tell me about the following fruit: {fruit}\n",
        "\"\"\")"
      ],
      "metadata": {
        "id": "rlUutMJERCjs"
      },
      "execution_count": null,
      "outputs": []
    },
    {
      "cell_type": "markdown",
      "source": [
        "You can ensure Langchain parses the response as JSON by specifying **SimpleJsonOutputParser** as the output_parser:"
      ],
      "metadata": {
        "id": "a0j7KWbpRWrI"
      }
    },
    {
      "cell_type": "code",
      "source": [
        "from langchain.output_parsers.json import SimpleJsonOutputParser\n",
        "\n",
        "llm_chain = template | llm | SimpleJsonOutputParser()"
      ],
      "metadata": {
        "id": "426N5pN3RqmT"
      },
      "execution_count": null,
      "outputs": []
    },
    {
      "cell_type": "markdown",
      "source": [
        "##The benefits of using chains are:\n",
        "\n",
        "**Modularity:** LangChain provides many modules that can be used to build language model applications. These modules can be used as stand-alones in simple applications and they can be combined for more complex use cases.\n",
        "\n",
        "**Customizability:** Most LangChain applications allow you to configure the LLM and/or the prompt used, so knowing how to take advantage of this will be a big enabler.\n",
        "\n",
        "**Ease of Use:** The components are designed to be easy to use, regardless of whether you are using the rest of the LangChain framework or not.\n",
        "\n",
        "**Standard Interface:** LangChain provides a standard interface for chains, enabling developers to create sequences of calls that go beyond a single LLM call."
      ],
      "metadata": {
        "id": "GmsgYcBeRvh1"
      }
    },
    {
      "cell_type": "markdown",
      "source": [
        "##Chat Models\n",
        "In the previous lesson, you learned how to communicate with the OpenAI LLM using Langchain.\n",
        "\n",
        "The communication was simple, you provided a prompt and got a response.\n",
        "\n",
        "In this lesson, you will learn **how to use a chat model to have a conversation with the LLM.**\n",
        "\n",
        "##Chat Models vs Language Models\n",
        "Until now, you have been using a language model to communicate with the LLM. A language model predicts the next word in a sequence of words. **Chat models** are designed to have conversations - they **accept a list of messages and return a conversational response.**\n",
        "\n",
        "##Chat models typically support different types of messages:\n",
        "\n",
        "**System -** System messages instruct the LLM on how to act on human messages\n",
        "\n",
        "**Human -** Human messages are messages sent from the user\n",
        "\n",
        "**AI -** Responses from the AI are called AI Responses\n",
        "\n",
        "\n",
        "##Create a Chat Model\n",
        "You are going to create an application that uses a chat model.\n",
        "\n",
        "The application will:\n",
        "\n",
        "**Use a system message to provide instructions**\n",
        "\n",
        "**Use a human message to ask a question**\n",
        "\n",
        "**Receive an AI response to the question**"
      ],
      "metadata": {
        "id": "VV4EzJysSM_C"
      }
    },
    {
      "cell_type": "code",
      "source": [
        "from langchain_openai import ChatOpenAI\n",
        "from langchain_core.messages import HumanMessage, SystemMessage\n",
        "\n",
        "chat_llm = ChatOpenAI(\n",
        "    openai_api_key=\"sk-...\"\n",
        ")"
      ],
      "metadata": {
        "id": "1A54jbXwTUsR"
      },
      "execution_count": null,
      "outputs": []
    },
    {
      "cell_type": "markdown",
      "source": [
        "##Create a system message to provide instructions to the chat model using the SystemMessage class."
      ],
      "metadata": {
        "id": "mjO0iozJTaFB"
      }
    },
    {
      "cell_type": "code",
      "source": [
        "instructions = SystemMessage(content=\"\"\"\n",
        "You are a surfer dude, having a conversation about the surf conditions on the beach.\n",
        "Respond using surfer slang.\n",
        "\"\"\")"
      ],
      "metadata": {
        "id": "LfBRBEmfTeU_"
      },
      "execution_count": null,
      "outputs": []
    },
    {
      "cell_type": "markdown",
      "source": [
        "##Create a HumanMessage object to ask a question."
      ],
      "metadata": {
        "id": "XS5JvamGTjMF"
      }
    },
    {
      "cell_type": "code",
      "source": [
        "question = HumanMessage(content=\"What is the weather like?\")"
      ],
      "metadata": {
        "id": "SZiF5C_pTl4a"
      },
      "execution_count": null,
      "outputs": []
    },
    {
      "cell_type": "markdown",
      "source": [
        "###You can now call the chat model passing a list of messages. In this example, pass the system message with the instructions and the human message with the question."
      ],
      "metadata": {
        "id": "HzpJQZQ4Tp1b"
      }
    },
    {
      "cell_type": "code",
      "source": [
        "response = chat_llm.invoke([\n",
        "    instructions,\n",
        "    question\n",
        "])\n",
        "\n",
        "print(response.content)"
      ],
      "metadata": {
        "id": "gA_caKhKTsdI"
      },
      "execution_count": null,
      "outputs": []
    },
    {
      "cell_type": "markdown",
      "source": [
        "##Complete Code:"
      ],
      "metadata": {
        "id": "f15bMWy-TyB8"
      }
    },
    {
      "cell_type": "code",
      "source": [
        "from langchain_openai import ChatOpenAI\n",
        "from langchain_core.messages import HumanMessage, SystemMessage\n",
        "\n",
        "chat_llm = ChatOpenAI(\n",
        "    openai_api_key=\"sk-...\"\n",
        ")\n",
        "\n",
        "instructions = SystemMessage(content=\"\"\"\n",
        "You are a surfer dude, having a conversation about the surf conditions on the beach.\n",
        "Respond using surfer slang.\n",
        "\"\"\")\n",
        "\n",
        "question = HumanMessage(content=\"What is the weather like?\")\n",
        "\n",
        "response = chat_llm.invoke([\n",
        "    instructions,\n",
        "    question\n",
        "])\n",
        "\n",
        "print(response.content)"
      ],
      "metadata": {
        "id": "w8hMCS6pT1Qq"
      },
      "execution_count": null,
      "outputs": []
    },
    {
      "cell_type": "markdown",
      "source": [
        "###The response is an AIMessage object."
      ],
      "metadata": {
        "id": "kLWw-YVeT65M"
      }
    },
    {
      "cell_type": "code",
      "source": [
        "AIMessage(content=\"Dude, the weather is totally gnarly! It's sunny with some epic offshore winds. Perfect conditions for shredding some sick waves!\", additional_kwargs={}, example=False)"
      ],
      "metadata": {
        "id": "9rRKh7JrT9jE"
      },
      "execution_count": null,
      "outputs": []
    },
    {
      "cell_type": "markdown",
      "source": [
        "###Wrapping in a Chain\n",
        "You can create a reusable chat model chain using what you have learned about prompts and chains.\n",
        "\n",
        "###**Rather than passing a list of messages to the chat model, you can create a prompt that gives context to the conversation and then pass the question to the chat model.**\n",
        "\n",
        "Review this program and identify the following:\n",
        "\n",
        "1. The prompt is created by combining system and human messages.\n",
        "\n",
        "2. The chain is created using the chat model, the prompt and an output parser.\n",
        "\n",
        "3. The question is passed to the chat model as a parameter of the invoke method."
      ],
      "metadata": {
        "id": "pU4sBuR0UFiB"
      }
    },
    {
      "cell_type": "code",
      "source": [
        "from langchain_openai import ChatOpenAI\n",
        "from langchain_core.prompts import ChatPromptTemplate\n",
        "from langchain.schema import StrOutputParser\n",
        "\n",
        "chat_llm = ChatOpenAI(openai_api_key=\"sk-...\")\n",
        "\n",
        "prompt = ChatPromptTemplate.from_messages(\n",
        "    [\n",
        "        (\n",
        "            \"system\",\n",
        "            \"You are a surfer dude, having a conversation about the surf conditions on the beach. Respond using surfer slang.\",\n",
        "        ),\n",
        "        (\n",
        "            \"human\",\n",
        "            \"{question}\"\n",
        "        ),\n",
        "    ]\n",
        ")\n",
        "\n",
        "chat_chain = prompt | chat_llm | StrOutputParser()\n",
        "\n",
        "response = chat_chain.invoke({\"question\": \"What is the weather like?\"})\n",
        "\n",
        "print(response)"
      ],
      "metadata": {
        "id": "e-lQFRYeVfOy"
      },
      "execution_count": null,
      "outputs": []
    },
    {
      "cell_type": "markdown",
      "source": [
        "##Giving context\n",
        "Previously, you learned about grounding and how it can provide context to the LLM and avoid Hallucination.\n",
        "\n",
        "Currently, the chat model is not grounded; it is unaware of surf conditions on the beach. It responds based on the question and the LLMs training data (which could be months or years out of date).\n",
        "\n",
        "You can ground the chat model by providing information about the surf conditions on the beach.\n",
        "\n",
        "Review this example where the chat model can access current beach conditions (current_weather) as a system message (context) in the prompt."
      ],
      "metadata": {
        "id": "_UzbMQa5AqRJ"
      }
    },
    {
      "cell_type": "code",
      "source": [
        "from langchain_openai import ChatOpenAI\n",
        "from langchain_core.prompts import ChatPromptTemplate\n",
        "from langchain.schema import StrOutputParser\n",
        "\n",
        "chat_llm = ChatOpenAI(openai_api_key=\"sk-...\")\n",
        "\n",
        "prompt = ChatPromptTemplate.from_messages(\n",
        "    [\n",
        "        (\n",
        "            \"system\",\n",
        "            \"You are a surfer dude, having a conversation about the surf conditions on the beach. Respond using surfer slang.\",\n",
        "        ),\n",
        "        ( \"system\", \"{context}\" ),\n",
        "        ( \"human\", \"{question}\" ),\n",
        "    ]\n",
        ")\n",
        "\n",
        "chat_chain = prompt | chat_llm | StrOutputParser()\n",
        "\n",
        "current_weather = \"\"\"\n",
        "    {\n",
        "        \"surf\": [\n",
        "            {\"beach\": \"Fistral\", \"conditions\": \"6ft waves and offshore winds\"},\n",
        "            {\"beach\": \"Polzeath\", \"conditions\": \"Flat and calm\"},\n",
        "            {\"beach\": \"Watergate Bay\", \"conditions\": \"3ft waves and onshore winds\"}\n",
        "        ]\n",
        "    }\"\"\"\n",
        "\n",
        "response = chat_chain.invoke(\n",
        "    {\n",
        "        \"context\": current_weather,\n",
        "        \"question\": \"What is the weather like on Watergate Bay?\",\n",
        "    }\n",
        ")\n",
        "\n",
        "print(response)"
      ],
      "metadata": {
        "id": "MB19GeHPBqDM"
      },
      "execution_count": null,
      "outputs": []
    },
    {
      "cell_type": "markdown",
      "source": [
        "Investigate what happens when you change the context by adding additional beach conditions.\n",
        "\n",
        "Providing context is **one aspect of Retrieval Augmented Generation (RAG).** In this program, you **manually** gave the model context; however, you could have retrieved real-time information from an API or database.\n",
        "\n",
        "##CHAT Models Messages types:\n",
        "\n",
        "**Human**\n",
        "\n",
        "**AI**\n",
        "\n",
        "**System**"
      ],
      "metadata": {
        "id": "u9hFoPBVDGF3"
      }
    },
    {
      "cell_type": "markdown",
      "source": [
        "##Giving a Chat Model Memory\n",
        "For a chat model to be helpful, it needs to remember what messages have been sent and received.\n",
        "\n",
        "Without the ability to remember the chat model will not be able to act according to the context of the conversation.\n",
        "\n",
        "For example, **without a memory the conversation may go in circles:**\n",
        "\n",
        "[user] Hi, my name is Martin\n",
        "\n",
        "[chat model] Hi, nice to meet you Martin\n",
        "\n",
        "[user] Do you have a name?\n",
        "\n",
        "[chat model] I am the chat model. Nice to meet you. What is your name?\n",
        "\n",
        "##Conversation Memory\n",
        "In the previous lesson, you created a chat model that responds to user’s questions about surf conditions.\n",
        "\n"
      ],
      "metadata": {
        "id": "RwXBxtPaD15I"
      }
    },
    {
      "cell_type": "code",
      "source": [
        "from langchain_openai import ChatOpenAI\n",
        "from langchain_core.prompts import ChatPromptTemplate\n",
        "from langchain.schema import StrOutputParser\n",
        "\n",
        "chat_llm = ChatOpenAI(openai_api_key=\"sk-...\")\n",
        "\n",
        "prompt = ChatPromptTemplate.from_messages(\n",
        "    [\n",
        "        (\n",
        "            \"system\",\n",
        "            \"You are a surfer dude, having a conversation about the surf conditions on the beach. Respond using surfer slang.\",\n",
        "        ),\n",
        "        ( \"system\", \"{context}\" ),\n",
        "        ( \"human\", \"{question}\" ),\n",
        "    ]\n",
        ")\n",
        "\n",
        "chat_chain = prompt | chat_llm | StrOutputParser()\n",
        "\n",
        "current_weather = \"\"\"\n",
        "    {\n",
        "        \"surf\": [\n",
        "            {\"beach\": \"Fistral\", \"conditions\": \"6ft waves and offshore winds\"},\n",
        "            {\"beach\": \"Polzeath\", \"conditions\": \"Flat and calm\"},\n",
        "            {\"beach\": \"Watergate Bay\", \"conditions\": \"3ft waves and onshore winds\"}\n",
        "        ]\n",
        "    }\"\"\"\n",
        "\n",
        "response = chat_chain.invoke(\n",
        "    {\n",
        "        \"context\": current_weather,\n",
        "        \"question\": \"What is the weather like on Watergate Bay?\",\n",
        "    }\n",
        ")\n",
        "\n",
        "print(response)"
      ],
      "metadata": {
        "id": "tyMwwq1vEIkc"
      },
      "execution_count": null,
      "outputs": []
    },
    {
      "cell_type": "markdown",
      "source": [
        "##LangChain supports several memory components, which support different scenarios and storage solutions.\n",
        "\n",
        "You are going to use the in-memory **ChatMessageHistory** memory component to temporarily store the conversation history between you and the chat model.\n",
        "\n",
        "In the next lesson, you will then use the **Neo4j Chat Message History memory component to persist** the conversation history in a Neo4j database.\n",
        "\n",
        "##Add History to the Prompt\n",
        "As each call to the LLM is **stateless,** you need to include the chat history in every call to the LLM. You can modify the prompt template to include the chat history as a list of messages using a **MessagesPlaceholder** object.\n",
        "\n"
      ],
      "metadata": {
        "id": "BAv-l8N0FHfa"
      }
    },
    {
      "cell_type": "code",
      "source": [
        "from langchain_core.prompts import ChatPromptTemplate, MessagesPlaceholder\n",
        "\n",
        "prompt = ChatPromptTemplate.from_messages(\n",
        "    [\n",
        "        (\n",
        "            \"system\",\n",
        "            \"You are a surfer dude, having a conversation about the surf conditions on the beach. Respond using surfer slang.\",\n",
        "        ),\n",
        "        (\"system\", \"{context}\"),\n",
        "        MessagesPlaceholder(variable_name=\"chat_history\"),\n",
        "        (\"human\", \"{question}\"),\n",
        "    ]\n",
        ")\n",
        "\n",
        "#The chat_history variable will contain the conversation history."
      ],
      "metadata": {
        "id": "u0tWScpkFs6X"
      },
      "execution_count": null,
      "outputs": []
    },
    {
      "cell_type": "markdown",
      "source": [
        "##Chat Message History\n",
        "To keep the message history, you will need to wrap the chat_chain in a **Runnable.** Specifically, you will use the **RunnableWithMessageHistory** runnable which will use the memory component to store and retrieve the conversation history.\n",
        "\n",
        "First, you will need to create a **ChatMessageHistory** memory component and a function that the **RunnableWithMessageHistory will use to get the memory component.**"
      ],
      "metadata": {
        "id": "Jj46bAwhGJXa"
      }
    },
    {
      "cell_type": "code",
      "source": [
        "from langchain_community.chat_message_histories import ChatMessageHistory\n",
        "\n",
        "memory = ChatMessageHistory()\n",
        "\n",
        "def get_memory(session_id):\n",
        "    return memory"
      ],
      "metadata": {
        "id": "TXVkzsQ_Gekk"
      },
      "execution_count": null,
      "outputs": []
    },
    {
      "cell_type": "markdown",
      "source": [
        "The get_memory function will return the ChatMessageHistory memory component. Note how it expects a **session_id** parameter, this would be used to **identify the specific conversation (or session).** As there will only be one conversation in memory at a time, you can ignore this parameter.\n",
        "\n",
        "You can now create a new chain using the RunnableWithMessageHistory, passing the chat_chain and the get_memory function."
      ],
      "metadata": {
        "id": "UEacjfamGt8R"
      }
    },
    {
      "cell_type": "code",
      "source": [
        "from langchain_core.runnables.history import RunnableWithMessageHistory\n",
        "\n",
        "chat_chain = prompt | chat_llm | StrOutputParser()\n",
        "\n",
        "chat_with_message_history = RunnableWithMessageHistory(\n",
        "    chat_chain,\n",
        "    get_memory,\n",
        "    input_messages_key=\"question\",\n",
        "    history_messages_key=\"chat_history\",\n",
        ")\n",
        "\n",
        "#The input_messages_key and history_messages_key parameters are the keys in the prompt that will be populated with the user’s question and the chat history."
      ],
      "metadata": {
        "id": "DkC4DqAfG_dN"
      },
      "execution_count": null,
      "outputs": []
    },
    {
      "cell_type": "markdown",
      "source": [
        "##Invoke the Chat Model\n",
        "When you call the chat_with_message_history chain, the user’s question and the response will be stored in the **ChatMessageHistory** memory component.\n",
        "\n",
        "Every subsequent call to the chat_with_message_history chain will include the chat history in the prompt.\n",
        "\n",
        "When you ask the chat model multiple questions, the LLM will use the context from the previous questions when responding."
      ],
      "metadata": {
        "id": "wQR27-SBHv9-"
      }
    },
    {
      "cell_type": "code",
      "source": [
        "response = chat_with_message_history.invoke(\n",
        "    {\n",
        "        \"context\": current_weather,\n",
        "        \"question\": \"Hi, I am at Watergate Bay. What is the surf like?\"\n",
        "    },\n",
        "    config={\"configurable\": {\"session_id\": \"none\"}}\n",
        ")\n",
        "print(response)\n",
        "\n",
        "response = chat_with_message_history.invoke(\n",
        "    {\n",
        "        \"context\": current_weather,\n",
        "        \"question\": \"Where I am?\"\n",
        "    },\n",
        "    config={\"configurable\": {\"session_id\": \"none\"}}\n",
        ")\n",
        "print(response)"
      ],
      "metadata": {
        "id": "_PCtWtyHH7xm"
      },
      "execution_count": null,
      "outputs": []
    },
    {
      "cell_type": "code",
      "source": [
        "[user] Hi, I am at Watergate Bay. What is the surf like?\n",
        "[chat model] Dude, stoked you're at Watergate Bay! The surf is lookin' pretty chill, about 3ft waves rollin' in. But watch out for those onshore winds, they might mess with your flow.\n",
        "[user] Where I am?\n",
        "[chat model] You're at Watergate Bay, dude!"
      ],
      "metadata": {
        "id": "BzaxU9ABIV2a"
      },
      "execution_count": null,
      "outputs": []
    },
    {
      "cell_type": "markdown",
      "source": [
        "To invoke the chat model you need to specify a **session_id** in the config which will be **passed to the get_memory function.**\n",
        "\n",
        "As there is **no need to store multiple conversations in memory,** you can use the same session_id for all conversations.\n",
        "\n",
        "####You will use the **session_id in the next lesson** when storing the conversation history in **Neo4j.**\n",
        "\n",
        "##Try creating a simple loop and ask the chat model a few questions:"
      ],
      "metadata": {
        "id": "7Bo6M_CSIgAq"
      }
    },
    {
      "cell_type": "code",
      "source": [
        "while True:\n",
        "    question = input(\"> \")\n",
        "\n",
        "    response = chat_with_message_history.invoke(\n",
        "        {\n",
        "            \"context\": current_weather,\n",
        "            \"question\": question,\n",
        "\n",
        "        },\n",
        "        config={\n",
        "            \"configurable\": {\"session_id\": \"none\"}\n",
        "        }\n",
        "    )\n",
        "\n",
        "    print(response)"
      ],
      "metadata": {
        "id": "U935FAMIJCG-"
      },
      "execution_count": null,
      "outputs": []
    },
    {
      "cell_type": "markdown",
      "source": [
        "##**Complete Code.**"
      ],
      "metadata": {
        "id": "fbb1i163JHgN"
      }
    },
    {
      "cell_type": "code",
      "source": [
        "from langchain_openai import ChatOpenAI\n",
        "from langchain_core.prompts import ChatPromptTemplate, MessagesPlaceholder\n",
        "from langchain.schema import StrOutputParser\n",
        "from langchain_community.chat_message_histories import ChatMessageHistory\n",
        "from langchain_core.runnables.history import RunnableWithMessageHistory\n",
        "\n",
        "chat_llm = ChatOpenAI(openai_api_key=\"sk-...\")\n",
        "\n",
        "prompt = ChatPromptTemplate.from_messages(\n",
        "    [\n",
        "        (\n",
        "            \"system\",\n",
        "            \"You are a surfer dude, having a conversation about the surf conditions on the beach. Respond using surfer slang.\",\n",
        "        ),\n",
        "        (\"system\", \"{context}\"),\n",
        "        MessagesPlaceholder(variable_name=\"chat_history\"),\n",
        "        (\"human\", \"{question}\"),\n",
        "    ]\n",
        ")\n",
        "\n",
        "memory = ChatMessageHistory()\n",
        "\n",
        "def get_memory(session_id):\n",
        "    return memory\n",
        "\n",
        "chat_chain = prompt | chat_llm | StrOutputParser()\n",
        "\n",
        "chat_with_message_history = RunnableWithMessageHistory(\n",
        "    chat_chain,\n",
        "    get_memory,\n",
        "    input_messages_key=\"question\",\n",
        "    history_messages_key=\"chat_history\",\n",
        ")\n",
        "\n",
        "\n",
        "current_weather = \"\"\"\n",
        "    {\n",
        "        \"surf\": [\n",
        "            {\"beach\": \"Fistral\", \"conditions\": \"6ft waves and offshore winds\"},\n",
        "            {\"beach\": \"Bells\", \"conditions\": \"Flat and calm\"},\n",
        "            {\"beach\": \"Watergate Bay\", \"conditions\": \"3ft waves and onshore winds\"}\n",
        "        ]\n",
        "    }\"\"\"\n",
        "\n",
        "while True:\n",
        "    question = input(\"> \")\n",
        "\n",
        "    response = chat_with_message_history.invoke(\n",
        "        {\n",
        "            \"context\": current_weather,\n",
        "            \"question\": question,\n",
        "\n",
        "        },\n",
        "        config={\n",
        "            \"configurable\": {\"session_id\": \"none\"}\n",
        "        }\n",
        "    )\n",
        "\n",
        "    print(response)"
      ],
      "metadata": {
        "id": "rmyAKoa6JMDV"
      },
      "execution_count": null,
      "outputs": []
    },
    {
      "cell_type": "markdown",
      "source": [
        "####**Without memory chat models can’t remember the previous conversation.**\n",
        "\n",
        "\n",
        "##Storing Conversation History\n",
        "Langchain includes functionality to integrate directly with Neo4j, including allowing you to run Cypher statements, query vector indexes and use Neo4j as a conversation memory store.\n",
        "\n",
        "In this lesson, you will learn how to connect to and use a Neo4j database as a conversation memory store.\n",
        "\n",
        "Storing conversation history in a Neo4j database allows you to analyze the conversation history to understand trends and improve outcomes."
      ],
      "metadata": {
        "id": "U_ihsbH-KbZ-"
      }
    },
    {
      "cell_type": "markdown",
      "source": [
        "##Connecting to a Neo4j instance\n",
        "The following code will connect to a Neo4j database and run a simple query."
      ],
      "metadata": {
        "id": "WKPg38Z2FNva"
      }
    },
    {
      "cell_type": "code",
      "source": [
        "from langchain_community.graphs import Neo4jGraph\n",
        "\n",
        "graph = Neo4jGraph(\n",
        "    url=\"bolt://localhost:7687\",\n",
        "    username=\"neo4j\",\n",
        "    password=\"pleaseletmein\"\n",
        ")\n",
        "\n",
        "result = graph.query(\"\"\"\n",
        "MATCH (m:Movie{title: 'Toy Story'})\n",
        "RETURN m.title, m.plot, m.poster\n",
        "\"\"\")\n",
        "\n",
        "print(result)\n",
        "\n",
        "#The Neo4jGraph class is a wrapper to the Neo4j Python driver. It simplifies connecting to Neo4j and integrating with the Langchain framework."
      ],
      "metadata": {
        "id": "8CWXdJe_Fbc2"
      },
      "execution_count": null,
      "outputs": []
    },
    {
      "cell_type": "markdown",
      "source": [
        "##Schema\n",
        "When you connect to the Neo4j database, the object loads the **database schema** into **memory** - this enables Langchain to access the schema information without having to query the database.\n",
        "\n",
        "You can access the schema information using the **schema property.**"
      ],
      "metadata": {
        "id": "jSuNN9xnFscC"
      }
    },
    {
      "cell_type": "code",
      "source": [
        "print(graph.schema)"
      ],
      "metadata": {
        "id": "hry58N0DF-Ly"
      },
      "execution_count": null,
      "outputs": []
    },
    {
      "cell_type": "markdown",
      "source": [
        "###Refreshing the schema\n",
        "\n",
        "You can refresh the schema by calling the graph.refresh_schema() method."
      ],
      "metadata": {
        "id": "VWMYgypjGC_N"
      }
    },
    {
      "cell_type": "code",
      "source": [
        "print(graph.refresh_schema())"
      ],
      "metadata": {
        "id": "bxCx_YwqGHTh"
      },
      "execution_count": null,
      "outputs": []
    },
    {
      "cell_type": "markdown",
      "source": [
        "##Conversation History\n",
        "In the previous lesson, you created a program that used the **ChatMessageHistory** component to store conversation history in memory.\n",
        "\n",
        "You will now update this program to store the conversation history in your Neo4j sandbox using the **Neo4jChatMessageHistory** component."
      ],
      "metadata": {
        "id": "LEgku-mCGMem"
      }
    },
    {
      "cell_type": "code",
      "source": [
        "from langchain_openai import ChatOpenAI\n",
        "from langchain_core.prompts import ChatPromptTemplate, MessagesPlaceholder\n",
        "from langchain.schema import StrOutputParser\n",
        "from langchain_community.chat_message_histories import ChatMessageHistory\n",
        "from langchain_core.runnables.history import RunnableWithMessageHistory\n",
        "\n",
        "chat_llm = ChatOpenAI(openai_api_key=\"sk-...\")\n",
        "\n",
        "prompt = ChatPromptTemplate.from_messages(\n",
        "    [\n",
        "        (\n",
        "            \"system\",\n",
        "            \"You are a surfer dude, having a conversation about the surf conditions on the beach. Respond using surfer slang.\",\n",
        "        ),\n",
        "        (\"system\", \"{context}\"),\n",
        "        MessagesPlaceholder(variable_name=\"chat_history\"),\n",
        "        (\"human\", \"{question}\"),\n",
        "    ]\n",
        ")\n",
        "\n",
        "memory = ChatMessageHistory()\n",
        "\n",
        "def get_memory(session_id):\n",
        "    return memory\n",
        "\n",
        "chat_chain = prompt | chat_llm | StrOutputParser()\n",
        "\n",
        "chat_with_message_history = RunnableWithMessageHistory(\n",
        "    chat_chain,\n",
        "    get_memory,\n",
        "    input_messages_key=\"question\",\n",
        "    history_messages_key=\"chat_history\",\n",
        ")\n",
        "\n",
        "\n",
        "current_weather = \"\"\"\n",
        "    {\n",
        "        \"surf\": [\n",
        "            {\"beach\": \"Fistral\", \"conditions\": \"6ft waves and offshore winds\"},\n",
        "            {\"beach\": \"Bells\", \"conditions\": \"Flat and calm\"},\n",
        "            {\"beach\": \"Watergate Bay\", \"conditions\": \"3ft waves and onshore winds\"}\n",
        "        ]\n",
        "    }\"\"\"\n",
        "\n",
        "while True:\n",
        "    question = input(\"> \")\n",
        "\n",
        "    response = chat_with_message_history.invoke(\n",
        "        {\n",
        "            \"context\": current_weather,\n",
        "            \"question\": question,\n",
        "\n",
        "        },\n",
        "        config={\n",
        "            \"configurable\": {\"session_id\": \"none\"}\n",
        "        }\n",
        "    )\n",
        "\n",
        "    print(response)"
      ],
      "metadata": {
        "id": "vND6V7e-GZ5u"
      },
      "execution_count": null,
      "outputs": []
    },
    {
      "cell_type": "markdown",
      "source": [
        "##Session ID\n",
        "You must **create and assign a session ID to each conversation** to identify them.\n",
        "\n",
        "The session ID can be **any unique value,** such as a Universally Unique Identifier (UUID).\n",
        "\n",
        "You can **generate a random UUID** using the **Python uuid.uuid4** function.\n",
        "\n",
        "Create a **new SESSION_ID constant** in your chat model program."
      ],
      "metadata": {
        "id": "CohSi8u0Iaab"
      }
    },
    {
      "cell_type": "code",
      "source": [
        "from uuid import uuid4\n",
        "\n",
        "SESSION_ID = str(uuid4())\n",
        "print(f\"Session ID: {SESSION_ID}\")\n",
        "\n",
        "#This session ID will be used to identify the conversation in Neo4j."
      ],
      "metadata": {
        "id": "QzVTtBOuIrU9"
      },
      "execution_count": null,
      "outputs": []
    },
    {
      "cell_type": "markdown",
      "source": [
        "##Neo4j Chat Message History\n",
        "Create a Neo4jGraph object to connect to your Neo4j sandbox."
      ],
      "metadata": {
        "id": "x3rMk7TPI0G4"
      }
    },
    {
      "cell_type": "code",
      "source": [
        "from langchain_community.graphs import Neo4jGraph\n",
        "\n",
        "graph = Neo4jGraph(\n",
        "    url=\"bolt://localhost:7687\",\n",
        "    username=\"neo4j\",\n",
        "    password=\"pleaseletmein\"\n",
        ")\n",
        "\n",
        "#Remember to update the connection details with your Neo4j sandbox details."
      ],
      "metadata": {
        "id": "77eZ6ZynI3hJ"
      },
      "execution_count": null,
      "outputs": []
    },
    {
      "cell_type": "markdown",
      "source": [
        "####Previously, the **get_memory function** returned an **instance of ChatMessageHistory.**\n",
        "\n",
        "The get_memory function should now return an instance of **Neo4jChatMessageHistory.** You should **pass the session_id and the graph connection** you created as parameters."
      ],
      "metadata": {
        "id": "pETvT947I_l1"
      }
    },
    {
      "cell_type": "code",
      "source": [
        "from langchain_community.chat_message_histories import Neo4jChatMessageHistory\n",
        "\n",
        "def get_memory(session_id):\n",
        "    return Neo4jChatMessageHistory(session_id=session_id, graph=graph)\n",
        "\n",
        "#Finally, you must add the SESSION_ID to the config when you invoke the chat model."
      ],
      "metadata": {
        "id": "1gOXvwPuJQO5"
      },
      "execution_count": null,
      "outputs": []
    },
    {
      "cell_type": "code",
      "source": [
        "        response = chat_with_message_history.invoke(\n",
        "        {\n",
        "            \"context\": current_weather,\n",
        "            \"question\": question,\n",
        "\n",
        "        },\n",
        "        config={\n",
        "            \"configurable\": {\"session_id\": SESSION_ID}\n",
        "        }\n",
        "    )"
      ],
      "metadata": {
        "id": "nf7qRcbSJg18"
      },
      "execution_count": null,
      "outputs": []
    },
    {
      "cell_type": "markdown",
      "source": [
        "##Complete Code:"
      ],
      "metadata": {
        "id": "O2En1_DjJqXo"
      }
    },
    {
      "cell_type": "code",
      "source": [
        "from langchain_openai import ChatOpenAI\n",
        "from langchain_core.prompts import ChatPromptTemplate, MessagesPlaceholder\n",
        "from langchain.schema import StrOutputParser\n",
        "from langchain_core.runnables.history import RunnableWithMessageHistory\n",
        "from langchain_community.graphs import Neo4jGraph\n",
        "from langchain_community.chat_message_histories import Neo4jChatMessageHistory\n",
        "from uuid import uuid4\n",
        "\n",
        "SESSION_ID = str(uuid4())\n",
        "print(f\"Session ID: {SESSION_ID}\")\n",
        "\n",
        "chat_llm = ChatOpenAI(openai_api_key=\"sk-...\")\n",
        "\n",
        "graph = Neo4jGraph(\n",
        "    url=\"bolt://localhost:7687\",\n",
        "    username=\"neo4j\",\n",
        "    password=\"pleaseletmein\"\n",
        ")\n",
        "\n",
        "prompt = ChatPromptTemplate.from_messages(\n",
        "    [\n",
        "        (\n",
        "            \"system\",\n",
        "            \"You are a surfer dude, having a conversation about the surf conditions on the beach. Respond using surfer slang.\",\n",
        "        ),\n",
        "        (\"system\", \"{context}\"),\n",
        "        MessagesPlaceholder(variable_name=\"chat_history\"),\n",
        "        (\"human\", \"{question}\"),\n",
        "    ]\n",
        ")\n",
        "\n",
        "def get_memory(session_id):\n",
        "    return Neo4jChatMessageHistory(session_id=session_id, graph=graph)\n",
        "\n",
        "chat_chain = prompt | chat_llm | StrOutputParser()\n",
        "\n",
        "chat_with_message_history = RunnableWithMessageHistory(\n",
        "    chat_chain,\n",
        "    get_memory,\n",
        "    input_messages_key=\"question\",\n",
        "    history_messages_key=\"chat_history\",\n",
        ")\n",
        "\n",
        "current_weather = \"\"\"\n",
        "    {\n",
        "        \"surf\": [\n",
        "            {\"beach\": \"Fistral\", \"conditions\": \"6ft waves and offshore winds\"},\n",
        "            {\"beach\": \"Bells\", \"conditions\": \"Flat and calm\"},\n",
        "            {\"beach\": \"Watergate Bay\", \"conditions\": \"3ft waves and onshore winds\"}\n",
        "        ]\n",
        "    }\"\"\"\n",
        "\n",
        "while True:\n",
        "    question = input(\"> \")\n",
        "\n",
        "    response = chat_with_message_history.invoke(\n",
        "        {\n",
        "            \"context\": current_weather,\n",
        "            \"question\": question,\n",
        "\n",
        "        },\n",
        "        config={\n",
        "            \"configurable\": {\"session_id\": SESSION_ID}\n",
        "        }\n",
        "    )\n",
        "\n",
        "    print(response)"
      ],
      "metadata": {
        "id": "eAknUi3PJtIc"
      },
      "execution_count": null,
      "outputs": []
    },
    {
      "cell_type": "markdown",
      "source": [
        "####Run the program and have a conversation with the chat model. The conversation history will now be **stored in your Neo4j sandbox.**\n",
        "\n",
        "##Conversation History Graph\n",
        "The conversation history is stored using the following data model:\n",
        "\n",
        "![image.png](data:image/png;base64,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)"
      ],
      "metadata": {
        "id": "FDIHdOA5J0sU"
      }
    },
    {
      "cell_type": "markdown",
      "source": [
        "####The **Session node** represents **a conversation session and has an id property.**\n",
        "\n",
        "####The **Message node** represents a message in the conversation and has the following properties:\n",
        "\n",
        "**content** - The message content\n",
        "\n",
        "**type** - The message type: **human, ai, or system**\n",
        "\n",
        "The **LAST_MESSAGE relationship** connects the Session node to the conversation’s last Message node. The **NEXT relationship** connects Message nodes in the conversation.\n",
        "\n",
        "You can return the graph of the conversation history using the following Cypher query:"
      ],
      "metadata": {
        "id": "TixdfVhQKO-8"
      }
    },
    {
      "cell_type": "code",
      "source": [
        "MATCH (s:Session)-[:LAST_MESSAGE]->(last:Message)<-[:NEXT*]-(msg:Message)\n",
        "RETURN s, last, msg"
      ],
      "metadata": {
        "id": "9fkUm1kjK8zJ"
      },
      "execution_count": null,
      "outputs": []
    },
    {
      "cell_type": "markdown",
      "source": [
        "![image.png](data:image/png;base64,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)"
      ],
      "metadata": {
        "id": "eyo2lxhQLIh-"
      }
    },
    {
      "cell_type": "markdown",
      "source": [
        "You can return the conversation history for a single session by filtering on the Session.id property."
      ],
      "metadata": {
        "id": "_EwBTzbLLMP-"
      }
    },
    {
      "cell_type": "code",
      "source": [
        "MATCH (s:Session)-[:LAST_MESSAGE]->(last:Message)\n",
        "WHERE s.id = 'your session id'\n",
        "MATCH p = (last)<-[:NEXT*]-(msg:Message)\n",
        "UNWIND nodes(p) as msgs\n",
        "RETURN DISTINCT msgs.type, msgs.content"
      ],
      "metadata": {
        "id": "yuSO8oLbLOwF"
      },
      "execution_count": null,
      "outputs": []
    },
    {
      "cell_type": "markdown",
      "source": [
        "##The Cypher QA Chain\n",
        "Language models and vector indexes are good at querying unstructured data. Although, as you have seen, responses are not always correct, and when data is structured, it is often easier to query it directly.\n",
        "\n",
        "###**LLMs are good at writing Cypher queries when given good information, such as:**\n",
        "\n",
        "1. The schema of the graph\n",
        "\n",
        "2. Context about the question to be answered\n",
        "\n",
        "3. Examples of questions and appropriate Cypher queries\n",
        "\n",
        "In this lesson, you will learn **how to use a language model to generate Cypher queries to query a Neo4j graph database.**"
      ],
      "metadata": {
        "id": "2M7abX7ZL3aB"
      }
    },
    {
      "cell_type": "markdown",
      "source": [
        "##Generating Cypher\n",
        "Langchain includes the **GraphCypherQAChainchain** that can interact with a **Neo4j graph database.** It uses a **language model to generate Cypher queries** and then uses the graph to answer the question.\n",
        "\n",
        "####GraphCypherQAChain chain requires the following:\n",
        "\n",
        "1. An LLM (llm) for generating Cypher queries\n",
        "\n",
        "2. A graph database connection (graph) for answering the queries\n",
        "\n",
        "3. A prompt template (cypher_prompt) to give the LLM the schema and question\n",
        "\n",
        "4. An appropriate question which relates to the schema and data in the graph\n",
        "\n",
        "The program below will generate a Cypher query based on the schema in the graph database and the question.\n",
        "\n",
        "Review the code and predict what will happen when you run it."
      ],
      "metadata": {
        "id": "N9ulWqO2MZJI"
      }
    },
    {
      "cell_type": "code",
      "source": [
        "from langchain_openai import ChatOpenAI\n",
        "from langchain_community.graphs import Neo4jGraph\n",
        "from langchain.chains import GraphCypherQAChain\n",
        "from langchain.prompts import PromptTemplate\n",
        "\n",
        "llm = ChatOpenAI(\n",
        "    openai_api_key=\"sk-...\"\n",
        ")\n",
        "\n",
        "graph = Neo4jGraph(\n",
        "    url=\"bolt://localhost:7687\",\n",
        "    username=\"neo4j\",\n",
        "    password=\"pleaseletmein\",\n",
        ")\n",
        "\n",
        "CYPHER_GENERATION_TEMPLATE = \"\"\"\n",
        "You are an expert Neo4j Developer translating user questions into Cypher to answer questions about movies and provide recommendations.\n",
        "Convert the user's question based on the schema.\n",
        "\n",
        "Schema: {schema}\n",
        "Question: {question}\n",
        "\"\"\"\n",
        "\n",
        "cypher_generation_prompt = PromptTemplate(\n",
        "    template=CYPHER_GENERATION_TEMPLATE,\n",
        "    input_variables=[\"schema\", \"question\"],\n",
        ")\n",
        "\n",
        "cypher_chain = GraphCypherQAChain.from_llm(\n",
        "    llm,\n",
        "    graph=graph,\n",
        "    cypher_prompt=cypher_generation_prompt,\n",
        "    verbose=True\n",
        ")\n",
        "\n",
        "cypher_chain.invoke({\"query\": \"What is the plot of the movie Toy Story?\"})"
      ],
      "metadata": {
        "id": "AquI1UhMPXbB"
      },
      "execution_count": null,
      "outputs": []
    },
    {
      "cell_type": "markdown",
      "source": [
        "When you run the program, you should see the Cypher generated from the question and the data it returned. Something similar to:\n",
        "\n"
      ],
      "metadata": {
        "id": "Ga5RXLryPnYu"
      }
    },
    {
      "cell_type": "code",
      "source": [
        "Generated Cypher:\n",
        "\n",
        "MATCH (m:Movie {title: \"Toy Story\"})\n",
        "RETURN m.plot\n",
        "\n",
        "Full Context:\n",
        "\n",
        "[{'m.plot': \"A cowboy doll is profoundly threatened and jealous when a new spaceman\n",
        "figure supplants him as top toy in a boy's room.\"}]"
      ],
      "metadata": {
        "id": "GZYeeSMGPqqy"
      },
      "execution_count": null,
      "outputs": []
    },
    {
      "cell_type": "markdown",
      "source": [
        "The LLM used the database schema to generate an appropriate Cypher query. Langchain then executed the query against the graph database, and the result returned."
      ],
      "metadata": {
        "id": "qaF_C-2sP1pA"
      }
    },
    {
      "cell_type": "markdown",
      "source": [
        "##Breaking Down the Program\n",
        "###Reviewing the program, you should identify the following key points:\n",
        "\n",
        "1. The program instantiates the required llm and graph objects using the appropriate API and connection details."
      ],
      "metadata": {
        "id": "6BWPWXkWP5pF"
      }
    },
    {
      "cell_type": "code",
      "source": [
        "llm = ChatOpenAI(\n",
        "    openai_api_key=\"sk-...\"\n",
        ")\n",
        "\n",
        "graph = Neo4jGraph(\n",
        "    url=\"bolt://localhost:7687\",\n",
        "    username=\"neo4j\",\n",
        "    password=\"pleaseletmein\",\n",
        ")"
      ],
      "metadata": {
        "id": "zitjOia7QBCa"
      },
      "execution_count": null,
      "outputs": []
    },
    {
      "cell_type": "markdown",
      "source": [
        "2. The CYPHER_GENERATION_TEMPLATE gives the LLM context. The schema and question are passed to the LLM as input variables."
      ],
      "metadata": {
        "id": "px3oz8lrQD8r"
      }
    },
    {
      "cell_type": "code",
      "source": [
        "CYPHER_GENERATION_TEMPLATE = \"\"\"\n",
        "You are an expert Neo4j Developer translating user questions into Cypher to answer questions about movies and provide recommendations.\n",
        "Convert the user's question based on the schema.\n",
        "\n",
        "Schema: {schema}\n",
        "Question: {question}\n",
        "\"\"\"\n",
        "\n",
        "cypher_generation_prompt = PromptTemplate(\n",
        "    template=CYPHER_GENERATION_TEMPLATE,\n",
        "    input_variables=[\"schema\", \"question\"],\n",
        ")"
      ],
      "metadata": {
        "id": "kpgsdbZ5QIwh"
      },
      "execution_count": null,
      "outputs": []
    },
    {
      "cell_type": "markdown",
      "source": [
        "The schema will be automatically generated from the graph database and passed to the LLM. The question will be the user’s question."
      ],
      "metadata": {
        "id": "oxyb8o1XQMKY"
      }
    },
    {
      "cell_type": "markdown",
      "source": [
        "3. The program instantiates the GraphCypherQAChain chain with the llm, graph, and prompt template (cypher_prompt)."
      ],
      "metadata": {
        "id": "ixHNStR1QNN2"
      }
    },
    {
      "cell_type": "code",
      "source": [
        "cypher_chain = GraphCypherQAChain.from_llm(\n",
        "    llm,\n",
        "    graph=graph,\n",
        "    cypher_prompt=cypher_generation_prompt,\n",
        "    verbose=True\n",
        ")"
      ],
      "metadata": {
        "id": "z0abgXzHQTtn"
      },
      "execution_count": null,
      "outputs": []
    },
    {
      "cell_type": "markdown",
      "source": [
        "The program sets the verbose flag to True so you can see the generated Cypher query and response.\n",
        "\n",
        "4. The chain runs, passing an appropriate question."
      ],
      "metadata": {
        "id": "vlRhWNBBQY0S"
      }
    },
    {
      "cell_type": "code",
      "source": [
        "cypher_chain.invoke({\"query\": \"What is the plot of the movie Toy Story?\"})"
      ],
      "metadata": {
        "id": "x0iRtv2JQbkx"
      },
      "execution_count": null,
      "outputs": []
    },
    {
      "cell_type": "markdown",
      "source": [
        "Experiment with different questions and observe the results.\n",
        "\n",
        "For example, try:\n",
        "\n",
        "1. A different context - \"What movies did Meg Ryan act in?\"\n",
        "\n",
        "2. An aggregate query - \"How many movies has Tom Hanks directed?\"\n",
        "\n",
        "##Inconsistent Results\n",
        "Investigate what happens when you ask the **same question multiple times.** Observe the generated Cypher query and the response.\n",
        "\n",
        "###\"What role did Tom Hanks play in Toy Story?\"\n",
        "You will likely see different results each time you run the program.\n",
        "\n",
        "**MATCH (actor:Actor {name: 'Tom Hanks'})-[:ACTED_IN]->(movie:Movie {title: 'Toy Story'})**\n",
        "\n",
        "**RETURN actor.name, movie.title, movie.year, movie.runtime, movie.plot**\n",
        "\n",
        "**MATCH (a:Actor {name: 'Tom Hanks'})-[:ACTED_IN]->(m:Movie {title: 'Toy Story'})-[:ACTED_IN]->(p:Person)**\n",
        "**RETURN p.name AS role**\n",
        "\n",
        "The **LLM doesn’t return consistent results** - its objective is to produce an answer, not the same response. The response may not be correct or even generate an error due to invalid Cypher.\n",
        "\n",
        "In the following two lessons, you will learn how to provide **additional context and instructions** to the **LLM to generate better and more consistent results.**\n",
        "\n",
        "##GraphCypherQAChain\n",
        "What four things does the GraphCypherQAChain chain require to generate a Cypher query?\n",
        "\n",
        " 1. An LLM\n",
        " 2. A graph database\n",
        " 3. A prompt\n",
        " 4.  A question"
      ],
      "metadata": {
        "id": "AcDQdhv1QgY_"
      }
    },
    {
      "cell_type": "markdown",
      "source": [
        "##Providing Specific Instructions\n",
        "In this lesson, you will learn how to **provide instructions to the LLM to improve the responses to questions.**\n",
        "\n",
        "You provide **instructions and context** to the LLM in the **prompt.**\n",
        "\n",
        "##Following the schema\n",
        "In the previous lesson, you used this prompt to generate Cypher statements:\n",
        "\n"
      ],
      "metadata": {
        "id": "vdNu3R4-RyTB"
      }
    },
    {
      "cell_type": "code",
      "source": [
        "CYPHER_GENERATION_TEMPLATE = \"\"\"\n",
        "You are an expert Neo4j Developer translating user questions into Cypher to answer questions about movies and provide recommendations.\n",
        "Convert the user's question based on the schema.\n",
        "\n",
        "Schema: {schema}\n",
        "Question: {question}\n",
        "\"\"\""
      ],
      "metadata": {
        "id": "Mvm_-8msSHlH"
      },
      "execution_count": null,
      "outputs": []
    },
    {
      "cell_type": "markdown",
      "source": [
        "The LLM’s training data included many Cypher statements, but these statements were not specific to the structure of your graph database. As a result, the LLM may generate Cypher statements that are not valid and do not conform to the schema.\n",
        "\n",
        "You can provide specific instructions to the LLM to state that the generated Cypher statements should follow the schema.\n",
        "\n",
        "##For example, you could give instructions only to use the **provided relationship types and properties in the schema.**"
      ],
      "metadata": {
        "id": "ienBtogbSKqj"
      }
    },
    {
      "cell_type": "code",
      "source": [
        "CYPHER_GENERATION_TEMPLATE = \"\"\"\n",
        "You are an expert Neo4j Developer translating user questions into Cypher to answer questions about movies and provide recommendations.\n",
        "Convert the user's question based on the schema.\n",
        "\n",
        "Instructions:\n",
        "Use only the provided relationship types and properties in the schema.\n",
        "Do not use any other relationship types or properties that are not provided.\n",
        "\n",
        "Schema: {schema}\n",
        "Question: {question}\n",
        "\"\"\""
      ],
      "metadata": {
        "id": "lZNjH8dTSYgl"
      },
      "execution_count": null,
      "outputs": []
    },
    {
      "cell_type": "markdown",
      "source": [
        "##Instructions not rules\n",
        "\n",
        "There is no right or wrong way to provide instructions to the LLM. The instructions are unlike traditional programming tasks where you would supply rules or definitions. You may have to experiment to find the right balance between providing too much or too little instruction.\n",
        "\n",
        "For example, the instructions are expressed as both a positive and negative statement. You will do this. You won’t do this.\n",
        "\n",
        "**Use only the provided relationship types and properties in the schema.\n",
        "Do not use any other relationship types or properties that are not provided.**\n",
        "\n",
        "The results of this change may not be immediately apparent when you run the program.\n",
        "\n",
        "###**Instructions allows you to fine-tune the LLM’s responses and make them more consistent.**"
      ],
      "metadata": {
        "id": "ZVGO6Rb-Sd-P"
      }
    },
    {
      "cell_type": "markdown",
      "source": [
        "##Understanding data\n",
        "The LLM may also need additional instructions about the data. For example, how data is formatted or how to handle missing data.\n",
        "\n",
        "If you ask the LLM to generate Cypher for the question:\n",
        "\n",
        "**Who acted in The Matrix and what roles did they play?**\n",
        "\n",
        "The LLM will generate the correct Cypher:\n",
        "\n",
        "**MATCH (m:Movie {title: 'The Matrix'})<-[:ACTED_IN]-(a:Actor)\n",
        "RETURN a.name as Actor, a.role as Role**\n",
        "\n",
        "However, the graph database returns no data because movies that start with The are renamed as {title}, The. The Matrix is stored as Matrix, The.\n",
        "\n",
        "You can provide instructions to the LLM to fix this problem.\n",
        "\n",
        "For movie titles that begin with \"The\", move \"the\" to the end, For example \"The 39 Steps\" becomes \"39 Steps, The\" or \"The Matrix\" becomes \"Matrix, The\"."
      ],
      "metadata": {
        "id": "ShaIcofNJYJF"
      }
    },
    {
      "cell_type": "code",
      "source": [
        "CYPHER_GENERATION_TEMPLATE = \"\"\"\n",
        "You are an expert Neo4j Developer translating user questions into Cypher to answer questions about movies and provide recommendations.\n",
        "Convert the user's question based on the schema.\n",
        "\n",
        "Instructions:\n",
        "Use only the provided relationship types and properties in the schema.\n",
        "Do not use any other relationship types or properties that are not provided.\n",
        "For movie titles that begin with \"The\", move \"the\" to the end, For example \"The 39 Steps\" becomes \"39 Steps, The\" or \"The Matrix\" becomes \"Matrix, The\".\n",
        "\n",
        "Schema: {schema}\n",
        "Question: {question}\n",
        "\"\"\""
      ],
      "metadata": {
        "id": "UFAe3qKUJndX"
      },
      "execution_count": null,
      "outputs": []
    },
    {
      "cell_type": "markdown",
      "source": [
        "If you ask the LLM the same question, it should now format the title correctly and return the correct data:\n",
        "\n",
        "**MATCH (m:Movie {title: 'Matrix, The'})<-[:ACTED_IN]-(a:Actor)\n",
        "RETURN a.name as Actor, a.role as Role**"
      ],
      "metadata": {
        "id": "M2nZ1BSvJo-W"
      }
    },
    {
      "cell_type": "markdown",
      "source": [
        "##Controlling the response\n",
        "As well as instructing the LLM on how to deal with the question, **you can also instruct the LLM on how to respond.**\n",
        "\n",
        "You could **instruct the LLM only to respond when the Cypher statement returns data.**\n",
        "\n",
        "If **no data is returned, do not attempt to answer the question.**\n",
        "You may want the **LLM to only respond to questions in the scope of the task.** For example:\n",
        "\n",
        "Only respond to questions that require you to construct a Cypher statement.\n",
        "Do not respond to any questions that might ask anything else than for you to construct a Cypher statement.\n",
        "Concise responses from the LLM may be needed:\n",
        "\n",
        "**Do not include any explanations or apologies in your responses.\n",
        "Or you may want to restrict the format of the response:**\n",
        "\n",
        "**Do not include any text except the generated Cypher statement.**\n",
        "\n",
        "Ultimately, you must **fine-tune your instructions for the specific task** to ensure the best results."
      ],
      "metadata": {
        "id": "FOkZUAeXJwFf"
      }
    },
    {
      "cell_type": "markdown",
      "source": [
        "##**Few-shot Examples**\n",
        "Even though you have provided an LLM with **specific instructions, it can still make mistakes.**\n",
        "\n",
        "In this lesson, you will learn about Few-Shot examples and how to use them to improve the performance of the LLM.\n",
        "\n",
        "Few-Shot Prompting is a technique where you **provide the LLM with an example of how to respond or generate a response to a specific scenario.**"
      ],
      "metadata": {
        "id": "YHIYGEoFKVsI"
      }
    },
    {
      "cell_type": "markdown",
      "source": [
        "##Example Cypher\n",
        "Here is a use case demonstrating a problem that would benefit from Few-Shot prompting.\n",
        "\n",
        "You ask the LLM to generate a Cypher statement to answer the question:\n",
        "\n",
        "What movies has Tom Hanks directed and what are the genres?\n",
        "The LLM generates the following Cypher statement:\n",
        "\n",
        "**MATCH (p:Person)-[:DIRECTED]->(m:Movie) WHERE p.name = 'Tom Hanks' RETURN m.genres**\n",
        "\n",
        "The Cypher statement returns the following result:\n",
        "\n",
        "**[{'genres': null}, {'genres': null}]**\n",
        "\n",
        "From this data, the LLM can understand that Tom Hanks has directed two movies, but there is no information about the genres of those movies.\n",
        "\n",
        "The generated Cypher statement is **wrong** because it uses the m.genres property, which doesn’t exist. Instead, it should follow the :IN_GENRE relationship to :Genre nodes and use the .name property.\n",
        "\n",
        "You can improve the LLM by providing an example of a correct Cypher statement in the Cypher generation prompt:\n",
        "\n",
        "Examples:\n",
        "\n",
        "**Find movies and genres:\n",
        "MATCH (m:Movie)-[:IN_GENRE]->(g)\n",
        "RETURN m.title, g.name**"
      ],
      "metadata": {
        "id": "vIIQr35ZK6xK"
      }
    },
    {
      "cell_type": "code",
      "source": [
        "CYPHER_GENERATION_TEMPLATE = \"\"\"\n",
        "You are an expert Neo4j Developer translating user questions into Cypher to answer questions about movies and provide recommendations.\n",
        "Convert the user's question based on the schema.\n",
        "\n",
        "Instructions:\n",
        "Use only the provided relationship types and properties in the schema.\n",
        "Do not use any other relationship types or properties that are not provided.\n",
        "For movie titles that begin with \"The\", move \"the\" to the end, For example \"The 39 Steps\" becomes \"39 Steps, The\" or \"The Matrix\" becomes \"Matrix, The\".\n",
        "\n",
        "If no data is returned, do not attempt to answer the question.\n",
        "Only respond to questions that require you to construct a Cypher statement.\n",
        "Do not include any explanations or apologies in your responses.\n",
        "\n",
        "Examples:\n",
        "\n",
        "Find movies and genres:\n",
        "MATCH (m:Movie)-[:IN_GENRE]->(g)\n",
        "RETURN m.title, g.name\n",
        "\n",
        "Schema: {schema}\n",
        "Question: {question}\n",
        "\"\"\""
      ],
      "metadata": {
        "id": "1TS1rAxPLnNi"
      },
      "execution_count": null,
      "outputs": []
    },
    {
      "cell_type": "markdown",
      "source": [
        "The LLM can use the example to help it generate the correct Cypher statement:\n",
        "\n",
        "**MATCH (p:Person)-[:DIRECTED]->(m:Movie)-[:IN_GENRE]->(g:Genre)\n",
        "WHERE p.name = 'Tom Hanks'\n",
        "RETURN DISTINCT g.name**\n",
        "\n",
        "Which returns the correct data:\n",
        "\n",
        "**[{'g.name': 'Drama'}, {'g.name': 'Comedy'}, {'g.name': 'Romance'}]**\n",
        "\n",
        "The few-shot example is not the complete Cypher statement to answer the question, but it is enough to show the LLM how to use the [:IN_GENRE] relationship.\n",
        "\n",
        "The LLM can now also generate the correct Cypher statement for other questions involving movies and genres:\n",
        "\n",
        "**What genre of film is Toy Story?**\n",
        "\n",
        "**MATCH (m:Movie {title: 'Toy Story'})-[:IN_GENRE]->(g:Genre)\n",
        "RETURN g.name**\n",
        "\n",
        "**[{'g.name': 'Adventure'}, {'g.name': 'Animation'}, {'g.name': 'Children'}, {'g.name': 'Comedy'}, {'g.name': 'Fantasy'}]**\n",
        "\n",
        "You can provide multiple examples for different scenarios to return more accurate results. For example, finding roles actors played in movies:\n",
        "\n",
        "Find roles for actors:\n",
        "\n",
        "**MATCH (m:Movie)-[r:ACTED_IN]->(p:Person)\n",
        "WHERE m.title = 'movie title' AND p.name = 'actor name'\n",
        "RETURN m.title, r.role, p.name**\n",
        "\n",
        "###Few-shot prompts allow you to provide targeted examples to the LLM to improve its performance. Providing examples can improve the LLM’s performance on a specific task or the performance in general."
      ],
      "metadata": {
        "id": "5HBFmaVBLunF"
      }
    },
    {
      "cell_type": "markdown",
      "source": [],
      "metadata": {
        "id": "Bt0ONJy-MI6_"
      }
    }
  ]
}