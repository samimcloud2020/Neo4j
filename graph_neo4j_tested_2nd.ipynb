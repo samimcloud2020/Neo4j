{
  "nbformat": 4,
  "nbformat_minor": 0,
  "metadata": {
    "colab": {
      "provenance": [],
      "gpuType": "T4"
    },
    "kernelspec": {
      "name": "python3",
      "display_name": "Python 3"
    },
    "language_info": {
      "name": "python"
    },
    "accelerator": "GPU"
  },
  "cells": [
    {
      "cell_type": "code",
      "execution_count": 1,
      "metadata": {
        "colab": {
          "base_uri": "https://localhost:8080/"
        },
        "id": "WYhB2OARw_Nq",
        "outputId": "e79a6d5b-fc1f-4348-f7ff-696305c09fd0"
      },
      "outputs": [
        {
          "output_type": "stream",
          "name": "stdout",
          "text": [
            "\u001b[2K     \u001b[90m━━━━━━━━━━━━━━━━━━━━━━━━━━━━━━━━━━━━━━━━\u001b[0m \u001b[32m50.4/50.4 kB\u001b[0m \u001b[31m3.4 MB/s\u001b[0m eta \u001b[36m0:00:00\u001b[0m\n",
            "\u001b[2K   \u001b[90m━━━━━━━━━━━━━━━━━━━━━━━━━━━━━━━━━━━━━━━━\u001b[0m \u001b[32m990.6/990.6 kB\u001b[0m \u001b[31m44.0 MB/s\u001b[0m eta \u001b[36m0:00:00\u001b[0m\n",
            "\u001b[2K   \u001b[90m━━━━━━━━━━━━━━━━━━━━━━━━━━━━━━━━━━━━━━━━\u001b[0m \u001b[32m2.3/2.3 MB\u001b[0m \u001b[31m46.9 MB/s\u001b[0m eta \u001b[36m0:00:00\u001b[0m\n",
            "\u001b[2K   \u001b[90m━━━━━━━━━━━━━━━━━━━━━━━━━━━━━━━━━━━━━━━━\u001b[0m \u001b[32m293.7/293.7 kB\u001b[0m \u001b[31m20.9 MB/s\u001b[0m eta \u001b[36m0:00:00\u001b[0m\n",
            "\u001b[2K   \u001b[90m━━━━━━━━━━━━━━━━━━━━━━━━━━━━━━━━━━━━━━━━\u001b[0m \u001b[32m103.5/103.5 kB\u001b[0m \u001b[31m7.7 MB/s\u001b[0m eta \u001b[36m0:00:00\u001b[0m\n",
            "\u001b[2K   \u001b[90m━━━━━━━━━━━━━━━━━━━━━━━━━━━━━━━━━━━━━━━━\u001b[0m \u001b[32m379.9/379.9 kB\u001b[0m \u001b[31m30.2 MB/s\u001b[0m eta \u001b[36m0:00:00\u001b[0m\n",
            "\u001b[2K   \u001b[90m━━━━━━━━━━━━━━━━━━━━━━━━━━━━━━━━━━━━━━━━\u001b[0m \u001b[32m140.1/140.1 kB\u001b[0m \u001b[31m12.5 MB/s\u001b[0m eta \u001b[36m0:00:00\u001b[0m\n",
            "\u001b[2K   \u001b[90m━━━━━━━━━━━━━━━━━━━━━━━━━━━━━━━━━━━━━━━━\u001b[0m \u001b[32m75.6/75.6 kB\u001b[0m \u001b[31m7.9 MB/s\u001b[0m eta \u001b[36m0:00:00\u001b[0m\n",
            "\u001b[2K   \u001b[90m━━━━━━━━━━━━━━━━━━━━━━━━━━━━━━━━━━━━━━━━\u001b[0m \u001b[32m77.9/77.9 kB\u001b[0m \u001b[31m7.5 MB/s\u001b[0m eta \u001b[36m0:00:00\u001b[0m\n",
            "\u001b[2K   \u001b[90m━━━━━━━━━━━━━━━━━━━━━━━━━━━━━━━━━━━━━━━━\u001b[0m \u001b[32m49.2/49.2 kB\u001b[0m \u001b[31m4.5 MB/s\u001b[0m eta \u001b[36m0:00:00\u001b[0m\n",
            "\u001b[2K   \u001b[90m━━━━━━━━━━━━━━━━━━━━━━━━━━━━━━━━━━━━━━━━\u001b[0m \u001b[32m141.1/141.1 kB\u001b[0m \u001b[31m12.6 MB/s\u001b[0m eta \u001b[36m0:00:00\u001b[0m\n",
            "\u001b[2K   \u001b[90m━━━━━━━━━━━━━━━━━━━━━━━━━━━━━━━━━━━━━━━━\u001b[0m \u001b[32m58.3/58.3 kB\u001b[0m \u001b[31m4.9 MB/s\u001b[0m eta \u001b[36m0:00:00\u001b[0m\n",
            "\u001b[?25h"
          ]
        }
      ],
      "source": [
        "!pip install --upgrade --quiet  langchain langchain-community langchain-groq neo4j"
      ]
    },
    {
      "cell_type": "code",
      "source": [
        "## Graphdb configuration\n",
        "NEO4J_URI=\"neo4j+s://8610cdd1.databases.neo4j.io\"\n",
        "NEO4J_USERNAME=\"neo4j\"\n",
        "NEO4J_PASSWORD=\"mAOHgrdLIkIaDfGiUvSyKV5ROCL6pcDZdzZ2R0PD3rE\"\n"
      ],
      "metadata": {
        "id": "OBL8Iqs4xoeh"
      },
      "execution_count": 2,
      "outputs": []
    },
    {
      "cell_type": "code",
      "source": [
        "import os\n",
        "os.environ[\"NEO4J_URI\"]=NEO4J_URI\n",
        "os.environ[\"NEO4J_USERNAME\"]=NEO4J_USERNAME\n",
        "os.environ[\"NEO4J_PASSWORD\"]=NEO4J_PASSWORD"
      ],
      "metadata": {
        "id": "uDS6XHgbycee"
      },
      "execution_count": 3,
      "outputs": []
    },
    {
      "cell_type": "code",
      "source": [
        "from langchain_community.graphs import Neo4jGraph\n",
        "graph=Neo4jGraph(\n",
        "    url=NEO4J_URI,\n",
        "    username=NEO4J_USERNAME,\n",
        "    password=NEO4J_PASSWORD,\n",
        ")"
      ],
      "metadata": {
        "id": "5rikUUiCymWG"
      },
      "execution_count": 4,
      "outputs": []
    },
    {
      "cell_type": "code",
      "source": [
        "graph"
      ],
      "metadata": {
        "colab": {
          "base_uri": "https://localhost:8080/"
        },
        "id": "j6Zy5Bc_y1oN",
        "outputId": "e2ea406f-eae9-483e-e58a-61a1f2243af5"
      },
      "execution_count": 5,
      "outputs": [
        {
          "output_type": "execute_result",
          "data": {
            "text/plain": [
              "<langchain_community.graphs.neo4j_graph.Neo4jGraph at 0x7956c5f3dd80>"
            ]
          },
          "metadata": {},
          "execution_count": 5
        }
      ]
    },
    {
      "cell_type": "code",
      "source": [
        "groq_api_key=\"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\""
      ],
      "metadata": {
        "id": "55sZpcz8y2dx"
      },
      "execution_count": 6,
      "outputs": []
    },
    {
      "cell_type": "code",
      "source": [
        "from langchain_groq import ChatGroq\n",
        "\n",
        "llm=ChatGroq(groq_api_key=groq_api_key,model_name=\"Gemma2-9b-It\")\n",
        "llm"
      ],
      "metadata": {
        "colab": {
          "base_uri": "https://localhost:8080/"
        },
        "id": "YtqR-fXVzxXZ",
        "outputId": "bd73e952-5334-46b1-8df1-04e327764eb3"
      },
      "execution_count": 7,
      "outputs": [
        {
          "output_type": "execute_result",
          "data": {
            "text/plain": [
              "ChatGroq(client=<groq.resources.chat.completions.Completions object at 0x7956944d1630>, async_client=<groq.resources.chat.completions.AsyncCompletions object at 0x7956944d0970>, model_name='Gemma2-9b-It', groq_api_key=SecretStr('**********'))"
            ]
          },
          "metadata": {},
          "execution_count": 7
        }
      ]
    },
    {
      "cell_type": "code",
      "source": [
        "from langchain_core.documents import Document\n",
        "text=\"\"\"\n",
        "Elon Reeve Musk (born June 28, 1971) is a businessman and investor known for his key roles in space\n",
        "company SpaceX and automotive company Tesla, Inc. Other involvements include ownership of X Corp.,\n",
        "formerly Twitter, and his role in the founding of The Boring Company, xAI, Neuralink and OpenAI.\n",
        "He is one of the wealthiest people in the world; as of July 2024, Forbes estimates his net worth to be\n",
        "US$221 billion.Musk was born in Pretoria to Maye and engineer Errol Musk, and briefly attended\n",
        "the University of Pretoria before immigrating to Canada at age 18, acquiring citizenship through\n",
        "his Canadian-born mother. Two years later, he matriculated at Queen's University at Kingston in Canada.\n",
        "Musk later transferred to the University of Pennsylvania and received bachelor's degrees in economics\n",
        " and physics. He moved to California in 1995 to attend Stanford University, but dropped out after\n",
        "  two days and, with his brother Kimbal, co-founded online city guide software company Zip2.\n",
        " \"\"\"\n",
        "documents=[Document(page_content=text)]\n",
        "documents"
      ],
      "metadata": {
        "colab": {
          "base_uri": "https://localhost:8080/"
        },
        "id": "tMw2lopJ0XnX",
        "outputId": "2ecb5dcd-cb8c-4d79-84fc-0c87fc4da474"
      },
      "execution_count": 8,
      "outputs": [
        {
          "output_type": "execute_result",
          "data": {
            "text/plain": [
              "[Document(page_content=\"\\nElon Reeve Musk (born June 28, 1971) is a businessman and investor known for his key roles in space\\ncompany SpaceX and automotive company Tesla, Inc. Other involvements include ownership of X Corp.,\\nformerly Twitter, and his role in the founding of The Boring Company, xAI, Neuralink and OpenAI.\\nHe is one of the wealthiest people in the world; as of July 2024, Forbes estimates his net worth to be\\nUS$221 billion.Musk was born in Pretoria to Maye and engineer Errol Musk, and briefly attended\\nthe University of Pretoria before immigrating to Canada at age 18, acquiring citizenship through\\nhis Canadian-born mother. Two years later, he matriculated at Queen's University at Kingston in Canada.\\nMusk later transferred to the University of Pennsylvania and received bachelor's degrees in economics\\n and physics. He moved to California in 1995 to attend Stanford University, but dropped out after\\n  two days and, with his brother Kimbal, co-founded online city guide software company Zip2.\\n \")]"
            ]
          },
          "metadata": {},
          "execution_count": 8
        }
      ]
    },
    {
      "cell_type": "code",
      "source": [
        "!pip install --upgrade --quiet langchain_experimental"
      ],
      "metadata": {
        "colab": {
          "base_uri": "https://localhost:8080/"
        },
        "id": "6mbEhsdS1Y0N",
        "outputId": "9dd4dd8f-e58b-4d69-88bb-78e6d6424f53"
      },
      "execution_count": 9,
      "outputs": [
        {
          "output_type": "stream",
          "name": "stdout",
          "text": [
            "\u001b[?25l   \u001b[90m━━━━━━━━━━━━━━━━━━━━━━━━━━━━━━━━━━━━━━━━\u001b[0m \u001b[32m0.0/204.3 kB\u001b[0m \u001b[31m?\u001b[0m eta \u001b[36m-:--:--\u001b[0m\r\u001b[2K   \u001b[90m━━━━━━━━━━━━━━━━━━━━━━━━━━━━━━━━━━━━━━━━\u001b[0m \u001b[32m204.3/204.3 kB\u001b[0m \u001b[31m13.6 MB/s\u001b[0m eta \u001b[36m0:00:00\u001b[0m\n",
            "\u001b[?25h"
          ]
        }
      ]
    },
    {
      "cell_type": "code",
      "source": [
        "from langchain_experimental.graph_transformers import LLMGraphTransformer\n",
        "llm_transformer=LLMGraphTransformer(llm=llm)"
      ],
      "metadata": {
        "id": "8ripzwTX0q1X"
      },
      "execution_count": 10,
      "outputs": []
    },
    {
      "cell_type": "code",
      "source": [
        "graph_documents=llm_transformer.convert_to_graph_documents(documents)"
      ],
      "metadata": {
        "id": "QedL67iH1ujK"
      },
      "execution_count": 11,
      "outputs": []
    },
    {
      "cell_type": "code",
      "source": [
        "graph_documents"
      ],
      "metadata": {
        "colab": {
          "base_uri": "https://localhost:8080/"
        },
        "id": "uAdF2BZm13w4",
        "outputId": "e582106f-47ee-441e-8fa7-74fd0ff48381"
      },
      "execution_count": 12,
      "outputs": [
        {
          "output_type": "execute_result",
          "data": {
            "text/plain": [
              "[GraphDocument(nodes=[Node(id='Elon Reeve Musk', type='Person'), Node(id='Maye', type='Person'), Node(id='Errol Musk', type='Person'), Node(id='Kimbal', type='Person'), Node(id='Spacex', type='Company'), Node(id='Tesla, Inc.', type='Company'), Node(id='X Corp.', type='Company'), Node(id='The Boring Company', type='Company'), Node(id='Xai', type='Company'), Node(id='Neuralink', type='Company'), Node(id='Openai', type='Company'), Node(id='University Of Pretoria', type='University'), Node(id=\"Queen'S University\", type='University'), Node(id='University Of Pennsylvania', type='University'), Node(id='Stanford University', type='University'), Node(id='Zip2', type='Company')], relationships=[Relationship(source=Node(id='Elon Reeve Musk', type='Person'), target=Node(id='Maye', type='Person'), type='PARENT'), Relationship(source=Node(id='Elon Reeve Musk', type='Person'), target=Node(id='Errol Musk', type='Person'), type='PARENT'), Relationship(source=Node(id='Elon Reeve Musk', type='Person'), target=Node(id='Kimbal', type='Person'), type='SIBLING'), Relationship(source=Node(id='Elon Reeve Musk', type='Person'), target=Node(id='Spacex', type='Company'), type='KEY_ROLE'), Relationship(source=Node(id='Elon Reeve Musk', type='Person'), target=Node(id='Tesla, Inc.', type='Company'), type='KEY_ROLE'), Relationship(source=Node(id='Elon Reeve Musk', type='Person'), target=Node(id='X Corp.', type='Company'), type='OWNERSHIP'), Relationship(source=Node(id='Elon Reeve Musk', type='Person'), target=Node(id='The Boring Company', type='Company'), type='FOUNDING'), Relationship(source=Node(id='Elon Reeve Musk', type='Person'), target=Node(id='Xai', type='Company'), type='FOUNDING'), Relationship(source=Node(id='Elon Reeve Musk', type='Person'), target=Node(id='Neuralink', type='Company'), type='FOUNDING'), Relationship(source=Node(id='Elon Reeve Musk', type='Person'), target=Node(id='Openai', type='Company'), type='FOUNDING'), Relationship(source=Node(id='Elon Reeve Musk', type='Person'), target=Node(id='University Of Pretoria', type='University'), type='ATTENDED'), Relationship(source=Node(id='Elon Reeve Musk', type='Person'), target=Node(id=\"Queen'S University\", type='University'), type='ATTENDED'), Relationship(source=Node(id='Elon Reeve Musk', type='Person'), target=Node(id='University Of Pennsylvania', type='University'), type='ATTENDED'), Relationship(source=Node(id='Elon Reeve Musk', type='Person'), target=Node(id='Stanford University', type='University'), type='ATTENDED'), Relationship(source=Node(id='Elon Reeve Musk', type='Person'), target=Node(id='Zip2', type='Company'), type='CO_FOUNDER')], source=Document(page_content=\"\\nElon Reeve Musk (born June 28, 1971) is a businessman and investor known for his key roles in space\\ncompany SpaceX and automotive company Tesla, Inc. Other involvements include ownership of X Corp.,\\nformerly Twitter, and his role in the founding of The Boring Company, xAI, Neuralink and OpenAI.\\nHe is one of the wealthiest people in the world; as of July 2024, Forbes estimates his net worth to be\\nUS$221 billion.Musk was born in Pretoria to Maye and engineer Errol Musk, and briefly attended\\nthe University of Pretoria before immigrating to Canada at age 18, acquiring citizenship through\\nhis Canadian-born mother. Two years later, he matriculated at Queen's University at Kingston in Canada.\\nMusk later transferred to the University of Pennsylvania and received bachelor's degrees in economics\\n and physics. He moved to California in 1995 to attend Stanford University, but dropped out after\\n  two days and, with his brother Kimbal, co-founded online city guide software company Zip2.\\n \"))]"
            ]
          },
          "metadata": {},
          "execution_count": 12
        }
      ]
    },
    {
      "cell_type": "code",
      "source": [
        "graph_documents[0].nodes"
      ],
      "metadata": {
        "colab": {
          "base_uri": "https://localhost:8080/"
        },
        "id": "h3pSzKLE2OJj",
        "outputId": "1cff7574-cd7e-43be-da75-c19bd86265e2"
      },
      "execution_count": 13,
      "outputs": [
        {
          "output_type": "execute_result",
          "data": {
            "text/plain": [
              "[Node(id='Elon Reeve Musk', type='Person'),\n",
              " Node(id='Maye', type='Person'),\n",
              " Node(id='Errol Musk', type='Person'),\n",
              " Node(id='Kimbal', type='Person'),\n",
              " Node(id='Spacex', type='Company'),\n",
              " Node(id='Tesla, Inc.', type='Company'),\n",
              " Node(id='X Corp.', type='Company'),\n",
              " Node(id='The Boring Company', type='Company'),\n",
              " Node(id='Xai', type='Company'),\n",
              " Node(id='Neuralink', type='Company'),\n",
              " Node(id='Openai', type='Company'),\n",
              " Node(id='University Of Pretoria', type='University'),\n",
              " Node(id=\"Queen'S University\", type='University'),\n",
              " Node(id='University Of Pennsylvania', type='University'),\n",
              " Node(id='Stanford University', type='University'),\n",
              " Node(id='Zip2', type='Company')]"
            ]
          },
          "metadata": {},
          "execution_count": 13
        }
      ]
    },
    {
      "cell_type": "code",
      "source": [
        "graph_documents[0].relationships"
      ],
      "metadata": {
        "colab": {
          "base_uri": "https://localhost:8080/"
        },
        "id": "DvvdoA5W2fEZ",
        "outputId": "baadd416-174d-4ab3-fbcf-df38a2349694"
      },
      "execution_count": 14,
      "outputs": [
        {
          "output_type": "execute_result",
          "data": {
            "text/plain": [
              "[Relationship(source=Node(id='Elon Reeve Musk', type='Person'), target=Node(id='Maye', type='Person'), type='PARENT'),\n",
              " Relationship(source=Node(id='Elon Reeve Musk', type='Person'), target=Node(id='Errol Musk', type='Person'), type='PARENT'),\n",
              " Relationship(source=Node(id='Elon Reeve Musk', type='Person'), target=Node(id='Kimbal', type='Person'), type='SIBLING'),\n",
              " Relationship(source=Node(id='Elon Reeve Musk', type='Person'), target=Node(id='Spacex', type='Company'), type='KEY_ROLE'),\n",
              " Relationship(source=Node(id='Elon Reeve Musk', type='Person'), target=Node(id='Tesla, Inc.', type='Company'), type='KEY_ROLE'),\n",
              " Relationship(source=Node(id='Elon Reeve Musk', type='Person'), target=Node(id='X Corp.', type='Company'), type='OWNERSHIP'),\n",
              " Relationship(source=Node(id='Elon Reeve Musk', type='Person'), target=Node(id='The Boring Company', type='Company'), type='FOUNDING'),\n",
              " Relationship(source=Node(id='Elon Reeve Musk', type='Person'), target=Node(id='Xai', type='Company'), type='FOUNDING'),\n",
              " Relationship(source=Node(id='Elon Reeve Musk', type='Person'), target=Node(id='Neuralink', type='Company'), type='FOUNDING'),\n",
              " Relationship(source=Node(id='Elon Reeve Musk', type='Person'), target=Node(id='Openai', type='Company'), type='FOUNDING'),\n",
              " Relationship(source=Node(id='Elon Reeve Musk', type='Person'), target=Node(id='University Of Pretoria', type='University'), type='ATTENDED'),\n",
              " Relationship(source=Node(id='Elon Reeve Musk', type='Person'), target=Node(id=\"Queen'S University\", type='University'), type='ATTENDED'),\n",
              " Relationship(source=Node(id='Elon Reeve Musk', type='Person'), target=Node(id='University Of Pennsylvania', type='University'), type='ATTENDED'),\n",
              " Relationship(source=Node(id='Elon Reeve Musk', type='Person'), target=Node(id='Stanford University', type='University'), type='ATTENDED'),\n",
              " Relationship(source=Node(id='Elon Reeve Musk', type='Person'), target=Node(id='Zip2', type='Company'), type='CO_FOUNDER')]"
            ]
          },
          "metadata": {},
          "execution_count": 14
        }
      ]
    },
    {
      "cell_type": "code",
      "source": [
        "llm=ChatGroq(groq_api_key=groq_api_key,model_name=\"Gemma2-9b-It\")\n",
        "llm_transformer = LLMGraphTransformer(llm=llm)\n",
        "\n",
        "graph_documents = llm_transformer.convert_to_graph_documents(documents)\n",
        "graph.add_graph_documents(\n",
        "    graph_documents,\n",
        "    baseEntityLabel=True,\n",
        "    include_source=True\n",
        ")"
      ],
      "metadata": {
        "id": "jFNSj7zwgG10"
      },
      "execution_count": 18,
      "outputs": []
    },
    {
      "cell_type": "code",
      "source": [
        "from langchain.chains import GraphCypherQAChain\n",
        "chain=GraphCypherQAChain.from_llm(llm=llm,graph=graph,verbose=True)\n",
        "chain"
      ],
      "metadata": {
        "id": "fgfOWyilQLZM",
        "colab": {
          "base_uri": "https://localhost:8080/"
        },
        "outputId": "b61b3d77-4b62-46e3-9d28-823683c8de3e"
      },
      "execution_count": 19,
      "outputs": [
        {
          "output_type": "execute_result",
          "data": {
            "text/plain": [
              "GraphCypherQAChain(verbose=True, graph=<langchain_community.graphs.neo4j_graph.Neo4jGraph object at 0x7956c5f3dd80>, cypher_generation_chain=LLMChain(prompt=PromptTemplate(input_variables=['question', 'schema'], template='Task:Generate Cypher statement to query a graph database.\\nInstructions:\\nUse only the provided relationship types and properties in the schema.\\nDo not use any other relationship types or properties that are not provided.\\nSchema:\\n{schema}\\nNote: Do not include any explanations or apologies in your responses.\\nDo not respond to any questions that might ask anything else than for you to construct a Cypher statement.\\nDo not include any text except the generated Cypher statement.\\n\\nThe question is:\\n{question}'), llm=ChatGroq(client=<groq.resources.chat.completions.Completions object at 0x7956931df670>, async_client=<groq.resources.chat.completions.AsyncCompletions object at 0x7956931926e0>, model_name='Gemma2-9b-It', groq_api_key=SecretStr('**********'))), qa_chain=LLMChain(prompt=PromptTemplate(input_variables=['context', 'question'], template=\"You are an assistant that helps to form nice and human understandable answers.\\nThe information part contains the provided information that you must use to construct an answer.\\nThe provided information is authoritative, you must never doubt it or try to use your internal knowledge to correct it.\\nMake the answer sound as a response to the question. Do not mention that you based the result on the given information.\\nHere is an example:\\n\\nQuestion: Which managers own Neo4j stocks?\\nContext:[manager:CTL LLC, manager:JANE STREET GROUP LLC]\\nHelpful Answer: CTL LLC, JANE STREET GROUP LLC owns Neo4j stocks.\\n\\nFollow this example when generating answers.\\nIf the provided information is empty, say that you don't know the answer.\\nInformation:\\n{context}\\n\\nQuestion: {question}\\nHelpful Answer:\"), llm=ChatGroq(client=<groq.resources.chat.completions.Completions object at 0x7956931df670>, async_client=<groq.resources.chat.completions.AsyncCompletions object at 0x7956931926e0>, model_name='Gemma2-9b-It', groq_api_key=SecretStr('**********'))), graph_schema='Node properties are the following:\\n\\nRelationship properties are the following:\\n\\nThe relationships are the following:\\n')"
            ]
          },
          "metadata": {},
          "execution_count": 19
        }
      ]
    },
    {
      "cell_type": "code",
      "source": [
        "QUERY = \"\"\"\n",
        "MATCH p=()-[:BORN_IN]->() RETURN p LIMIT 25;\n",
        "\"\"\"\n",
        "graph.query(QUERY)"
      ],
      "metadata": {
        "colab": {
          "base_uri": "https://localhost:8080/"
        },
        "id": "f2LS867HfJb1",
        "outputId": "fe29b6fe-a408-4558-a6b5-cb42c9e0b1b1"
      },
      "execution_count": 25,
      "outputs": [
        {
          "output_type": "execute_result",
          "data": {
            "text/plain": [
              "[{'p': [{'id': 'Elon Reeve Musk'}, 'BORN_IN', {'id': 'Pretoria'}]}]"
            ]
          },
          "metadata": {},
          "execution_count": 25
        }
      ]
    },
    {
      "cell_type": "code",
      "source": [
        "chain.run(\"Musk was born in\")"
      ],
      "metadata": {
        "colab": {
          "base_uri": "https://localhost:8080/",
          "height": 316
        },
        "id": "1hXjlchjfJeS",
        "outputId": "1608a8f9-3774-4dc5-e0b1-5b76f970ceff"
      },
      "execution_count": 30,
      "outputs": [
        {
          "output_type": "stream",
          "name": "stdout",
          "text": [
            "\n",
            "\n",
            "\u001b[1m> Entering new GraphCypherQAChain chain...\u001b[0m\n"
          ]
        },
        {
          "output_type": "stream",
          "name": "stderr",
          "text": [
            "WARNING:neo4j.notifications:Received notification from DBMS server: {severity: WARNING} {code: Neo.ClientNotification.Statement.UnknownPropertyKeyWarning} {category: UNRECOGNIZED} {title: The provided property key is not in the database} {description: One of the property names in your query is not available in the database, make sure you didn't misspell it or that the label is available when you run this statement in your application (the missing property name is: name)} {position: line: 2, column: 18, offset: 24} for query: 'cypher\\nMATCH (m:Person {name: \"Elon Musk\"})-[:BORN_IN]->(p:Place)\\nRETURN p.name\\n'\n",
            "WARNING:neo4j.notifications:Received notification from DBMS server: {severity: WARNING} {code: Neo.ClientNotification.Statement.UnknownLabelWarning} {category: UNRECOGNIZED} {title: The provided label is not in the database.} {description: One of the labels in your query is not available in the database, make sure you didn't misspell it or that the label is available when you run this statement in your application (the missing label name is: Place)} {position: line: 2, column: 53, offset: 59} for query: 'cypher\\nMATCH (m:Person {name: \"Elon Musk\"})-[:BORN_IN]->(p:Place)\\nRETURN p.name\\n'\n",
            "WARNING:neo4j.notifications:Received notification from DBMS server: {severity: WARNING} {code: Neo.ClientNotification.Statement.UnknownPropertyKeyWarning} {category: UNRECOGNIZED} {title: The provided property key is not in the database} {description: One of the property names in your query is not available in the database, make sure you didn't misspell it or that the label is available when you run this statement in your application (the missing property name is: name)} {position: line: 3, column: 10, offset: 75} for query: 'cypher\\nMATCH (m:Person {name: \"Elon Musk\"})-[:BORN_IN]->(p:Place)\\nRETURN p.name\\n'\n"
          ]
        },
        {
          "output_type": "stream",
          "name": "stdout",
          "text": [
            "Generated Cypher:\n",
            "\u001b[32;1m\u001b[1;3mcypher\n",
            "MATCH (m:Person {name: \"Elon Musk\"})-[:BORN_IN]->(p:Place)\n",
            "RETURN p.name\n",
            "\u001b[0m\n",
            "Full Context:\n",
            "\u001b[32;1m\u001b[1;3m[]\u001b[0m\n",
            "\n",
            "\u001b[1m> Finished chain.\u001b[0m\n"
          ]
        },
        {
          "output_type": "execute_result",
          "data": {
            "text/plain": [
              "\"I don't know the answer. \\n\""
            ],
            "application/vnd.google.colaboratory.intrinsic+json": {
              "type": "string"
            }
          },
          "metadata": {},
          "execution_count": 30
        }
      ]
    },
    {
      "cell_type": "code",
      "source": [],
      "metadata": {
        "id": "rLIT-l7QfJgb"
      },
      "execution_count": null,
      "outputs": []
    },
    {
      "cell_type": "code",
      "source": [],
      "metadata": {
        "id": "-7xT0qCCfJjF"
      },
      "execution_count": null,
      "outputs": []
    },
    {
      "cell_type": "code",
      "source": [],
      "metadata": {
        "id": "j3c-5_qfQLi8"
      },
      "execution_count": null,
      "outputs": []
    },
    {
      "cell_type": "code",
      "source": [
        "### Load the dataset of movie\n",
        "\n",
        "movie_query=\"\"\"\n",
        "LOAD CSV WITH HEADERS FROM\n",
        "'https://raw.githubusercontent.com/tomasonjo/blog-datasets/main/movies/movies_small.csv' as row\n",
        "\n",
        "MERGE(m:Movie{id:row.movieId})\n",
        "SET m.released = date(row.released),\n",
        "    m.title = row.title,\n",
        "    m.imdbRating = toFloat(row.imdbRating)\n",
        "FOREACH (director in split(row.director, '|') |\n",
        "    MERGE (p:Person {name:trim(director)})\n",
        "    MERGE (p)-[:DIRECTED]->(m))\n",
        "FOREACH (actor in split(row.actors, '|') |\n",
        "    MERGE (p:Person {name:trim(actor)})\n",
        "    MERGE (p)-[:ACTED_IN]->(m))\n",
        "FOREACH (genre in split(row.genres, '|') |\n",
        "    MERGE (g:Genre {name:trim(genre)})\n",
        "    MERGE (m)-[:IN_GENRE]->(g))\n",
        "\"\"\""
      ],
      "metadata": {
        "id": "EPOewFsm5DZv"
      },
      "execution_count": 31,
      "outputs": []
    },
    {
      "cell_type": "code",
      "source": [
        "graph"
      ],
      "metadata": {
        "colab": {
          "base_uri": "https://localhost:8080/"
        },
        "id": "UeRdr8nm7rAw",
        "outputId": "0c25e924-43ef-4164-cb46-ff5d566cda1e"
      },
      "execution_count": 32,
      "outputs": [
        {
          "output_type": "execute_result",
          "data": {
            "text/plain": [
              "<langchain_community.graphs.neo4j_graph.Neo4jGraph at 0x7956c5f3dd80>"
            ]
          },
          "metadata": {},
          "execution_count": 32
        }
      ]
    },
    {
      "cell_type": "code",
      "source": [
        "graph.query(movie_query)"
      ],
      "metadata": {
        "colab": {
          "base_uri": "https://localhost:8080/"
        },
        "id": "6YeLz1st7rp2",
        "outputId": "61a3ecbb-0549-462b-c0ca-3602c61c9467"
      },
      "execution_count": 33,
      "outputs": [
        {
          "output_type": "execute_result",
          "data": {
            "text/plain": [
              "[]"
            ]
          },
          "metadata": {},
          "execution_count": 33
        }
      ]
    },
    {
      "cell_type": "code",
      "source": [
        "graph.refresh_schema()\n",
        "print(graph.schema)"
      ],
      "metadata": {
        "colab": {
          "base_uri": "https://localhost:8080/"
        },
        "id": "nQm5agJA7xnH",
        "outputId": "cd0e3542-35dd-46b1-9588-7d91cffb0b16"
      },
      "execution_count": 34,
      "outputs": [
        {
          "output_type": "stream",
          "name": "stdout",
          "text": [
            "Node properties:\n",
            "Document {id: STRING, text: STRING}\n",
            "Person {id: STRING, name: STRING}\n",
            "Company {id: STRING}\n",
            "Organization {id: STRING}\n",
            "City {id: STRING}\n",
            "Country {id: STRING}\n",
            "University {id: STRING}\n",
            "State {id: STRING}\n",
            "Movie {id: STRING, released: DATE, title: STRING, imdbRating: FLOAT}\n",
            "Genre {name: STRING}\n",
            "Relationship properties:\n",
            "\n",
            "The relationships:\n",
            "(:Document)-[:MENTIONS]->(:Person)\n",
            "(:Document)-[:MENTIONS]->(:Company)\n",
            "(:Document)-[:MENTIONS]->(:Organization)\n",
            "(:Document)-[:MENTIONS]->(:City)\n",
            "(:Document)-[:MENTIONS]->(:Country)\n",
            "(:Document)-[:MENTIONS]->(:University)\n",
            "(:Document)-[:MENTIONS]->(:State)\n",
            "(:Person)-[:FOUNDER]->(:Company)\n",
            "(:Person)-[:OWNER]->(:Company)\n",
            "(:Person)-[:NET_WORTH_ESTIMATED_BY]->(:Organization)\n",
            "(:Person)-[:BORN_IN]->(:City)\n",
            "(:Person)-[:IMMIGRATED_TO]->(:Country)\n",
            "(:Person)-[:ATTENDED]->(:University)\n",
            "(:Person)-[:MOVED_TO]->(:State)\n",
            "(:Person)-[:CO_FOUNDED]->(:Company)\n",
            "(:Person)-[:DIRECTED]->(:Movie)\n",
            "(:Person)-[:ACTED_IN]->(:Movie)\n",
            "(:Movie)-[:IN_GENRE]->(:Genre)\n"
          ]
        }
      ]
    },
    {
      "cell_type": "code",
      "source": [
        "from langchain.chains import GraphCypherQAChain\n",
        "chain=GraphCypherQAChain.from_llm(llm=llm,graph=graph,verbose=True)\n",
        "chain"
      ],
      "metadata": {
        "colab": {
          "base_uri": "https://localhost:8080/"
        },
        "id": "tGUot6uZ8wnj",
        "outputId": "c7da489a-9a3d-45e9-9ba2-4e709b1464c5"
      },
      "execution_count": 35,
      "outputs": [
        {
          "output_type": "execute_result",
          "data": {
            "text/plain": [
              "GraphCypherQAChain(verbose=True, graph=<langchain_community.graphs.neo4j_graph.Neo4jGraph object at 0x7956c5f3dd80>, cypher_generation_chain=LLMChain(prompt=PromptTemplate(input_variables=['question', 'schema'], template='Task:Generate Cypher statement to query a graph database.\\nInstructions:\\nUse only the provided relationship types and properties in the schema.\\nDo not use any other relationship types or properties that are not provided.\\nSchema:\\n{schema}\\nNote: Do not include any explanations or apologies in your responses.\\nDo not respond to any questions that might ask anything else than for you to construct a Cypher statement.\\nDo not include any text except the generated Cypher statement.\\n\\nThe question is:\\n{question}'), llm=ChatGroq(client=<groq.resources.chat.completions.Completions object at 0x7956931df670>, async_client=<groq.resources.chat.completions.AsyncCompletions object at 0x7956931926e0>, model_name='Gemma2-9b-It', groq_api_key=SecretStr('**********'))), qa_chain=LLMChain(prompt=PromptTemplate(input_variables=['context', 'question'], template=\"You are an assistant that helps to form nice and human understandable answers.\\nThe information part contains the provided information that you must use to construct an answer.\\nThe provided information is authoritative, you must never doubt it or try to use your internal knowledge to correct it.\\nMake the answer sound as a response to the question. Do not mention that you based the result on the given information.\\nHere is an example:\\n\\nQuestion: Which managers own Neo4j stocks?\\nContext:[manager:CTL LLC, manager:JANE STREET GROUP LLC]\\nHelpful Answer: CTL LLC, JANE STREET GROUP LLC owns Neo4j stocks.\\n\\nFollow this example when generating answers.\\nIf the provided information is empty, say that you don't know the answer.\\nInformation:\\n{context}\\n\\nQuestion: {question}\\nHelpful Answer:\"), llm=ChatGroq(client=<groq.resources.chat.completions.Completions object at 0x7956931df670>, async_client=<groq.resources.chat.completions.AsyncCompletions object at 0x7956931926e0>, model_name='Gemma2-9b-It', groq_api_key=SecretStr('**********'))), graph_schema='Node properties are the following:\\nDocument {id: STRING, text: STRING},Person {id: STRING, name: STRING},Company {id: STRING},Organization {id: STRING},City {id: STRING},Country {id: STRING},University {id: STRING},State {id: STRING},Movie {id: STRING, released: DATE, title: STRING, imdbRating: FLOAT},Genre {name: STRING}\\nRelationship properties are the following:\\n\\nThe relationships are the following:\\n(:Document)-[:MENTIONS]->(:Person),(:Document)-[:MENTIONS]->(:Company),(:Document)-[:MENTIONS]->(:Organization),(:Document)-[:MENTIONS]->(:City),(:Document)-[:MENTIONS]->(:Country),(:Document)-[:MENTIONS]->(:University),(:Document)-[:MENTIONS]->(:State),(:Person)-[:FOUNDER]->(:Company),(:Person)-[:OWNER]->(:Company),(:Person)-[:NET_WORTH_ESTIMATED_BY]->(:Organization),(:Person)-[:BORN_IN]->(:City),(:Person)-[:IMMIGRATED_TO]->(:Country),(:Person)-[:ATTENDED]->(:University),(:Person)-[:MOVED_TO]->(:State),(:Person)-[:CO_FOUNDED]->(:Company),(:Person)-[:DIRECTED]->(:Movie),(:Person)-[:ACTED_IN]->(:Movie),(:Movie)-[:IN_GENRE]->(:Genre)')"
            ]
          },
          "metadata": {},
          "execution_count": 35
        }
      ]
    },
    {
      "cell_type": "code",
      "source": [
        "response=chain.invoke({\"query\":\"Who was the director of the moview GoldenEye\"})\n",
        "\n",
        "response\n"
      ],
      "metadata": {
        "colab": {
          "base_uri": "https://localhost:8080/"
        },
        "id": "53tukPgo9Ab9",
        "outputId": "65e35977-e1c9-4464-e6f9-cdbf5fda286b"
      },
      "execution_count": 36,
      "outputs": [
        {
          "output_type": "stream",
          "name": "stdout",
          "text": [
            "\n",
            "\n",
            "\u001b[1m> Entering new GraphCypherQAChain chain...\u001b[0m\n",
            "Generated Cypher:\n",
            "\u001b[32;1m\u001b[1;3mMATCH (m:Movie {title: \"GoldenEye\"})<-[:DIRECTED]-(p:Person)\n",
            "RETURN p.name\u001b[0m\n",
            "Full Context:\n",
            "\u001b[32;1m\u001b[1;3m[{'p.name': 'Martin Campbell'}]\u001b[0m\n",
            "\n",
            "\u001b[1m> Finished chain.\u001b[0m\n"
          ]
        },
        {
          "output_type": "execute_result",
          "data": {
            "text/plain": [
              "{'query': 'Who was the director of the moview GoldenEye',\n",
              " 'result': 'Martin Campbell \\n'}"
            ]
          },
          "metadata": {},
          "execution_count": 36
        }
      ]
    },
    {
      "cell_type": "code",
      "source": [
        "response=chain.invoke({\"query\":\"tell me the genre of th movie GoldenEye\"})\n",
        "\n",
        "response"
      ],
      "metadata": {
        "colab": {
          "base_uri": "https://localhost:8080/"
        },
        "id": "mlipgwFC9WD4",
        "outputId": "838cf007-8b51-4427-e25a-bff0dafff4d2"
      },
      "execution_count": null,
      "outputs": [
        {
          "output_type": "stream",
          "name": "stdout",
          "text": [
            "\n",
            "\n",
            "\u001b[1m> Entering new GraphCypherQAChain chain...\u001b[0m\n",
            "Generated Cypher:\n",
            "\u001b[32;1m\u001b[1;3mMATCH (m:Movie {title:\"GoldenEye\"})-[r:IN_GENRE]->(g:Genre) RETURN g.name \n",
            "\n",
            "\n",
            "\u001b[0m\n",
            "Full Context:\n",
            "\u001b[32;1m\u001b[1;3m[{'g.name': 'Adventure'}, {'g.name': 'Action'}, {'g.name': 'Thriller'}]\u001b[0m\n",
            "\n",
            "\u001b[1m> Finished chain.\u001b[0m\n"
          ]
        },
        {
          "output_type": "execute_result",
          "data": {
            "text/plain": [
              "{'query': 'tell me the genre of th movie GoldenEye', 'result': 'Action. \\n'}"
            ]
          },
          "metadata": {},
          "execution_count": 22
        }
      ]
    },
    {
      "cell_type": "code",
      "source": [
        "response=chain.invoke({\"query\":\"Who was the director in movie Casino\"})\n",
        "\n",
        "response"
      ],
      "metadata": {
        "colab": {
          "base_uri": "https://localhost:8080/"
        },
        "id": "Sjfw-Dzp9gN4",
        "outputId": "f0d7534a-21b0-4b0d-bf52-85596d943f39"
      },
      "execution_count": null,
      "outputs": [
        {
          "output_type": "stream",
          "name": "stdout",
          "text": [
            "\n",
            "\n",
            "\u001b[1m> Entering new GraphCypherQAChain chain...\u001b[0m\n",
            "Generated Cypher:\n",
            "\u001b[32;1m\u001b[1;3mMATCH (m:Movie {title: 'Casino'})\n",
            "MATCH (p:Person)-[:DIRECTED]->(m)\n",
            "RETURN p.name \n",
            "\u001b[0m\n",
            "Full Context:\n",
            "\u001b[32;1m\u001b[1;3m[{'p.name': 'Martin Scorsese'}]\u001b[0m\n",
            "\n",
            "\u001b[1m> Finished chain.\u001b[0m\n"
          ]
        },
        {
          "output_type": "execute_result",
          "data": {
            "text/plain": [
              "{'query': 'Who was the director in movie Casino',\n",
              " 'result': 'Martin Scorsese.  \\n'}"
            ]
          },
          "metadata": {},
          "execution_count": 25
        }
      ]
    },
    {
      "cell_type": "code",
      "source": [
        "response=chain.invoke({\"query\":\"Which movie were released in 2008\"})\n",
        "\n",
        "response"
      ],
      "metadata": {
        "colab": {
          "base_uri": "https://localhost:8080/"
        },
        "id": "ksOQww5J-Dqa",
        "outputId": "0c56e009-fa84-4cde-8efc-eef573ef2a7c"
      },
      "execution_count": null,
      "outputs": [
        {
          "output_type": "stream",
          "name": "stdout",
          "text": [
            "\n",
            "\n",
            "\u001b[1m> Entering new GraphCypherQAChain chain...\u001b[0m\n",
            "Generated Cypher:\n",
            "\u001b[32;1m\u001b[1;3mMATCH (m:Movie) WHERE m.released = \"2008\" RETURN m.title  \n",
            "\u001b[0m\n",
            "Full Context:\n",
            "\u001b[32;1m\u001b[1;3m[]\u001b[0m\n",
            "\n",
            "\u001b[1m> Finished chain.\u001b[0m\n"
          ]
        },
        {
          "output_type": "execute_result",
          "data": {
            "text/plain": [
              "{'query': 'Which movie were released in 2008',\n",
              " 'result': \"I don't know the answer. \\n\"}"
            ]
          },
          "metadata": {},
          "execution_count": 26
        }
      ]
    },
    {
      "cell_type": "code",
      "source": [
        "response=chain.invoke({\"query\":\"Give me the list of movie having imdb rating more than 8\"})\n",
        "response"
      ],
      "metadata": {
        "colab": {
          "base_uri": "https://localhost:8080/"
        },
        "id": "ca614gfG-2ge",
        "outputId": "2ad25f03-1e6d-4846-93ad-701e597bad6a"
      },
      "execution_count": null,
      "outputs": [
        {
          "output_type": "stream",
          "name": "stdout",
          "text": [
            "\n",
            "\n",
            "\u001b[1m> Entering new GraphCypherQAChain chain...\u001b[0m\n",
            "Generated Cypher:\n",
            "\u001b[32;1m\u001b[1;3mMATCH (m:Movie) WHERE m.imdbRating > 8 RETURN m.title\n",
            "\u001b[0m\n",
            "Full Context:\n",
            "\u001b[32;1m\u001b[1;3m[{'m.title': 'Toy Story'}, {'m.title': 'Heat'}, {'m.title': 'Casino'}, {'m.title': 'Twelve Monkeys (a.k.a. 12 Monkeys)'}, {'m.title': 'Seven (a.k.a. Se7en)'}, {'m.title': 'Usual Suspects, The'}, {'m.title': 'Hate (Haine, La)'}, {'m.title': 'Braveheart'}, {'m.title': 'Taxi Driver'}, {'m.title': 'Anne Frank Remembered'}]\u001b[0m\n",
            "\n",
            "\u001b[1m> Finished chain.\u001b[0m\n"
          ]
        },
        {
          "output_type": "execute_result",
          "data": {
            "text/plain": [
              "{'query': 'Give me the list of movie having imdb rating more than 8',\n",
              " 'result': \"I don't know the answer. \\n\"}"
            ]
          },
          "metadata": {},
          "execution_count": 28
        }
      ]
    },
    {
      "cell_type": "code",
      "source": [
        "response=chain.invoke({\"query\":\"How many artists are there?\"})\n",
        "\n",
        "response"
      ],
      "metadata": {
        "colab": {
          "base_uri": "https://localhost:8080/"
        },
        "id": "l5F20_-JSA-g",
        "outputId": "616115e5-6392-4505-dca5-1a9a6cd43d8b"
      },
      "execution_count": null,
      "outputs": [
        {
          "output_type": "stream",
          "name": "stdout",
          "text": [
            "\n",
            "\n",
            "\u001b[1m> Entering new GraphCypherQAChain chain...\u001b[0m\n",
            "Generated Cypher:\n",
            "\u001b[32;1m\u001b[1;3mMATCH (p:Person) RETURN count(p) \n",
            "\u001b[0m\n",
            "Full Context:\n",
            "\u001b[32;1m\u001b[1;3m[{'count(p)': 1239}]\u001b[0m\n",
            "\n",
            "\u001b[1m> Finished chain.\u001b[0m\n"
          ]
        },
        {
          "output_type": "execute_result",
          "data": {
            "text/plain": [
              "{'query': 'How many artists are there?',\n",
              " 'result': 'There are 1239 artists. \\n'}"
            ]
          },
          "metadata": {},
          "execution_count": 29
        }
      ]
    },
    {
      "cell_type": "code",
      "source": [
        "examples = [\n",
        "    {\n",
        "        \"question\": \"How many artists are there?\",\n",
        "        \"query\": \"MATCH (a:Person)-[:ACTED_IN]->(:Movie) RETURN count(DISTINCT a)\",\n",
        "    },\n",
        "    {\n",
        "        \"question\": \"Which actors played in the movie Casino?\",\n",
        "        \"query\": \"MATCH (m:Movie {{title: 'Casino'}})<-[:ACTED_IN]-(a) RETURN a.name\",\n",
        "    },\n",
        "    {\n",
        "        \"question\": \"How many movies has Tom Hanks acted in?\",\n",
        "        \"query\": \"MATCH (a:Person {name: 'Tom Hanks'})-[:ACTED_IN]->(m:Movie) RETURN count(m)\",\n",
        "    },\n",
        "    {\n",
        "        \"question\": \"List all the genres of the movie Schindler's List\",\n",
        "        \"query\": \"MATCH (m:Movie {{title: 'Schindler\\\\'s List'}})-[:IN_GENRE]->(g:Genre) RETURN g.name\",\n",
        "    },\n",
        "    {\n",
        "        \"question\": \"Which actors have worked in movies from both the comedy and action genres?\",\n",
        "        \"query\": \"MATCH (a:Person)-[:ACTED_IN]->(:Movie)-[:IN_GENRE]->(g1:Genre), (a)-[:ACTED_IN]->(:Movie)-[:IN_GENRE]->(g2:Genre) WHERE g1.name = 'Comedy' AND g2.name = 'Action' RETURN DISTINCT a.name\",\n",
        "    },\n",
        "    {\n",
        "        \"question\": \"Which directors have made movies with at least three different actors named 'John'?\",\n",
        "        \"query\": \"MATCH (d:Person)-[:DIRECTED]->(m:Movie)<-[:ACTED_IN]-(a:Person) WHERE a.name STARTS WITH 'John' WITH d, COUNT(DISTINCT a) AS JohnsCount WHERE JohnsCount >= 3 RETURN d.name\",\n",
        "    },\n",
        "    {\n",
        "        \"question\": \"Identify movies where directors also played a role in the film.\",\n",
        "        \"query\": \"MATCH (p:Person)-[:DIRECTED]->(m:Movie), (p)-[:ACTED_IN]->(m) RETURN m.title, p.name\",\n",
        "    },\n",
        "    {\n",
        "        \"question\": \"Find the actor with the highest number of movies in the database.\",\n",
        "        \"query\": \"MATCH (a:Actor)-[:ACTED_IN]->(m:Movie) RETURN a.name, COUNT(m) AS movieCount ORDER BY movieCount DESC LIMIT 1\",\n",
        "    },\n",
        "]"
      ],
      "metadata": {
        "id": "G0u93nW-_Sy7"
      },
      "execution_count": null,
      "outputs": []
    }
  ]
}